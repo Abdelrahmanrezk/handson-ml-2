{
 "cells": [
  {
   "cell_type": "markdown",
   "metadata": {},
   "source": [
    "# Handwriting Numbers MNIST Dataset\n",
    "\n",
    "Let's take a look at a scenario where we can recognize different numbers [0-9].\n",
    "\n",
    "**The data set are about 70,000 image 60,000 of them as training and 10,000 as testing**"
   ]
  },
  {
   "cell_type": "markdown",
   "metadata": {},
   "source": [
    "## Importing libraries"
   ]
  },
  {
   "cell_type": "code",
   "execution_count": 1,
   "metadata": {},
   "outputs": [
    {
     "name": "stderr",
     "output_type": "stream",
     "text": [
      "Using TensorFlow backend.\n"
     ]
    }
   ],
   "source": [
    "import numpy as np\n",
    "import pandas as pd\n",
    "import tensorflow as tf\n",
    "import keras\n",
    "import os\n",
    "import matplotlib.pyplot as plt"
   ]
  },
  {
   "cell_type": "code",
   "execution_count": 2,
   "metadata": {},
   "outputs": [],
   "source": [
    "file_dir = f\"{os.getcwd()}/csv_files/mnist.npz\""
   ]
  },
  {
   "cell_type": "code",
   "execution_count": 3,
   "metadata": {},
   "outputs": [],
   "source": [
    "mnist = tf.keras.datasets.mnist"
   ]
  },
  {
   "cell_type": "code",
   "execution_count": 4,
   "metadata": {},
   "outputs": [],
   "source": [
    "(X_train, y_train), (X_test, y_test) = mnist.load_data(path=file_dir)"
   ]
  },
  {
   "cell_type": "markdown",
   "metadata": {},
   "source": [
    "### The data set is two sets each of them are two lists of training and labeling data of images."
   ]
  },
  {
   "cell_type": "code",
   "execution_count": 5,
   "metadata": {},
   "outputs": [
    {
     "name": "stdout",
     "output_type": "stream",
     "text": [
      "Our Training data are:  (60000, 28, 28)\n",
      "Our Testing data are:  (10000, 28, 28)\n",
      "Our labels of Training data are:  (60000,)\n",
      "Our labels of Testing data are:  (10000,)\n"
     ]
    }
   ],
   "source": [
    "print(\"Our Training data are: \", X_train.shape)\n",
    "print(\"Our Testing data are: \", X_test.shape)\n",
    "print(\"Our labels of Training data are: \", y_train.shape)\n",
    "print(\"Our labels of Testing data are: \", y_test.shape)"
   ]
  },
  {
   "cell_type": "markdown",
   "metadata": {},
   "source": [
    "### visualize an image of your data with its features and label"
   ]
  },
  {
   "cell_type": "code",
   "execution_count": 6,
   "metadata": {},
   "outputs": [
    {
     "name": "stdout",
     "output_type": "stream",
     "text": [
      "The features of the image 5 are\n",
      " [[  0   0   0   0   0   0   0   0   0   0   0   0   0   0   0   0   0   0\n",
      "    0   0   0   0   0   0   0   0   0   0]\n",
      " [  0   0   0   0   0   0   0   0   0   0   0   0   0   0   0   0   0   0\n",
      "    0   0   0   0   0   0   0   0   0   0]\n",
      " [  0   0   0   0   0   0   0   0   0   0   0   0   0   0   0   0   0   0\n",
      "    0   0   0   0   0   0   0   0   0   0]\n",
      " [  0   0   0   0   0   0   0   0   0   0   0   0   0   0   0   0   0   0\n",
      "    0   0   0   0   0   0   0   0   0   0]\n",
      " [  0   0   0   0   0   0   0   0   0   0   0   0   0   0   0   0   0   0\n",
      "    0   0   0   0   0   0   0   0   0   0]\n",
      " [  0   0   0   0   0   0   0   0   0   0   0   0   0   0   0   0   0   0\n",
      "    0   0   0   0   0   0   0   0   0   0]\n",
      " [  0   0   0   0   0   0   0   0   0   0   0   0   0   0   0   0   0   0\n",
      "    0   0   0   0   0   0   0   0   0   0]\n",
      " [  0   0   0   0   0   0   0   0   0   0   0   0   0   0   1  13  88 156\n",
      "  254 162  89   0   0   0   0   0   0   0]\n",
      " [  0   0   0   0   0   0   0   0   0   0  61 145 145 145 151 253 253 253\n",
      "  253 253 217  21   0   0   0   0   0   0]\n",
      " [  0   0   0   0   0   0   0  25  66 157 235 253 253 253 254 253 248 217\n",
      "  243 253 253  36   0   0   0   0   0   0]\n",
      " [  0   0   0   0   0   0 106 226 253 253 253 253 253 149 142  84  72  10\n",
      "  195 253 196  12   0   0   0   0   0   0]\n",
      " [  0   0   0   0   0   0 128 253 253 207 193 146  72   4   0   0   0  49\n",
      "  253 253 139   0   0   0   0   0   0   0]\n",
      " [  0   0   0   0   0   0   9  60  60  14   0   0   0   0   0   0   0  84\n",
      "  253 232  34   0   0   0   0   0   0   0]\n",
      " [  0   0   0   0   0   0   0   0   0   0   0   0   0   0   0   0   0 169\n",
      "  253  83   0   0   0   0   0   0   0   0]\n",
      " [  0   0   0   0   0   0   0   0   0   0   0   0   0   0   0   0 135 242\n",
      "  230  37   0   0   0   0   0   0   0   0]\n",
      " [  0   0   0   0   0   0   0   0   0   0   0   0   0   0   0  11 199 232\n",
      "   52   0   0   0   0   0   0   0   0   0]\n",
      " [  0   0   0   0   0   0   0   0   0   0   0   0   0   0  12 243 253 147\n",
      "    0   0   0   0   0   0   0   0   0   0]\n",
      " [  0   0   0   0   0   0   0   0   0   0   0   0   0   0  19 254 212   0\n",
      "    0   0   0   0   0   0   0   0   0   0]\n",
      " [  0   0   0   0   0   0   0   0   0   0   0   0   0  12 203 251  87   0\n",
      "    0   0   0   0   0   0   0   0   0   0]\n",
      " [  0   0   0   0   0   0   0   0   0   0   0   0   0 138 254 212   0   0\n",
      "    0   0   0   0   0   0   0   0   0   0]\n",
      " [  0   0   0   0   0   0   0   0   0   0   0   0  45 244 246  36   0   0\n",
      "    0   0   0   0   0   0   0   0   0   0]\n",
      " [  0   0   0   0   0   0   0   0   0   0   0   0 230 253 155   0   0   0\n",
      "    0   0   0   0   0   0   0   0   0   0]\n",
      " [  0   0   0   0   0   0   0   0   0   0   0 110 248 160  29   0   0   0\n",
      "    0   0   0   0   0   0   0   0   0   0]\n",
      " [  0   0   0   0   0   0   0   0   0   0  70 247 253  92   0   0   0   0\n",
      "    0   0   0   0   0   0   0   0   0   0]\n",
      " [  0   0   0   0   0   0   0   0   0   0 189 253 114   2   0   0   0   0\n",
      "    0   0   0   0   0   0   0   0   0   0]\n",
      " [  0   0   0   0   0   0   0   0   0   0 206 253  24   0   0   0   0   0\n",
      "    0   0   0   0   0   0   0   0   0   0]\n",
      " [  0   0   0   0   0   0   0   0   0   0 206 253  24   0   0   0   0   0\n",
      "    0   0   0   0   0   0   0   0   0   0]\n",
      " [  0   0   0   0   0   0   0   0   0   0   0   0   0   0   0   0   0   0\n",
      "    0   0   0   0   0   0   0   0   0   0]]\n",
      "The label of the image 5 are:  7\n"
     ]
    },
    {
     "data": {
      "text/plain": [
       "<matplotlib.image.AxesImage at 0x7f0171466ed0>"
      ]
     },
     "execution_count": 6,
     "metadata": {},
     "output_type": "execute_result"
    },
    {
     "data": {
      "image/png": "[encoded data removed]",
      "text/plain": [
       "<Figure size 432x288 with 1 Axes>"
      ]
     },
     "metadata": {
      "needs_background": "light"
     },
     "output_type": "display_data"
    }
   ],
   "source": [
    "print(\"The features of the image 5 are\\n\",X_train[103])\n",
    "print(\"The label of the image 5 are: \",y_train[103])\n",
    "plt.imshow(X_train[103])"
   ]
  },
  {
   "cell_type": "markdown",
   "metadata": {},
   "source": [
    "## Features normalization\n",
    "\n",
    "As we saw the values of each pixel in the image is between 0 and 255 which our scale of brightness.\n",
    "but it's always useful for our model to learn within specific range of values and its help a lot for computational operations that happen in the Neural Network, and helpful for systems doing Math operations fast."
   ]
  },
  {
   "cell_type": "code",
   "execution_count": 7,
   "metadata": {},
   "outputs": [],
   "source": [
    "X_train = X_train / 255.0\n",
    "X_test  = X_test / 255.0"
   ]
  },
  {
   "cell_type": "code",
   "execution_count": 8,
   "metadata": {},
   "outputs": [],
   "source": [
    "class myCallback(tf.keras.callbacks.Callback):\n",
    "    '''\n",
    "    it's useful to use call back function that terminate your algorithm when its reach the accuracy you need.\n",
    "    it's save a lot of time.\n",
    "    '''\n",
    "    def on_epoch_end(self, epoch, logs={}):\n",
    "        if(logs.get('accuracy') > 0.99):\n",
    "            print(\"\\nReached 99% accuracy so cancelling training!\")\n",
    "            self.model.stop_training = True\n"
   ]
  },
  {
   "cell_type": "code",
   "execution_count": 9,
   "metadata": {},
   "outputs": [],
   "source": [
    "def NNmodel(X,Y, epochs):\n",
    "    '''\n",
    "    A Neural Network that contain just 4 layers.\n",
    "    input layer instead of each image as 28*28 this will Flatten() to be 784.\n",
    "    first hidden layer with 512 neurons and use relu as activation function.\n",
    "    second hidden layer with 256 neurons and use relu as activation function.\n",
    "    output layer with 10 predicted values in our data.\n",
    "    '''\n",
    "\n",
    "    callbacks = myCallback() # instance from the class\n",
    "    model = tf.keras.Sequential() # create sequential model\n",
    "    model.add(tf.keras.layers.Flatten()) # input layer\n",
    "    model.add(tf.keras.layers.Dense(512, activation=tf.nn.relu)) # first hidden layer\n",
    "    model.add(tf.keras.layers.Dense(512, activation=tf.nn.relu)) # second hidden layer\n",
    "    model.add(tf.keras.layers.Dense(10, activation=tf.nn.softmax)) # output layer\n",
    "\n",
    "# compile the model with Adam optimizer Algorithm\n",
    "    model.compile(optimizer=tf.optimizers.Adam(), loss='sparse_categorical_crossentropy', \n",
    "                  metrics=['accuracy'])\n",
    "    model.fit(X,Y, epochs=epochs, callbacks=[callbacks])\n",
    "    return model"
   ]
  },
  {
   "cell_type": "code",
   "execution_count": 10,
   "metadata": {},
   "outputs": [
    {
     "name": "stdout",
     "output_type": "stream",
     "text": [
      "Train on 60000 samples\n",
      "Epoch 1/15\n",
      "60000/60000 [==============================] - 10s 173us/sample - loss: 0.1831 - accuracy: 0.9440\n",
      "Epoch 2/15\n",
      "60000/60000 [==============================] - 10s 166us/sample - loss: 0.0781 - accuracy: 0.9750\n",
      "Epoch 3/15\n",
      "60000/60000 [==============================] - 10s 166us/sample - loss: 0.0549 - accuracy: 0.9829\n",
      "Epoch 4/15\n",
      "60000/60000 [==============================] - 10s 171us/sample - loss: 0.0441 - accuracy: 0.9861\n",
      "Epoch 5/15\n",
      "60000/60000 [==============================] - 11s 175us/sample - loss: 0.0353 - accuracy: 0.9892\n",
      "Epoch 6/15\n",
      "59680/60000 [============================>.] - ETA: 0s - loss: 0.0290 - accuracy: 0.9907\n",
      "Reached 99% accuracy so cancelling training!\n",
      "60000/60000 [==============================] - 11s 176us/sample - loss: 0.0289 - accuracy: 0.9907\n"
     ]
    }
   ],
   "source": [
    "model = NNmodel(X_train, y_train, 15)"
   ]
  },
  {
   "cell_type": "code",
   "execution_count": 11,
   "metadata": {},
   "outputs": [
    {
     "name": "stdout",
     "output_type": "stream",
     "text": [
      "10000/10000 [==============================] - 1s 83us/sample - loss: 0.0890 - accuracy: 0.9771\n"
     ]
    },
    {
     "data": {
      "text/plain": [
       "[0.0889796699856457, 0.9771]"
      ]
     },
     "execution_count": 11,
     "metadata": {},
     "output_type": "execute_result"
    }
   ],
   "source": [
    "## Test the model with unseen data\n",
    "model.evaluate(X_test, y_test)"
   ]
  },
  {
   "cell_type": "code",
   "execution_count": 12,
   "metadata": {},
   "outputs": [],
   "source": [
    "predict = model.predict(X_test)"
   ]
  },
  {
   "cell_type": "code",
   "execution_count": 17,
   "metadata": {},
   "outputs": [
    {
     "data": {
      "text/plain": [
       "array([3.6259155e-19, 1.0000000e+00, 1.6906992e-16, 2.5091027e-16,\n",
       "       2.6250364e-09, 1.6728524e-15, 8.4123921e-18, 4.8010695e-10,\n",
       "       2.2627188e-10, 4.7787182e-12], dtype=float32)"
      ]
     },
     "execution_count": 17,
     "metadata": {},
     "output_type": "execute_result"
    }
   ],
   "source": [
    "predict[5]"
   ]
  },
  {
   "cell_type": "code",
   "execution_count": 18,
   "metadata": {},
   "outputs": [
    {
     "data": {
      "text/plain": [
       "1.0"
      ]
     },
     "execution_count": 18,
     "metadata": {},
     "output_type": "execute_result"
    }
   ],
   "source": [
    "max(predict[5])"
   ]
  },
  {
   "cell_type": "code",
   "execution_count": 19,
   "metadata": {},
   "outputs": [
    {
     "data": {
      "text/plain": [
       "1"
      ]
     },
     "execution_count": 19,
     "metadata": {},
     "output_type": "execute_result"
    }
   ],
   "source": [
    "y_test[5]"
   ]
  },
  {
   "cell_type": "code",
   "execution_count": 20,
   "metadata": {},
   "outputs": [
    {
     "data": {
      "text/plain": [
       "<matplotlib.image.AxesImage at 0x7f0130555090>"
      ]
     },
     "execution_count": 20,
     "metadata": {},
     "output_type": "execute_result"
    },
    {
     "data": {
      "image/png": "[encoded data removed]",
      "text/plain": [
       "<Figure size 432x288 with 1 Axes>"
      ]
     },
     "metadata": {
      "needs_background": "light"
     },
     "output_type": "display_data"
    }
   ],
   "source": [
    "plt.imshow(X_test[5])"
   ]
  },
  {
   "cell_type": "code",
   "execution_count": null,
   "metadata": {},
   "outputs": [],
   "source": []
  }
 ],
 "metadata": {
  "kernelspec": {
   "display_name": "Python 3",
   "language": "python",
   "name": "python3"
  },
  "language_info": {
   "codemirror_mode": {
    "name": "ipython",
    "version": 3
   },
   "file_extension": ".py",
   "mimetype": "text/x-python",
   "name": "python",
   "nbconvert_exporter": "python",
   "pygments_lexer": "ipython3",
   "version": "3.7.4"
  }
 },
 "nbformat": 4,
 "nbformat_minor": 2
}
