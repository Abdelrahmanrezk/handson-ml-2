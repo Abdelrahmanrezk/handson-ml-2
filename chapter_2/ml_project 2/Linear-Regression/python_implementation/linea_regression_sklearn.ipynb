{
 "cells": [
  {
   "cell_type": "markdown",
   "metadata": {},
   "source": [
    "# 2-Programming Exercise 1: Linear Regression Coursera\n",
    "\n",
    "### The same task but with sklearn \n",
    "\n",
    "**The first file manual_linea_regression has some of handling**"
   ]
  },
  {
   "cell_type": "markdown",
   "metadata": {},
   "source": [
    "##  Importing libraries"
   ]
  },
  {
   "cell_type": "code",
   "execution_count": 4,
   "metadata": {},
   "outputs": [],
   "source": [
    "import pandas as pd\n",
    "import numpy as np\n",
    "import matplotlib.pyplot as plt\n",
    "from sklearn.linear_model import LinearRegression\n",
    "from manual_linea_regression import init_2d_graphs,features_normalization_with_std\n",
    "from sklearn.linear_model import SGDClassifier\n",
    "from sklearn.metrics import f1_score"
   ]
  },
  {
   "cell_type": "markdown",
   "metadata": {},
   "source": [
    "###  Read CSV file"
   ]
  },
  {
   "cell_type": "code",
   "execution_count": 5,
   "metadata": {},
   "outputs": [
    {
     "data": {
      "text/html": [
       "<div>\n",
       "<style scoped>\n",
       "    .dataframe tbody tr th:only-of-type {\n",
       "        vertical-align: middle;\n",
       "    }\n",
       "\n",
       "    .dataframe tbody tr th {\n",
       "        vertical-align: top;\n",
       "    }\n",
       "\n",
       "    .dataframe thead th {\n",
       "        text-align: right;\n",
       "    }\n",
       "</style>\n",
       "<table border=\"1\" class=\"dataframe\">\n",
       "  <thead>\n",
       "    <tr style=\"text-align: right;\">\n",
       "      <th></th>\n",
       "      <th>city_population</th>\n",
       "      <th>food_truck_profit</th>\n",
       "    </tr>\n",
       "  </thead>\n",
       "  <tbody>\n",
       "    <tr>\n",
       "      <td>0</td>\n",
       "      <td>6.1101</td>\n",
       "      <td>17.5920</td>\n",
       "    </tr>\n",
       "    <tr>\n",
       "      <td>1</td>\n",
       "      <td>5.5277</td>\n",
       "      <td>9.1302</td>\n",
       "    </tr>\n",
       "    <tr>\n",
       "      <td>2</td>\n",
       "      <td>8.5186</td>\n",
       "      <td>13.6620</td>\n",
       "    </tr>\n",
       "    <tr>\n",
       "      <td>3</td>\n",
       "      <td>7.0032</td>\n",
       "      <td>11.8540</td>\n",
       "    </tr>\n",
       "    <tr>\n",
       "      <td>4</td>\n",
       "      <td>5.8598</td>\n",
       "      <td>6.8233</td>\n",
       "    </tr>\n",
       "  </tbody>\n",
       "</table>\n",
       "</div>"
      ],
      "text/plain": [
       "   city_population  food_truck_profit\n",
       "0           6.1101            17.5920\n",
       "1           5.5277             9.1302\n",
       "2           8.5186            13.6620\n",
       "3           7.0032            11.8540\n",
       "4           5.8598             6.8233"
      ]
     },
     "execution_count": 5,
     "metadata": {},
     "output_type": "execute_result"
    }
   ],
   "source": [
    "df_file = pd.read_csv('csv_files/ex1data1.csv')\n",
    "df_file.head()"
   ]
  },
  {
   "cell_type": "markdown",
   "metadata": {},
   "source": [
    "##  initialization & graph visualization"
   ]
  },
  {
   "cell_type": "code",
   "execution_count": 6,
   "metadata": {},
   "outputs": [
    {
     "data": {
      "text/plain": [
       "<matplotlib.legend.Legend at 0x7f73ebee97d0>"
      ]
     },
     "execution_count": 6,
     "metadata": {},
     "output_type": "execute_result"
    },
    {
     "data": {
      "image/png": "[encoded data removed]",
      "text/plain": [
       "<Figure size 720x432 with 1 Axes>"
      ]
     },
     "metadata": {},
     "output_type": "display_data"
    }
   ],
   "source": [
    "# our initialized and graph draw for our dataset\n",
    "x = df_file['city_population'] # x_axis\n",
    "y = df_file['food_truck_profit'] # y_axis\n",
    "# because y is shape (97,) whcih rank of 0 and we need to be (97,1) to subtract from y_hat\n",
    "y = y.values.reshape(len(x),1) # because of type Series we use .values\n",
    "x = x.values.reshape(len(x),1) # because of type Series we use .values\n",
    "\n",
    "x_label = 'Population of City in 10,000s'\n",
    "y_label = 'Profit in $10,000s'\n",
    "graph_legend = 'Training data'\n",
    "# the labels of x & y\n",
    "\n",
    "init_2d_graphs('ggplot', 'dark_background' )\n",
    "plt.scatter(x,y, s=300, c='red', marker='P', label=graph_legend)\n",
    "plt.xlabel(x_label)\n",
    "plt.ylabel(y_label)\n",
    "plt.legend()"
   ]
  },
  {
   "cell_type": "markdown",
   "metadata": {},
   "source": [
    "##  Now start to implement gradient descent but with sklearn"
   ]
  },
  {
   "cell_type": "markdown",
   "metadata": {},
   "source": [
    "LinearRegression fits a linear model with weights that  minimize the residual sum of squares between real out of our dataset and the predicited values from features.\n",
    "\n",
    "**Most important LinearRegression Paramters**\n",
    "\n",
    "- fit_intercept: its related to bias and Mathematically, it adds a column of 1s to the inputs like what we do in manual_linea_regression file.\n",
    "- normalize: The data will be normalized to same range of values before regression.\n",
    "\n",
    "**Attributes**\n",
    "- coef_: the slope of the linear function\n",
    "- intercept_: the line intercept y in "
   ]
  },
  {
   "cell_type": "code",
   "execution_count": 7,
   "metadata": {},
   "outputs": [],
   "source": [
    "LRModel = LinearRegression() # Take object"
   ]
  },
  {
   "cell_type": "code",
   "execution_count": 8,
   "metadata": {},
   "outputs": [
    {
     "data": {
      "text/plain": [
       "LinearRegression(copy_X=True, fit_intercept=True, n_jobs=None, normalize=False)"
      ]
     },
     "execution_count": 8,
     "metadata": {},
     "output_type": "execute_result"
    }
   ],
   "source": [
    "LRModel.fit(x,y)"
   ]
  },
  {
   "cell_type": "code",
   "execution_count": 9,
   "metadata": {},
   "outputs": [
    {
     "name": "stdout",
     "output_type": "stream",
     "text": [
      "The Slope or Weights of LRModel is [[1.19303364]]\n"
     ]
    }
   ],
   "source": [
    "print(\"The Slope or Weights of LRModel is\", LRModel.coef_)"
   ]
  },
  {
   "cell_type": "code",
   "execution_count": 10,
   "metadata": {},
   "outputs": [
    {
     "name": "stdout",
     "output_type": "stream",
     "text": [
      "The line intercept y in [-3.89578088]\n"
     ]
    }
   ],
   "source": [
    "print(\"The line intercept y in\", LRModel.intercept_)"
   ]
  },
  {
   "cell_type": "code",
   "execution_count": 11,
   "metadata": {},
   "outputs": [
    {
     "name": "stdout",
     "output_type": "stream",
     "text": [
      "The Accuracy score of our Model is: 0.7020315537841397\n"
     ]
    }
   ],
   "source": [
    "print(\"The Accuracy score of our Model is:\", LRModel.score(x,y))"
   ]
  },
  {
   "cell_type": "markdown",
   "metadata": {},
   "source": [
    "## The above printed two variables coef_, intercept_ is our weights"
   ]
  },
  {
   "cell_type": "code",
   "execution_count": 12,
   "metadata": {},
   "outputs": [],
   "source": [
    "y_hat = LRModel.predict(x)"
   ]
  },
  {
   "cell_type": "markdown",
   "metadata": {},
   "source": [
    "## Now it's time for display the fitting line"
   ]
  },
  {
   "cell_type": "code",
   "execution_count": 13,
   "metadata": {},
   "outputs": [
    {
     "data": {
      "text/plain": [
       "<matplotlib.legend.Legend at 0x7f73e1f3a9d0>"
      ]
     },
     "execution_count": 13,
     "metadata": {},
     "output_type": "execute_result"
    },
    {
     "data": {
      "image/png": "[encoded data removed]",
      "text/plain": [
       "<Figure size 720x432 with 1 Axes>"
      ]
     },
     "metadata": {},
     "output_type": "display_data"
    }
   ],
   "source": [
    "init_2d_graphs('ggplot', 'dark_background' )\n",
    "x_label = 'Population of City in 10,000s'\n",
    "y_label = 'Profit in $10,000s'\n",
    "graph_legend = 'Training data'\n",
    "plt.plot(x, y_hat, label= 'Fitting Line',linewidth=2)\n",
    "plt.scatter(x,y, s=300, c='yellow', marker='P', label=graph_legend) # our data\n",
    "plt.xlabel(x_label)\n",
    "plt.ylabel(y_label)\n",
    "plt.legend()"
   ]
  },
  {
   "cell_type": "markdown",
   "metadata": {},
   "source": [
    "## Calculate cost function with last weights\n",
    "\n",
    "\n",
    "![alt text](images/cost_function.png \"cost_function\")"
   ]
  },
  {
   "cell_type": "code",
   "execution_count": 14,
   "metadata": {},
   "outputs": [
    {
     "data": {
      "text/plain": [
       "(2, 1)"
      ]
     },
     "execution_count": 14,
     "metadata": {},
     "output_type": "execute_result"
    }
   ],
   "source": [
    "m = len(y) # get the number of training examples\n",
    "thetas = np.array([LRModel.intercept_, LRModel.coef_])\n",
    "thetas.shape"
   ]
  },
  {
   "cell_type": "code",
   "execution_count": 15,
   "metadata": {},
   "outputs": [
    {
     "name": "stdout",
     "output_type": "stream",
     "text": [
      "The cost funtion of our training data is:  [[4.47697138]]\n"
     ]
    }
   ],
   "source": [
    "J = (1/(2*m)) * np.matmul((y_hat - y).T, (y_hat - y)) \n",
    "print(\"The cost funtion of our training data is: \", J)"
   ]
  },
  {
   "cell_type": "markdown",
   "metadata": {},
   "source": [
    "#  linear regression with multiple variables"
   ]
  },
  {
   "cell_type": "code",
   "execution_count": 16,
   "metadata": {},
   "outputs": [
    {
     "data": {
      "text/html": [
       "<div>\n",
       "<style scoped>\n",
       "    .dataframe tbody tr th:only-of-type {\n",
       "        vertical-align: middle;\n",
       "    }\n",
       "\n",
       "    .dataframe tbody tr th {\n",
       "        vertical-align: top;\n",
       "    }\n",
       "\n",
       "    .dataframe thead th {\n",
       "        text-align: right;\n",
       "    }\n",
       "</style>\n",
       "<table border=\"1\" class=\"dataframe\">\n",
       "  <thead>\n",
       "    <tr style=\"text-align: right;\">\n",
       "      <th></th>\n",
       "      <th>house_size</th>\n",
       "      <th>number_of_bedrooms</th>\n",
       "      <th>house_price</th>\n",
       "    </tr>\n",
       "  </thead>\n",
       "  <tbody>\n",
       "    <tr>\n",
       "      <td>0</td>\n",
       "      <td>2104</td>\n",
       "      <td>3</td>\n",
       "      <td>399900</td>\n",
       "    </tr>\n",
       "    <tr>\n",
       "      <td>1</td>\n",
       "      <td>1600</td>\n",
       "      <td>3</td>\n",
       "      <td>329900</td>\n",
       "    </tr>\n",
       "    <tr>\n",
       "      <td>2</td>\n",
       "      <td>2400</td>\n",
       "      <td>3</td>\n",
       "      <td>369000</td>\n",
       "    </tr>\n",
       "    <tr>\n",
       "      <td>3</td>\n",
       "      <td>1416</td>\n",
       "      <td>2</td>\n",
       "      <td>232000</td>\n",
       "    </tr>\n",
       "    <tr>\n",
       "      <td>4</td>\n",
       "      <td>3000</td>\n",
       "      <td>4</td>\n",
       "      <td>539900</td>\n",
       "    </tr>\n",
       "  </tbody>\n",
       "</table>\n",
       "</div>"
      ],
      "text/plain": [
       "   house_size  number_of_bedrooms  house_price\n",
       "0        2104                   3       399900\n",
       "1        1600                   3       329900\n",
       "2        2400                   3       369000\n",
       "3        1416                   2       232000\n",
       "4        3000                   4       539900"
      ]
     },
     "execution_count": 16,
     "metadata": {},
     "output_type": "execute_result"
    }
   ],
   "source": [
    "df_file = pd.read_csv('csv_files/ex1data2.csv')\n",
    "#now you can see the data after convert to csv with columns name\n",
    "df_file.head()"
   ]
  },
  {
   "cell_type": "markdown",
   "metadata": {},
   "source": [
    "## fetures normalization"
   ]
  },
  {
   "cell_type": "code",
   "execution_count": 17,
   "metadata": {},
   "outputs": [],
   "source": [
    "df_file = features_normalization_with_std(df_file)"
   ]
  },
  {
   "cell_type": "code",
   "execution_count": 18,
   "metadata": {},
   "outputs": [
    {
     "name": "stdout",
     "output_type": "stream",
     "text": [
      "(47, 2)\n",
      "################################################################################\n",
      "Number of training example:  47\n",
      "################################################################################\n",
      "Theats shape is:  (3, 1)\n",
      "################################################################################\n",
      "Theats values are:  [[0.]\n",
      " [0.]\n",
      " [0.]]\n",
      "################################################################################\n"
     ]
    }
   ],
   "source": [
    "x = np.array(df_file.iloc[:, :2])# get the 2 features columns)\n",
    "y = df_file['house_price'] # the real output \n",
    "\n",
    "# # because y is shape (97,) whcih rank of 0 and we need to be (97,1) to subtract from y_hat\n",
    "y = y.values.reshape(len(y),1) # because of type Series we use .values\n",
    "\n",
    "# variables and parameters initialize\n",
    "all_cost = []\n",
    "m = len(y) \n",
    "print(x.shape)\n",
    "print(\"#\"*80)\n",
    "print(\"Number of training example: \", m)\n",
    "print(\"#\"*80)\n",
    "Alpha = .1 # learning rate\n",
    "iterations = 100 # number of gradient descent iterations\n",
    "thetas = np.zeros((3,1)) # initialize threats as 2d array and 2*1 dimension with 0 values\n",
    "print('Theats shape is: ', thetas.shape)\n",
    "print(\"#\"*80)\n",
    "print('Theats values are: ', thetas)\n",
    "print(\"#\"*80)\n"
   ]
  },
  {
   "cell_type": "code",
   "execution_count": 19,
   "metadata": {},
   "outputs": [
    {
     "name": "stdout",
     "output_type": "stream",
     "text": [
      "Now the first 5 rows of x values are:  [[ 0.13141542 -0.22609337]\n",
      " [-0.5096407  -0.22609337]\n",
      " [ 0.5079087  -0.22609337]\n",
      " [-0.74367706 -1.5543919 ]\n",
      " [ 1.27107075  1.10220517]]\n"
     ]
    }
   ],
   "source": [
    "print(\"Now the first 5 rows of x values are: \", x[:5, :])"
   ]
  },
  {
   "cell_type": "code",
   "execution_count": 20,
   "metadata": {},
   "outputs": [],
   "source": [
    "LRModel = LinearRegression() # Take object"
   ]
  },
  {
   "cell_type": "code",
   "execution_count": 21,
   "metadata": {},
   "outputs": [
    {
     "data": {
      "text/plain": [
       "LinearRegression(copy_X=True, fit_intercept=True, n_jobs=None, normalize=False)"
      ]
     },
     "execution_count": 21,
     "metadata": {},
     "output_type": "execute_result"
    }
   ],
   "source": [
    "LRModel.fit(x,y)"
   ]
  },
  {
   "cell_type": "code",
   "execution_count": 22,
   "metadata": {},
   "outputs": [
    {
     "name": "stdout",
     "output_type": "stream",
     "text": [
      "The Weights of LRModel is [[ 0.88476599 -0.05317882]]\n"
     ]
    }
   ],
   "source": [
    "print(\"The Weights of LRModel is\", LRModel.coef_)"
   ]
  },
  {
   "cell_type": "code",
   "execution_count": 23,
   "metadata": {},
   "outputs": [
    {
     "name": "stdout",
     "output_type": "stream",
     "text": [
      "The line intercept y in [-9.46326835e-17]\n"
     ]
    }
   ],
   "source": [
    "print(\"The line intercept y in\", LRModel.intercept_)"
   ]
  },
  {
   "cell_type": "code",
   "execution_count": 24,
   "metadata": {},
   "outputs": [
    {
     "name": "stdout",
     "output_type": "stream",
     "text": [
      "The Accuracy score of our Model is: 0.7329450180289142\n"
     ]
    }
   ],
   "source": [
    "print(\"The Accuracy score of our Model is:\", LRModel.score(x,y))"
   ]
  },
  {
   "cell_type": "code",
   "execution_count": null,
   "metadata": {},
   "outputs": [],
   "source": []
  },
  {
   "cell_type": "code",
   "execution_count": null,
   "metadata": {},
   "outputs": [],
   "source": []
  },
  {
   "cell_type": "code",
   "execution_count": null,
   "metadata": {},
   "outputs": [],
   "source": []
  },
  {
   "cell_type": "code",
   "execution_count": null,
   "metadata": {},
   "outputs": [],
   "source": []
  }
 ],
 "metadata": {
  "kernelspec": {
   "display_name": "Python 3",
   "language": "python",
   "name": "python3"
  },
  "language_info": {
   "codemirror_mode": {
    "name": "ipython",
    "version": 3
   },
   "file_extension": ".py",
   "mimetype": "text/x-python",
   "name": "python",
   "nbconvert_exporter": "python",
   "pygments_lexer": "ipython3",
   "version": "3.7.4"
  }
 },
 "nbformat": 4,
 "nbformat_minor": 2
}
