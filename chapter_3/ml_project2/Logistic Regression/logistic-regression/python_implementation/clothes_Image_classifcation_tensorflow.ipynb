{
 "cells": [
  {
   "cell_type": "markdown",
   "metadata": {},
   "source": [
    "# Fashion MNIST Dataset\n",
    "\n",
    "Let's take a look at a scenario where we can recognize different items of clothing, trained from a dataset containing 10 different types.\n",
    "The Fashion MNIST data is available directly in the keras datasets API.\n",
    "\n",
    "**The data set are about 70,000 image 60,000 of them as training and 10,000 as testing**"
   ]
  },
  {
   "cell_type": "markdown",
   "metadata": {},
   "source": [
    "## Importing libraries"
   ]
  },
  {
   "cell_type": "code",
   "execution_count": 1,
   "metadata": {},
   "outputs": [
    {
     "name": "stderr",
     "output_type": "stream",
     "text": [
      "Using TensorFlow backend.\n"
     ]
    }
   ],
   "source": [
    "import numpy as np\n",
    "import pandas as pd\n",
    "import tensorflow as tf\n",
    "import keras\n",
    "import matplotlib.pyplot as plt"
   ]
  },
  {
   "cell_type": "code",
   "execution_count": 2,
   "metadata": {},
   "outputs": [],
   "source": [
    "mnist_data = tf.keras.datasets.fashion_mnist"
   ]
  },
  {
   "cell_type": "markdown",
   "metadata": {},
   "source": [
    "### The data set is two sets each of them are two lists of training and labeling data of images."
   ]
  },
  {
   "cell_type": "code",
   "execution_count": 3,
   "metadata": {},
   "outputs": [],
   "source": [
    "(X_train, y_train), (X_test, y_test) = mnist_data.load_data()"
   ]
  },
  {
   "cell_type": "code",
   "execution_count": 4,
   "metadata": {},
   "outputs": [
    {
     "name": "stdout",
     "output_type": "stream",
     "text": [
      "Our Training data are:  (60000, 28, 28)\n",
      "Our Testing data are:  (10000, 28, 28)\n",
      "Our labels of Training data are:  (60000,)\n",
      "Our labels of Testing data are:  (10000,)\n"
     ]
    }
   ],
   "source": [
    "print(\"Our Training data are: \", X_train.shape)\n",
    "print(\"Our Testing data are: \", X_test.shape)\n",
    "print(\"Our labels of Training data are: \", y_train.shape)\n",
    "print(\"Our labels of Testing data are: \", y_test.shape)"
   ]
  },
  {
   "cell_type": "markdown",
   "metadata": {},
   "source": [
    "### visualize an image of your data with its features and label\n",
    "\n",
    "Actually its good point to notice the label is number instead of the clothes name, and this was a great because it's avoid bias towards specific language."
   ]
  },
  {
   "cell_type": "code",
   "execution_count": 5,
   "metadata": {},
   "outputs": [
    {
     "name": "stdout",
     "output_type": "stream",
     "text": [
      "The features of the image 5 are\n",
      " [[  0   0   0   0   0   0   0   0   0   0   0   0   0   0   0   0   0   0\n",
      "    0   0   0   0   0   0   0   0   0   0]\n",
      " [  0   0   0   0   0   0   0   0   0   0   0   0   0   0   0   0   0   0\n",
      "    0   0   0   0   0   0   0   0   0   0]\n",
      " [  0   0   0   0   0   0   0   0   0   0   0   0   0   1   1   0   0   0\n",
      "    0   0   0   0 164  50   0   7   0   0]\n",
      " [  0   0   0   0   0   0   0   0   1   0   0   1   0   0   1   1   0   0\n",
      "    5   0  45 217 255 176   0   6   0   0]\n",
      " [  0   0   0   0   0   0   0   0   0   1   1   0   3   3   5   9   0   2\n",
      "    0  62 236 231 215  27   0   1   0   0]\n",
      " [  0   0   0   0   0   0   0   0   0   0   0   0   0   0   0   0   0   0\n",
      "   29 244 231 234  74   0   1   0   0   0]\n",
      " [  0   0   0   0   0   0   0   0   0   2   0   0   0  23  41  59 111 134\n",
      "  138 226 202 217  22   0   1   0   0   0]\n",
      " [  0   0   0   0   0   0   0   0   0   5   0  35 179 195 182 225 198 241\n",
      "  177 199 205 210  26   0   1   0   0   3]\n",
      " [  0   0   0   0   0   0   0   0   0   0   0   0  19   0   0   0   0   0\n",
      "  235 243 198 119   0   3   1   3   4   0]\n",
      " [  0   0   0   0   0   0   0   0   0   0   0   0   0   2   5   0   0   0\n",
      "  170 252 181 182   0   0   0   0   0  19]\n",
      " [  0   0   0   0   0   0   0   0   0   0   0   0   1   1   0   0   4   0\n",
      "   76 255 183 219   9   0   0  42 191 164]\n",
      " [  0   0   0   0   0   0   0   0   0   0   0   0   0   0   0   0   2   0\n",
      "    0 237 198 204  75  47 221 221 238  25]\n",
      " [  0   0   0   0   0   0   0   0   0   0   0   1   0   0   1   2   1   0\n",
      "    0 209 212 229 255 254 232 227 174   0]\n",
      " [  0   0   0   0   0   0   0   0   0   0   0   0   0   0   1   0   0   0\n",
      "    0   0 210 255  87 101 230 238 105   0]\n",
      " [  0   0   0   0   0   0   0   0   0   0   0   0   0   1   0   4   1   0\n",
      "    1 250 236   0   0   0 224 233  20   0]\n",
      " [  0   0   0   0   0   1   3   4   4   2   0   0   0   1   0   2   0   0\n",
      "  204 185   0   0   0   6 227 202   0   0]\n",
      " [  0   1   0   1   0   0   0   0   0   0   0   0   0   1   0   0   0 173\n",
      "  159   0   0   2   0  10 237 153   0   0]\n",
      " [  0   0   1   0   0   0   0  40 138  21   0   0   2   0   8   0 132 195\n",
      "    0   0   0   0   0   8 240 118   0   1]\n",
      " [  5   6   4   0 132 232 208 208 241 217   0   0   0   1   0  29 217  35\n",
      "    0   9   0   2   0  25 238  58   0   2]\n",
      " [  0   0   0   0 181 255 231 233 219 238  77   0   0   0   0 196 145   0\n",
      "    0   0   0   2   0  49 228   0   0   2]\n",
      " [ 62  92   8   0 207 255 216 198 189 208 221   0   0   0 177 239  19   0\n",
      "    0   0   0   2   0  64 218   0   0   3]\n",
      " [ 96 249 223 211 237 243 211 228 255 252 255 138  38 175 242 173   0   0\n",
      "    0   0   0   2   0  89 204   0   0   2]\n",
      " [  0 197 240 240 237 219 222 244 235 243 244 255 255 234 233  45   0   2\n",
      "    0   0   0   2   0 105 188   0   0   0]\n",
      " [  0 165 253 224 229 242 244 232 239 242 243 237 230 230 207   0   0   1\n",
      "    0   0   0   9   0 120 165   0   8   0]\n",
      " [  0  45 255 252 253 241 229 223 230 235 240 239 233 245  65   0   2   0\n",
      "    0   0   0  10   0 128 143   0  10   0]\n",
      " [  0   0   0  72 202 255 255 255 255 255 255 255 255 194   0   0   2   0\n",
      "    0   0   0   8   0 186 160   0   9   0]\n",
      " [  0   0   0   0   0   0  38  89 135 162 180 179 152   0   0   1   0   0\n",
      "    0   0   0   1   0  68  29   0   3   0]\n",
      " [  0   0   0   0   0   0   0   0   0   0   0   0   0   0   0   0   0   0\n",
      "    0   0   0   0   0   0   0   0   0   0]]\n",
      "The label of the image 5 are:  5\n"
     ]
    },
    {
     "data": {
      "text/plain": [
       "<matplotlib.image.AxesImage at 0x7f524cf9d390>"
      ]
     },
     "execution_count": 5,
     "metadata": {},
     "output_type": "execute_result"
    },
    {
     "data": {
      "image/png": "[encoded data removed]",
      "text/plain": [
       "<Figure size 432x288 with 1 Axes>"
      ]
     },
     "metadata": {
      "needs_background": "light"
     },
     "output_type": "display_data"
    }
   ],
   "source": [
    "print(\"The features of the image 5 are\\n\",X_train[9])\n",
    "print(\"The label of the image 5 are: \",y_train[9])\n",
    "plt.imshow(X_train[9])"
   ]
  },
  {
   "cell_type": "markdown",
   "metadata": {},
   "source": [
    "## Features normalization\n",
    "\n",
    "As we saw the values of each pixel in the image is between 0 and 255 which our scale of brightness.\n",
    "but it's always useful for our model to learn within specific range of values and its help a lot for computational operations that happen in the Neural Network, and helpful for systems doing Math operations fast."
   ]
  },
  {
   "cell_type": "code",
   "execution_count": 6,
   "metadata": {},
   "outputs": [],
   "source": [
    "X_train = X_train / 255.0\n",
    "X_test  = X_test / 255.0"
   ]
  },
  {
   "cell_type": "markdown",
   "metadata": {},
   "source": [
    "### Notes !!\n",
    "\n",
    "**Sequential:** That defines some of layers in ordering.\n",
    "\n",
    "**Dense:** Adds a layer of neurons, and for each layer as you see below should give it the activation function that should use, and its always using soft max for output layer and for hidden layer we have some of functions like relu or tanch or others.\n",
    "\n",
    "**Relu** effectively means \"If X>0 return X, else return 0\" -- so what it does it it only passes values 0 or greater to the next layer of our network which will be output layer.\n",
    "\n",
    "**Softmax** takes a set of values, then take the biggest one, for example, if the output of the last layer looks like [0.1, 0.1, 0.05, 0.1, 9.5, 0.1, 0.05, 0.05, 0.05], take biggest value and set to 1, and turns others to 0 as this: [0,0,0,0,1,0,0,0,0]"
   ]
  },
  {
   "cell_type": "code",
   "execution_count": 7,
   "metadata": {},
   "outputs": [],
   "source": [
    "class myCallback(tf.keras.callbacks.Callback):\n",
    "    '''\n",
    "    it's useful to use call back function that terminate your algorithm when its reach the accuracy you need.\n",
    "    it's save a lot of time.\n",
    "    '''\n",
    "    def on_epoch_end(self, epoch, logs={}):\n",
    "        if(logs.get('accuracy') > 0.91):\n",
    "            print(\"\\nReached 91% accuracy so cancelling training!\")\n",
    "            self.model.stop_training = True\n"
   ]
  },
  {
   "cell_type": "code",
   "execution_count": 8,
   "metadata": {},
   "outputs": [],
   "source": [
    "def NN_model(X, Y, iterations, hidden_layer_nerons):\n",
    "    '''\n",
    "    A simple shallow Neural Network that contain just 3 layers.\n",
    "    input layer instead of each image as 28*28 this will Flatten() to be 784.\n",
    "    one hidden layer with 512 neurons and use relu as activation function.\n",
    "    output layer with 10 predicted values in our data.\n",
    "    '''\n",
    "    callbacks = myCallback() # instance from the class\n",
    "    model = tf.keras.Sequential()\n",
    "    model.add(tf.keras.layers.Flatten())\n",
    "    model.add(tf.keras.layers.Dense(hidden_layer_nerons, activation = tf.nn.relu))\n",
    "    model.add(tf.keras.layers.Dense(10, activation = tf.nn.softmax))\n",
    "# compile the model with Adam optimizer Algorithm\n",
    "    model.compile(optimizer = tf.optimizers.Adam(), loss = 'sparse_categorical_crossentropy',\n",
    "                  metrics=['accuracy'])\n",
    "    model.fit(X, Y, epochs=iterations, callbacks=[callbacks])\n",
    "    return model"
   ]
  },
  {
   "cell_type": "code",
   "execution_count": 9,
   "metadata": {},
   "outputs": [
    {
     "name": "stdout",
     "output_type": "stream",
     "text": [
      "Train on 60000 samples\n",
      "Epoch 1/25\n",
      "60000/60000 [==============================] - 7s 113us/sample - loss: 0.4715 - accuracy: 0.8315\n",
      "Epoch 2/25\n",
      "60000/60000 [==============================] - 6s 95us/sample - loss: 0.3579 - accuracy: 0.8687\n",
      "Epoch 3/25\n",
      "60000/60000 [==============================] - 6s 96us/sample - loss: 0.3223 - accuracy: 0.8798\n",
      "Epoch 4/25\n",
      "60000/60000 [==============================] - 6s 99us/sample - loss: 0.2987 - accuracy: 0.8889\n",
      "Epoch 5/25\n",
      "60000/60000 [==============================] - 6s 94us/sample - loss: 0.2803 - accuracy: 0.8957\n",
      "Epoch 6/25\n",
      "60000/60000 [==============================] - 7s 109us/sample - loss: 0.2654 - accuracy: 0.9008\n",
      "Epoch 7/25\n",
      "60000/60000 [==============================] - 6s 106us/sample - loss: 0.2523 - accuracy: 0.9054\n",
      "Epoch 8/25\n",
      "60000/60000 [==============================] - 7s 111us/sample - loss: 0.2423 - accuracy: 0.9097\n",
      "Epoch 9/25\n",
      "59968/60000 [============================>.] - ETA: 0s - loss: 0.2315 - accuracy: 0.9126\n",
      "Reached 91% accuracy so cancelling training!\n",
      "60000/60000 [==============================] - 7s 119us/sample - loss: 0.2314 - accuracy: 0.9126\n"
     ]
    }
   ],
   "source": [
    "model = NN_model(X_train, y_train, 25, 512)"
   ]
  },
  {
   "cell_type": "markdown",
   "metadata": {},
   "source": [
    "## You can see its stop at epoc 9 because the accuracy being over 91"
   ]
  },
  {
   "cell_type": "markdown",
   "metadata": {},
   "source": [
    "### Notes !!\n",
    "Accuracy: 0.9125 that means:\n",
    "\n",
    "**it figured out a pattern match between the image and the labels that worked 91%**"
   ]
  },
  {
   "cell_type": "code",
   "execution_count": 10,
   "metadata": {},
   "outputs": [
    {
     "name": "stdout",
     "output_type": "stream",
     "text": [
      "10000/10000 [==============================] - 1s 83us/sample - loss: 0.3576 - accuracy: 0.8786\n"
     ]
    },
    {
     "data": {
      "text/plain": [
       "[0.3575859471678734, 0.8786]"
      ]
     },
     "execution_count": 10,
     "metadata": {},
     "output_type": "execute_result"
    }
   ],
   "source": [
    "## Test the model with unseen data\n",
    "model.evaluate(X_test, y_test)"
   ]
  },
  {
   "cell_type": "markdown",
   "metadata": {},
   "source": [
    "### Notes !!\n",
    "\n",
    "Accuracy: 0.8781 a bit away of training data and that should work okay, because we do not need the model to fit the data very well to avoid overfitting.\n",
    "\n",
    "Cost_function: .31 on testing and .22 on training."
   ]
  },
  {
   "cell_type": "code",
   "execution_count": 11,
   "metadata": {},
   "outputs": [],
   "source": [
    "predict = model.predict(X_test)"
   ]
  },
  {
   "cell_type": "markdown",
   "metadata": {},
   "source": [
    "## Output Layer\n",
    "you will see below 10 values each of them represent probability of one label of our 10 labels we try to predict, then we should take the largest probability."
   ]
  },
  {
   "cell_type": "code",
   "execution_count": 12,
   "metadata": {},
   "outputs": [
    {
     "data": {
      "text/plain": [
       "array([2.9592160e-08, 5.8025507e-10, 3.3091605e-09, 1.9538910e-11,\n",
       "       5.7241767e-09, 9.5219439e-04, 2.3474785e-08, 4.1392080e-02,\n",
       "       1.1051574e-06, 9.5765448e-01], dtype=float32)"
      ]
     },
     "execution_count": 12,
     "metadata": {},
     "output_type": "execute_result"
    }
   ],
   "source": [
    "predict[0]"
   ]
  },
  {
   "cell_type": "code",
   "execution_count": 13,
   "metadata": {},
   "outputs": [
    {
     "data": {
      "text/plain": [
       "0.9576545"
      ]
     },
     "execution_count": 13,
     "metadata": {},
     "output_type": "execute_result"
    }
   ],
   "source": [
    "max(predict[0])"
   ]
  },
  {
   "cell_type": "code",
   "execution_count": 14,
   "metadata": {},
   "outputs": [
    {
     "data": {
      "text/plain": [
       "9"
      ]
     },
     "execution_count": 14,
     "metadata": {},
     "output_type": "execute_result"
    }
   ],
   "source": [
    "y_test[0]"
   ]
  },
  {
   "cell_type": "code",
   "execution_count": 15,
   "metadata": {},
   "outputs": [
    {
     "data": {
      "text/plain": [
       "<matplotlib.image.AxesImage at 0x7f52007bb6d0>"
      ]
     },
     "execution_count": 15,
     "metadata": {},
     "output_type": "execute_result"
    },
    {
     "data": {
      "image/png": "[encoded data removed]",
      "text/plain": [
       "<Figure size 432x288 with 1 Axes>"
      ]
     },
     "metadata": {
      "needs_background": "light"
     },
     "output_type": "display_data"
    }
   ],
   "source": [
    "plt.imshow(X_test[0])"
   ]
  },
  {
   "cell_type": "code",
   "execution_count": null,
   "metadata": {},
   "outputs": [],
   "source": []
  },
  {
   "cell_type": "code",
   "execution_count": null,
   "metadata": {},
   "outputs": [],
   "source": []
  }
 ],
 "metadata": {
  "kernelspec": {
   "display_name": "Python 3",
   "language": "python",
   "name": "python3"
  },
  "language_info": {
   "codemirror_mode": {
    "name": "ipython",
    "version": 3
   },
   "file_extension": ".py",
   "mimetype": "text/x-python",
   "name": "python",
   "nbconvert_exporter": "python",
   "pygments_lexer": "ipython3",
   "version": "3.7.4"
  }
 },
 "nbformat": 4,
 "nbformat_minor": 2
}
