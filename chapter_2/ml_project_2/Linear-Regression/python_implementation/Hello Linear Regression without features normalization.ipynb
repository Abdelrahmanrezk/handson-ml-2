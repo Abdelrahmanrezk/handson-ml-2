{
 "cells": [
  {
   "cell_type": "markdown",
   "metadata": {},
   "source": [
    "# Abdelrahman Rezk\n",
    "# ML & NLP Student\n",
    "\n",
    "# Web Developer \n",
    "\n"
   ]
  },
  {
   "cell_type": "markdown",
   "metadata": {},
   "source": [
    "The same data but without features normalization"
   ]
  },
  {
   "cell_type": "code",
   "execution_count": null,
   "metadata": {},
   "outputs": [],
   "source": [
    "import numpy as np\n",
    "import pandas as pd\n"
   ]
  },
  {
   "cell_type": "code",
   "execution_count": null,
   "metadata": {},
   "outputs": [],
   "source": [
    "X = np.array([\n",
    "    [5, 20, 6],\n",
    "    [5, 35 ,6],\n",
    "    [6, 38, 8],\n",
    "    [7, 40, 8],\n",
    "    [7, 46, 10]\n",
    "])\n",
    "print(\"###########################################\")\n",
    "print(X.shape)\n",
    "X"
   ]
  },
  {
   "cell_type": "code",
   "execution_count": null,
   "metadata": {},
   "outputs": [],
   "source": [
    "y = np.array([\n",
    "    [114],\n",
    "    [120],\n",
    "    [123],\n",
    "    [121],\n",
    "    [135]\n",
    "    \n",
    "])\n",
    "print(\"###########################################\")\n",
    "\n",
    "print(y.shape)\n",
    "y"
   ]
  },
  {
   "cell_type": "code",
   "execution_count": null,
   "metadata": {},
   "outputs": [],
   "source": [
    "thetas = np.array([\n",
    "    [5],\n",
    "    [2],\n",
    "    [3],\n",
    "    [6]\n",
    "])\n",
    "print(\"###########################################\")\n",
    "print(thetas.shape)\n",
    "thetas"
   ]
  },
  {
   "cell_type": "code",
   "execution_count": null,
   "metadata": {},
   "outputs": [],
   "source": [
    "\n",
    "X = np.column_stack([np.ones((X.shape[0],1), dtype=int), X])\n",
    "print(\"###########################################\")\n",
    "print(X.shape)"
   ]
  },
  {
   "cell_type": "code",
   "execution_count": null,
   "metadata": {},
   "outputs": [],
   "source": [
    "def costfunction(x, theats, y,m):\n",
    "    J = 0\n",
    "\n",
    "    J = (1/(2*m)) * np.dot(np.transpose((np.dot(x,thetas) - y)), (np.dot(x,thetas) - y))\n",
    "    print(\"#############################################\")\n",
    "    print(\"divide cost_erro by 2*m \\n\",J)\n",
    "    return J\n"
   ]
  },
  {
   "cell_type": "code",
   "execution_count": null,
   "metadata": {},
   "outputs": [],
   "source": [
    "costs = costfunction(X,thetas,y,X.shape[0])"
   ]
  },
  {
   "cell_type": "code",
   "execution_count": null,
   "metadata": {},
   "outputs": [],
   "source": [
    "def gradientdescent(x,thetas,y,m,alpha):\n",
    "    thetas = thetas - (alpha/m) * np.dot(X.T, (np.dot(x, thetas)-y))\n",
    "    return thetas\n",
    "    \n",
    "    "
   ]
  },
  {
   "cell_type": "code",
   "execution_count": null,
   "metadata": {},
   "outputs": [],
   "source": [
    "thetas = gradientdescent(X,thetas,y,X.shape[0],.2)"
   ]
  },
  {
   "cell_type": "code",
   "execution_count": null,
   "metadata": {},
   "outputs": [],
   "source": [
    "for i in range(1000):\n",
    "    thetas = gradientdescent(X, thetas, y, X.shape[0], .2)\n",
    "    costs = costfunction(X,thetas,y,X.shape[0])\n",
    "    print(\"###########################################\")\n",
    "    print(\"grad after\\n\", thetas)\n",
    "    print(\"cost after\\n\",costs)\n",
    "\n",
    "    "
   ]
  },
  {
   "cell_type": "code",
   "execution_count": null,
   "metadata": {},
   "outputs": [],
   "source": [
    "test = np.array([\n",
    "    [1, 3, 22,  8],\n",
    "    [1, 5, 20,  6],\n",
    "])\n",
    "test = (test - np.mean(test))/ np.std(test)\n",
    "test"
   ]
  },
  {
   "cell_type": "code",
   "execution_count": null,
   "metadata": {},
   "outputs": [],
   "source": [
    "d = np.dot(thetas.T, test.T)\n",
    "print((d))"
   ]
  },
  {
   "cell_type": "code",
   "execution_count": null,
   "metadata": {},
   "outputs": [],
   "source": []
  }
 ],
 "metadata": {
  "kernelspec": {
   "display_name": "Python 3",
   "language": "python",
   "name": "python3"
  },
  "language_info": {
   "codemirror_mode": {
    "name": "ipython",
    "version": 3
   },
   "file_extension": ".py",
   "mimetype": "text/x-python",
   "name": "python",
   "nbconvert_exporter": "python",
   "pygments_lexer": "ipython3",
   "version": "3.7.4"
  }
 },
 "nbformat": 4,
 "nbformat_minor": 2
}
