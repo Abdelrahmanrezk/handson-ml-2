{
 "cells": [
  {
   "cell_type": "markdown",
   "metadata": {
    "collapsed": true
   },
   "source": [
    "# Hands-on Machine LEarning with Scikit-learn, Keras & Tensorflow\n",
    "\n",
    "## Aurelien Geron\n",
    "\n",
    "## Second EDITION\n",
    "\n",
    "### OREILLY\n",
    "\n",
    "### Chapter 4\n"
   ]
  },
  {
   "cell_type": "markdown",
   "metadata": {},
   "source": [
    "# Linear Regression\n",
    "\n",
    "The linear regression model is the way that we deal with continuous output in the way of predicting this output, but first, we need to train this model on some data, evaluate the model, get the best parameters that minimize the cost function.\n",
    "\n",
    "The way we can train the model is differned:\n",
    "\n",
    "- There is a closed-form using Normal Equation.\n",
    "- And there is an iterative form using the Gradient Descent.\n",
    "\n",
    "Linear_model(h_Θ or y_hat or Predicited value) = **  Θ_0 + Θ_1X **, so the model trying to predict the output by:\n",
    "\n",
    "- Computing weighted sum for the input futures X multipled by some Θ(paramters or weights).\n",
    "- Add constant term called bias  or intercept\n",
    "\n",
    "**Θ** is the paprmaters that contain Θ_0 bias term + [Θ_1 - Θ_n] the weights assicated with the features [x_1 - x_n].\n",
    "\n",
    "\n",
    "# Normal Equation\n",
    "\n",
    "We can get the values of Θ that minimize the cost function very well directly in one step, but like this operation can work in case of up to (10000) number of features because of the complexity of multiplication then inversing about O(n3), one the other hand it can cause error when X is not invertible (singular), and in like this case we can use another function that get the ineverse anyway.\n",
    "\n",
    "<img src=\"../images/1.png\" width=\"200\" height=\"200\">\n",
    "\n",
    "- T means Transpose of the matrix.\n",
    "- -1 means the inverse of the matrix.\n",
    "\n",
    "# Note !\n",
    "\n",
    "More details in the **Materials Direction**\n",
    "\n"
   ]
  },
  {
   "cell_type": "markdown",
   "metadata": {},
   "source": [
    "# Linear Regression Using Normal Equation"
   ]
  },
  {
   "cell_type": "code",
   "execution_count": 1,
   "metadata": {
    "collapsed": true
   },
   "outputs": [],
   "source": [
    "import numpy as np\n",
    "import matplotlib.pyplot as plt\n",
    "from sklearn.linear_model import LinearRegression, SGDRegressor\n",
    "from sklearn.preprocessing import PolynomialFeatures, MinMaxScaler\n",
    "from sklearn.metrics import mean_squared_error\n",
    "from sklearn.model_selection import train_test_split\n",
    "from sklearn.pipeline import Pipeline\n",
    "from sklearn.linear_model import Ridge\n",
    "%matplotlib inline"
   ]
  },
  {
   "cell_type": "code",
   "execution_count": 2,
   "metadata": {},
   "outputs": [
    {
     "name": "stdout",
     "output_type": "stream",
     "text": [
      "(100, 1)\n",
      "(100, 1)\n"
     ]
    }
   ],
   "source": [
    "X = 2 * np.random.rand(100, 1)\n",
    "print(X.shape)\n",
    "y = 4 + 3 * X * np.random.rand(100, 1)\n",
    "print(y.shape)"
   ]
  },
  {
   "cell_type": "code",
   "execution_count": 3,
   "metadata": {},
   "outputs": [
    {
     "data": {
      "text/plain": [
       "Text(0.5, 1.0, 'Linear Data')"
      ]
     },
     "execution_count": 3,
     "metadata": {},
     "output_type": "execute_result"
    },
    {
     "data": {
      "image/png": "[encoded data removed]",
      "text/plain": [
       "<Figure size 432x288 with 1 Axes>"
      ]
     },
     "metadata": {},
     "output_type": "display_data"
    }
   ],
   "source": [
    "plt.scatter(X, y)\n",
    "plt.xlabel(\"X1\")\n",
    "plt.ylabel(\"Y\")\n",
    "plt.title(\"Linear Data\")\n"
   ]
  },
  {
   "cell_type": "code",
   "execution_count": 4,
   "metadata": {},
   "outputs": [
    {
     "name": "stdout",
     "output_type": "stream",
     "text": [
      "(100, 2)\n"
     ]
    }
   ],
   "source": [
    "# Add x_0 which equal to 1 which have no effect but help us doing matrix multiplication\n",
    "\n",
    "X_b = np.c_[np.ones((100,1)), X] # Add x_0 = 1 for each instance\n",
    "print(X_b.shape)"
   ]
  },
  {
   "cell_type": "code",
   "execution_count": 5,
   "metadata": {},
   "outputs": [
    {
     "name": "stdout",
     "output_type": "stream",
     "text": [
      "(2, 1)\n"
     ]
    },
    {
     "data": {
      "text/plain": [
       "array([[4.01213799],\n",
       "       [1.45129086]])"
      ]
     },
     "execution_count": 5,
     "metadata": {},
     "output_type": "execute_result"
    }
   ],
   "source": [
    "theta_best = np.linalg.inv(X_b.T.dot(X_b)).dot(X_b.T).dot(y)\n",
    "print(theta_best.shape)\n",
    "theta_best"
   ]
  },
  {
   "cell_type": "markdown",
   "metadata": {},
   "source": [
    "# Note !!\n",
    "\n",
    "We will hope that theta_0 to be 4 and theta_1 to be 3 as we can see in the y generated equation but because of the random value we add to each instance of y we have closed values of thetas to the original ones, this because the model trying to learn as much as possible.\n",
    "\n",
    "# Now make new prediction\n",
    "\n",
    "We make the prediction by the y_hat(hypothesis function or called h(Θ) ).\n",
    "\n",
    "\n",
    "<img src=\"../images/2.png\" width=\"200\" height=\"200\">\n"
   ]
  },
  {
   "cell_type": "code",
   "execution_count": 6,
   "metadata": {},
   "outputs": [
    {
     "name": "stdout",
     "output_type": "stream",
     "text": [
      "[[1. 0.]\n",
      " [1. 2.]]\n"
     ]
    },
    {
     "data": {
      "text/plain": [
       "array([[4.01213799],\n",
       "       [6.91471972]])"
      ]
     },
     "execution_count": 6,
     "metadata": {},
     "output_type": "execute_result"
    }
   ],
   "source": [
    "X_new = np.array([[0], [2]])\n",
    "X_new_b = np.c_[np.ones((2, 1)), X_new]\n",
    "\n",
    "# Actually, the same of theta transpose * X, because theta of sin 2*1 transpose it is 1*2 and x 2*2 so the same\n",
    "print(X_new_b)\n",
    "predict = np.dot(X_new_b, theta_best)\n",
    "predict # return to graph and check when x_1 = 0, and x_1 = 2 the range of values is closed to here"
   ]
  },
  {
   "cell_type": "markdown",
   "metadata": {},
   "source": [
    "# Predict X we have generate and plot it"
   ]
  },
  {
   "cell_type": "code",
   "execution_count": 7,
   "metadata": {},
   "outputs": [
    {
     "name": "stdout",
     "output_type": "stream",
     "text": [
      "(100, 1)\n",
      "(100, 1)\n",
      "(100, 1)\n"
     ]
    }
   ],
   "source": [
    "X_predicit = X_b.dot(theta_best)\n",
    "print(X.shape)\n",
    "print(X_predicit.shape)\n",
    "print(y.shape)"
   ]
  },
  {
   "cell_type": "code",
   "execution_count": 8,
   "metadata": {},
   "outputs": [
    {
     "data": {
      "text/plain": [
       "(0.0, 2.0, 0.0, 10.0)"
      ]
     },
     "execution_count": 8,
     "metadata": {},
     "output_type": "execute_result"
    },
    {
     "data": {
      "image/png": "[encoded data removed]",
      "text/plain": [
       "<Figure size 432x288 with 1 Axes>"
      ]
     },
     "metadata": {},
     "output_type": "display_data"
    }
   ],
   "source": [
    "plt.plot(X, X_predicit, \"b-\")\n",
    "plt.plot(X, y, \"y.\")\n",
    "plt.axis([0,2, 0, 10])"
   ]
  },
  {
   "cell_type": "markdown",
   "metadata": {},
   "source": [
    "# Linear Regression Using Sklearn"
   ]
  },
  {
   "cell_type": "code",
   "execution_count": 9,
   "metadata": {},
   "outputs": [
    {
     "name": "stdout",
     "output_type": "stream",
     "text": [
      "[4.01213799] [[1.45129086]]\n",
      "==================================================\n",
      "[[4.01213799]\n",
      " [6.91471972]]\n"
     ]
    }
   ],
   "source": [
    "lin_reg = LinearRegression()\n",
    "lin_reg.fit(X,y) # by default add x_0\n",
    "\n",
    "# intercept_ is theta_0, coef_ is theta_1\n",
    "print(lin_reg.intercept_, lin_reg.coef_) # same enough to what we got from the normal equation\n",
    "print(\"=\"*50)\n",
    "print(lin_reg.predict(X_new))"
   ]
  },
  {
   "cell_type": "markdown",
   "metadata": {},
   "source": [
    "# Graident Decsent\n",
    "\n",
    "**A different way to train Linear Model is using Gradient Descent, in the case of a large number of features we have.**\n",
    "\n",
    "**\"Gradient Descent is a very generic optimization algorithm capable of finding optimal solutions to a widerange of problems. The general idea of Gradient Descent is to tweak parameters iteratively in order tominimize a cost function. \" **\n",
    "\n",
    "<table><tr>\n",
    "<td> <img src=\"../images/3.png\" style=\"width: 400; height:300px\"/> </td>\n",
    "<td> <img src=\"../images/4.png\" style=\"width: 400;  height:300px\"/> </td>\n",
    "<td> <img src=\"../images/5.png\" style=\"width: 400;  height:300px\"/> </td>\n",
    "</tr></table>\n",
    "\n",
    "As we are in Linear Regression we search for the parameters that minimize the cost function**MSE**, here is the linear regression using the Gradient Descent we should go through a number of iteration to optimize these thetas to minimize the cost function, the way we minimize wights are different in the step the model takes from one iteration to another which called **learning Rate**, as we can see in graph how different **Learning Rate**, lead to the result but one of the models take a too long time or steps to reach the global minimum and other one jump out the global(Model diverge).\n",
    "\n",
    "The best one is this one that the model reaches the global minimum in such a good number of iterations.\n",
    "\n",
    "# Note \n",
    "\n",
    "**The learning step size is proportional to the slope of the cost function, so the steps gradually get smaller as the parameters approach the minimum.**\n",
    "\n",
    "As we can see we have some of the hyperparamters:\n",
    "\n",
    "- The number of iteration the model need for converge\n",
    "- The learning Reate value\n",
    "\n",
    "Not all cost function looks nice (Regular Bowls) as we have in MSE, some of the cost function we need to minimize have holes, ridges, plateaus and all sorts of irregular shapes, and to make converge to the global minimum is difficult and as we can see in the graph may be in the local minimum instead of Global minimum, as well as take too much time to cross the plateau on the right of the graph.\n",
    "\n",
    "\n",
    "<img src=\"../images/6.png\" style=\"width: 400; height:300px\"/>\n",
    "\n",
    "**\"Fortunately, the MSE cost function for a Linear Regression model happens to be a convex function, whichmeans that if you pick any two points on the curve, the line segment joining them never crosses the curve.\n",
    "\n",
    "- This implies that there are no local minima, just one global minimum.\n",
    "- It is also a continuous function withn a slope that never changes abruptly.\n",
    "\n",
    "These two facts have a great consequence: Gradient Descent isguaranteed to approach arbitrarily close the global minimum (if you wait long enough and if the learningrate is not too high).\"**\n",
    "\n",
    "The cost function has the shape of a bowl, but if the features have different ranges it can cause the shape to be an elongated bowl, so it will take a long time, because small ranges take a too long time to change.\n",
    "\n",
    "<img src=\"../images/7.png\" style=\"width: 400; height:300px\"/>"
   ]
  },
  {
   "cell_type": "markdown",
   "metadata": {
    "collapsed": true
   },
   "source": [
    "# Batch Gradient Descent\n",
    "\n",
    "Implement gradient descent is to know how the cost function will change if we change the parameters thetas, and this is called partial derivative. It is like asking “what is the slope of the mountain under my feet if I face east?” and then asking the same question facing north (and so on for all other dimensions, if you can imagine a universe with more than three dimensions).\n",
    "\n",
    "**The gradient vector,  MSE(θ), contains all the partial derivatives of the cost function**\n",
    "\n",
    "<img src=\"../images/8.png\">\n",
    "\n",
    "The Batch Gradient Descent above feed the full data into the model for each step in graident descent, but we should ask if it can fit our memory? the computing power needed? what if we add more instances to the data should I train from scratch?.\n",
    "\n",
    "Once we get the **gradient vector** we need to change thetas which will change the cost function trying to minimize it so we will subtract the old thetas from **gradient vector**, but there is another factor(hyperparameters) called **Learning Rate** we mentioned above, its effect our steps in change these thetas, by multiplying it by the **gradient vector**., to determine the size of the downhill we need to take according to reach the ground from the mountain.\n",
    "\n",
    "\n",
    "<img src=\"../images/9.png\">"
   ]
  },
  {
   "cell_type": "code",
   "execution_count": 10,
   "metadata": {
    "collapsed": true
   },
   "outputs": [],
   "source": [
    "def inilize_params(eta):\n",
    "    eta = eta\n",
    "    n_iterations = 1000\n",
    "    m = 100\n",
    "    thetas = np.random.rand(2, 1)\n",
    "    return eta, n_iterations, m, thetas\n",
    "\n",
    "def batch_graident_descent_manual(X, y, eta, n_iterations, m, thetas):\n",
    "    all_thetas = []\n",
    "    for i in range(n_iterations):\n",
    "        \n",
    "        graident_vector = (2/m) * np.dot(X.T, (np.dot(X, thetas) - y))\n",
    "        \n",
    "        thetas = thetas - eta * graident_vector\n",
    "        \n",
    "        all_thetas.append(thetas)\n",
    "        \n",
    "    return all_thetas, thetas"
   ]
  },
  {
   "cell_type": "code",
   "execution_count": 11,
   "metadata": {
    "collapsed": true
   },
   "outputs": [],
   "source": [
    "eta1, n_iterations, m, thetas1  = inilize_params(.02)\n",
    "eta2, n_iterations, m, thetas2 = inilize_params(.1)\n",
    "eta3, n_iterations, m, thetas3 = inilize_params(.5)\n",
    "\n",
    "all_thetas1, best_thetas1 = batch_graident_descent_manual(X_b, y, eta1, n_iterations, m, thetas1)\n",
    "all_thetas2, best_thetas2 = batch_graident_descent_manual(X_b, y, eta2, n_iterations, m, thetas2)\n",
    "all_thetas3, best_thetas3 = batch_graident_descent_manual(X_b, y, eta3, n_iterations, m, thetas3)"
   ]
  },
  {
   "cell_type": "code",
   "execution_count": 12,
   "metadata": {},
   "outputs": [
    {
     "name": "stdout",
     "output_type": "stream",
     "text": [
      "[[4.00817722]\n",
      " [1.4546976 ]]\n",
      "[[4.01213799]\n",
      " [1.45129086]]\n",
      "[[-3.09532147e+61]\n",
      " [-3.59870798e+61]]\n"
     ]
    }
   ],
   "source": [
    "print(best_thetas1)\n",
    "print(best_thetas2)\n",
    "print(best_thetas3)"
   ]
  },
  {
   "cell_type": "markdown",
   "metadata": {},
   "source": [
    "# The difference Effect of learning rate\n",
    "\n",
    "\"On the left, the learning rate is too low: the algorithm will eventually reach the solution, but it will take along time. In the middle, the learning rate looks pretty good: in just a few iterations, it has alreadyconverged to the solution. On the right, the learning rate is too high: the algorithm diverges, jumping allover the place and actually getting further and further away from the solution at every step\""
   ]
  },
  {
   "cell_type": "code",
   "execution_count": 13,
   "metadata": {},
   "outputs": [
    {
     "data": {
      "image/png": "[encoded data removed]",
      "text/plain": [
       "<Figure size 1440x432 with 3 Axes>"
      ]
     },
     "metadata": {},
     "output_type": "display_data"
    }
   ],
   "source": [
    "count = 0;\n",
    "theta_list = [all_thetas1, all_thetas2, all_thetas3]\n",
    "learn_rates = [eta1, eta2, eta3]\n",
    "fig, axis = plt.subplots(1, 3, figsize=(20, 6))\n",
    "\n",
    "for i in axis:\n",
    "    plt.title(\"dd\")\n",
    "    i.scatter(X, y)\n",
    "    for g in range(10):\n",
    "        all_thetas = theta_list[count]\n",
    "        X_predicit = X_b.dot(all_thetas[g])\n",
    "        i.plot(X, X_predicit)\n",
    "        \n",
    "    count +=1\n"
   ]
  },
  {
   "cell_type": "markdown",
   "metadata": {},
   "source": [
    "# Tolerance\n",
    "\n",
    "You may wonder how to set the number of iterations. If it is too low, you will still be far away from theoptimal solution when the algorithm stops, but if it is too high, you will waste time while the modelparameters do not change anymore. A simple solution is to set a very large number of iterations but to interrupt the algorithm when the sum between two **gradient vector** becomes tiny — that is, when its norm becomes smaller than a tiny number ε (called the tolerance) — because this happens when Gradient Descent has (almost) reached the minimum."
   ]
  },
  {
   "cell_type": "markdown",
   "metadata": {},
   "source": [
    "# Stochastic Gradient Descent\n",
    "\n",
    "The name Stochastic is about the randomness in this model, its train the model instance by instance and pick the instance randomly so it may take the same instance multiple time and for this, we can go from the first instance to last one but ensure that our data is shuffled, this model helps us in the problem or large dataset since the name **out-of-core** when its come to very large dataset, and the Batch learning can not dealing with because of our limited resource from memory, computing or even the network itself, on the other hand, SGD is faster, it trains instance for each iteration.\n",
    "\n",
    "Not just that when it comes to online learning SGD will be the first choice as we do not need to re-run the model from scratch for each time new data coming as in the case of Batch learning.\n",
    "\n",
    "But, because of this training instance by instance and randomness, the cost function bounce up and down, because it less regular than Batch learning,  Over time it will end up very close to the minimum, but once itgets there it will continue to bounce around, never settling down. So once the algorithm stops, the final parameter values are good, but not optimal.\n",
    "\n",
    "\n",
    "<img src=\"../images/10.png\" style=\"width: 400; height:300px\"/>\n",
    "\n",
    "\n",
    "Because of problem the the model can never settle at the minimum, there is a process called simulated annealing, and the function that determines the learning rate at each iteration is called the learning schedule. If the learning rate is reduced too quickly, you may get stuck in a local minimum, or even end up frozen half way to the minimum. If the learning rate is reduced too slowly, you may jump around the minimum for a long time and end up with a sub optimal solution if you halt training too early"
   ]
  },
  {
   "cell_type": "code",
   "execution_count": 14,
   "metadata": {
    "collapsed": true
   },
   "outputs": [],
   "source": [
    "n_epochs = 50\n",
    "t0, t1 = 5, 50 # learning schedule hyperparamter\n",
    "thetas = np.random.rand(2,1)\n",
    "m = 100\n",
    "\n",
    "def learning_schedule(t):\n",
    "    return t0 / (t+t1)\n",
    "\n",
    "def stochastic_graident_descent_manual(thetas):\n",
    "    all_thetas = []\n",
    "    for epoch in range(n_epochs):\n",
    "        for i in range(m):\n",
    "            random_index = np.random.randint(m) # get any random instance\n",
    "            xi = X_b[random_index: random_index+1] # to handle shape\n",
    "            yi = y[random_index]\n",
    "            \n",
    "            graidents_vector = 2 * xi.T.dot(np.dot(xi, thetas) - yi)\n",
    "            eta = learning_schedule(epoch * m + i)\n",
    "            thetas = thetas - eta * graidents_vector\n",
    "            \n",
    "        all_thetas.append(thetas)\n",
    "    return thetas, all_thetas\n",
    "random_index = np.random.randint(m)"
   ]
  },
  {
   "cell_type": "code",
   "execution_count": 15,
   "metadata": {},
   "outputs": [
    {
     "data": {
      "text/plain": [
       "array([[4.04293593],\n",
       "       [1.41333572]])"
      ]
     },
     "execution_count": 15,
     "metadata": {},
     "output_type": "execute_result"
    }
   ],
   "source": [
    "thetas, all_thetas = stochastic_graident_descent_manual(thetas)\n",
    "thetas"
   ]
  },
  {
   "cell_type": "markdown",
   "metadata": {},
   "source": [
    "# Note !!\n",
    "By convention we iterate by rounds of m iterations; each round is called an epoch. While the BatchGradient Descent code iterated 1,000 times through the whole training set, this code goes through thetraining set only 50 times and reaches a fairly good solution:"
   ]
  },
  {
   "cell_type": "code",
   "execution_count": 16,
   "metadata": {},
   "outputs": [
    {
     "data": {
      "image/png": "[encoded data removed]",
      "text/plain": [
       "<Figure size 432x288 with 1 Axes>"
      ]
     },
     "metadata": {},
     "output_type": "display_data"
    }
   ],
   "source": [
    "plt.plot(X, y, 'b.')\n",
    "def plot_one_by_one(thetas,color):\n",
    "    X_predicit = X_b.dot(thetas)\n",
    "    plt.plot(X, X_predicit, color)\n",
    "\n",
    "# See how the its irregular learning follow the color of lines for different epochs\n",
    "plot_one_by_one(all_thetas[0], 'r--')\n",
    "plot_one_by_one(all_thetas[1], 'g--')\n",
    "plot_one_by_one(all_thetas[2], 'b--')\n",
    "plot_one_by_one(all_thetas[3], 'y--')\n",
    "plot_one_by_one(all_thetas[4], 'k--')\n",
    "plot_one_by_one(all_thetas[5], 'c--')\n",
    "\n"
   ]
  },
  {
   "cell_type": "markdown",
   "metadata": {},
   "source": [
    "# SGD using sklearn\n",
    "\n",
    "The following code runs max 1000 epochs or until the loss drop by  tol=1e-3, starting with alearning rate of 0.1 (eta0=0.1), using the default learning schedule (different from the preceding one),and it does not use any regularization (penalty=None), and "
   ]
  },
  {
   "cell_type": "code",
   "execution_count": 17,
   "metadata": {},
   "outputs": [
    {
     "name": "stdout",
     "output_type": "stream",
     "text": [
      "[3.98123326] [1.45703106]\n"
     ]
    },
    {
     "name": "stderr",
     "output_type": "stream",
     "text": [
      "/home/abdelrahman/anaconda3/lib/python3.6/site-packages/sklearn/utils/validation.py:73: DataConversionWarning: A column-vector y was passed when a 1d array was expected. Please change the shape of y to (n_samples, ), for example using ravel().\n",
      "  return f(**kwargs)\n"
     ]
    }
   ],
   "source": [
    "sgd_reg = SGDRegressor(max_iter=1000, tol=1e-3, penalty=None, eta0=.1)\n",
    "sgd_reg.fit(X, y)\n",
    "\n",
    "print(sgd_reg.intercept_, sgd_reg.coef_)"
   ]
  },
  {
   "cell_type": "markdown",
   "metadata": {
    "collapsed": true
   },
   "source": [
    "# Mini-Batch Gradient Descent\n",
    "\n",
    "The mid way between Batch and Stochastic gradient descent is the mini-batch, instead of full data as in Batch or just one random instance for each time in case of Stocasitic, the mini-batch take a small random set of instances from the data then train on it. The main advantage of Mini-batch GD over Stochastic GD is that you can get a performance boost from hardware optimization of matrix operations, especially when using GPUs.\n",
    "\n",
    "The Mini-batch is less irregular than SGD, but it may be harder to escape from local minimum than the SGD, especially with fairly large mini-batches.\n",
    "\n",
    "Batch GD path actually stops at the minimum, while both Stochastic GD and Mini-batch GD get close. However, thae Batch GD takes a lot of time to take each step, and Stochastic GD and Mini-batch GD would also reach the minimum if we used a good learning schedule.\n",
    "\n",
    "<img src=\"../images/11.png\" style=\"width: 400; height:300px\"/>\n",
    "\n",
    "\n",
    "**There is almost no difference after training: all these algorithms end up with very similar models and make predictions in exactlythe same way**\n",
    "\n",
    "<img src=\"../images/12.png\" style=\"width: 400; height:300px\"/>\n"
   ]
  },
  {
   "cell_type": "markdown",
   "metadata": {},
   "source": [
    "# Polynomial Regression\n",
    "\n",
    "Instead of using the feature as it in the data, we can use such a more computation model, with increase the number of features using the Polynomial model, and it help in case of underfitting when the data so complex and linear model can not fit well on the data, this way work as to get the power of each feature as a new feature, but also another way is to get all combination between features.\n",
    "\n",
    "# Generated nonlinear and noisy dataset"
   ]
  },
  {
   "cell_type": "code",
   "execution_count": 18,
   "metadata": {
    "collapsed": true
   },
   "outputs": [],
   "source": [
    "m = 100\n",
    "X = 7.610 * np.random.rand(m, 1) - 2.897\n",
    "y = .5 * X**2 + X + 2.3 + np.random.randn(m, 1)"
   ]
  },
  {
   "cell_type": "code",
   "execution_count": 19,
   "metadata": {},
   "outputs": [
    {
     "data": {
      "text/plain": [
       "(-3.0, 3.0, 0.0, 10.0)"
      ]
     },
     "execution_count": 19,
     "metadata": {},
     "output_type": "execute_result"
    },
    {
     "data": {
      "image/png": "[encoded data removed]",
      "text/plain": [
       "<Figure size 432x288 with 1 Axes>"
      ]
     },
     "metadata": {},
     "output_type": "display_data"
    }
   ],
   "source": [
    "plt.plot(X, y, \"b.\")\n",
    "plt.xlabel(\"X\", fontsize=18)\n",
    "plt.ylabel(\"y\", rotation=1, fontsize=18)\n",
    "plt.axis([-3, 3, 0, 10])"
   ]
  },
  {
   "cell_type": "markdown",
   "metadata": {},
   "source": [
    "A straight line(linear line) can not deal with this complex data, so we can add the second poly (degree=2).\n"
   ]
  },
  {
   "cell_type": "code",
   "execution_count": 20,
   "metadata": {},
   "outputs": [
    {
     "name": "stdout",
     "output_type": "stream",
     "text": [
      "(100, 1)\n",
      "(100, 2)\n",
      "[-1.98296168]\n"
     ]
    },
    {
     "data": {
      "text/plain": [
       "array([-1.98296168,  3.93213703])"
      ]
     },
     "execution_count": 20,
     "metadata": {},
     "output_type": "execute_result"
    }
   ],
   "source": [
    "poly_features = PolynomialFeatures(degree=2, include_bias=False)\n",
    "X_poly = poly_features.fit_transform(X)\n",
    "print(X.shape)\n",
    "print(X_poly.shape)\n",
    "print(X[0])\n",
    "X_poly[0]"
   ]
  },
  {
   "cell_type": "code",
   "execution_count": 21,
   "metadata": {},
   "outputs": [
    {
     "name": "stdout",
     "output_type": "stream",
     "text": [
      "[2.15687935] [[0.91056688 0.52970088]]\n"
     ]
    }
   ],
   "source": [
    "# Now lets train Linear model on this features after add second degree\n",
    "\n",
    "lin_reg = LinearRegression()\n",
    "lin_reg.fit(X_poly, y)\n",
    "\n",
    "# As we can see intercept_ = theta 0, and thetas from 1 to n is coef_ \n",
    "# as we have just 2 features after second degree\n",
    "print(lin_reg.intercept_, lin_reg.coef_)"
   ]
  },
  {
   "cell_type": "code",
   "execution_count": 22,
   "metadata": {},
   "outputs": [
    {
     "data": {
      "text/plain": [
       "<matplotlib.legend.Legend at 0x7f646634e3c8>"
      ]
     },
     "execution_count": 22,
     "metadata": {},
     "output_type": "execute_result"
    },
    {
     "data": {
      "image/png": "[encoded data removed]",
      "text/plain": [
       "<Figure size 432x288 with 1 Axes>"
      ]
     },
     "metadata": {},
     "output_type": "display_data"
    }
   ],
   "source": [
    "X_new=np.linspace(-3, 3, 100).reshape(100, 1)\n",
    "\n",
    "X_new_poly = poly_features.transform(X_new)\n",
    "\n",
    "y_new = lin_reg.predict(X_new_poly)\n",
    "\n",
    "plt.plot(X, y, \"b.\")\n",
    "\n",
    "plt.plot(X_new, y_new, \"r-\", linewidth=2, label=\"Predictions\")\n",
    "\n",
    "plt.xlabel(\"X\", fontsize=18)\n",
    "plt.ylabel(\"y\", rotation=0, fontsize=18)\n",
    "plt.legend(loc=\"upper left\", fontsize=14)\n"
   ]
  },
  {
   "cell_type": "markdown",
   "metadata": {
    "collapsed": true
   },
   "source": [
    "# Learning Curves\n",
    "\n",
    "The data generated above with second polynomial degree and we fit the model of second degree so its looks are better, but usually, we do not know how the data generated so we need to know is the model overfitting or underfitting or even fitting well in training and validation, one way is using the validation set as in cross-validation. Another way is to look at the learning curves: these are plots of the model’s performance on the trainingset and the validation set as a function of the training set size. To generate the plots, simply train the model several times on different sized subsets of the training set. "
   ]
  },
  {
   "cell_type": "code",
   "execution_count": 23,
   "metadata": {},
   "outputs": [
    {
     "data": {
      "image/png": "[encoded data removed]",
      "text/plain": [
       "<Figure size 432x288 with 1 Axes>"
      ]
     },
     "metadata": {},
     "output_type": "display_data"
    }
   ],
   "source": [
    "def plot_learning_curves(model,X,y):\n",
    "    X_train,X_val,y_train,y_val=train_test_split(X,y,test_size=0.2)\n",
    "    train_errors,val_errors=[],[]\n",
    "    for m in range(1 ,len(X_train)):\n",
    "        model.fit(X_train[:m],y_train[:m])\n",
    "        y_train_predict=model.predict(X_train[:m])\n",
    "        y_val_predict=model.predict(X_val) # Validation on the whole data while train instance by instance\n",
    "        train_errors.append(mean_squared_error(y_train_predict,y_train[:m]))\n",
    "        val_errors.append(mean_squared_error(y_val, y_val_predict))\n",
    "    plt.plot(np.sqrt(train_errors),\"r-+\",linewidth=2,label=\"train\")\n",
    "    plt.plot(np.sqrt(val_errors),\"b-\",linewidth=3,label=\"val\")\n",
    "    plt.xlabel(\"Train Size\")\n",
    "    plt.ylabel(\"RMSE\")\n",
    "    plt.legend()\n",
    "lin_reg=LinearRegression()\n",
    "plot_learning_curves(lin_reg,X,y)"
   ]
  },
  {
   "cell_type": "markdown",
   "metadata": {
    "collapsed": true
   },
   "source": [
    "# Note !!\n",
    "\n",
    "We can see from Training Size associated with RMSE error how the error was in the first 2 or 3 instances looks like no error(0), but as instances added it goes up to about 2, but as you add new instances the error looks like not change or very little changes, this because it stuck in local minimum as new instances do not change the error. So If your model is underfitting the training data, adding more training examples will not help. You need to use a more complex model or come up with better features.\n",
    "\n",
    "Now let’s look at the performance of the model onthe validation data. When the model is trained on very few training instances, it is incapable ofgeneralizing properly, which is why the validation error is initially quite big."
   ]
  },
  {
   "cell_type": "markdown",
   "metadata": {},
   "source": [
    "# What if is looks like that\n",
    "\n",
    "Because I have trying different degree of models and actually you will find below it pretty fit as it did will on both training and testing, but in the image below we will see that the overfitting problem, how model fit well on training but it incapable of generalization.\n",
    "\n",
    "**One way to improve an overfitting model is to feed it more training data until the validation error reaches the training error.**\n",
    "\n",
    "\n",
    "<img src=\"../images/13.png\" style=\"width: 400; height:300px\"/>\n"
   ]
  },
  {
   "cell_type": "code",
   "execution_count": 24,
   "metadata": {},
   "outputs": [
    {
     "data": {
      "image/png": "[encoded data removed]",
      "text/plain": [
       "<Figure size 432x288 with 1 Axes>"
      ]
     },
     "metadata": {},
     "output_type": "display_data"
    }
   ],
   "source": [
    "# As we can see how close the error from training to validation and small in both so it best one\n",
    "poly_regression = Pipeline([\n",
    "    ('poly_features', PolynomialFeatures(degree=4, include_bias=False)),\n",
    "    ('lin_reg', LinearRegression()),\n",
    "])\n",
    "\n",
    "plot_learning_curves(poly_regression, X, y)"
   ]
  },
  {
   "cell_type": "markdown",
   "metadata": {},
   "source": [
    "# Regularized Linear Models\n",
    "\n",
    "To deal with the overfitting problem we trying to constrain the model from the freedom of fitting data, there are different approaches of reducing overfitting like feed new instance to the model, another one is to regularize the cost function in the training as it will change later in the vector that changes the weights.\n",
    "\n",
    "# Ridge Regression\n",
    "\n",
    "Ridge Regression is the regularized version that used with linear model, it adds a part to the cost function as we can see below:\n",
    "\n",
    "<img src=\"../images/14.png\" style=\"width: 400; height:300px\"/>\n",
    "\n",
    "\n",
    "This alpha α controls how much you want to regularize the model, and if it 0 it will have no effect as too large will convert from overfitting problem to underfitting as the weight will be close to 0.\n",
    "\n",
    "shows several Ridge models trained on some linear data using different α value. On the left,plain Ridge models are used, leading to linear predictions. On the right, the data is first expanded usingPolynomialFeatures(degree=10), then it is scaled using a StandardScaler, and finally the Ridge\n",
    "models are applied to the resulting features: this is Polynomial Regression with Ridge regularization.Note how increasing α leads to flatter (i.e., less extreme, more reasonable) predictions; this reduces themodel’s variance but increases its bias.\n",
    "\n",
    "<img src=\"../images/15.png\" style=\"width: 400; height:300px\"/>\n",
    "\n",
    "### Implement Ridge using Closed-form and using SGD"
   ]
  },
  {
   "cell_type": "code",
   "execution_count": 25,
   "metadata": {},
   "outputs": [
    {
     "data": {
      "text/plain": [
       "array([[6.84434208]])"
      ]
     },
     "execution_count": 25,
     "metadata": {},
     "output_type": "execute_result"
    }
   ],
   "source": [
    "ridge_reg=Ridge(alpha=1,solver=\"cholesky\")\n",
    "ridge_reg.fit(X,y)\n",
    "ridge_reg.predict([[1.5]])"
   ]
  },
  {
   "cell_type": "code",
   "execution_count": 26,
   "metadata": {},
   "outputs": [
    {
     "data": {
      "text/plain": [
       "array([6.81117331])"
      ]
     },
     "execution_count": 26,
     "metadata": {},
     "output_type": "execute_result"
    }
   ],
   "source": [
    "sgd_reg=SGDRegressor(penalty=\"l2\")\n",
    "sgd_reg.fit(X,y.ravel())\n",
    "sgd_reg.predict([[1.5]])"
   ]
  },
  {
   "cell_type": "markdown",
   "metadata": {
    "collapsed": true
   },
   "source": [
    "# Lasso Regression\n",
    "\n",
    "Instead of l2 norm Lasso use the l1 norm."
   ]
  },
  {
   "cell_type": "code",
   "execution_count": 27,
   "metadata": {},
   "outputs": [
    {
     "data": {
      "text/plain": [
       "array([6.82247683])"
      ]
     },
     "execution_count": 27,
     "metadata": {},
     "output_type": "execute_result"
    }
   ],
   "source": [
    "lasso_reg=SGDRegressor(penalty=\"l1\")\n",
    "lasso_reg.fit(X,y.ravel())\n",
    "lasso_reg.predict([[1.5]])"
   ]
  },
  {
   "cell_type": "code",
   "execution_count": null,
   "metadata": {
    "collapsed": true
   },
   "outputs": [],
   "source": []
  }
 ],
 "metadata": {
  "kernelspec": {
   "display_name": "Python 3",
   "language": "python",
   "name": "python3"
  },
  "language_info": {
   "codemirror_mode": {
    "name": "ipython",
    "version": 3
   },
   "file_extension": ".py",
   "mimetype": "text/x-python",
   "name": "python",
   "nbconvert_exporter": "python",
   "pygments_lexer": "ipython3",
   "version": "3.6.3"
  }
 },
 "nbformat": 4,
 "nbformat_minor": 2
}
