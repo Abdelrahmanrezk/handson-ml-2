{
 "cells": [
  {
   "cell_type": "markdown",
   "id": "23c0c203",
   "metadata": {},
   "source": [
    "# Logistic Regression\n",
    "\n",
    "Chapter 4 from the book was about, **Linear Regression, Gradient Descent and its (Batch, Stochastic and Mini-Batch), Polynomial Features, Learning Curve, Regularization and its (Ridge, Lasso Elastic) and other techniques which is early stoping**. All of that are explained in the folder chapter_4 and divided to different notebooks with explantion, besides of some Arabic posts to get a quick intuation first.\n",
    "\n",
    "Last part from this chapter is the **Logistic Regression**.\n",
    "\n",
    "Linear regression was about the continuos values you have to predicit any real numbers (.2, 1, 100, 1000.8), but Logistic Regression is the same as Linear Regression but we map the input to logistic function that map this output to some range between [0-1] for Sigmoid function, or between [-1-1] like tanch and other function, but what we see here is the Sigmoid function.\n",
    "\n",
    "This maping of [0-1] is the estimated probability of the output for some class based on **threshold** which map this probabilty to belong to some class like if the probability estimation is >= .5 then its positiv class which 1, or < .5 then its negative class 0 for binary classifation problem."
   ]
  },
  {
   "cell_type": "code",
   "execution_count": 1,
   "id": "9e521eff",
   "metadata": {},
   "outputs": [],
   "source": [
    "import pandas as pd\n",
    "import numpy as np\n",
    "from sklearn import datasets\n",
    "from sklearn.linear_model import LogisticRegression\n",
    "import matplotlib.pyplot as plt"
   ]
  },
  {
   "cell_type": "markdown",
   "id": "2acff6f1",
   "metadata": {},
   "source": [
    "# Some Graph functions"
   ]
  },
  {
   "cell_type": "code",
   "execution_count": 2,
   "id": "54885bfa",
   "metadata": {},
   "outputs": [],
   "source": [
    "def init_2d_graphs(*colors):\n",
    "    '''\n",
    "        Just graph initialize in good way\n",
    "    '''\n",
    "    plt.style.use(colors) # color of your 2d graph\n",
    "    plt.figure(figsize=(10,6)) # set the figure size\n",
    "    return True"
   ]
  },
  {
   "cell_type": "markdown",
   "id": "1f107ce1",
   "metadata": {},
   "source": [
    "# Sigmoid Function\n",
    "\n",
    "first let's see how this function map the output to be between 0 and 1.\n",
    "\n",
    "<img src=\"prediction.png\">\n",
    "\n",
    "<img src=\"sigmoid.png\">\n",
    "\n",
    "**So the estimated probability is 1 when t is positive and 0 when its negative and you can see that from graph below**"
   ]
  },
  {
   "cell_type": "code",
   "execution_count": 3,
   "id": "777a1aca",
   "metadata": {},
   "outputs": [],
   "source": [
    "def sigmoid(t):\n",
    "    '''\n",
    "    Argument:\n",
    "        t = x*theta\n",
    "    '''\n",
    "# np.log is natural log of base 2 which is called ln\n",
    "    p_t = 1/(1+np.exp(-t))\n",
    "    return p_t\n"
   ]
  },
  {
   "cell_type": "code",
   "execution_count": 4,
   "id": "68532756",
   "metadata": {},
   "outputs": [
    {
     "name": "stdout",
     "output_type": "stream",
     "text": [
      "[-10  -9  -8  -7  -6  -5  -4  -3  -2  -1   0   1   2   3   4   5   6   7\n",
      "   8   9  10]\n",
      "==================================================\n",
      "[4.53978687e-05 1.23394576e-04 3.35350130e-04 9.11051194e-04\n",
      " 2.47262316e-03 6.69285092e-03 1.79862100e-02 4.74258732e-02\n",
      " 1.19202922e-01 2.68941421e-01 5.00000000e-01 7.31058579e-01\n",
      " 8.80797078e-01 9.52574127e-01 9.82013790e-01 9.93307149e-01\n",
      " 9.97527377e-01 9.99088949e-01 9.99664650e-01 9.99876605e-01\n",
      " 9.99954602e-01]\n"
     ]
    }
   ],
   "source": [
    "# Let's generate some number (t) from negative to 0 to positive to see the sigmoid behavior\n",
    "t = np.arange(-10, 11) #from -10 to 10, 11 because of 0 index\n",
    "print(t)\n",
    "print(\"=\"*50)\n",
    "p_t = sigmoid(t)\n",
    "print(p_t)"
   ]
  },
  {
   "cell_type": "code",
   "execution_count": 5,
   "id": "ae2b0667",
   "metadata": {},
   "outputs": [
    {
     "data": {
      "text/plain": [
       "<matplotlib.legend.Legend at 0x7fa5d9cf2128>"
      ]
     },
     "execution_count": 5,
     "metadata": {},
     "output_type": "execute_result"
    },
    {
     "data": {
      "image/png": "[encoded data removed]",
      "text/plain": [
       "<Figure size 720x432 with 1 Axes>"
      ]
     },
     "metadata": {},
     "output_type": "display_data"
    }
   ],
   "source": [
    "init_2d_graphs('ggplot', 'dark_background' )\n",
    "plt.scatter(t,p_t, s=200, c='red', marker='o')\n",
    "plt.plot(t, p_t, 'red', label= 'Sigmoid Function',linewidth=3)\n",
    "plt.xlabel('The range of values')\n",
    "plt.ylabel('The sigmoid values')\n",
    "plt.title('Visualizing of sigmoid function')\n",
    "plt.legend()\n"
   ]
  },
  {
   "cell_type": "markdown",
   "id": "b32d765c",
   "metadata": {},
   "source": [
    "# Notes !\n",
    "\n",
    "Look how the sigmoid function output is when t go from -10 to 10 and see how you can now set the threshold to lastly predict it 1 if its >= .5 and 0 if not. So:\n",
    "\n",
    "<img src=\"model_prediction.png\">"
   ]
  },
  {
   "cell_type": "markdown",
   "id": "2850f6d8",
   "metadata": {},
   "source": [
    "# Training & Cost function\n",
    "\n",
    "By now we saw how the prediction can be, and map the values between 0 and 1 to belong to some class, but we need to train the model in the way that the **weights objective** is to let the model estimiate high probability for\n",
    "a positive class and low probability when its negative class.\n",
    "\n",
    "<img src=\"one_instance_loss.png\">\n",
    "\n",
    "# Notes !\n",
    "\n",
    "This cost function makes sense because – log(t) grows very large when t approaches\n",
    "0, so the cost will be large if the model estimates a probability close to 0 for a positive\n",
    "instance,  and  it  will  also  be  very  large  if  the  model  estimates  a  probability  close  to  1\n",
    "for a negative instance. On the other hand, – log(t) is close to 0 when t is close to 1, so\n",
    "the  cost  will  be  close  to  0  if  the  estimated  probability  is  close  to  0  for  a  negative\n",
    "instance or close to 1 for a positive instance, which is precisely what we want.\n"
   ]
  },
  {
   "cell_type": "code",
   "execution_count": 6,
   "id": "0cacc974",
   "metadata": {},
   "outputs": [
    {
     "data": {
      "text/plain": [
       "0.01005033585350145"
      ]
     },
     "execution_count": 6,
     "metadata": {},
     "output_type": "execute_result"
    }
   ],
   "source": [
    "-np.log(.99) "
   ]
  },
  {
   "cell_type": "code",
   "execution_count": 7,
   "id": "9f07e213",
   "metadata": {},
   "outputs": [
    {
     "data": {
      "text/plain": [
       "0.2231435513142097"
      ]
     },
     "execution_count": 7,
     "metadata": {},
     "output_type": "execute_result"
    }
   ],
   "source": [
    "-np.log(1-.2) "
   ]
  },
  {
   "cell_type": "markdown",
   "id": "b8ad5c8a",
   "metadata": {},
   "source": [
    "# Average cost over all training instances\n",
    "\n",
    "\n",
    "if y actuall value is 0 then the first term np.matmul(y.T, np.log(p_t)) will be 0, then second term will be,\n",
    "1-y = 1 * np.log(1-p_t), and in this case if the preidction is p_t is >= .5 you will see that large error \n",
    "because it  -log(1-p_t) whould be close to 0 when it negative class as we have, but if p_t < .5 it the cost will be small as p_t clost to 0.\n",
    "\n",
    "Apply this when y = 1 and see the behavior of the equation.\n",
    "\n",
    "\n",
    "<img src=\"overall_cost.png\">\n",
    "\n",
    "<img src=\"griadent_overall_cost.png\">\n",
    "\n",
    "**First we get the error in the partial derivative from prediction to actuall y then multiply by the features to tweak the weights according to its share in the overall error**\n",
    "\n",
    "# Notes !\n",
    "\n",
    "There is no Normal equation like linear regression to get the weights directly, but the cost function is still of convex shape so you go to the global minium with the Gradient Descent Optimization or any optimization algorithm."
   ]
  },
  {
   "cell_type": "markdown",
   "id": "1d9751e9",
   "metadata": {},
   "source": [
    "# Now Let's see Example\n",
    "\n",
    "Let’s use the iris dataset to illustrate Logistic Regression. This is a famous dataset that contains  the  sepal  and  petal  length  and  width  of  150  iris  flowers  of  three  different species: Iris-Setosa, Iris-Versicolor, and Iris-Virginica.\n",
    "\n",
    "But lets try first with Binary Classification, so we will try to predict **Virginica** type based on just one features which is **Petal Width**"
   ]
  },
  {
   "cell_type": "code",
   "execution_count": 8,
   "id": "a73a43c5",
   "metadata": {},
   "outputs": [
    {
     "data": {
      "text/plain": [
       "dict_keys(['data', 'target', 'frame', 'target_names', 'DESCR', 'feature_names', 'filename'])"
      ]
     },
     "execution_count": 8,
     "metadata": {},
     "output_type": "execute_result"
    }
   ],
   "source": [
    "iris = datasets.load_iris()\n",
    "iris.keys()"
   ]
  },
  {
   "cell_type": "code",
   "execution_count": 9,
   "id": "c1fd2951",
   "metadata": {},
   "outputs": [
    {
     "name": "stdout",
     "output_type": "stream",
     "text": [
      "['sepal length (cm)', 'sepal width (cm)', 'petal length (cm)', 'petal width (cm)']\n",
      "['setosa' 'versicolor' 'virginica']\n"
     ]
    }
   ],
   "source": [
    "print(iris['feature_names'])\n",
    "print(iris['target_names']) # virginica at index 2 so it will be the same in target"
   ]
  },
  {
   "cell_type": "code",
   "execution_count": 10,
   "id": "c3195bb1",
   "metadata": {},
   "outputs": [
    {
     "data": {
      "text/plain": [
       "array([[5.1, 3.5, 1.4, 0.2],\n",
       "       [4.9, 3. , 1.4, 0.2],\n",
       "       [4.7, 3.2, 1.3, 0.2]])"
      ]
     },
     "execution_count": 10,
     "metadata": {},
     "output_type": "execute_result"
    }
   ],
   "source": [
    "iris['data'][:3] # we have 4 features for each instance and we need just the petal width (last feature)"
   ]
  },
  {
   "cell_type": "code",
   "execution_count": 11,
   "id": "bac65b74",
   "metadata": {},
   "outputs": [
    {
     "name": "stdout",
     "output_type": "stream",
     "text": [
      "150\n",
      "(150, 1)\n",
      "(150,)\n"
     ]
    }
   ],
   "source": [
    "X = iris['data'][:, 3:] # petal width\n",
    "y = (iris['target'] == 2).astype(np.int) # 1 for virginica and 0 for others\n",
    "m = len(y)\n",
    "print(m)\n",
    "print(X.shape)\n",
    "print(y.shape)"
   ]
  },
  {
   "cell_type": "code",
   "execution_count": 12,
   "id": "a9ce8e4f",
   "metadata": {},
   "outputs": [
    {
     "name": "stdout",
     "output_type": "stream",
     "text": [
      "(150, 2)\n",
      "(150, 1)\n",
      "(2, 1)\n"
     ]
    }
   ],
   "source": [
    "X = np.c_[X, np.ones(X.shape[0])] # add x0 = 1\n",
    "y = y.reshape(-1,1)\n",
    "thetas = np.zeros((2,1))\n",
    "costs = []\n",
    "when_y_1 = []\n",
    "when_y_0 = []\n",
    "print(X.shape)\n",
    "print(y.shape)\n",
    "print(thetas.shape)"
   ]
  },
  {
   "cell_type": "code",
   "execution_count": 13,
   "id": "317c7180",
   "metadata": {},
   "outputs": [
    {
     "data": {
      "text/plain": [
       "0.5108256237659907"
      ]
     },
     "execution_count": 13,
     "metadata": {},
     "output_type": "execute_result"
    }
   ],
   "source": [
    "-np.log(.6)"
   ]
  },
  {
   "cell_type": "code",
   "execution_count": 14,
   "id": "5a2788ff",
   "metadata": {},
   "outputs": [],
   "source": [
    "def cost_function(thetas,x,m,y):\n",
    "    '''\n",
    "    Arguments:\n",
    "        thetas the paramter we need to minimize of shape 2*1\n",
    "        x the eatures of our dataset 150*2\n",
    "        m number of training examples \n",
    "        y is output we need to predict\n",
    "    return:\n",
    "        cost function as total squared cost of our predicted values h_x and the real values y\n",
    "    '''\n",
    "    t   = np.matmul(x,thetas) # hypothesis function\n",
    "    p_t = sigmoid(t)\n",
    "    \n",
    "    when_y_1.append((-1/m) * (np.matmul(y.T, np.log(p_t))))\n",
    "    when_y_0.append((-1/m) * (np.matmul((1-y).T, np.log(1-p_t))))\n",
    "\n",
    "    # get the cost function\n",
    "    cost_function = (-1/m) * (np.matmul(y.T, np.log(p_t)) + np.matmul((1-y).T, np.log(1-p_t)))\n",
    "    return cost_function"
   ]
  },
  {
   "cell_type": "code",
   "execution_count": 15,
   "id": "5adead7c",
   "metadata": {},
   "outputs": [
    {
     "name": "stdout",
     "output_type": "stream",
     "text": [
      "The cost funtion of first iteration training:  [[0.69314718]]\n"
     ]
    }
   ],
   "source": [
    "J = cost_function(thetas, X, m, y)\n",
    "costs.append(J)\n",
    "print(\"The cost funtion of first iteration training: \", J) "
   ]
  },
  {
   "cell_type": "code",
   "execution_count": 16,
   "id": "e0044464",
   "metadata": {},
   "outputs": [
    {
     "data": {
      "text/plain": [
       "[array([[0.23104906]])]"
      ]
     },
     "execution_count": 16,
     "metadata": {},
     "output_type": "execute_result"
    }
   ],
   "source": [
    "when_y_1"
   ]
  },
  {
   "cell_type": "code",
   "execution_count": 17,
   "id": "634b8632",
   "metadata": {},
   "outputs": [
    {
     "data": {
      "text/plain": [
       "[array([[0.46209812]])]"
      ]
     },
     "execution_count": 17,
     "metadata": {},
     "output_type": "execute_result"
    }
   ],
   "source": [
    "# This indicate that we need spend more time to see why it large error when y = 0\n",
    "# And this maybe because we use 1 class to be 1 and 2 classes to be 0\n",
    "# so it biased to 0 as it has lare training instances\n",
    "when_y_0 "
   ]
  },
  {
   "cell_type": "code",
   "execution_count": 18,
   "id": "25d988b8",
   "metadata": {},
   "outputs": [
    {
     "data": {
      "text/plain": [
       "array([[0.69314718]])"
      ]
     },
     "execution_count": 18,
     "metadata": {},
     "output_type": "execute_result"
    }
   ],
   "source": [
    "# Over all error as we get from the cost function\n",
    "when_y_1[0] + when_y_0[0] "
   ]
  },
  {
   "cell_type": "code",
   "execution_count": 19,
   "id": "c1fb2a8b",
   "metadata": {},
   "outputs": [],
   "source": [
    "def gradient_descent(thetas,x,m,y, learning_rate, iterations = 50):        \n",
    "    for i in range(iterations):\n",
    "        \n",
    "        t = np.matmul(x,thetas)\n",
    "        p_t = sigmoid(t)\n",
    "        graident_vector = (1/m) * (np.matmul(x.T, p_t - y))\n",
    "        thetas = thetas - (learning_rate * graident_vector)\n",
    "        costs.append(np.round(cost_function(thetas, X, m, y), 2))\n",
    "    return costs, thetas"
   ]
  },
  {
   "cell_type": "code",
   "execution_count": 20,
   "id": "4d808e25",
   "metadata": {},
   "outputs": [],
   "source": [
    "iterations = 30\n",
    "costs, thetas = gradient_descent(thetas, X, m, y, 1.2, iterations)"
   ]
  },
  {
   "cell_type": "code",
   "execution_count": 21,
   "id": "6ea8826b",
   "metadata": {},
   "outputs": [
    {
     "data": {
      "text/plain": [
       "(31, 1)"
      ]
     },
     "execution_count": 21,
     "metadata": {},
     "output_type": "execute_result"
    }
   ],
   "source": [
    "costs = np.array(costs)\n",
    "costs = costs.reshape(-1,1 )\n",
    "costs.shape"
   ]
  },
  {
   "cell_type": "code",
   "execution_count": 22,
   "id": "597979bb",
   "metadata": {},
   "outputs": [],
   "source": [
    "def display(iteations, costs):\n",
    "    plt.figure(figsize=(10, 6))\n",
    "    plt.scatter(iteations,costs, c='r', s=100, marker='.')\n",
    "    plt.plot(iteations,costs,  linewidth=3)\n",
    "    plt.xlabel(\"thets_1\")\n",
    "    plt.ylabel(\"Iterations\")"
   ]
  },
  {
   "cell_type": "code",
   "execution_count": 23,
   "id": "0f82418f",
   "metadata": {},
   "outputs": [
    {
     "data": {
      "image/png": "[encoded data removed]",
      "text/plain": [
       "<Figure size 720x432 with 1 Axes>"
      ]
     },
     "metadata": {},
     "output_type": "display_data"
    }
   ],
   "source": [
    "display(np.linspace(1, iterations+1, iterations+1), costs)"
   ]
  },
  {
   "cell_type": "markdown",
   "id": "4ad53b91",
   "metadata": {},
   "source": [
    "# With Sklearn\n",
    "\n",
    "I used the code from github repo related to the book to represent this graph:\n",
    "\n",
    "https://github.com/ageron/handson-ml/blob/master/04_training_linear_models.ipynb"
   ]
  },
  {
   "cell_type": "code",
   "execution_count": 24,
   "id": "bdf8c391",
   "metadata": {},
   "outputs": [
    {
     "name": "stderr",
     "output_type": "stream",
     "text": [
      "/home/abdelrahman/.local/lib/python3.6/site-packages/matplotlib/patches.py:1338: VisibleDeprecationWarning: Creating an ndarray from ragged nested sequences (which is a list-or-tuple of lists-or-tuples-or ndarrays with different lengths or shapes) is deprecated. If you meant to do this, you must specify 'dtype=object' when creating the ndarray\n",
      "  verts = np.dot(coords, M) + (x + dx, y + dy)\n"
     ]
    },
    {
     "data": {
      "image/png": "[encoded data removed]",
      "text/plain": [
       "<Figure size 720x288 with 1 Axes>"
      ]
     },
     "metadata": {},
     "output_type": "display_data"
    }
   ],
   "source": [
    "X = iris[\"data\"][:, 3:]  # petal width\n",
    "y = (iris[\"target\"] == 2).astype(np.int)  # 1 if Iris-Virginica, else 0\n",
    "log_reg = LogisticRegression(solver=\"liblinear\", random_state=42)\n",
    "log_reg.fit(X, y)\n",
    "\n",
    "\n",
    "# Used from github \n",
    "X_new = np.linspace(0, 3, 1000).reshape(-1, 1)\n",
    "y_proba = log_reg.predict_proba(X_new)\n",
    "decision_boundary = X_new[y_proba[:, 1] >= 0.5][0] # put the threshold >= .5 for positive \n",
    "\n",
    "plt.figure(figsize=(10, 4))\n",
    "plt.plot(X[y==0], y[y==0], \"bs\")\n",
    "plt.plot(X[y==1], y[y==1], \"g^\")\n",
    "plt.plot([decision_boundary, decision_boundary], [-1, 2], \"k:\", linewidth=2)\n",
    "plt.plot(X_new, y_proba[:, 1], \"g-\", linewidth=2, label=\"Iris-Virginica\")\n",
    "plt.plot(X_new, y_proba[:, 0], \"b--\", linewidth=2, label=\"Not Iris-Virginica\")\n",
    "plt.text(decision_boundary+0.02, 0.15, \"Decision  boundary\", fontsize=14, color=\"k\", ha=\"center\")\n",
    "plt.arrow(decision_boundary, 0.08, -0.3, 0, head_width=0.05, head_length=0.1, fc='b', ec='b')\n",
    "plt.arrow(decision_boundary, 0.92, 0.3, 0, head_width=0.05, head_length=0.1, fc='g', ec='g')\n",
    "plt.xlabel(\"Petal width (cm)\", fontsize=14)\n",
    "plt.ylabel(\"Probability\", fontsize=14)\n",
    "plt.legend(loc=\"center left\", fontsize=14)\n",
    "plt.axis([0, 3, -0.02, 1.02])\n",
    "plt.show()\n"
   ]
  },
  {
   "cell_type": "markdown",
   "id": "44d901fe",
   "metadata": {},
   "source": [
    "# Notes  !\n",
    "\n",
    "As we can see over 2.0 **petal width** is highly classified as virginica flowers and less that 1.0 is highly as not virginica flowers, while there are some overlapping betwee the like between 1.4 to 1.8 as we can see in the graph.\n",
    "\n",
    "In the case of overlapping the  classifier  is  unsure. and we can use make a prediction dierctly to see the result."
   ]
  },
  {
   "cell_type": "code",
   "execution_count": 25,
   "id": "b65d2165",
   "metadata": {},
   "outputs": [
    {
     "data": {
      "text/plain": [
       "array([1, 0])"
      ]
     },
     "execution_count": 25,
     "metadata": {},
     "output_type": "execute_result"
    }
   ],
   "source": [
    "log_reg.predict([[1.7], [1.5]])"
   ]
  },
  {
   "cell_type": "markdown",
   "id": "f022284c",
   "metadata": {},
   "source": [
    "\n",
    "\n",
    "# Softmax (multinomial) Regression\n",
    "\n",
    "What if we have multiple class not just 0 or 1 maybe you have to predict if the number in image is 0 or 1 .... 9.\n",
    "\n",
    "one of the solution is to run multiple binary classifier to distinguish between 0 and 1, then another model for 0 and 2, then 0 and 3 and back to distinguish between 1 and 2 so at the end you will have a large number of models, and it will be larager with large number of classes, and for each time you need to test your instance will pass to all of these models.\n",
    "\n",
    "But Softmax doing something different, it compute the score for each class that instance x maybe belong to !\n",
    "\n",
    "So for this each class will need its own weights, so if we have 150 * 2 is our data with just 2 features, and for each instance from the 150 instances we have to predict [0-9] one of these numbers so here are 10-classes, so the weights will be matrix = 2*10 2-weights for each class.\n",
    "\n",
    "From this example above lets we can get Softmax score for class k as we did with logistic regression:\n",
    "\n",
    "<img src=\"soft1.png\">\n",
    "\n",
    "But instead of each class, I will using the vectorization to get softmax score for all classes dierctly:\n",
    "\n",
    "from example x = 150 * 2, theta matrix = 2 * 10, then apply matrix multiplication as in the form above without transpose x, it will produce matrix dimension = 150 * 10 which the prediction of each instance with 10 scores, 1 for each class it maybe belong to.\n",
    "\n",
    "Once we have computed the score of every class for the instance x, we can estimate the  probability   p_k  that  the  instance  belongs  to  class  k  by  running  the  scores  through the  softmax  function.\n",
    "\n",
    "<img src=\"soft2.png\">\n",
    "\n",
    "**The overall score for all classes will be 1 distributed on the classes.**\n",
    "\n",
    "# Note !\n",
    "\n",
    "**it is multiclass problem, not multioutput, means you predict just one class from multiple classes at the end, but with multioutput you predict it maybe each person in the image like facebook tag your name and your friends for the images you tooked together**\n",
    "\n",
    "\n",
    "Now that you know how the model estimates probabilities and makes predictions, let’s take a look at training. **As we know we aimed to minimize the cost as we can by predicate high probability for target class and low for others.**\n",
    "\n",
    "\n",
    "<img src=\"cross1.png\">\n",
    "\n",
    "Now you can compute the gradient vector for every class, then use Gradient Descent (or any other optimization algorithm) to find the parameter matrix Θ that minimizes the cost function.\n",
    "<img src=\"cross2.png\">\n",
    "\n",
    "**Now Let’s  use  Softmax  Regression  to  classify  the  iris  flowers  into  all  three  classes.**"
   ]
  },
  {
   "cell_type": "code",
   "execution_count": 26,
   "id": "70a42e3b",
   "metadata": {},
   "outputs": [
    {
     "data": {
      "text/plain": [
       "LogisticRegression(C=10, multi_class='multinomial')"
      ]
     },
     "execution_count": 26,
     "metadata": {},
     "output_type": "execute_result"
    }
   ],
   "source": [
    "X = iris[\"data\"][:, (2, 3)]  # petal length, petal width\n",
    "y = iris[\"target\"]\n",
    "softmax_reg = LogisticRegression(multi_class=\"multinomial\",solver=\"lbfgs\", C=10)\n",
    "softmax_reg.fit(X, y)"
   ]
  },
  {
   "cell_type": "code",
   "execution_count": 27,
   "id": "a0998abb",
   "metadata": {},
   "outputs": [
    {
     "data": {
      "text/plain": [
       "array([2])"
      ]
     },
     "execution_count": 27,
     "metadata": {},
     "output_type": "execute_result"
    }
   ],
   "source": [
    "softmax_reg.predict([[5, 2]])"
   ]
  },
  {
   "cell_type": "code",
   "execution_count": 28,
   "id": "90f8462f",
   "metadata": {},
   "outputs": [
    {
     "data": {
      "text/plain": [
       "array([[6.38014896e-07, 5.74929995e-02, 9.42506362e-01]])"
      ]
     },
     "execution_count": 28,
     "metadata": {},
     "output_type": "execute_result"
    }
   ],
   "source": [
    "softmax_reg.predict_proba([[5, 2]])"
   ]
  },
  {
   "cell_type": "markdown",
   "id": "7a6bec51",
   "metadata": {},
   "source": [
    "# Note !\n",
    "\n",
    "The  hyperparameter  controlling  the  regularization  strength  of  a Scikit-Learn  LogisticRegression  model  is  not  alpha  (as  in  other linear models), but its inverse: C. The higher the value of C, the less the model is regularized."
   ]
  },
  {
   "cell_type": "markdown",
   "id": "285913e4",
   "metadata": {},
   "source": [
    "# Task\n",
    "\n",
    "Implement  Batch  Gradient  Descent  with  early  stopping  for  Softmax  Regression (without using Scikit-Learn)"
   ]
  },
  {
   "cell_type": "code",
   "execution_count": null,
   "id": "d857cf71",
   "metadata": {},
   "outputs": [],
   "source": []
  }
 ],
 "metadata": {
  "kernelspec": {
   "display_name": "Python 3",
   "language": "python",
   "name": "python3"
  },
  "language_info": {
   "codemirror_mode": {
    "name": "ipython",
    "version": 3
   },
   "file_extension": ".py",
   "mimetype": "text/x-python",
   "name": "python",
   "nbconvert_exporter": "python",
   "pygments_lexer": "ipython3",
   "version": "3.6.9"
  }
 },
 "nbformat": 4,
 "nbformat_minor": 5
}
