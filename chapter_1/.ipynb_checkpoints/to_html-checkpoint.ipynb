{
 "cells": [
  {
   "cell_type": "code",
   "execution_count": 1,
   "metadata": {
    "collapsed": true
   },
   "outputs": [],
   "source": [
    "import nbformat\n",
    "import nbconvert\n",
    "import sys\n"
   ]
  },
  {
   "cell_type": "code",
   "execution_count": 2,
   "metadata": {
    "collapsed": true
   },
   "outputs": [],
   "source": [
    "\n",
    "if len(sys.argv) < 2:\n",
    "    print(\"Usage:\", sys.argv[0], 'Exercises.ipynb', '[--slides]')\n",
    "    exit(-1)\n"
   ]
  },
  {
   "cell_type": "code",
   "execution_count": 3,
   "metadata": {},
   "outputs": [
    {
     "name": "stdout",
     "output_type": "stream",
     "text": [
      "Converting to HTML: -f.html\n"
     ]
    }
   ],
   "source": [
    "\n",
    "with open('Exercises.ipynb') as nb_file:\n",
    "    nb_contents = nb_file.read()\n",
    "\n",
    "# Convert using the ordinary exporter\n",
    "notebook = nbformat.reads(nb_contents, as_version=4)\n",
    "if len(sys.argv) == 3 and sys.argv[2] == '--slides':\n",
    "    outname = sys.argv[1].split('.ipynb')[0] + '.slides.html'\n",
    "    print(\"Converting to slides:\", outname)    \n",
    "    exporter = nbconvert.SlidesExporter()    \n",
    "else:\n",
    "    outname = sys.argv[1].split('.ipynb')[0] + '.html'\n",
    "    print(\"Converting to HTML:\", outname)\n",
    "    exporter = nbconvert.HTMLExporter()\n",
    " "
   ]
  },
  {
   "cell_type": "code",
   "execution_count": 4,
   "metadata": {
    "collapsed": true
   },
   "outputs": [],
   "source": [
    "   \n",
    "body, res = exporter.from_notebook_node(notebook)\n",
    "\n",
    "# Create a list saving all image attachments to their base64 representations\n",
    "images = []\n",
    "for cell in notebook['cells']:\n",
    "    if 'attachments' in cell:\n",
    "        attachments = cell['attachments']\n",
    "        for filename, attachment in attachments.items():\n",
    "            for mime, base64 in attachment.items():\n",
    "                images.append( [f'attachment:{filename}', f'data:{mime};base64,{base64}'] )\n",
    "\n",
    "# Fix up the HTML and write it to disk\n",
    "for itmes in images:\n",
    "    src = itmes[0]\n",
    "    base64 = itmes[1]\n",
    "    print(src, len(base64))\n",
    "    body = body.replace(f'src=\"{src}\"', f'src=\"{base64}\"', 1)\n",
    "    \n",
    "with open(outname, 'w') as output_file:\n",
    "    output_file.write(body)\n"
   ]
  },
  {
   "cell_type": "code",
   "execution_count": null,
   "metadata": {
    "collapsed": true
   },
   "outputs": [],
   "source": []
  }
 ],
 "metadata": {
  "kernelspec": {
   "display_name": "Python 3",
   "language": "python",
   "name": "python3"
  },
  "language_info": {
   "codemirror_mode": {
    "name": "ipython",
    "version": 3
   },
   "file_extension": ".py",
   "mimetype": "text/x-python",
   "name": "python",
   "nbconvert_exporter": "python",
   "pygments_lexer": "ipython3",
   "version": "3.6.3"
  }
 },
 "nbformat": 4,
 "nbformat_minor": 2
}
