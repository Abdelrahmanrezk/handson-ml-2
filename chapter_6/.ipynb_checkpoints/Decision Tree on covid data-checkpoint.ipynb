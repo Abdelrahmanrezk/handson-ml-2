{
 "cells": [
  {
   "cell_type": "code",
   "execution_count": 1,
   "id": "29744570",
   "metadata": {},
   "outputs": [
    {
     "name": "stderr",
     "output_type": "stream",
     "text": [
      "[nltk_data] Downloading package punkt to\n",
      "[nltk_data]     /home/abdelrahman/nltk_data...\n",
      "[nltk_data]   Package punkt is already up-to-date!\n",
      "[nltk_data] Downloading package stopwords to\n",
      "[nltk_data]     /home/abdelrahman/nltk_data...\n",
      "[nltk_data]   Package stopwords is already up-to-date!\n"
     ]
    }
   ],
   "source": [
    "# !pip install SpellChecker\n",
    "# !pip install nlppreprocess\n",
    "# !pip install autocorrect\n",
    "import pandas as pd\n",
    "\n",
    "import numpy as np\n",
    "import matplotlib.pyplot as plt\n",
    "from sklearn.model_selection import KFold\n",
    "from sklearn.feature_extraction.text import CountVectorizer\n",
    "from sklearn.feature_extraction.text import TfidfVectorizer\n",
    "from sklearn.model_selection import train_test_split\n",
    "from sklearn.tree import DecisionTreeClassifier, export_graphviz\n",
    "from sklearn.metrics import f1_score\n",
    "from sklearn.model_selection import RandomizedSearchCV\n",
    "from sklearn.model_selection import GridSearchCV\n",
    "from sklearn.model_selection import cross_val_score\n",
    "from graphviz import Source\n",
    "from IPython.display import Image\n",
    "import seaborn as sns\n",
    "from collections import Counter\n",
    "from pathlib import Path\n",
    "import os\n",
    "import numpy as np\n",
    "import pandas as pd\n",
    "import re\n",
    "import string\n",
    "import nltk\n",
    "nltk.download('punkt')\n",
    "from nltk.tokenize import word_tokenize\n",
    "from nltk.corpus import stopwords\n",
    "nltk.download('stopwords')\n",
    "from nltk.stem.porter import PorterStemmer\n",
    "from nltk.stem import WordNetLemmatizer\n",
    "# nltk.download('wordnet')\n",
    "from nltk.corpus import wordnet\n",
    "import unicodedata\n",
    "import html\n",
    "stop_words = stopwords.words('english')"
   ]
  },
  {
   "cell_type": "code",
   "execution_count": 2,
   "id": "d238f6d8",
   "metadata": {},
   "outputs": [
    {
     "data": {
      "text/html": [
       "<div>\n",
       "<style scoped>\n",
       "    .dataframe tbody tr th:only-of-type {\n",
       "        vertical-align: middle;\n",
       "    }\n",
       "\n",
       "    .dataframe tbody tr th {\n",
       "        vertical-align: top;\n",
       "    }\n",
       "\n",
       "    .dataframe thead th {\n",
       "        text-align: right;\n",
       "    }\n",
       "</style>\n",
       "<table border=\"1\" class=\"dataframe\">\n",
       "  <thead>\n",
       "    <tr style=\"text-align: right;\">\n",
       "      <th></th>\n",
       "      <th>cleaned_tweet_text</th>\n",
       "      <th>class</th>\n",
       "    </tr>\n",
       "  </thead>\n",
       "  <tbody>\n",
       "    <tr>\n",
       "      <th>0</th>\n",
       "      <td>ممثل منظمه الصحه العالميه في مصر يحدث في مصر ا...</td>\n",
       "      <td>1</td>\n",
       "    </tr>\n",
       "    <tr>\n",
       "      <th>1</th>\n",
       "      <td>وباء وانتشر</td>\n",
       "      <td>1</td>\n",
       "    </tr>\n",
       "    <tr>\n",
       "      <th>2</th>\n",
       "      <td>هجوم عنيف المستشار اسامه ابوالمجد علي مصلحه ال...</td>\n",
       "      <td>1</td>\n",
       "    </tr>\n",
       "    <tr>\n",
       "      <th>3</th>\n",
       "      <td>طيب وانتم بالله عندكم قوه نفس امريكا او الصين ...</td>\n",
       "      <td>0</td>\n",
       "    </tr>\n",
       "    <tr>\n",
       "      <th>4</th>\n",
       "      <td>بحر اليابان وليس بحر الصين</td>\n",
       "      <td>0</td>\n",
       "    </tr>\n",
       "  </tbody>\n",
       "</table>\n",
       "</div>"
      ],
      "text/plain": [
       "                                  cleaned_tweet_text  class\n",
       "0  ممثل منظمه الصحه العالميه في مصر يحدث في مصر ا...      1\n",
       "1                                       وباء وانتشر       1\n",
       "2  هجوم عنيف المستشار اسامه ابوالمجد علي مصلحه ال...      1\n",
       "3  طيب وانتم بالله عندكم قوه نفس امريكا او الصين ...      0\n",
       "4                        بحر اليابان وليس بحر الصين       0"
      ]
     },
     "execution_count": 2,
     "metadata": {},
     "output_type": "execute_result"
    }
   ],
   "source": [
    "data = pd.read_csv(\"datasets/classifed_cleaned_normalized_arabic_tweets.csv\")\n",
    "data.head()"
   ]
  },
  {
   "cell_type": "code",
   "execution_count": 3,
   "id": "42bd2ae7",
   "metadata": {},
   "outputs": [
    {
     "data": {
      "text/html": [
       "<div>\n",
       "<style scoped>\n",
       "    .dataframe tbody tr th:only-of-type {\n",
       "        vertical-align: middle;\n",
       "    }\n",
       "\n",
       "    .dataframe tbody tr th {\n",
       "        vertical-align: top;\n",
       "    }\n",
       "\n",
       "    .dataframe thead th {\n",
       "        text-align: right;\n",
       "    }\n",
       "</style>\n",
       "<table border=\"1\" class=\"dataframe\">\n",
       "  <thead>\n",
       "    <tr style=\"text-align: right;\">\n",
       "      <th></th>\n",
       "      <th>cleaned_tweet_text</th>\n",
       "      <th>class</th>\n",
       "    </tr>\n",
       "  </thead>\n",
       "  <tbody>\n",
       "    <tr>\n",
       "      <th>0</th>\n",
       "      <td>ممثل منظمه الصحه العالميه في مصر يحدث في مصر ا...</td>\n",
       "      <td>1</td>\n",
       "    </tr>\n",
       "    <tr>\n",
       "      <th>1</th>\n",
       "      <td>وباء وانتشر</td>\n",
       "      <td>1</td>\n",
       "    </tr>\n",
       "    <tr>\n",
       "      <th>2</th>\n",
       "      <td>هجوم عنيف المستشار اسامه ابوالمجد علي مصلحه ال...</td>\n",
       "      <td>1</td>\n",
       "    </tr>\n",
       "    <tr>\n",
       "      <th>3</th>\n",
       "      <td>طيب وانتم بالله عندكم قوه نفس امريكا او الصين ...</td>\n",
       "      <td>0</td>\n",
       "    </tr>\n",
       "    <tr>\n",
       "      <th>4</th>\n",
       "      <td>بحر اليابان وليس بحر الصين</td>\n",
       "      <td>0</td>\n",
       "    </tr>\n",
       "  </tbody>\n",
       "</table>\n",
       "</div>"
      ],
      "text/plain": [
       "                                  cleaned_tweet_text  class\n",
       "0  ممثل منظمه الصحه العالميه في مصر يحدث في مصر ا...      1\n",
       "1                                       وباء وانتشر       1\n",
       "2  هجوم عنيف المستشار اسامه ابوالمجد علي مصلحه ال...      1\n",
       "3  طيب وانتم بالله عندكم قوه نفس امريكا او الصين ...      0\n",
       "4                        بحر اليابان وليس بحر الصين       0"
      ]
     },
     "execution_count": 3,
     "metadata": {},
     "output_type": "execute_result"
    }
   ],
   "source": [
    "data = data.iloc[:5000]\n",
    "data.head()"
   ]
  },
  {
   "cell_type": "code",
   "execution_count": 4,
   "id": "98628f7d",
   "metadata": {},
   "outputs": [
    {
     "name": "stdout",
     "output_type": "stream",
     "text": [
      "['ممثل منظمه الصحه العالميه في مصر يحدث في مصر اثق تماما في الاجراءات تتخذها مصر لمواجهه وباء محتمل MBCMASR ', 'وباء وانتشر ', 'هجوم عنيف المستشار اسامه ابوالمجد علي مصلحه الجمارك ومكاتب التمثيل التجاري وجهاز حمايه المنافسه لتسببهم في القضاء علي الاستيراد الموازي والمستوردين ماتسبب في تفشي ظاهره الاحتكار ']\n"
     ]
    }
   ],
   "source": [
    "df_text = list(data['cleaned_tweet_text'])\n",
    "print(df_text[:3])"
   ]
  },
  {
   "cell_type": "code",
   "execution_count": 5,
   "id": "e3e0a3f2",
   "metadata": {},
   "outputs": [],
   "source": [
    "def build_vocab(text_list):\n",
    "    '''\n",
    "    Argument:\n",
    "    List of strings\n",
    "    Return:\n",
    "    list of tokenizer strings and all of uniqe vocab\n",
    "    '''\n",
    "    # using nltk word_tokenize and convert each sentence(tweet) to list of words\n",
    "    df_text_tokenized = [word_tokenize(text) for text in text_list]\n",
    "    # print(df_text_tokenized, \"\\n\", \"#\"*50)\n",
    "    # Expand all of words in all of sentence(tweets) in one list\n",
    "    word_vocab = list([item for sublist in df_text_tokenized for item in sublist])\n",
    "    # print(word_vocab, \"\\n\", \"#\"*50)\n",
    "    # print(\"Before Get uniqe vocab\",len(word_vocab), \"\\n\", \"#\"*50)\n",
    "    word_vocab = list((set(word_vocab))) # if we sort these unique words model will be less accurate\n",
    "    # print(word_vocab, \"\\n\", \"#\"*50)\n",
    "    # print(\"Atfer Get uniqe vocab\",len(word_vocab), \"\\n\", \"#\"*50)\n",
    "    return df_text_tokenized, word_vocab\n",
    "df_text_tokenized, word_vocab = build_vocab(df_text)"
   ]
  },
  {
   "cell_type": "code",
   "execution_count": 6,
   "id": "8bbf631b",
   "metadata": {},
   "outputs": [],
   "source": [
    "# map words to indexes to present each word in our vocab to uniqe index\n",
    "dict_word_vocab = dict([(key, val) for (val , key) in enumerate(word_vocab)])"
   ]
  },
  {
   "cell_type": "code",
   "execution_count": 7,
   "id": "d71aa52d",
   "metadata": {},
   "outputs": [
    {
     "name": "stdout",
     "output_type": "stream",
     "text": [
      "[['ممثل', 'منظمه', 'الصحه', 'العالميه', 'في', 'مصر', 'يحدث', 'في', 'مصر', 'اثق', 'تماما', 'في', 'الاجراءات', 'تتخذها', 'مصر', 'لمواجهه', 'وباء', 'محتمل', 'MBCMASR'], ['وباء', 'وانتشر'], ['هجوم', 'عنيف', 'المستشار', 'اسامه', 'ابوالمجد', 'علي', 'مصلحه', 'الجمارك', 'ومكاتب', 'التمثيل', 'التجاري', 'وجهاز', 'حمايه', 'المنافسه', 'لتسببهم', 'في', 'القضاء', 'علي', 'الاستيراد', 'الموازي', 'والمستوردين', 'ماتسبب', 'في', 'تفشي', 'ظاهره', 'الاحتكار'], ['طيب', 'وانتم', 'بالله', 'عندكم', 'قوه', 'نفس', 'امريكا', 'او', 'الصين', 'او', 'رسيا', 'مثلا', 'اجب'], ['بحر', 'اليابان', 'وليس', 'بحر', 'الصين']]\n"
     ]
    }
   ],
   "source": [
    "print(df_text_tokenized[:5])"
   ]
  },
  {
   "cell_type": "code",
   "execution_count": 8,
   "id": "bd799276",
   "metadata": {},
   "outputs": [
    {
     "name": "stdout",
     "output_type": "stream",
     "text": [
      "5000\n"
     ]
    },
    {
     "data": {
      "text/plain": [
       "[18136, 15853]"
      ]
     },
     "execution_count": 8,
     "metadata": {},
     "output_type": "execute_result"
    }
   ],
   "source": [
    "def bulid_binary_BOW(text_list, dict_word_vocab):\n",
    "    '''\n",
    "    Argument:\n",
    "    text_list: list of all text each of them as one string of vocabs \n",
    "    dict_word_vocab: dictionary that map your unique words to indexes\n",
    "    reutrn:\n",
    "    list of lists each of contain index of each word\n",
    "    '''\n",
    "    # for each word in the sentence get its index\n",
    "    text_list_indexes = [[dict_word_vocab[word] for word in text]  for text in text_list]\n",
    "\n",
    "    # code in simple way\n",
    "    # for text in text_list:\n",
    "    #   indexes = []\n",
    "    #   for word in text:\n",
    "    #     indexes.append(dict_word_vocab[word])\n",
    "    #   text_list_indexes.append(indexes)\n",
    "    return text_list_indexes\n",
    "\n",
    "text_list_indexes = bulid_binary_BOW(df_text_tokenized, dict_word_vocab)\n",
    "print(len(text_list_indexes))\n",
    "text_list_indexes[1]"
   ]
  },
  {
   "cell_type": "code",
   "execution_count": 9,
   "id": "a801b7b9",
   "metadata": {},
   "outputs": [
    {
     "name": "stdout",
     "output_type": "stream",
     "text": [
      "['ممثل', 'منظمه', 'الصحه', 'العالميه', 'في', 'مصر', 'يحدث', 'في', 'مصر', 'اثق', 'تماما', 'في', 'الاجراءات', 'تتخذها', 'مصر', 'لمواجهه', 'وباء', 'محتمل', 'MBCMASR']\n"
     ]
    }
   ],
   "source": [
    "print(df_text_tokenized[0])"
   ]
  },
  {
   "cell_type": "code",
   "execution_count": 10,
   "id": "a4e2434e",
   "metadata": {},
   "outputs": [],
   "source": [
    "def vectorize_sequences(seqences, dict_word_vocab):\n",
    "    '''\n",
    "    Argument:\n",
    "    seqence: of lists each of them is list of indexes that reflect the index of the word in our dict vocab\n",
    "    dimension: Our uniqe vocab size\n",
    "    return:\n",
    "    BOW_features: 2-d numby array that map words to (0, 1) as binary BOW model.\n",
    "    '''\n",
    "    BOW_features = np.zeros((len(seqences), len(dict_word_vocab)))\n",
    "    for i, seqence in enumerate(seqences):\n",
    "        BOW_features[i, seqence] = 1\n",
    "    return BOW_features\n",
    "BOW_features = vectorize_sequences(text_list_indexes, dict_word_vocab)"
   ]
  },
  {
   "cell_type": "code",
   "execution_count": 11,
   "id": "23733053",
   "metadata": {},
   "outputs": [
    {
     "name": "stdout",
     "output_type": "stream",
     "text": [
      "The BOW Binary Model shape is:  (5000, 22301)\n"
     ]
    },
    {
     "data": {
      "text/plain": [
       "array([[0., 0., 0., ..., 0., 0., 0.],\n",
       "       [0., 0., 0., ..., 0., 0., 0.],\n",
       "       [0., 0., 0., ..., 0., 0., 0.],\n",
       "       [0., 0., 0., ..., 0., 0., 0.],\n",
       "       [0., 0., 0., ..., 0., 0., 0.]])"
      ]
     },
     "execution_count": 11,
     "metadata": {},
     "output_type": "execute_result"
    }
   ],
   "source": [
    "print(\"The BOW Binary Model shape is: \", BOW_features.shape)\n",
    "BOW_features[:5]"
   ]
  },
  {
   "cell_type": "code",
   "execution_count": 12,
   "id": "d8d5d63b",
   "metadata": {},
   "outputs": [
    {
     "name": "stdout",
     "output_type": "stream",
     "text": [
      "4000\n",
      "1000\n",
      "4000\n",
      "1000\n"
     ]
    }
   ],
   "source": [
    "X = BOW_features\n",
    "y = np.array(list(data['class']))\n",
    "x_train, x_val, y_train, y_val = train_test_split(X, y, test_size=0.2)\n",
    "print(len(x_train))\n",
    "print(len(x_val))\n",
    "print(len(y_train))\n",
    "print(len(y_val))"
   ]
  },
  {
   "cell_type": "code",
   "execution_count": 13,
   "id": "6b8a9185",
   "metadata": {},
   "outputs": [
    {
     "data": {
      "text/plain": [
       "DecisionTreeClassifier(max_depth=3)"
      ]
     },
     "execution_count": 13,
     "metadata": {},
     "output_type": "execute_result"
    }
   ],
   "source": [
    "tree_cls = DecisionTreeClassifier(max_depth=3)\n",
    "tree_cls.fit(x_train, y_train)"
   ]
  },
  {
   "cell_type": "code",
   "execution_count": 14,
   "id": "b2188dec",
   "metadata": {},
   "outputs": [],
   "source": [
    "f = open(\"images/tree1.dot\", 'w')\n",
    "export_graphviz(\n",
    "        tree_cls, # The tree model\n",
    "        out_file=f,  \n",
    "        rounded=True, \n",
    "        filled=True\n",
    "    )"
   ]
  },
  {
   "cell_type": "code",
   "execution_count": 15,
   "id": "e6407179",
   "metadata": {},
   "outputs": [
    {
     "data": {
      "text/plain": [
       "'images/tree1.dot.png'"
      ]
     },
     "execution_count": 15,
     "metadata": {},
     "output_type": "execute_result"
    }
   ],
   "source": [
    "dot_path = \"images/tree1.dot\"\n",
    "output = Source.from_file(dot_path, format = \"png\") # can change png to pdf\n",
    "output.view()"
   ]
  },
  {
   "cell_type": "code",
   "execution_count": 16,
   "id": "95fe4217",
   "metadata": {},
   "outputs": [
    {
     "data": {
      "image/png": "[encoded data removed]",
      "text/plain": [
       "<IPython.core.display.Image object>"
      ]
     },
     "execution_count": 16,
     "metadata": {},
     "output_type": "execute_result"
    }
   ],
   "source": [
    "Image('images/tree1.dot.png')"
   ]
  },
  {
   "cell_type": "code",
   "execution_count": 17,
   "id": "fa5649b4",
   "metadata": {},
   "outputs": [],
   "source": [
    "predict_train = tree_cls.predict(x_train)\n",
    "predict_val = tree_cls.predict(x_val)"
   ]
  },
  {
   "cell_type": "code",
   "execution_count": 18,
   "id": "517518b8",
   "metadata": {},
   "outputs": [
    {
     "data": {
      "text/plain": [
       "0.9206102922161883"
      ]
     },
     "execution_count": 18,
     "metadata": {},
     "output_type": "execute_result"
    }
   ],
   "source": [
    "f1_score(predict_train, y_train)"
   ]
  },
  {
   "cell_type": "code",
   "execution_count": 19,
   "id": "5a75e029",
   "metadata": {},
   "outputs": [
    {
     "data": {
      "text/plain": [
       "0.9251012145748988"
      ]
     },
     "execution_count": 19,
     "metadata": {},
     "output_type": "execute_result"
    }
   ],
   "source": [
    "f1_score(predict_val, y_val)"
   ]
  },
  {
   "cell_type": "markdown",
   "id": "b70520b2",
   "metadata": {},
   "source": [
    "# Zoom out\n",
    "\n",
    "Lets first trying to use different ranges of values in model features, then zoom in for features that most helpful.\n",
    "\n",
    "Decision tree trying to search for best features and the best threshold for that feature to split the node, not just that it trying to doing this process with all instances do it take O(n*m*log(nodes), so it will take some time to run, but it take just O(log(nodes) in prediction.\n",
    "\n",
    "This grid search trying to figureout **4 values of max_depth** * **4 values of max_features** * **5 value of min_samples_split** and **3 cross validation** which = 160 model."
   ]
  },
  {
   "cell_type": "code",
   "execution_count": 20,
   "id": "075544cd",
   "metadata": {},
   "outputs": [],
   "source": [
    "parameters = {'max_depth': list(np.linspace(5, 10, 4).astype(int)), 'max_features' : [None, (x_train.shape[0]//2), 'auto', \"log2\"],\n",
    "             'min_samples_split': list(np.linspace(5, 100, 5).astype(int))}"
   ]
  },
  {
   "cell_type": "code",
   "execution_count": 21,
   "id": "dffe6348",
   "metadata": {},
   "outputs": [
    {
     "data": {
      "text/plain": [
       "GridSearchCV(cv=3, estimator=DecisionTreeClassifier(),\n",
       "             param_grid={'max_depth': [5, 6, 8, 10],\n",
       "                         'max_features': [None, 2000, 'auto', 'log2'],\n",
       "                         'min_samples_split': [5, 28, 52, 76, 100]})"
      ]
     },
     "execution_count": 21,
     "metadata": {},
     "output_type": "execute_result"
    }
   ],
   "source": [
    "tree_1 = DecisionTreeClassifier()\n",
    "grd_serch = GridSearchCV(tree_1, parameters, cv=3)\n",
    "grd_serch.fit(x_train, y_train)"
   ]
  },
  {
   "cell_type": "code",
   "execution_count": 22,
   "id": "83f48055",
   "metadata": {},
   "outputs": [],
   "source": [
    "cv_grd_search = grd_serch.cv_results_"
   ]
  },
  {
   "cell_type": "code",
   "execution_count": 23,
   "id": "95491d16",
   "metadata": {},
   "outputs": [
    {
     "name": "stdout",
     "output_type": "stream",
     "text": [
      "0.9464995559234636 {'max_depth': 5, 'max_features': None, 'min_samples_split': 5}\n",
      "0.9459992434390457 {'max_depth': 5, 'max_features': None, 'min_samples_split': 28}\n",
      "0.9462491185015144 {'max_depth': 5, 'max_features': None, 'min_samples_split': 52}\n",
      "0.9459992434390457 {'max_depth': 5, 'max_features': None, 'min_samples_split': 76}\n",
      "0.9462491185015144 {'max_depth': 5, 'max_features': None, 'min_samples_split': 100}\n",
      "0.8970064855044346 {'max_depth': 5, 'max_features': 2000, 'min_samples_split': 5}\n",
      "0.7620081557120914 {'max_depth': 5, 'max_features': 2000, 'min_samples_split': 28}\n",
      "0.7605370233113001 {'max_depth': 5, 'max_features': 2000, 'min_samples_split': 52}\n",
      "0.7419641642044694 {'max_depth': 5, 'max_features': 2000, 'min_samples_split': 76}\n",
      "0.6852286534902091 {'max_depth': 5, 'max_features': 2000, 'min_samples_split': 100}\n",
      "0.5439967563105169 {'max_depth': 5, 'max_features': 'auto', 'min_samples_split': 5}\n",
      "0.5442462564666655 {'max_depth': 5, 'max_features': 'auto', 'min_samples_split': 28}\n",
      "0.6192479529177647 {'max_depth': 5, 'max_features': 'auto', 'min_samples_split': 52}\n",
      "0.5654991334040407 {'max_depth': 5, 'max_features': 'auto', 'min_samples_split': 76}\n",
      "0.5637543193894426 {'max_depth': 5, 'max_features': 'auto', 'min_samples_split': 100}\n",
      "0.5127528133907541 {'max_depth': 5, 'max_features': 'log2', 'min_samples_split': 5}\n",
      "0.5050005004999375 {'max_depth': 5, 'max_features': 'log2', 'min_samples_split': 28}\n",
      "0.5065010630468713 {'max_depth': 5, 'max_features': 'log2', 'min_samples_split': 52}\n",
      "0.507501500562547 {'max_depth': 5, 'max_features': 'log2', 'min_samples_split': 76}\n",
      "0.5082515006562736 {'max_depth': 5, 'max_features': 'log2', 'min_samples_split': 100}\n",
      "0.9500002436891082 {'max_depth': 6, 'max_features': None, 'min_samples_split': 5}\n",
      "0.9497496188139989 {'max_depth': 6, 'max_features': None, 'min_samples_split': 28}\n",
      "0.9497496188139989 {'max_depth': 6, 'max_features': None, 'min_samples_split': 52}\n",
      "0.9492498686890612 {'max_depth': 6, 'max_features': None, 'min_samples_split': 76}\n",
      "0.9502495563920966 {'max_depth': 6, 'max_features': None, 'min_samples_split': 100}\n",
      "0.8702415483930953 {'max_depth': 6, 'max_features': 2000, 'min_samples_split': 5}\n",
      "0.7762770902620707 {'max_depth': 6, 'max_features': 2000, 'min_samples_split': 28}\n",
      "0.6817453988684578 {'max_depth': 6, 'max_features': 2000, 'min_samples_split': 52}\n",
      "0.7729721035956141 {'max_depth': 6, 'max_features': 2000, 'min_samples_split': 76}\n",
      "0.7982987126091868 {'max_depth': 6, 'max_features': 2000, 'min_samples_split': 100}\n",
      "0.5914971996372406 {'max_depth': 6, 'max_features': 'auto', 'min_samples_split': 5}\n",
      "0.5354974425765362 {'max_depth': 6, 'max_features': 'auto', 'min_samples_split': 28}\n",
      "0.5574900096838302 {'max_depth': 6, 'max_features': 'auto', 'min_samples_split': 52}\n",
      "0.5540005691077942 {'max_depth': 6, 'max_features': 'auto', 'min_samples_split': 76}\n",
      "0.5475098159847308 {'max_depth': 6, 'max_features': 'auto', 'min_samples_split': 100}\n",
      "0.5072495635153166 {'max_depth': 6, 'max_features': 'log2', 'min_samples_split': 5}\n",
      "0.5312383193249587 {'max_depth': 6, 'max_features': 'log2', 'min_samples_split': 28}\n",
      "0.5092504385466682 {'max_depth': 6, 'max_features': 'log2', 'min_samples_split': 52}\n",
      "0.5187451285610009 {'max_depth': 6, 'max_features': 'log2', 'min_samples_split': 76}\n",
      "0.5072505007811173 {'max_depth': 6, 'max_features': 'log2', 'min_samples_split': 100}\n",
      "0.955500119407663 {'max_depth': 8, 'max_features': None, 'min_samples_split': 5}\n",
      "0.953499994188952 {'max_depth': 8, 'max_features': None, 'min_samples_split': 28}\n",
      "0.9537498692514208 {'max_depth': 8, 'max_features': None, 'min_samples_split': 52}\n",
      "0.9527503690015457 {'max_depth': 8, 'max_features': None, 'min_samples_split': 76}\n",
      "0.9525003064859168 {'max_depth': 8, 'max_features': None, 'min_samples_split': 100}\n",
      "0.753011528744255 {'max_depth': 8, 'max_features': 2000, 'min_samples_split': 5}\n",
      "0.8937716063198708 {'max_depth': 8, 'max_features': 2000, 'min_samples_split': 28}\n",
      "0.8670366617141542 {'max_depth': 8, 'max_features': 2000, 'min_samples_split': 52}\n",
      "0.8867424877208808 {'max_depth': 8, 'max_features': 2000, 'min_samples_split': 76}\n",
      "0.8352751606192402 {'max_depth': 8, 'max_features': 2000, 'min_samples_split': 100}\n",
      "0.5857390134640107 {'max_depth': 8, 'max_features': 'auto', 'min_samples_split': 5}\n",
      "0.537251066889661 {'max_depth': 8, 'max_features': 'auto', 'min_samples_split': 28}\n",
      "0.6092497637152916 {'max_depth': 8, 'max_features': 'auto', 'min_samples_split': 52}\n",
      "0.5902601962334662 {'max_depth': 8, 'max_features': 'auto', 'min_samples_split': 76}\n",
      "0.7542202267208481 {'max_depth': 8, 'max_features': 'auto', 'min_samples_split': 100}\n",
      "0.5135013138591994 {'max_depth': 8, 'max_features': 'log2', 'min_samples_split': 5}\n",
      "0.5057499382341838 {'max_depth': 8, 'max_features': 'log2', 'min_samples_split': 28}\n",
      "0.5097503761247658 {'max_depth': 8, 'max_features': 'log2', 'min_samples_split': 52}\n",
      "0.5109993765307893 {'max_depth': 8, 'max_features': 'log2', 'min_samples_split': 76}\n",
      "0.5194921294041651 {'max_depth': 8, 'max_features': 'log2', 'min_samples_split': 100}\n",
      "0.9587494324855577 {'max_depth': 10, 'max_features': None, 'min_samples_split': 5}\n",
      "0.9562499320482294 {'max_depth': 10, 'max_features': None, 'min_samples_split': 28}\n",
      "0.9555003068608232 {'max_depth': 10, 'max_features': None, 'min_samples_split': 52}\n",
      "0.9555003068608232 {'max_depth': 10, 'max_features': None, 'min_samples_split': 76}\n",
      "0.9554999319545029 {'max_depth': 10, 'max_features': None, 'min_samples_split': 100}\n",
      "0.7699955348657254 {'max_depth': 10, 'max_features': 2000, 'min_samples_split': 5}\n",
      "0.7674632301253723 {'max_depth': 10, 'max_features': 2000, 'min_samples_split': 28}\n",
      "0.8717333006415022 {'max_depth': 10, 'max_features': 2000, 'min_samples_split': 52}\n",
      "0.8672319879070218 {'max_depth': 10, 'max_features': 2000, 'min_samples_split': 76}\n",
      "0.9007441140644982 {'max_depth': 10, 'max_features': 2000, 'min_samples_split': 100}\n",
      "0.574994760684174 {'max_depth': 10, 'max_features': 'auto', 'min_samples_split': 5}\n",
      "0.714216785080828 {'max_depth': 10, 'max_features': 'auto', 'min_samples_split': 28}\n",
      "0.7814772283775592 {'max_depth': 10, 'max_features': 'auto', 'min_samples_split': 52}\n",
      "0.5580070054995008 {'max_depth': 10, 'max_features': 'auto', 'min_samples_split': 76}\n",
      "0.6150064502632405 {'max_depth': 10, 'max_features': 'auto', 'min_samples_split': 100}\n",
      "0.5067494384840588 {'max_depth': 10, 'max_features': 'log2', 'min_samples_split': 5}\n",
      "0.5240050642345744 {'max_depth': 10, 'max_features': 'log2', 'min_samples_split': 28}\n",
      "0.5127483145149107 {'max_depth': 10, 'max_features': 'log2', 'min_samples_split': 52}\n",
      "0.5125001265308832 {'max_depth': 10, 'max_features': 'log2', 'min_samples_split': 76}\n",
      "0.5457496308110011 {'max_depth': 10, 'max_features': 'log2', 'min_samples_split': 100}\n"
     ]
    }
   ],
   "source": [
    "for mean_score, params in zip(cv_grd_search['mean_test_score'], cv_grd_search['params']):\n",
    "    print(mean_score, params)"
   ]
  },
  {
   "cell_type": "code",
   "execution_count": 24,
   "id": "e075cf48",
   "metadata": {},
   "outputs": [
    {
     "data": {
      "text/plain": [
       "{'max_depth': 10, 'max_features': None, 'min_samples_split': 5}"
      ]
     },
     "execution_count": 24,
     "metadata": {},
     "output_type": "execute_result"
    }
   ],
   "source": [
    "grd_serch.best_params_"
   ]
  },
  {
   "cell_type": "code",
   "execution_count": 25,
   "id": "18bdf52d",
   "metadata": {},
   "outputs": [
    {
     "data": {
      "text/plain": [
       "0.9587494324855577"
      ]
     },
     "execution_count": 25,
     "metadata": {},
     "output_type": "execute_result"
    }
   ],
   "source": [
    "grd_serch.best_score_"
   ]
  },
  {
   "cell_type": "markdown",
   "id": "03f4fbfc",
   "metadata": {},
   "source": [
    "# Zoom in\n",
    "\n",
    "We can now zoom in as we can see the best values for max_depth so we can trying large values but we need to take care of overfitting, as well for other parameters.\n",
    "\n",
    "I will increase min_samples to avoid overfitting."
   ]
  },
  {
   "cell_type": "code",
   "execution_count": 26,
   "id": "d7f93df6",
   "metadata": {},
   "outputs": [],
   "source": [
    "parameters = {'max_depth': list(np.linspace(10, 20, 3).astype(int)), 'max_features' : [None, (x_train.shape[0]//2)],\n",
    "             'min_samples_split': list(np.linspace(50, 300, 4).astype(int))}"
   ]
  },
  {
   "cell_type": "code",
   "execution_count": 27,
   "id": "ef657726",
   "metadata": {},
   "outputs": [
    {
     "data": {
      "text/plain": [
       "GridSearchCV(cv=3, estimator=DecisionTreeClassifier(),\n",
       "             param_grid={'max_depth': [10, 15, 20],\n",
       "                         'max_features': [None, 2000],\n",
       "                         'min_samples_split': [50, 133, 216, 300]})"
      ]
     },
     "execution_count": 27,
     "metadata": {},
     "output_type": "execute_result"
    }
   ],
   "source": [
    "tree_1 = DecisionTreeClassifier()\n",
    "grd_serch = GridSearchCV(tree_1, parameters, cv=3)\n",
    "grd_serch.fit(x_train, y_train)"
   ]
  },
  {
   "cell_type": "code",
   "execution_count": 28,
   "id": "b550fdb8",
   "metadata": {},
   "outputs": [
    {
     "name": "stdout",
     "output_type": "stream",
     "text": [
      "0.9547503067670965 {'max_depth': 10, 'max_features': None, 'min_samples_split': 50}\n",
      "0.9567494947200067 {'max_depth': 10, 'max_features': None, 'min_samples_split': 133}\n",
      "0.9562497445950693 {'max_depth': 10, 'max_features': None, 'min_samples_split': 216}\n",
      "0.9545000567983076 {'max_depth': 10, 'max_features': None, 'min_samples_split': 300}\n",
      "0.8130192218219473 {'max_depth': 10, 'max_features': 2000, 'min_samples_split': 50}\n",
      "0.9082467393460059 {'max_depth': 10, 'max_features': 2000, 'min_samples_split': 133}\n",
      "0.9340005541115414 {'max_depth': 10, 'max_features': 2000, 'min_samples_split': 216}\n",
      "0.7857260417053289 {'max_depth': 10, 'max_features': 2000, 'min_samples_split': 300}\n",
      "0.9614999327043154 {'max_depth': 15, 'max_features': None, 'min_samples_split': 50}\n",
      "0.9599997450637021 {'max_depth': 15, 'max_features': None, 'min_samples_split': 133}\n",
      "0.9595001823919249 {'max_depth': 15, 'max_features': None, 'min_samples_split': 216}\n",
      "0.9594994325792842 {'max_depth': 15, 'max_features': None, 'min_samples_split': 300}\n",
      "0.928996304548401 {'max_depth': 15, 'max_features': 2000, 'min_samples_split': 50}\n",
      "0.8944863652194908 {'max_depth': 15, 'max_features': 2000, 'min_samples_split': 133}\n",
      "0.9127433657514828 {'max_depth': 15, 'max_features': 2000, 'min_samples_split': 216}\n",
      "0.9284941175323814 {'max_depth': 15, 'max_features': 2000, 'min_samples_split': 300}\n",
      "0.9625003702199914 {'max_depth': 20, 'max_features': None, 'min_samples_split': 50}\n",
      "0.96275024528246 {'max_depth': 20, 'max_features': None, 'min_samples_split': 133}\n",
      "0.9602505573919716 {'max_depth': 20, 'max_features': None, 'min_samples_split': 216}\n",
      "0.9607497451574288 {'max_depth': 20, 'max_features': None, 'min_samples_split': 300}\n",
      "0.937494681016581 {'max_depth': 20, 'max_features': 2000, 'min_samples_split': 50}\n",
      "0.9512479319230107 {'max_depth': 20, 'max_features': 2000, 'min_samples_split': 133}\n",
      "0.9452499931579598 {'max_depth': 20, 'max_features': 2000, 'min_samples_split': 216}\n",
      "0.9504992440014052 {'max_depth': 20, 'max_features': 2000, 'min_samples_split': 300}\n"
     ]
    }
   ],
   "source": [
    "cv_grd_search = grd_serch.cv_results_\n",
    "for mean_score, params in zip(cv_grd_search['mean_test_score'], cv_grd_search['params']):\n",
    "    print(mean_score, params)"
   ]
  },
  {
   "cell_type": "code",
   "execution_count": 29,
   "id": "0da4bb3c",
   "metadata": {},
   "outputs": [
    {
     "data": {
      "text/plain": [
       "{'max_depth': 20, 'max_features': None, 'min_samples_split': 133}"
      ]
     },
     "execution_count": 29,
     "metadata": {},
     "output_type": "execute_result"
    }
   ],
   "source": [
    "grd_serch.best_params_"
   ]
  },
  {
   "cell_type": "code",
   "execution_count": 30,
   "id": "1640629e",
   "metadata": {},
   "outputs": [
    {
     "data": {
      "text/plain": [
       "0.96275024528246"
      ]
     },
     "execution_count": 30,
     "metadata": {},
     "output_type": "execute_result"
    }
   ],
   "source": [
    "grd_serch.best_score_"
   ]
  },
  {
   "cell_type": "code",
   "execution_count": 36,
   "id": "6df1e9f9",
   "metadata": {},
   "outputs": [
    {
     "data": {
      "text/plain": [
       "array([0.95374415, 0.96124994, 0.9412455 , 0.9425    , 0.94497214])"
      ]
     },
     "execution_count": 36,
     "metadata": {},
     "output_type": "execute_result"
    }
   ],
   "source": [
    "tree_clf = DecisionTreeClassifier(max_depth=15, max_features=2000, min_samples_split=50)\n",
    "cross_val_tree = cross_val_score(tree_clf, x_train, y_train, cv=5,  scoring='f1_macro')\n",
    "cross_val_tree"
   ]
  },
  {
   "cell_type": "code",
   "execution_count": 38,
   "id": "d64abe33",
   "metadata": {},
   "outputs": [
    {
     "data": {
      "text/plain": [
       "0.9546720688781971"
      ]
     },
     "execution_count": 38,
     "metadata": {},
     "output_type": "execute_result"
    }
   ],
   "source": [
    "tree_clf.fit(x_train, y_train)\n",
    "train_predict = tree_clf.predict(x_train)\n",
    "f1_score(y_train, train_predict)"
   ]
  },
  {
   "cell_type": "code",
   "execution_count": 40,
   "id": "36a49684",
   "metadata": {},
   "outputs": [
    {
     "data": {
      "text/plain": [
       "0.9517241379310345"
      ]
     },
     "execution_count": 40,
     "metadata": {},
     "output_type": "execute_result"
    }
   ],
   "source": [
    "val_predict = tree_clf.predict(x_val)\n",
    "f1_score(y_val, val_predict)"
   ]
  }
 ],
 "metadata": {
  "kernelspec": {
   "display_name": "Python 3",
   "language": "python",
   "name": "python3"
  },
  "language_info": {
   "codemirror_mode": {
    "name": "ipython",
    "version": 3
   },
   "file_extension": ".py",
   "mimetype": "text/x-python",
   "name": "python",
   "nbconvert_exporter": "python",
   "pygments_lexer": "ipython3",
   "version": "3.6.9"
  }
 },
 "nbformat": 4,
 "nbformat_minor": 5
}
