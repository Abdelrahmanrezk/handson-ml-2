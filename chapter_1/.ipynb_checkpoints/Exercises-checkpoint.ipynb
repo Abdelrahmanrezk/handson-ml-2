{
 "cells": [
  {
   "cell_type": "markdown",
   "metadata": {},
   "source": [
    "# Hands-on Machine LEarning with Scikit-learn, Keras & Tensorflow\n",
    "\n",
    "## Aurelien Geron\n",
    "\n",
    "## Second EDITION\n",
    "\n",
    "### OREILLY\n"
   ]
  },
  {
   "cell_type": "markdown",
   "metadata": {},
   "source": [
    "# The Machine Learning Landscape\n",
    "\n",
    "## Chapter 1 solving Exercises of Hands-On ml with scikit-learn, Keras, and TensorFlow Book Edition 2.\n",
    "\n",
    "## Abdelrahman Rezk "
   ]
  },
  {
   "cell_type": "markdown",
   "metadata": {},
   "source": [
    "# Q-1 \n",
    "## How would you define a machine Learning ??"
   ]
  },
  {
   "cell_type": "markdown",
   "metadata": {},
   "source": [
    "Is the way that computer trying to learn from Experiment instead of writing each instructures for each new rule, and by the way we can not assume all of the test cases, also machine learning around us in different ways that we do not notice, its not just about *robuts*, no its a general meaning of other application like spam classification, price prediction, OCR, recommendation system, voice recognition, and others.\n",
    "\n",
    "Also, Machine learning is the field of study that gives computers the ability to learn without being explicitly programed.\n",
    "\n",
    "Also, A computer program is said to learn from experience **E**, with respect to some task **T**, and some performance measure **P**, if its performance on **T**, as measured by **P**, improves with experience **E**.\n",
    "\n",
    "- E ==> When model train on training dataset like spam and ham mails.\n",
    "- T ==> The prediction of an e-mail as spam or ham.\n",
    "- P ==> How well model predict spam verse ham.\n",
    "\n",
    "<img src=\"../images/1.png\" width=\"600\" height=\"600\">\n",
    "<img src=\"../images/2.png\" width=\"600\" height=\"600\">"
   ]
  },
  {
   "cell_type": "markdown",
   "metadata": {},
   "source": [
    "# Q-2\n",
    "## Can you name four types of problems where it shines ??\n",
    "\n",
    "Some of the problems that machine learning shines in:\n",
    "- Voice Recognition [word lile **two**]\n",
    "- Summarize text\n",
    "- Recommendation System\n",
    "- Classification"
   ]
  },
  {
   "cell_type": "markdown",
   "metadata": {},
   "source": [
    "# Q-3\n",
    "## What is a labeled training set ??\n",
    "\n",
    "The machine learning models have different types one of these types is **Supervised Learning** where models have some of the training examples to learn from and we till the model the answer for each of them in the training set, we called these answers are labeled training set."
   ]
  },
  {
   "cell_type": "markdown",
   "metadata": {},
   "source": [
    "# Q-4\n",
    "## What are the two most common supervised tasks??\n",
    "\n",
    "As we talked above the ml have different types one of them is **Supervised** and the supervised its self contain two main types or solve two popular problem which are **Linear Regression** and **Classification or Logistic Regression**\n",
    "- Linear Regression\n",
    "- Logistic Regression"
   ]
  },
  {
   "cell_type": "markdown",
   "metadata": {},
   "source": [
    "# Q-5\n",
    "## Can you name four common unsupevised tasks??\n",
    "\n",
    "The ml models as contain **supervised Learning** it also contain type which is **Unsupervised Learning**, it's about let the model learn without any labeled data, and the unsupervised learning solve different tasks:\n",
    "- Anomaly Detection & novelty detection\n",
    "- Visualization & Dimensionality Reduction\n",
    "- Clustering\n",
    "- Association rule learning"
   ]
  },
  {
   "cell_type": "markdown",
   "metadata": {},
   "source": [
    "# Q-6\n",
    "## What type of machine learning algorithm would you use to allow a robot to walk in various unknown terrains??\n",
    "\n",
    "- Reinforcement learning"
   ]
  },
  {
   "cell_type": "markdown",
   "metadata": {},
   "source": [
    "# Q-7\n",
    "## What type of algorithm would you use to segment your customers into multiple groups??\n",
    "\n",
    "- Unsupervised Learning Approach using **Clustering Algorithm**"
   ]
  },
  {
   "cell_type": "markdown",
   "metadata": {},
   "source": [
    "# Q-8\n",
    "## WShould you frame the problem of spam detection is supervised learning problem or an unsupervised learning problem??\n",
    "\n",
    "The problem is the **Supervised Learning** problem because it depends on other training sets you have labeled before of flag another task."
   ]
  },
  {
   "cell_type": "markdown",
   "metadata": {
    "collapsed": true
   },
   "source": [
    "# Q-9\n",
    "## What is the online learning System??\n",
    "\n",
    "Before we start with an online learning system we need to know which the other approach of a system which is the **Batch Learning** in the system work like that, the model start to learn from all available data then take the weights and put the model to production and like this models, should be trained from scratch if your system starts to deal with another type of data, and like this process is consuming your CPU, i/o, network, and other resource and actually a lot of time with each new types of data you need to run the model from scratch on old and new data.\n",
    "\n",
    "Instead of the previous case which is **offline Learning** we can run the model to work incrementally with the new data, by feeding the data sequentially, either one instance for each time or group of data which is called mini-batch, this type of work is so good to work with because the system is still updating your parameters online as a new type of data coming and here should we take care of our **learning rate** to be suitable not increase the weights in high or decreasing in low, should we make the trade-off here because it will affect our system in production mode."
   ]
  },
  {
   "cell_type": "markdown",
   "metadata": {
    "collapsed": true
   },
   "source": [
    "# Q-10\n",
    "## What is the out-of-core learning System??\n",
    "\n",
    "It's about the Batch Learning but in the case that we can not deal with a huge amount of data which can not be feeding to our memory, or the resource we have, so in like this case online learning can dealing with, if we have a simple resource because its run mini-batch, and here is the model runs training step on the data and repeats the process until it has run all of the data.\n",
    "\n"
   ]
  },
  {
   "cell_type": "markdown",
   "metadata": {},
   "source": [
    "# Q-11\n",
    "## What is the type of algorithm relies on similarity measure to make prediction. ??\n",
    "This type is:\n",
    "- Instance-Base Learning\n",
    "\n",
    "This work as we can imagine that, some of the spam e-mail contains some of the words common in, and the new e-mail will be generalised as spam if the similarity of the new email with olds spams one are common of the words in. and the other architecture is what we hear the model-based learning."
   ]
  },
  {
   "cell_type": "markdown",
   "metadata": {},
   "source": [
    "# Q-12\n",
    "## What is the difference between model parameters and learning algorithm hyperparameters??\n",
    "\n",
    "We can simplify this by that, model parameters that something the model control of and by learning on the data the model change these values to the values that fit very well on the data, other ones which are the hyperparameters are those you need to set before the model run on the training data and you should fine-tune these hyperparameters very well."
   ]
  },
  {
   "cell_type": "markdown",
   "metadata": {},
   "source": [
    "# Q-13\n",
    "## What do model-based learning search for? what is the most common strategy they use to succeed? how they make prediction??\n",
    "\n",
    "The model-based search for the pattern in the data by updates the weights of the model for each time in the learning on the training data, and it follows the strategy that, these weights that updates by the model should decrease or minimize the cost function for the future prediction when model be on the production, at the end we save these weights which minimize the cost function to the global minium on the new data."
   ]
  },
  {
   "cell_type": "markdown",
   "metadata": {},
   "source": [
    "# Q-14\n",
    "## Can you name four of the main challenge in machine learning??\n",
    "\n",
    "The two things that can go wrong are **bad algorithm** and **bad data** for bad data:\n",
    "\n",
    "- Insufficient quantity of the training data.\n",
    "    - Model not like child can learn by some of the example the dads talking about, its need thousands or millions of examples.\n",
    "- Nonpresentive training data\n",
    "    - Data do not representative new types of data or not all samples of the whole data.\n",
    "- Poor Data.\n",
    "    - When your data is full of outliers, errors, and noise.\n",
    "- Relevant attributes or features.\n",
    "    - A model with irrelevant features can lead the model to bad predictions in the future. \n",
    "    \n",
    "*bad algorithm* is this leading to overfitting and underfitting problems."
   ]
  },
  {
   "cell_type": "markdown",
   "metadata": {},
   "source": [
    "# Q-15\n",
    "## if your model performs great on the training data but generalizes poorly to new instances, what is happening? Can you name three possible solutions???\n",
    "\n",
    "This problem is called Overfitting problem, which the model work well on the training data and fit the training data very well but can not genrlize the learning so in the testing data the error being large, we can handle like these problem:\n",
    "\n",
    "- Select a model with fewer parameters. \n",
    "- Increase the size of the training dataset.\n",
    "- Fix data errors and remove outliers.\n",
    "- Make a regularization part for the model to reduce the risk of overfitting.\n",
    "- Ignore some of the features or features selection.\n",
    "\n"
   ]
  },
  {
   "cell_type": "markdown",
   "metadata": {},
   "source": [
    "# Q-16\n",
    "## What is a test set and why would you want to use it ???\n",
    "\n",
    "The test set is the part we evaluate the model on before we launch to production, we can not know how our model is by the words, we should evaluate the model on the test set which have not seen before to ensure that the model can work on the production."
   ]
  },
  {
   "cell_type": "markdown",
   "metadata": {},
   "source": [
    "# Q-17\n",
    "## What is the purpose of a validation set ???\n",
    "\n",
    "A validation set is used to compare models. It makes it possible to select the best model and tune the hyperparameters.\n",
    "\n",
    "Its when the test set is not enough in the case of having a different model that works well on the problem, the validation set helps me decide which of the model should use.\n",
    "\n",
    "The holdout validation is the way we hold out part of the training set to evaluate several models and select the best one, the new held-out set is the validation set or called development set or dev set, then train you best model on, then training the model on the full training set after tuning your hyperparameters on dev set, then you also should test your model by the test set.\n",
    "\n",
    "\n"
   ]
  },
  {
   "cell_type": "markdown",
   "metadata": {},
   "source": [
    "# Q-18\n",
    "## What can go wrong if you tune hyperparameters using the test set???\n",
    "\n",
    "We can not knowing how well our model will work in the real-life or production.\n",
    "\n",
    "\n",
    "\n",
    "The train-dev set is used when there is a risk of mismatch between the training data and the data used in the validation and test dataset( Which should always be as close as possible to the data used once the model is in production).\n",
    "\n",
    "The train-dev set is a part of the training set that's held out (the model is not trained on it).\n",
    "\n",
    "The model is trained on the rest of the training set and evaluated on both the train-dev set and the test( called also validation set).\n",
    "\n",
    "If the model performs well on the training set, but not on the train-dev set, then the model is likely to overfit the training set.\n",
    "\n",
    "If the model performs well on both the training set and train-dev set, but not on the test(validation) set, then there is probably a significant data mismatch between the training data and the validation + test data, and you should improve the training data to make it look more like the validation + test data."
   ]
  },
  {
   "cell_type": "markdown",
   "metadata": {},
   "source": [
    "# Q-19\n",
    "## What is cross-validation and why would you prefer it to a validation set ???\n",
    "\n",
    "Is a way that the model test on all the dataset by divide the data into many small validation sets, each model is evaluated once per validation set after it is trained on the rest of the data.\n",
    "\n",
    "If you tune hyperparameters using the test set, you risk overfitting the test set, and the generalization error you measure will be optimistic. So you may launch a model that performs worse than expected."
   ]
  },
  {
   "cell_type": "code",
   "execution_count": null,
   "metadata": {
    "collapsed": true
   },
   "outputs": [],
   "source": []
  },
  {
   "cell_type": "code",
   "execution_count": null,
   "metadata": {
    "collapsed": true
   },
   "outputs": [],
   "source": []
  }
 ],
 "metadata": {
  "kernelspec": {
   "display_name": "Python 3",
   "language": "python",
   "name": "python3"
  },
  "language_info": {
   "codemirror_mode": {
    "name": "ipython",
    "version": 3
   },
   "file_extension": ".py",
   "mimetype": "text/x-python",
   "name": "python",
   "nbconvert_exporter": "python",
   "pygments_lexer": "ipython3",
   "version": "3.6.3"
  }
 },
 "nbformat": 4,
 "nbformat_minor": 2
}
