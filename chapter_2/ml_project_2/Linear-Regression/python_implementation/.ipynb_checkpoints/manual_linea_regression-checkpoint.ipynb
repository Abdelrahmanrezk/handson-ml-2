{
 "cells": [
  {
   "cell_type": "markdown",
   "metadata": {},
   "source": [
    "# 1-Programming Exercise 1: Linear Regression Coursera\n",
    "\n",
    "## Manual Linea Regression"
   ]
  },
  {
   "cell_type": "markdown",
   "metadata": {},
   "source": [
    "#  Introduction \n",
    "\n",
    "### The task realted to implement linear regression with one variable to predict profits for a food truck.\n",
    "\n",
    "### This Task is related to Coursera Machine Learning Course by Andrew NG, but implemnted in Python.\n",
    "\n",
    "**Most text used in this notebook from ex1.pdf of Coursera**\n",
    "\n",
    "**Look at ex1.pdf to get more intuition about the task**\n",
    "\n",
    "**The task will be implemented in three ways and three notebooks and it all about linear regression**\n",
    "\n",
    "- As manual code which pure code.\n",
    "- Using Sklearn library\n",
    "- Using Tensflow & Keras\n",
    "\n",
    "###  linear regression with one variable\n",
    "\n",
    "In this part of this exercise,  we will implement linear regression with one variable to predict profits for a food truck.\n",
    "\n",
    "## Most of code is written to be clean and enhancing with functions"
   ]
  },
  {
   "cell_type": "markdown",
   "metadata": {},
   "source": [
    "##  Importing libraries"
   ]
  },
  {
   "cell_type": "code",
   "execution_count": 1,
   "metadata": {
    "collapsed": true
   },
   "outputs": [],
   "source": [
    "import pandas as pd\n",
    "import numpy as np\n",
    "import matplotlib.pyplot as plt\n",
    "\n",
    "%matplotlib inline"
   ]
  },
  {
   "cell_type": "markdown",
   "metadata": {},
   "source": [
    "##  Handling file\n",
    "\n",
    "I would like to change the data from txt to be in csv file.\n",
    "\n",
    "**You can find these csv files at csv_files direction.**\n"
   ]
  },
  {
   "cell_type": "code",
   "execution_count": 2,
   "metadata": {
    "collapsed": true
   },
   "outputs": [],
   "source": [
    "def from_txt_to_csv(file_name, cols_names):\n",
    "    '''\n",
    "    Argument:\n",
    "        file_path that you need to convert to csv file\n",
    "        cols_names if you would like to saved with columns names\n",
    "    return:\n",
    "        True if no error occured of saved operations\n",
    "    '''\n",
    "# read the txt file with columns name and save as csv file\n",
    "    try:\n",
    "        read_file = pd.read_csv ('z/'+ file_name + '.txt', names=cols_names) \n",
    "        read_file.to_csv ('csv_files/' + file_name + '.csv', index=None)\n",
    "# if there is any error print it in separate file in dir logs_files\n",
    "    except Exception as e:\n",
    "        file = open(\"log_files/from_txt_to_csv.log\",\"+a\")\n",
    "        file.write(\"This error related to function from_txt_to_csv function of manual_linea_regression notebook\\n\" \n",
    "                   + str(e) + \"\\n\" + \"#\" *99 + \"\\n\") # \"#\" *99 as separated lines\n",
    "    return True"
   ]
  },
  {
   "cell_type": "code",
   "execution_count": 3,
   "metadata": {},
   "outputs": [
    {
     "data": {
      "text/plain": [
       "True"
      ]
     },
     "execution_count": 3,
     "metadata": {},
     "output_type": "execute_result"
    }
   ],
   "source": [
    "# create columns name for our data\n",
    "cols = ['city_population', 'food_truck_profit']\n",
    "# call the function\n",
    "from_txt_to_csv('ex1data1', cols)"
   ]
  },
  {
   "cell_type": "markdown",
   "metadata": {},
   "source": [
    "##  Read the csv file"
   ]
  },
  {
   "cell_type": "code",
   "execution_count": 4,
   "metadata": {},
   "outputs": [
    {
     "data": {
      "text/html": [
       "<div>\n",
       "<style scoped>\n",
       "    .dataframe tbody tr th:only-of-type {\n",
       "        vertical-align: middle;\n",
       "    }\n",
       "\n",
       "    .dataframe tbody tr th {\n",
       "        vertical-align: top;\n",
       "    }\n",
       "\n",
       "    .dataframe thead th {\n",
       "        text-align: right;\n",
       "    }\n",
       "</style>\n",
       "<table border=\"1\" class=\"dataframe\">\n",
       "  <thead>\n",
       "    <tr style=\"text-align: right;\">\n",
       "      <th></th>\n",
       "      <th>city_population</th>\n",
       "      <th>food_truck_profit</th>\n",
       "    </tr>\n",
       "  </thead>\n",
       "  <tbody>\n",
       "    <tr>\n",
       "      <th>0</th>\n",
       "      <td>6.1101</td>\n",
       "      <td>17.5920</td>\n",
       "    </tr>\n",
       "    <tr>\n",
       "      <th>1</th>\n",
       "      <td>5.5277</td>\n",
       "      <td>9.1302</td>\n",
       "    </tr>\n",
       "    <tr>\n",
       "      <th>2</th>\n",
       "      <td>8.5186</td>\n",
       "      <td>13.6620</td>\n",
       "    </tr>\n",
       "  </tbody>\n",
       "</table>\n",
       "</div>"
      ],
      "text/plain": [
       "   city_population  food_truck_profit\n",
       "0           6.1101            17.5920\n",
       "1           5.5277             9.1302\n",
       "2           8.5186            13.6620"
      ]
     },
     "execution_count": 4,
     "metadata": {},
     "output_type": "execute_result"
    }
   ],
   "source": [
    "df_file = pd.read_csv('csv_files/ex1data1.csv')\n",
    "df_file.head(3) # first 3 rows of our data"
   ]
  },
  {
   "cell_type": "markdown",
   "metadata": {},
   "source": [
    "###   Plotting the Data\n",
    "\n",
    "Before  starting  on  any  task,  it  is  often  useful  to  understand  the  data  by visualizing it. But always its complicated because number of features you have so here we just has one feature so its 2d graph."
   ]
  },
  {
   "cell_type": "markdown",
   "metadata": {},
   "source": [
    "### Graph initialize"
   ]
  },
  {
   "cell_type": "code",
   "execution_count": 5,
   "metadata": {
    "collapsed": true
   },
   "outputs": [],
   "source": [
    "def init_2d_graphs(*colors):\n",
    "    '''\n",
    "        Just graph initialize in good way\n",
    "    '''\n",
    "    plt.style.use(colors) # color of your 2d graph\n",
    "    plt.figure(figsize=(10,6)) # set the figure size\n",
    "    return True"
   ]
  },
  {
   "cell_type": "code",
   "execution_count": 6,
   "metadata": {},
   "outputs": [
    {
     "data": {
      "text/plain": [
       "Text(0, 0.5, 'Profit in $10,000s')"
      ]
     },
     "execution_count": 6,
     "metadata": {},
     "output_type": "execute_result"
    },
    {
     "data": {
      "image/png": "[encoded data removed]",
      "text/plain": [
       "<Figure size 720x432 with 1 Axes>"
      ]
     },
     "metadata": {},
     "output_type": "display_data"
    }
   ],
   "source": [
    "# our initialized and graph draw for our dataset\n",
    "x = df_file['city_population'] # x_axis\n",
    "y = df_file['food_truck_profit'] # y_axis\n",
    "\n",
    "# reshape y to be (n,m) of rank-1\n",
    "y = y.values.reshape(len(y),1) # because of type Series we use .values\n",
    "\n",
    "init_2d_graphs('ggplot', 'dark_background' )\n",
    "\n",
    "plt.scatter(x,y, s = 300, c = 'red', marker = 'P', label =  'Training data')\n",
    "plt.title(\"The Relation between \" + 'Population of City in 10,000s' + \" And \" + 'Profit in $10,000s' )\n",
    "plt.legend()\n",
    "plt.xlabel('Population of City in 10,000s')\n",
    "plt.ylabel('Profit in $10,000s')"
   ]
  },
  {
   "cell_type": "markdown",
   "metadata": {},
   "source": [
    "### some static of our data"
   ]
  },
  {
   "cell_type": "code",
   "execution_count": 7,
   "metadata": {},
   "outputs": [
    {
     "data": {
      "text/html": [
       "<div>\n",
       "<style scoped>\n",
       "    .dataframe tbody tr th:only-of-type {\n",
       "        vertical-align: middle;\n",
       "    }\n",
       "\n",
       "    .dataframe tbody tr th {\n",
       "        vertical-align: top;\n",
       "    }\n",
       "\n",
       "    .dataframe thead th {\n",
       "        text-align: right;\n",
       "    }\n",
       "</style>\n",
       "<table border=\"1\" class=\"dataframe\">\n",
       "  <thead>\n",
       "    <tr style=\"text-align: right;\">\n",
       "      <th></th>\n",
       "      <th>city_population</th>\n",
       "      <th>food_truck_profit</th>\n",
       "    </tr>\n",
       "  </thead>\n",
       "  <tbody>\n",
       "    <tr>\n",
       "      <th>count</th>\n",
       "      <td>97.000000</td>\n",
       "      <td>97.000000</td>\n",
       "    </tr>\n",
       "    <tr>\n",
       "      <th>mean</th>\n",
       "      <td>8.159800</td>\n",
       "      <td>5.839135</td>\n",
       "    </tr>\n",
       "    <tr>\n",
       "      <th>std</th>\n",
       "      <td>3.869884</td>\n",
       "      <td>5.510262</td>\n",
       "    </tr>\n",
       "    <tr>\n",
       "      <th>min</th>\n",
       "      <td>5.026900</td>\n",
       "      <td>-2.680700</td>\n",
       "    </tr>\n",
       "    <tr>\n",
       "      <th>25%</th>\n",
       "      <td>5.707700</td>\n",
       "      <td>1.986900</td>\n",
       "    </tr>\n",
       "    <tr>\n",
       "      <th>50%</th>\n",
       "      <td>6.589400</td>\n",
       "      <td>4.562300</td>\n",
       "    </tr>\n",
       "    <tr>\n",
       "      <th>75%</th>\n",
       "      <td>8.578100</td>\n",
       "      <td>7.046700</td>\n",
       "    </tr>\n",
       "    <tr>\n",
       "      <th>max</th>\n",
       "      <td>22.203000</td>\n",
       "      <td>24.147000</td>\n",
       "    </tr>\n",
       "  </tbody>\n",
       "</table>\n",
       "</div>"
      ],
      "text/plain": [
       "       city_population  food_truck_profit\n",
       "count        97.000000          97.000000\n",
       "mean          8.159800           5.839135\n",
       "std           3.869884           5.510262\n",
       "min           5.026900          -2.680700\n",
       "25%           5.707700           1.986900\n",
       "50%           6.589400           4.562300\n",
       "75%           8.578100           7.046700\n",
       "max          22.203000          24.147000"
      ]
     },
     "execution_count": 7,
     "metadata": {},
     "output_type": "execute_result"
    }
   ],
   "source": [
    "df_file.describe()"
   ]
  },
  {
   "cell_type": "markdown",
   "metadata": {},
   "source": [
    "###  Gradient Descent"
   ]
  },
  {
   "cell_type": "markdown",
   "metadata": {},
   "source": [
    "## Implementation Steps\n",
    "\n",
    "first we have x and we need to map it to y\n",
    "- x = Population of City in 10,000s\n",
    "- y = Profit in $10,000s\n",
    "\n",
    "**Hypothesis**\n",
    "\n",
    "- second the hypothesis function is y_hat = theta0 + theta1 * X1 and we initialize X0 = 1 which have no effect on theta0:\n",
    "\n",
    "![alt text](images/hypothesis_linear.png \"hypothesis_linear_function\")\n",
    "\n",
    "- so we need to inilize these theats.\n",
    "\n",
    "**Cost function**\n",
    "\n",
    "\n",
    "- Third the cost function is use m as training example so we need to get the number of our training examples.\n",
    "\n",
    "**Gradient Steps**\n",
    "\n",
    "- Fourth in gradient descent there is another parameters alpha we need to initialize which the learning rate.\n",
    "\n",
    "- Fifth and the last we need to specify the number of iteration will used to iterate and update the parameters:\n",
    "\n",
    "![alt text](images/paramters_updated.png \"paramters_updated\")\n"
   ]
  },
  {
   "cell_type": "markdown",
   "metadata": {},
   "source": [
    "## parameters initialize"
   ]
  },
  {
   "cell_type": "code",
   "execution_count": 8,
   "metadata": {},
   "outputs": [
    {
     "name": "stdout",
     "output_type": "stream",
     "text": [
      "Number of training example:  97\n",
      "######################################################################\n",
      "Theats shape is:  (2, 1)\n",
      "######################################################################\n",
      "Theats values are:  [[0.]\n",
      " [0.]]\n",
      "######################################################################\n",
      "Now X shape is:  (97, 2)\n"
     ]
    }
   ],
   "source": [
    "m = len(x) \n",
    "print(\"Number of training example: \", m)\n",
    "print(\"#\" * 70)\n",
    "Alpha = .01 # learning rate\n",
    "iterations = 1500 # number of gradient descent iterations\n",
    "\n",
    "thetas = np.zeros((2,1)) # initialize threats as 2d array and 2*1 dimension with 0 values\n",
    "print('Theats shape is: ', thetas.shape)\n",
    "print(\"#\" * 70)\n",
    "print('Theats values are: ', thetas)\n",
    "print(\"#\" * 70)\n",
    "\n",
    "# add columns of 1 which is x0 \n",
    "X = np.stack((x, np.ones(m)), axis=1) # create x0 = 1 for each example\n",
    "print(\"Now X shape is: \", X.shape)"
   ]
  },
  {
   "cell_type": "markdown",
   "metadata": {},
   "source": [
    "##  Cost Function\n",
    "\n",
    "\n",
    "**theta is 2 * 1 and X is 97 * 2 so we can multiply X*theta and get 97 * 1**"
   ]
  },
  {
   "cell_type": "code",
   "execution_count": 9,
   "metadata": {
    "collapsed": true
   },
   "outputs": [],
   "source": [
    "def cost_function(thetas,x,m,y):\n",
    "    '''\n",
    "    Arguments:\n",
    "        thetas the paramter we need to minimize of shape 2*1\n",
    "        x the features of our dataset 97*2\n",
    "        m number of training examples\n",
    "        y is output we need to predict\n",
    "    return:\n",
    "        cost function as total squared cost of our predicted values h_x and the real values y\n",
    "    '''\n",
    "# y_hat = theta0 * x0 + theta1 * x1 and with vectorized will be x = 97*2 * theta =  2*1\n",
    "    y_hat = np.matmul(x,thetas) # hypothesis function\n",
    "\n",
    "# get the cost function\n",
    "    cost_function = (1/(2*m)) * np.sum(np.square(y_hat - y))\n",
    "    return cost_function"
   ]
  },
  {
   "cell_type": "code",
   "execution_count": 10,
   "metadata": {},
   "outputs": [
    {
     "name": "stdout",
     "output_type": "stream",
     "text": [
      "The cost funtion of our training data is:  32.072733877455676\n"
     ]
    }
   ],
   "source": [
    "J = cost_function(thetas, X, m, y)\n",
    "print(\"The cost funtion of our training data is: \", J)"
   ]
  },
  {
   "cell_type": "markdown",
   "metadata": {},
   "source": [
    "## 1.8 Gradient descent\n",
    "\n",
    "Next, we will implement gradient descent.\n",
    "\n",
    "### Remember the  Gradient descent is:\n",
    "\n",
    "![alt text](images/paramters_updated.png \"paramters_updated\")\n",
    "\n",
    "**NOTE !!**\n",
    "\n",
    "Its usful to undrstand that graident descent work as optimization Algorithm that for each number of iteration looks at you cost function and for each iteration trying to minimize it by set the thetas paramters that help fitting the best line to the data."
   ]
  },
  {
   "cell_type": "code",
   "execution_count": 11,
   "metadata": {
    "collapsed": true
   },
   "outputs": [],
   "source": [
    "def gradient_descent(thetas,x,m,y, learning_rate):\n",
    "    '''\n",
    "    Arguments:\n",
    "        thetas the paramter we need to minimize of shape 2*1\n",
    "        x the eatures of our dataset 97*2\n",
    "        m number of training examples\n",
    "        y is output we need to predict\n",
    "        learning rate is alpha which inilized above as .01\n",
    "    return:\n",
    "        cost function as total squared cost of our predicted values h_x and the real values y\n",
    "    '''\n",
    "# y_hat = theta0 * x0 + theta1 * x1 and with vectorized will be x = 97*2 * theta =  2*1\n",
    "    y_hat = np.matmul(x,thetas)\n",
    "\n",
    "# y_hat = 97*1 - y = 97*1 will be 97*1 and multiply by x which 97*2 so need to transpose to be 1*97 and x 97*2\n",
    "    cost = np.matmul(np.transpose(y_hat-y), x)\n",
    "    grad =((learning_rate/m) * cost)\n",
    "    \n",
    "# return the gradient but transposed to be 2*1 instead of 1*2 to that maps to theta dimensions\n",
    "    return grad.T"
   ]
  },
  {
   "cell_type": "code",
   "execution_count": 12,
   "metadata": {},
   "outputs": [
    {
     "name": "stdout",
     "output_type": "stream",
     "text": [
      "instead of Thetas as zero now thetas paramters after just 1 iteration is:  [[-0.6532885 ]\n",
      " [-0.05839135]]\n"
     ]
    }
   ],
   "source": [
    "grad = gradient_descent(thetas, X, m, y, Alpha)\n",
    "print(\"instead of Thetas as zero now thetas paramters after just 1 iteration is: \", grad)"
   ]
  },
  {
   "cell_type": "code",
   "execution_count": 13,
   "metadata": {
    "collapsed": true
   },
   "outputs": [],
   "source": [
    "def linear_regression_model(thetas, x, m, y, learning_rate, num_of_iterations):\n",
    "    '''\n",
    "    Arguments:\n",
    "        thetas the paramter we need to minimize of shape 2*1\n",
    "        x the eatures of our dataset 97*2\n",
    "        m number of training examples\n",
    "        y is output we need to predict\n",
    "        learning rate is alpha which inilized above as .01\n",
    "        num_of_iterations you need to minimize the cost function\n",
    "    return:\n",
    "        cost function as total squared cost of our predicted values h_x and the real values y\n",
    "    '''\n",
    "    costs = []\n",
    "    all_theta = []\n",
    "    for i in range(num_of_iterations):\n",
    "        J = cost_function(thetas, x, m, y)\n",
    "        all_theta.append(thetas)\n",
    "        costs.append(J)\n",
    "# get new values of theta as gradient descent step\n",
    "        grad = gradient_descent(thetas, x, m , y, learning_rate)\n",
    "\n",
    "# update theta so if grad is negative the theta will increase otherwise will decrease\n",
    "        thetas = thetas - grad\n",
    "\n",
    "    return costs, thetas, all_theta"
   ]
  },
  {
   "cell_type": "code",
   "execution_count": 14,
   "metadata": {
    "collapsed": true
   },
   "outputs": [],
   "source": [
    "all_cost, last_thetas, all_theta = linear_regression_model(thetas, X, m, y, Alpha, iterations)"
   ]
  },
  {
   "cell_type": "code",
   "execution_count": 15,
   "metadata": {},
   "outputs": [
    {
     "name": "stdout",
     "output_type": "stream",
     "text": [
      "Our cost function after 1500 iterations is:  4.483388256587725\n"
     ]
    }
   ],
   "source": [
    "J = cost_function(last_thetas, X, m, y)\n",
    "print(\"Our cost function after 1500 iterations is: \", J)"
   ]
  },
  {
   "cell_type": "code",
   "execution_count": 16,
   "metadata": {},
   "outputs": [
    {
     "name": "stdout",
     "output_type": "stream",
     "text": [
      "Our Prediction 1 [11.53965769]\n",
      "Second Prediction [24.24567773]\n"
     ]
    }
   ],
   "source": [
    "predict1 = np.abs(np.matmul([1, 3.5],last_thetas))\n",
    "predict2 = np.abs(np.matmul([1, 7],last_thetas))\n",
    "print(\"Our Prediction 1\", predict1)\n",
    "print(\"Second Prediction\", predict2)"
   ]
  },
  {
   "cell_type": "markdown",
   "metadata": {},
   "source": [
    "## Graphs of different fitting line at different values of parameters"
   ]
  },
  {
   "cell_type": "code",
   "execution_count": 17,
   "metadata": {},
   "outputs": [
    {
     "data": {
      "text/plain": [
       "Text(0, 0.5, 'Profit in $10,000s')"
      ]
     },
     "execution_count": 17,
     "metadata": {},
     "output_type": "execute_result"
    },
    {
     "data": {
      "image/png": "[encoded data removed]",
      "text/plain": [
       "<Figure size 720x432 with 1 Axes>"
      ]
     },
     "metadata": {},
     "output_type": "display_data"
    }
   ],
   "source": [
    "# Plot the graph with first 4 values of thetas and last values of thetas\n",
    "\n",
    "init_2d_graphs('ggplot', 'dark_background' ) # initialize graphics size\n",
    "for i in range(4):\n",
    "    y_hat = np.matmul(X, all_theta[i])\n",
    "    plt.plot(x, y_hat, label='predict ' + str(i+1), linewidth=3)\n",
    "y_hat = np.matmul(X, last_thetas)\n",
    "plt.plot(x, y_hat, label= 'last predict',linewidth=2)\n",
    "plt.scatter(x,y, s = 200, c = 'yellow', marker = 'X', label =  'Training data')\n",
    "plt.title(\"The Relation between \" + 'Population of City in 10,000s' + \" And \" + 'Profit in $10,000s' )\n",
    "plt.legend()\n",
    "plt.xlabel('Population of City in 10,000s')\n",
    "plt.ylabel('Profit in $10,000s')\n"
   ]
  },
  {
   "cell_type": "markdown",
   "metadata": {},
   "source": [
    "## Cost function graph\n",
    "\n",
    "after we see how the fitting line on our data its usful to see how cost function decreased with differnt steps of gradient descent."
   ]
  },
  {
   "cell_type": "code",
   "execution_count": 18,
   "metadata": {},
   "outputs": [
    {
     "data": {
      "text/plain": [
       "<matplotlib.legend.Legend at 0x7f3871a67400>"
      ]
     },
     "execution_count": 18,
     "metadata": {},
     "output_type": "execute_result"
    },
    {
     "data": {
      "image/png": "[encoded data removed]",
      "text/plain": [
       "<Figure size 720x432 with 1 Axes>"
      ]
     },
     "metadata": {},
     "output_type": "display_data"
    }
   ],
   "source": [
    "init_2d_graphs() # initialize graphics size\n",
    "plt.plot(np.arange(iterations), all_cost, 'r', label='Cost Functions', linewidth=2) \n",
    "plt.xlabel(\"Iterations\")\n",
    "plt.ylabel(\"Cost Function\")\n",
    "plt.title('Error vs. Training Iterations')\n",
    "plt.legend()"
   ]
  },
  {
   "cell_type": "markdown",
   "metadata": {},
   "source": [
    "### Note\n",
    "**as you can see in graph above its will be fine to stop after 400 or 600 iterations because it has a small decrease**"
   ]
  },
  {
   "cell_type": "markdown",
   "metadata": {},
   "source": [
    "# Now it's time for multiple variables of Linear Regression\n",
    "\n",
    "In this part, we will implement linear regression with multiple variables to predict  the  prices  of  houses.\n",
    "\n",
    "**The same process done as above but because of its now has more than one features so ignore some graphs because of 3d dimension**"
   ]
  },
  {
   "cell_type": "markdown",
   "metadata": {},
   "source": [
    "## Handling file\n",
    "\n",
    "**As step above**"
   ]
  },
  {
   "cell_type": "code",
   "execution_count": 19,
   "metadata": {},
   "outputs": [
    {
     "data": {
      "text/html": [
       "<div>\n",
       "<style scoped>\n",
       "    .dataframe tbody tr th:only-of-type {\n",
       "        vertical-align: middle;\n",
       "    }\n",
       "\n",
       "    .dataframe tbody tr th {\n",
       "        vertical-align: top;\n",
       "    }\n",
       "\n",
       "    .dataframe thead th {\n",
       "        text-align: right;\n",
       "    }\n",
       "</style>\n",
       "<table border=\"1\" class=\"dataframe\">\n",
       "  <thead>\n",
       "    <tr style=\"text-align: right;\">\n",
       "      <th></th>\n",
       "      <th>house_size</th>\n",
       "      <th>number_of_bedrooms</th>\n",
       "      <th>house_price</th>\n",
       "    </tr>\n",
       "  </thead>\n",
       "  <tbody>\n",
       "    <tr>\n",
       "      <th>0</th>\n",
       "      <td>2104</td>\n",
       "      <td>3</td>\n",
       "      <td>399900</td>\n",
       "    </tr>\n",
       "    <tr>\n",
       "      <th>1</th>\n",
       "      <td>1600</td>\n",
       "      <td>3</td>\n",
       "      <td>329900</td>\n",
       "    </tr>\n",
       "    <tr>\n",
       "      <th>2</th>\n",
       "      <td>2400</td>\n",
       "      <td>3</td>\n",
       "      <td>369000</td>\n",
       "    </tr>\n",
       "    <tr>\n",
       "      <th>3</th>\n",
       "      <td>1416</td>\n",
       "      <td>2</td>\n",
       "      <td>232000</td>\n",
       "    </tr>\n",
       "    <tr>\n",
       "      <th>4</th>\n",
       "      <td>3000</td>\n",
       "      <td>4</td>\n",
       "      <td>539900</td>\n",
       "    </tr>\n",
       "  </tbody>\n",
       "</table>\n",
       "</div>"
      ],
      "text/plain": [
       "   house_size  number_of_bedrooms  house_price\n",
       "0        2104                   3       399900\n",
       "1        1600                   3       329900\n",
       "2        2400                   3       369000\n",
       "3        1416                   2       232000\n",
       "4        3000                   4       539900"
      ]
     },
     "execution_count": 19,
     "metadata": {},
     "output_type": "execute_result"
    }
   ],
   "source": [
    "# create columns name for our data\n",
    "cols = ['house_size', 'number_of_bedrooms', 'house_price']\n",
    "# call the function\n",
    "from_txt_to_csv('ex1data2', cols)\n",
    "df_file = pd.read_csv('csv_files/ex1data2.csv')\n",
    "#now you can see the data after convert to csv with columns name\n",
    "df_file.head()"
   ]
  },
  {
   "cell_type": "code",
   "execution_count": 20,
   "metadata": {},
   "outputs": [
    {
     "data": {
      "text/html": [
       "<div>\n",
       "<style scoped>\n",
       "    .dataframe tbody tr th:only-of-type {\n",
       "        vertical-align: middle;\n",
       "    }\n",
       "\n",
       "    .dataframe tbody tr th {\n",
       "        vertical-align: top;\n",
       "    }\n",
       "\n",
       "    .dataframe thead th {\n",
       "        text-align: right;\n",
       "    }\n",
       "</style>\n",
       "<table border=\"1\" class=\"dataframe\">\n",
       "  <thead>\n",
       "    <tr style=\"text-align: right;\">\n",
       "      <th></th>\n",
       "      <th>house_size</th>\n",
       "      <th>number_of_bedrooms</th>\n",
       "      <th>house_price</th>\n",
       "    </tr>\n",
       "  </thead>\n",
       "  <tbody>\n",
       "    <tr>\n",
       "      <th>count</th>\n",
       "      <td>47.000000</td>\n",
       "      <td>47.000000</td>\n",
       "      <td>47.000000</td>\n",
       "    </tr>\n",
       "    <tr>\n",
       "      <th>mean</th>\n",
       "      <td>2000.680851</td>\n",
       "      <td>3.170213</td>\n",
       "      <td>340412.659574</td>\n",
       "    </tr>\n",
       "    <tr>\n",
       "      <th>std</th>\n",
       "      <td>794.702354</td>\n",
       "      <td>0.760982</td>\n",
       "      <td>125039.899586</td>\n",
       "    </tr>\n",
       "    <tr>\n",
       "      <th>min</th>\n",
       "      <td>852.000000</td>\n",
       "      <td>1.000000</td>\n",
       "      <td>169900.000000</td>\n",
       "    </tr>\n",
       "    <tr>\n",
       "      <th>25%</th>\n",
       "      <td>1432.000000</td>\n",
       "      <td>3.000000</td>\n",
       "      <td>249900.000000</td>\n",
       "    </tr>\n",
       "    <tr>\n",
       "      <th>50%</th>\n",
       "      <td>1888.000000</td>\n",
       "      <td>3.000000</td>\n",
       "      <td>299900.000000</td>\n",
       "    </tr>\n",
       "    <tr>\n",
       "      <th>75%</th>\n",
       "      <td>2269.000000</td>\n",
       "      <td>4.000000</td>\n",
       "      <td>384450.000000</td>\n",
       "    </tr>\n",
       "    <tr>\n",
       "      <th>max</th>\n",
       "      <td>4478.000000</td>\n",
       "      <td>5.000000</td>\n",
       "      <td>699900.000000</td>\n",
       "    </tr>\n",
       "  </tbody>\n",
       "</table>\n",
       "</div>"
      ],
      "text/plain": [
       "        house_size  number_of_bedrooms    house_price\n",
       "count    47.000000           47.000000      47.000000\n",
       "mean   2000.680851            3.170213  340412.659574\n",
       "std     794.702354            0.760982  125039.899586\n",
       "min     852.000000            1.000000  169900.000000\n",
       "25%    1432.000000            3.000000  249900.000000\n",
       "50%    1888.000000            3.000000  299900.000000\n",
       "75%    2269.000000            4.000000  384450.000000\n",
       "max    4478.000000            5.000000  699900.000000"
      ]
     },
     "execution_count": 20,
     "metadata": {},
     "output_type": "execute_result"
    }
   ],
   "source": [
    "df_file.describe()"
   ]
  },
  {
   "cell_type": "markdown",
   "metadata": {},
   "source": [
    "## features normalization or Data Scaling\n",
    "\n",
    "**Its important step to make the values of different features within spceific range because it help you in:**\n",
    "\n",
    "- Avoid NAN values because numbers in operations of multiplication\n",
    "- its help the machine to deal with numbers within range than different ranges and the operations be less cost\n",
    "\n",
    "**try to comment the line of calling function features_normalization_with_std and see result of how its affect.**\n",
    "\n",
    "![alt text](images/nan.png \"Nan Value\")\n",
    "\n",
    "\n",
    "**Two function implemented for feature scaling choose any of them**"
   ]
  },
  {
   "cell_type": "code",
   "execution_count": 21,
   "metadata": {
    "collapsed": true
   },
   "outputs": [],
   "source": [
    "def features_normalization_with_std(X):\n",
    "    '''\n",
    "        Normalize the data via standard deviation\n",
    "    '''\n",
    "    X= (X - np.mean(X)) / np.std(X)\n",
    "    return X"
   ]
  },
  {
   "cell_type": "code",
   "execution_count": 22,
   "metadata": {
    "collapsed": true
   },
   "outputs": [],
   "source": [
    "def features_normalization_with_min_max(X):\n",
    "    '''\n",
    "        Normalize the data via min max approach\n",
    "    '''\n",
    "    X = (X - np.mean(X)) / (np.max(X) - np.min(X))\n",
    "    return X"
   ]
  },
  {
   "cell_type": "code",
   "execution_count": 23,
   "metadata": {
    "collapsed": true
   },
   "outputs": [],
   "source": [
    "df_file = features_normalization_with_std(df_file)"
   ]
  },
  {
   "cell_type": "code",
   "execution_count": 24,
   "metadata": {},
   "outputs": [
    {
     "name": "stdout",
     "output_type": "stream",
     "text": [
      "(47, 2)\n",
      "################################################################################\n",
      "Number of training example:  47\n",
      "################################################################################\n",
      "Theats shape is:  (3, 1)\n",
      "################################################################################\n",
      "Theats values are:  [[0.]\n",
      " [0.]\n",
      " [0.]]\n",
      "################################################################################\n",
      "Now X shape is:  (47, 3)\n"
     ]
    }
   ],
   "source": [
    "x = np.array(df_file.iloc[:, :2])# get the 2 features columns)\n",
    "y = df_file['house_price'] # the real output \n",
    "\n",
    "# # because y is shape (97,) whcih rank of 0 and we need to be (97,1) to subtract from y_hat\n",
    "y = y.values.reshape(len(y),1) # because of type Series we use .values\n",
    "\n",
    "# variables and parameters initialize\n",
    "all_cost = []\n",
    "m = len(y) \n",
    "print(x.shape)\n",
    "print(\"#\"*80)\n",
    "print(\"Number of training example: \", m)\n",
    "print(\"#\"*80)\n",
    "Alpha = .1 # learning rate\n",
    "iterations = 100 # number of gradient descent iterations\n",
    "thetas = np.zeros((3,1)) # initialize threats as 2d array and 2*1 dimension with 0 values\n",
    "print('Theats shape is: ', thetas.shape)\n",
    "print(\"#\"*80)\n",
    "print('Theats values are: ', thetas)\n",
    "print(\"#\"*80)\n",
    "X = np.column_stack((x,np.ones(len(y))))\n",
    "print(\"Now X shape is: \", X.shape)"
   ]
  },
  {
   "cell_type": "code",
   "execution_count": 25,
   "metadata": {},
   "outputs": [
    {
     "name": "stdout",
     "output_type": "stream",
     "text": [
      "Now the first 5 rows of x values are:  [[ 0.13141542 -0.22609337  1.        ]\n",
      " [-0.5096407  -0.22609337  1.        ]\n",
      " [ 0.5079087  -0.22609337  1.        ]\n",
      " [-0.74367706 -1.5543919   1.        ]\n",
      " [ 1.27107075  1.10220517  1.        ]]\n"
     ]
    }
   ],
   "source": [
    "print(\"Now the first 5 rows of x values are: \", X[:5, :])"
   ]
  },
  {
   "cell_type": "markdown",
   "metadata": {},
   "source": [
    "## call the Cost Function"
   ]
  },
  {
   "cell_type": "code",
   "execution_count": 26,
   "metadata": {},
   "outputs": [
    {
     "name": "stdout",
     "output_type": "stream",
     "text": [
      "The cost funtion after data scaling is:  0.5000000000000001\n"
     ]
    }
   ],
   "source": [
    "J = cost_function(thetas, X, m, y)\n",
    "print(\"The cost funtion after data scaling is: \", J)"
   ]
  },
  {
   "cell_type": "markdown",
   "metadata": {},
   "source": [
    "## 2.4 call the gradient descent"
   ]
  },
  {
   "cell_type": "code",
   "execution_count": 27,
   "metadata": {},
   "outputs": [
    {
     "name": "stdout",
     "output_type": "stream",
     "text": [
      "instead of Thetas as zero now thetas paramters after just 1 iteration is:  [[-8.54987593e-02]\n",
      " [-4.42261117e-02]\n",
      " [ 1.03935773e-17]]\n"
     ]
    }
   ],
   "source": [
    "grad = gradient_descent(thetas, X, m, y, Alpha)\n",
    "print(\"instead of Thetas as zero now thetas paramters after just 1 iteration is: \", grad)"
   ]
  },
  {
   "cell_type": "markdown",
   "metadata": {},
   "source": [
    "##  call the linear_regression_model for multiple of iterations"
   ]
  },
  {
   "cell_type": "code",
   "execution_count": 28,
   "metadata": {
    "collapsed": true
   },
   "outputs": [],
   "source": [
    "all_cost, last_thetas, all_theta = linear_regression_model(grad, X, m, y, Alpha, iterations)"
   ]
  },
  {
   "cell_type": "code",
   "execution_count": 29,
   "metadata": {},
   "outputs": [
    {
     "name": "stdout",
     "output_type": "stream",
     "text": [
      "Our cost function after 1000 iterations without feature scaling:  0.13354050657470815\n"
     ]
    }
   ],
   "source": [
    "J = cost_function(last_thetas, X, m, y)\n",
    "print(\"Our cost function after 1000 iterations without feature scaling: \", J)"
   ]
  },
  {
   "cell_type": "markdown",
   "metadata": {},
   "source": [
    "## 2.5 Cost function graph"
   ]
  },
  {
   "cell_type": "code",
   "execution_count": 30,
   "metadata": {},
   "outputs": [
    {
     "data": {
      "text/plain": [
       "<matplotlib.legend.Legend at 0x7f3871b23160>"
      ]
     },
     "execution_count": 30,
     "metadata": {},
     "output_type": "execute_result"
    },
    {
     "data": {
      "image/png": "[encoded data removed]",
      "text/plain": [
       "<Figure size 720x432 with 1 Axes>"
      ]
     },
     "metadata": {},
     "output_type": "display_data"
    }
   ],
   "source": [
    "init_2d_graphs() # initialize graphics size\n",
    "#np.arange(iters) means from 0 to 1500 iterations\n",
    "plt.plot(np.arange(iterations), all_cost, 'r', label='Cost Functions', linewidth=2) \n",
    "plt.xlabel(\"Iterations\")\n",
    "plt.ylabel(\"Cost Function\")\n",
    "plt.title('Error vs. Training Iterations')\n",
    "plt.legend()"
   ]
  },
  {
   "cell_type": "markdown",
   "metadata": {},
   "source": [
    "## Another with features_normalization_with_min_max"
   ]
  },
  {
   "cell_type": "code",
   "execution_count": 31,
   "metadata": {},
   "outputs": [
    {
     "data": {
      "text/html": [
       "<div>\n",
       "<style scoped>\n",
       "    .dataframe tbody tr th:only-of-type {\n",
       "        vertical-align: middle;\n",
       "    }\n",
       "\n",
       "    .dataframe tbody tr th {\n",
       "        vertical-align: top;\n",
       "    }\n",
       "\n",
       "    .dataframe thead th {\n",
       "        text-align: right;\n",
       "    }\n",
       "</style>\n",
       "<table border=\"1\" class=\"dataframe\">\n",
       "  <thead>\n",
       "    <tr style=\"text-align: right;\">\n",
       "      <th></th>\n",
       "      <th>house_size</th>\n",
       "      <th>number_of_bedrooms</th>\n",
       "      <th>house_price</th>\n",
       "    </tr>\n",
       "  </thead>\n",
       "  <tbody>\n",
       "    <tr>\n",
       "      <th>0</th>\n",
       "      <td>2104</td>\n",
       "      <td>3</td>\n",
       "      <td>399900</td>\n",
       "    </tr>\n",
       "    <tr>\n",
       "      <th>1</th>\n",
       "      <td>1600</td>\n",
       "      <td>3</td>\n",
       "      <td>329900</td>\n",
       "    </tr>\n",
       "    <tr>\n",
       "      <th>2</th>\n",
       "      <td>2400</td>\n",
       "      <td>3</td>\n",
       "      <td>369000</td>\n",
       "    </tr>\n",
       "    <tr>\n",
       "      <th>3</th>\n",
       "      <td>1416</td>\n",
       "      <td>2</td>\n",
       "      <td>232000</td>\n",
       "    </tr>\n",
       "    <tr>\n",
       "      <th>4</th>\n",
       "      <td>3000</td>\n",
       "      <td>4</td>\n",
       "      <td>539900</td>\n",
       "    </tr>\n",
       "  </tbody>\n",
       "</table>\n",
       "</div>"
      ],
      "text/plain": [
       "   house_size  number_of_bedrooms  house_price\n",
       "0        2104                   3       399900\n",
       "1        1600                   3       329900\n",
       "2        2400                   3       369000\n",
       "3        1416                   2       232000\n",
       "4        3000                   4       539900"
      ]
     },
     "execution_count": 31,
     "metadata": {},
     "output_type": "execute_result"
    }
   ],
   "source": [
    "# create columns name for our data\n",
    "cols = ['house_size', 'number_of_bedrooms', 'house_price']\n",
    "# call the function\n",
    "from_txt_to_csv('ex1data2', cols)\n",
    "df_file = pd.read_csv('csv_files/ex1data2.csv')\n",
    "#now you can see the data after convert to csv with columns name\n",
    "df_file.head()"
   ]
  },
  {
   "cell_type": "code",
   "execution_count": 32,
   "metadata": {
    "collapsed": true
   },
   "outputs": [],
   "source": [
    "df_file = features_normalization_with_min_max(df_file)"
   ]
  },
  {
   "cell_type": "code",
   "execution_count": 33,
   "metadata": {},
   "outputs": [
    {
     "name": "stdout",
     "output_type": "stream",
     "text": [
      "(47, 2)\n",
      "################################################################################\n",
      "Number of training example:  47\n",
      "################################################################################\n",
      "Theats shape is:  (3, 1)\n",
      "################################################################################\n",
      "Theats values are:  [[0.]\n",
      " [0.]\n",
      " [0.]]\n",
      "################################################################################\n",
      "Now X shape is:  (47, 3)\n"
     ]
    }
   ],
   "source": [
    "x = np.array(df_file.iloc[:, :2])# get the 2 features columns)\n",
    "y = df_file['house_price'] # the real output \n",
    "\n",
    "# # because y is shape (97,) whcih rank of 0 and we need to be (97,1) to subtract from y_hat\n",
    "y = y.values.reshape(len(y),1) # because of type Series we use .values\n",
    "\n",
    "# variables and parameters initialize\n",
    "all_cost = []\n",
    "m = len(y) \n",
    "print(x.shape)\n",
    "print(\"#\"*80)\n",
    "print(\"Number of training example: \", m)\n",
    "print(\"#\"*80)\n",
    "Alpha = .1 # learning rate\n",
    "iterations = 100 # number of gradient descent iterations\n",
    "thetas = np.zeros((3,1)) # initialize threats as 2d array and 2*1 dimension with 0 values\n",
    "print('Theats shape is: ', thetas.shape)\n",
    "print(\"#\"*80)\n",
    "print('Theats values are: ', thetas)\n",
    "print(\"#\"*80)\n",
    "X = np.column_stack((x,np.ones(len(y))))\n",
    "print(\"Now X shape is: \", X.shape)"
   ]
  },
  {
   "cell_type": "code",
   "execution_count": 34,
   "metadata": {},
   "outputs": [
    {
     "name": "stdout",
     "output_type": "stream",
     "text": [
      "The cost funtion after data scaling is:  0.027238016045482722\n"
     ]
    }
   ],
   "source": [
    "J = cost_function(thetas, X, m, y)\n",
    "print(\"The cost funtion after data scaling is: \", J)"
   ]
  },
  {
   "cell_type": "code",
   "execution_count": 35,
   "metadata": {},
   "outputs": [
    {
     "name": "stdout",
     "output_type": "stream",
     "text": [
      "instead of Thetas as zero now thetas paramters after just 1 iteration is:  [[-4.32682402e-03]\n",
      " [-1.94278977e-03]\n",
      " [ 2.59839431e-18]]\n"
     ]
    }
   ],
   "source": [
    "grad = gradient_descent(thetas, X, m, y, Alpha)\n",
    "print(\"instead of Thetas as zero now thetas paramters after just 1 iteration is: \", grad)"
   ]
  },
  {
   "cell_type": "code",
   "execution_count": 36,
   "metadata": {
    "collapsed": true
   },
   "outputs": [],
   "source": [
    "all_cost, last_thetas, all_theta = linear_regression_model(grad, X, m, y, Alpha, iterations)"
   ]
  },
  {
   "cell_type": "code",
   "execution_count": 37,
   "metadata": {},
   "outputs": [
    {
     "name": "stdout",
     "output_type": "stream",
     "text": [
      "Our cost function after 1000 iterations without feature scaling:  0.014319974217628637\n"
     ]
    }
   ],
   "source": [
    "J = cost_function(last_thetas, X, m, y)\n",
    "print(\"Our cost function after 1000 iterations without feature scaling: \", J)"
   ]
  },
  {
   "cell_type": "code",
   "execution_count": 38,
   "metadata": {},
   "outputs": [
    {
     "data": {
      "text/plain": [
       "<matplotlib.legend.Legend at 0x7f3870f1f668>"
      ]
     },
     "execution_count": 38,
     "metadata": {},
     "output_type": "execute_result"
    },
    {
     "data": {
      "image/png": "[encoded data removed]",
      "text/plain": [
       "<Figure size 720x432 with 1 Axes>"
      ]
     },
     "metadata": {},
     "output_type": "display_data"
    }
   ],
   "source": [
    "init_2d_graphs() # initialize graphics size\n",
    "#np.arange(iters) means from 0 to 1500 iterations\n",
    "plt.plot(np.arange(iterations), all_cost, 'r', label='Cost Functions', linewidth=2) \n",
    "plt.xlabel(\"Iterations\")\n",
    "plt.ylabel(\"Cost Function\")\n",
    "plt.title('Error vs. Training Iterations')\n",
    "plt.legend()"
   ]
  },
  {
   "cell_type": "code",
   "execution_count": null,
   "metadata": {
    "collapsed": true
   },
   "outputs": [],
   "source": []
  }
 ],
 "metadata": {
  "kernelspec": {
   "display_name": "Python 3",
   "language": "python",
   "name": "python3"
  },
  "language_info": {
   "codemirror_mode": {
    "name": "ipython",
    "version": 3
   },
   "file_extension": ".py",
   "mimetype": "text/x-python",
   "name": "python",
   "nbconvert_exporter": "python",
   "pygments_lexer": "ipython3",
   "version": "3.6.3"
  }
 },
 "nbformat": 4,
 "nbformat_minor": 2
}
