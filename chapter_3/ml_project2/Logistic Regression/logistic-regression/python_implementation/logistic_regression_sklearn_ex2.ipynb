{
 "cells": [
  {
   "cell_type": "markdown",
   "metadata": {},
   "source": [
    "# 2-Programming Exercise 2: Logistic Regression Coursera (Classification)\n",
    "\n",
    "### The same task but with sklearn \n",
    "\n",
    "**The first file manual_logistic_regression has some of handling**"
   ]
  },
  {
   "cell_type": "markdown",
   "metadata": {},
   "source": [
    "##  Importing libraries"
   ]
  },
  {
   "cell_type": "code",
   "execution_count": 1,
   "metadata": {},
   "outputs": [
    {
     "name": "stdout",
     "output_type": "stream",
     "text": [
      "Some of positive points\n",
      "       exam_1     exam_2  admitted\n",
      "3  60.182599  86.308552         1\n",
      "4  79.032736  75.344376         1\n",
      "6  61.106665  96.511426         1\n",
      "7  75.024746  46.554014         1\n",
      "8  76.098787  87.420570         1\n",
      "Some of positive points\n",
      "        exam_1     exam_2  admitted\n",
      "0   34.623660  78.024693         0\n",
      "1   30.286711  43.894998         0\n",
      "2   35.847409  72.902198         0\n",
      "5   45.083277  56.316372         0\n",
      "10  95.861555  38.225278         0\n",
      "Theats shape is:  (3, 1)\n",
      "######################################################################\n",
      "Theats values are:  [[0.]\n",
      " [0.]\n",
      " [0.]]\n",
      "######################################################################\n",
      "First 5 values now of the features are:  [[34.62365962 78.02469282  1.        ]\n",
      " [30.28671077 43.89499752  1.        ]\n",
      " [35.84740877 72.90219803  1.        ]\n",
      " [60.18259939 86.3085521   1.        ]\n",
      " [79.03273605 75.34437644  1.        ]]\n",
      "The cost funtion of our training data is:  [[0.69314718]]\n",
      "Instead of Thetas as zero now thetas paramters after just 1 iteration is:  (3, 1)\n",
      "Our cost function after 500 iterations is:  [[0.53005164]]\n",
      "Some of positive points\n",
      "      test_1   test_2  Accepted\n",
      "0  0.051267  0.69956         1\n",
      "1 -0.092742  0.68494         1\n",
      "2 -0.213710  0.69225         1\n",
      "3 -0.375000  0.50219         1\n",
      "4 -0.513250  0.46564         1\n",
      "Some of positive points\n",
      "      test_1   test_2  Accepted\n",
      "58  0.18376  0.93348         0\n",
      "59  0.22408  0.77997         0\n",
      "60  0.29896  0.61915         0\n",
      "61  0.50634  0.75804         0\n",
      "62  0.61578  0.72880         0\n",
      "The cost funtion of our training data is:  [[0.69314718]]\n",
      "Instead of Thetas as zero now thetas paramters after just 1 iteration is:  [[1.87880932e-04]\n",
      " [5.03446395e-04]\n",
      " [1.15013308e-04]\n",
      " [1.83559872e-04]\n",
      " [7.32393391e-05]\n",
      " [8.19244468e-05]\n",
      " [3.93486234e-04]\n",
      " [2.23923907e-05]\n",
      " [1.28600503e-04]\n",
      " [3.09593720e-05]\n",
      " [1.99707467e-04]\n",
      " [4.32983232e-05]\n",
      " [3.38643902e-05]\n",
      " [5.83822078e-05]\n",
      " [4.47629067e-05]\n",
      " [8.47457627e-05]]\n",
      "The cost funtion of our training data is:  [[0.44617382]]\n"
     ]
    }
   ],
   "source": [
    "import pandas as pd\n",
    "import numpy as np\n",
    "import matplotlib.pyplot as plt\n",
    "from sklearn.linear_model import LogisticRegression\n",
    "from manual_logistic_regression import init_2d_graphs,features_normalization_with_std, cost_function\n",
    "from sklearn.linear_model import SGDClassifier\n",
    "from sklearn.metrics import f1_score"
   ]
  },
  {
   "cell_type": "markdown",
   "metadata": {},
   "source": [
    "###  Read CSV file"
   ]
  },
  {
   "cell_type": "code",
   "execution_count": 2,
   "metadata": {},
   "outputs": [
    {
     "data": {
      "text/html": [
       "<div>\n",
       "<style scoped>\n",
       "    .dataframe tbody tr th:only-of-type {\n",
       "        vertical-align: middle;\n",
       "    }\n",
       "\n",
       "    .dataframe tbody tr th {\n",
       "        vertical-align: top;\n",
       "    }\n",
       "\n",
       "    .dataframe thead th {\n",
       "        text-align: right;\n",
       "    }\n",
       "</style>\n",
       "<table border=\"1\" class=\"dataframe\">\n",
       "  <thead>\n",
       "    <tr style=\"text-align: right;\">\n",
       "      <th></th>\n",
       "      <th>exam_1</th>\n",
       "      <th>exam_2</th>\n",
       "      <th>admitted</th>\n",
       "    </tr>\n",
       "  </thead>\n",
       "  <tbody>\n",
       "    <tr>\n",
       "      <td>0</td>\n",
       "      <td>34.623660</td>\n",
       "      <td>78.024693</td>\n",
       "      <td>0</td>\n",
       "    </tr>\n",
       "    <tr>\n",
       "      <td>1</td>\n",
       "      <td>30.286711</td>\n",
       "      <td>43.894998</td>\n",
       "      <td>0</td>\n",
       "    </tr>\n",
       "    <tr>\n",
       "      <td>2</td>\n",
       "      <td>35.847409</td>\n",
       "      <td>72.902198</td>\n",
       "      <td>0</td>\n",
       "    </tr>\n",
       "    <tr>\n",
       "      <td>3</td>\n",
       "      <td>60.182599</td>\n",
       "      <td>86.308552</td>\n",
       "      <td>1</td>\n",
       "    </tr>\n",
       "    <tr>\n",
       "      <td>4</td>\n",
       "      <td>79.032736</td>\n",
       "      <td>75.344376</td>\n",
       "      <td>1</td>\n",
       "    </tr>\n",
       "  </tbody>\n",
       "</table>\n",
       "</div>"
      ],
      "text/plain": [
       "      exam_1     exam_2  admitted\n",
       "0  34.623660  78.024693         0\n",
       "1  30.286711  43.894998         0\n",
       "2  35.847409  72.902198         0\n",
       "3  60.182599  86.308552         1\n",
       "4  79.032736  75.344376         1"
      ]
     },
     "execution_count": 2,
     "metadata": {},
     "output_type": "execute_result"
    }
   ],
   "source": [
    "df_file = pd.read_csv('csv_files/ex2data1.csv')\n",
    "df_file.head()"
   ]
  },
  {
   "cell_type": "code",
   "execution_count": 3,
   "metadata": {},
   "outputs": [
    {
     "name": "stdout",
     "output_type": "stream",
     "text": [
      "Some of positive points\n",
      "       exam_1     exam_2  admitted\n",
      "3  60.182599  86.308552         1\n",
      "4  79.032736  75.344376         1\n",
      "6  61.106665  96.511426         1\n",
      "7  75.024746  46.554014         1\n",
      "8  76.098787  87.420570         1\n"
     ]
    }
   ],
   "source": [
    "positive_points = df_file[df_file['admitted'] == 1]\n",
    "print(\"Some of positive points\\n\", positive_points[:5])"
   ]
  },
  {
   "cell_type": "code",
   "execution_count": 4,
   "metadata": {},
   "outputs": [
    {
     "name": "stdout",
     "output_type": "stream",
     "text": [
      "Some of positive points\n",
      "        exam_1     exam_2  admitted\n",
      "0   34.623660  78.024693         0\n",
      "1   30.286711  43.894998         0\n",
      "2   35.847409  72.902198         0\n",
      "5   45.083277  56.316372         0\n",
      "10  95.861555  38.225278         0\n"
     ]
    }
   ],
   "source": [
    "negative_points = df_file[df_file['admitted'] == 0]\n",
    "print(\"Some of positive points\\n\", negative_points[:5])"
   ]
  },
  {
   "cell_type": "code",
   "execution_count": 5,
   "metadata": {},
   "outputs": [
    {
     "data": {
      "text/plain": [
       "Text(0, 0.5, 'Exam 2 Score')"
      ]
     },
     "execution_count": 5,
     "metadata": {},
     "output_type": "execute_result"
    },
    {
     "data": {
      "image/png": "[encoded data removed]",
      "text/plain": [
       "<Figure size 720x432 with 1 Axes>"
      ]
     },
     "metadata": {},
     "output_type": "display_data"
    }
   ],
   "source": [
    "init_2d_graphs('ggplot', 'dark_background' )\n",
    "\n",
    "plt.scatter(positive_points['exam_1'],positive_points['exam_2'], s = 200, c = 'green', marker = 'P', label =  'Admitted')\n",
    "plt.scatter(negative_points['exam_1'],negative_points['exam_2'], s = 200, c = 'red', marker = 'x', label =  'Not-Admitted')\n",
    "plt.title(\"The Relation between \" + 'Admitted Student' + \" And \" + 'Not-Admitted Student' )\n",
    "plt.legend()\n",
    "plt.xlabel('Exam 1 Score')\n",
    "plt.ylabel('Exam 2 Score')"
   ]
  },
  {
   "cell_type": "code",
   "execution_count": 6,
   "metadata": {},
   "outputs": [],
   "source": [
    "x = np.array(df_file.iloc[:, :-1]) # x_axis\n",
    "y = np.array(df_file.iloc[:, -1]) # y_axis\n",
    "thetas = np.zeros((3,1))\n",
    "m = len(y)\n",
    "# y = y.values.reshape(len(x),1) # because of type Series we use .values"
   ]
  },
  {
   "cell_type": "code",
   "execution_count": 7,
   "metadata": {},
   "outputs": [
    {
     "data": {
      "text/plain": [
       "(100, 1)"
      ]
     },
     "execution_count": 7,
     "metadata": {},
     "output_type": "execute_result"
    }
   ],
   "source": [
    "y = y.reshape(-1,1) # because of type Series we use .values\n",
    "y.shape"
   ]
  },
  {
   "cell_type": "code",
   "execution_count": 8,
   "metadata": {},
   "outputs": [
    {
     "data": {
      "text/plain": [
       "(100, 3)"
      ]
     },
     "execution_count": 8,
     "metadata": {},
     "output_type": "execute_result"
    }
   ],
   "source": [
    "X = np.c_[x, np.ones((m,1))]\n",
    "X.shape"
   ]
  },
  {
   "cell_type": "markdown",
   "metadata": {},
   "source": [
    "##  Now start to implement gradient descent but with sklearn"
   ]
  },
  {
   "cell_type": "code",
   "execution_count": 12,
   "metadata": {},
   "outputs": [],
   "source": [
    "LORegression = LogisticRegression(solver='liblinear')"
   ]
  },
  {
   "cell_type": "code",
   "execution_count": 13,
   "metadata": {},
   "outputs": [
    {
     "name": "stderr",
     "output_type": "stream",
     "text": [
      "/home/abdelrahman/anaconda3/lib/python3.7/site-packages/sklearn/utils/validation.py:724: DataConversionWarning: A column-vector y was passed when a 1d array was expected. Please change the shape of y to (n_samples, ), for example using ravel().\n",
      "  y = column_or_1d(y, warn=True)\n"
     ]
    },
    {
     "data": {
      "text/plain": [
       "LogisticRegression(C=1.0, class_weight=None, dual=False, fit_intercept=True,\n",
       "                   intercept_scaling=1, l1_ratio=None, max_iter=100,\n",
       "                   multi_class='warn', n_jobs=None, penalty='l2',\n",
       "                   random_state=None, solver='liblinear', tol=0.0001, verbose=0,\n",
       "                   warm_start=False)"
      ]
     },
     "execution_count": 13,
     "metadata": {},
     "output_type": "execute_result"
    }
   ],
   "source": [
    "LORegression.fit(X,y)"
   ]
  },
  {
   "cell_type": "code",
   "execution_count": 14,
   "metadata": {},
   "outputs": [
    {
     "data": {
      "text/plain": [
       "<bound method BaseEstimator.get_params of LogisticRegression(C=1.0, class_weight=None, dual=False, fit_intercept=True,\n",
       "                   intercept_scaling=1, l1_ratio=None, max_iter=100,\n",
       "                   multi_class='warn', n_jobs=None, penalty='l2',\n",
       "                   random_state=None, solver='liblinear', tol=0.0001, verbose=0,\n",
       "                   warm_start=False)>"
      ]
     },
     "execution_count": 14,
     "metadata": {},
     "output_type": "execute_result"
    }
   ],
   "source": [
    "LORegression.get_params"
   ]
  },
  {
   "cell_type": "code",
   "execution_count": 15,
   "metadata": {},
   "outputs": [
    {
     "name": "stdout",
     "output_type": "stream",
     "text": [
      "The Slope or Weights of LRModel is [[ 0.05214733  0.04531467 -2.85831439]]\n"
     ]
    }
   ],
   "source": [
    "print(\"The Slope or Weights of LRModel is\", LORegression.coef_)"
   ]
  },
  {
   "cell_type": "code",
   "execution_count": 16,
   "metadata": {},
   "outputs": [
    {
     "name": "stdout",
     "output_type": "stream",
     "text": [
      "The Slope or Weights of LRModel is [-2.85831439]\n"
     ]
    }
   ],
   "source": [
    "print(\"The Slope or Weights of LRModel is\", LORegression.intercept_)"
   ]
  },
  {
   "cell_type": "code",
   "execution_count": 17,
   "metadata": {},
   "outputs": [],
   "source": [
    "y_hat = LORegression.predict(X)"
   ]
  },
  {
   "cell_type": "code",
   "execution_count": 18,
   "metadata": {},
   "outputs": [
    {
     "name": "stdout",
     "output_type": "stream",
     "text": [
      "The f1-score of our data is:  0.9291338582677166\n"
     ]
    }
   ],
   "source": [
    "print(\"The f1-score of our data is: \", f1_score(y_hat, y))"
   ]
  },
  {
   "cell_type": "markdown",
   "metadata": {},
   "source": [
    "## we can also get the cost function\n",
    "\n",
    "**from manual_logistic_regression we call the cost function**\n",
    "\n",
    "LORegression.coef_ is our last_thetas"
   ]
  },
  {
   "cell_type": "code",
   "execution_count": 19,
   "metadata": {},
   "outputs": [
    {
     "name": "stdout",
     "output_type": "stream",
     "text": [
      "(1, 3)\n",
      "The cost is:  [[0.98954401]]\n"
     ]
    }
   ],
   "source": [
    "last_thetas = LORegression.coef_\n",
    "# last_thetas = last_thetas.reshape(-1,1)\n",
    "print(last_thetas.shape) # transpose \n",
    "cost_function = cost_function(last_thetas.T, X, m ,y)\n",
    "print(\"The cost is: \", cost_function)"
   ]
  },
  {
   "cell_type": "code",
   "execution_count": 21,
   "metadata": {},
   "outputs": [],
   "source": [
    "# The second file"
   ]
  },
  {
   "cell_type": "code",
   "execution_count": 22,
   "metadata": {},
   "outputs": [
    {
     "data": {
      "text/html": [
       "<div>\n",
       "<style scoped>\n",
       "    .dataframe tbody tr th:only-of-type {\n",
       "        vertical-align: middle;\n",
       "    }\n",
       "\n",
       "    .dataframe tbody tr th {\n",
       "        vertical-align: top;\n",
       "    }\n",
       "\n",
       "    .dataframe thead th {\n",
       "        text-align: right;\n",
       "    }\n",
       "</style>\n",
       "<table border=\"1\" class=\"dataframe\">\n",
       "  <thead>\n",
       "    <tr style=\"text-align: right;\">\n",
       "      <th></th>\n",
       "      <th>test_1</th>\n",
       "      <th>test_2</th>\n",
       "      <th>Accepted</th>\n",
       "    </tr>\n",
       "  </thead>\n",
       "  <tbody>\n",
       "    <tr>\n",
       "      <td>0</td>\n",
       "      <td>0.051267</td>\n",
       "      <td>0.69956</td>\n",
       "      <td>1</td>\n",
       "    </tr>\n",
       "    <tr>\n",
       "      <td>1</td>\n",
       "      <td>-0.092742</td>\n",
       "      <td>0.68494</td>\n",
       "      <td>1</td>\n",
       "    </tr>\n",
       "    <tr>\n",
       "      <td>2</td>\n",
       "      <td>-0.213710</td>\n",
       "      <td>0.69225</td>\n",
       "      <td>1</td>\n",
       "    </tr>\n",
       "    <tr>\n",
       "      <td>3</td>\n",
       "      <td>-0.375000</td>\n",
       "      <td>0.50219</td>\n",
       "      <td>1</td>\n",
       "    </tr>\n",
       "    <tr>\n",
       "      <td>4</td>\n",
       "      <td>-0.513250</td>\n",
       "      <td>0.46564</td>\n",
       "      <td>1</td>\n",
       "    </tr>\n",
       "  </tbody>\n",
       "</table>\n",
       "</div>"
      ],
      "text/plain": [
       "     test_1   test_2  Accepted\n",
       "0  0.051267  0.69956         1\n",
       "1 -0.092742  0.68494         1\n",
       "2 -0.213710  0.69225         1\n",
       "3 -0.375000  0.50219         1\n",
       "4 -0.513250  0.46564         1"
      ]
     },
     "execution_count": 22,
     "metadata": {},
     "output_type": "execute_result"
    }
   ],
   "source": [
    "df_file = pd.read_csv('csv_files/ex2data2.csv')\n",
    "df_file.head()"
   ]
  },
  {
   "cell_type": "markdown",
   "metadata": {},
   "source": [
    "## Visualizing the data"
   ]
  },
  {
   "cell_type": "code",
   "execution_count": 25,
   "metadata": {},
   "outputs": [
    {
     "name": "stdout",
     "output_type": "stream",
     "text": [
      "Some of positive points\n",
      "      test_1   test_2  Accepted\n",
      "0  0.051267  0.69956         1\n",
      "1 -0.092742  0.68494         1\n",
      "2 -0.213710  0.69225         1\n",
      "3 -0.375000  0.50219         1\n",
      "4 -0.513250  0.46564         1\n"
     ]
    }
   ],
   "source": [
    "positive_points = df_file[df_file['Accepted'] == 1]\n",
    "print(\"Some of positive points\\n\", positive_points[:5])"
   ]
  },
  {
   "cell_type": "code",
   "execution_count": 26,
   "metadata": {},
   "outputs": [
    {
     "name": "stdout",
     "output_type": "stream",
     "text": [
      "Some of positive points\n",
      "      test_1   test_2  Accepted\n",
      "58  0.18376  0.93348         0\n",
      "59  0.22408  0.77997         0\n",
      "60  0.29896  0.61915         0\n",
      "61  0.50634  0.75804         0\n",
      "62  0.61578  0.72880         0\n"
     ]
    }
   ],
   "source": [
    "negative_points = df_file[df_file['Accepted'] == 0]\n",
    "print(\"Some of positive points\\n\", negative_points[:5])"
   ]
  },
  {
   "cell_type": "code",
   "execution_count": 27,
   "metadata": {},
   "outputs": [
    {
     "data": {
      "text/plain": [
       "Text(0, 0.5, 'Test 2 ')"
      ]
     },
     "execution_count": 27,
     "metadata": {},
     "output_type": "execute_result"
    },
    {
     "data": {
      "image/png": "[encoded data removed]",
      "text/plain": [
       "<Figure size 720x432 with 1 Axes>"
      ]
     },
     "metadata": {},
     "output_type": "display_data"
    }
   ],
   "source": [
    "init_2d_graphs('ggplot', 'dark_background' )\n",
    "\n",
    "plt.scatter(positive_points['test_1'],positive_points['test_2'], s = 200, c = 'green', marker = 'P', label =  'Accepted')\n",
    "plt.scatter(negative_points['test_1'],negative_points['test_2'], s = 200, c = 'red', marker = 'x', label =  'Not-Accepted')\n",
    "plt.title(\"The Relation between \" + 'Accepted Test' + \" And \" + 'Not-Accepted Student' )\n",
    "plt.legend()\n",
    "plt.xlabel('Test 1 ')\n",
    "plt.ylabel('Test 2 ')"
   ]
  },
  {
   "cell_type": "markdown",
   "metadata": {},
   "source": [
    "## Feature mapping\n",
    "\n",
    "**Some times you increase your features to fit the data well**"
   ]
  },
  {
   "cell_type": "code",
   "execution_count": 29,
   "metadata": {},
   "outputs": [],
   "source": [
    "x = np.array(df_file.iloc[:, :-1])\n",
    "y = np.array(df_file.iloc[:, -1])\n",
    "m = len(y)\n",
    "y = y.reshape(-1,1)\n"
   ]
  },
  {
   "cell_type": "code",
   "execution_count": 30,
   "metadata": {},
   "outputs": [],
   "source": [
    "for i in range(1,6):\n",
    "    for j in range(i):\n",
    "        '''\n",
    "        mapping features is to make polynomial features from linear here is to power 4\n",
    "        '''\n",
    "        df_file['F' + str(i) + str(j)] = np.power(x[:, 0], i-j) * np.power(x[:, 1], j)"
   ]
  },
  {
   "cell_type": "code",
   "execution_count": 31,
   "metadata": {},
   "outputs": [
    {
     "data": {
      "text/html": [
       "<div>\n",
       "<style scoped>\n",
       "    .dataframe tbody tr th:only-of-type {\n",
       "        vertical-align: middle;\n",
       "    }\n",
       "\n",
       "    .dataframe tbody tr th {\n",
       "        vertical-align: top;\n",
       "    }\n",
       "\n",
       "    .dataframe thead th {\n",
       "        text-align: right;\n",
       "    }\n",
       "</style>\n",
       "<table border=\"1\" class=\"dataframe\">\n",
       "  <thead>\n",
       "    <tr style=\"text-align: right;\">\n",
       "      <th></th>\n",
       "      <th>test_1</th>\n",
       "      <th>test_2</th>\n",
       "      <th>Accepted</th>\n",
       "      <th>F10</th>\n",
       "      <th>F20</th>\n",
       "      <th>F21</th>\n",
       "      <th>F30</th>\n",
       "      <th>F31</th>\n",
       "      <th>F32</th>\n",
       "      <th>F40</th>\n",
       "      <th>F41</th>\n",
       "      <th>F42</th>\n",
       "      <th>F43</th>\n",
       "      <th>F50</th>\n",
       "      <th>F51</th>\n",
       "      <th>F52</th>\n",
       "      <th>F53</th>\n",
       "      <th>F54</th>\n",
       "    </tr>\n",
       "  </thead>\n",
       "  <tbody>\n",
       "    <tr>\n",
       "      <td>0</td>\n",
       "      <td>0.051267</td>\n",
       "      <td>0.69956</td>\n",
       "      <td>1</td>\n",
       "      <td>0.051267</td>\n",
       "      <td>0.002628</td>\n",
       "      <td>0.035864</td>\n",
       "      <td>0.000135</td>\n",
       "      <td>0.001839</td>\n",
       "      <td>0.025089</td>\n",
       "      <td>0.000007</td>\n",
       "      <td>0.000094</td>\n",
       "      <td>0.001286</td>\n",
       "      <td>0.017551</td>\n",
       "      <td>3.541519e-07</td>\n",
       "      <td>0.000005</td>\n",
       "      <td>0.000066</td>\n",
       "      <td>0.000900</td>\n",
       "      <td>0.012278</td>\n",
       "    </tr>\n",
       "    <tr>\n",
       "      <td>1</td>\n",
       "      <td>-0.092742</td>\n",
       "      <td>0.68494</td>\n",
       "      <td>1</td>\n",
       "      <td>-0.092742</td>\n",
       "      <td>0.008601</td>\n",
       "      <td>-0.063523</td>\n",
       "      <td>-0.000798</td>\n",
       "      <td>0.005891</td>\n",
       "      <td>-0.043509</td>\n",
       "      <td>0.000074</td>\n",
       "      <td>-0.000546</td>\n",
       "      <td>0.004035</td>\n",
       "      <td>-0.029801</td>\n",
       "      <td>-6.860919e-06</td>\n",
       "      <td>0.000051</td>\n",
       "      <td>-0.000374</td>\n",
       "      <td>0.002764</td>\n",
       "      <td>-0.020412</td>\n",
       "    </tr>\n",
       "    <tr>\n",
       "      <td>2</td>\n",
       "      <td>-0.213710</td>\n",
       "      <td>0.69225</td>\n",
       "      <td>1</td>\n",
       "      <td>-0.213710</td>\n",
       "      <td>0.045672</td>\n",
       "      <td>-0.147941</td>\n",
       "      <td>-0.009761</td>\n",
       "      <td>0.031616</td>\n",
       "      <td>-0.102412</td>\n",
       "      <td>0.002086</td>\n",
       "      <td>-0.006757</td>\n",
       "      <td>0.021886</td>\n",
       "      <td>-0.070895</td>\n",
       "      <td>-4.457837e-04</td>\n",
       "      <td>0.001444</td>\n",
       "      <td>-0.004677</td>\n",
       "      <td>0.015151</td>\n",
       "      <td>-0.049077</td>\n",
       "    </tr>\n",
       "    <tr>\n",
       "      <td>3</td>\n",
       "      <td>-0.375000</td>\n",
       "      <td>0.50219</td>\n",
       "      <td>1</td>\n",
       "      <td>-0.375000</td>\n",
       "      <td>0.140625</td>\n",
       "      <td>-0.188321</td>\n",
       "      <td>-0.052734</td>\n",
       "      <td>0.070620</td>\n",
       "      <td>-0.094573</td>\n",
       "      <td>0.019775</td>\n",
       "      <td>-0.026483</td>\n",
       "      <td>0.035465</td>\n",
       "      <td>-0.047494</td>\n",
       "      <td>-7.415771e-03</td>\n",
       "      <td>0.009931</td>\n",
       "      <td>-0.013299</td>\n",
       "      <td>0.017810</td>\n",
       "      <td>-0.023851</td>\n",
       "    </tr>\n",
       "    <tr>\n",
       "      <td>4</td>\n",
       "      <td>-0.513250</td>\n",
       "      <td>0.46564</td>\n",
       "      <td>1</td>\n",
       "      <td>-0.513250</td>\n",
       "      <td>0.263426</td>\n",
       "      <td>-0.238990</td>\n",
       "      <td>-0.135203</td>\n",
       "      <td>0.122661</td>\n",
       "      <td>-0.111283</td>\n",
       "      <td>0.069393</td>\n",
       "      <td>-0.062956</td>\n",
       "      <td>0.057116</td>\n",
       "      <td>-0.051818</td>\n",
       "      <td>-3.561597e-02</td>\n",
       "      <td>0.032312</td>\n",
       "      <td>-0.029315</td>\n",
       "      <td>0.026596</td>\n",
       "      <td>-0.024128</td>\n",
       "    </tr>\n",
       "  </tbody>\n",
       "</table>\n",
       "</div>"
      ],
      "text/plain": [
       "     test_1   test_2  Accepted       F10       F20       F21       F30  \\\n",
       "0  0.051267  0.69956         1  0.051267  0.002628  0.035864  0.000135   \n",
       "1 -0.092742  0.68494         1 -0.092742  0.008601 -0.063523 -0.000798   \n",
       "2 -0.213710  0.69225         1 -0.213710  0.045672 -0.147941 -0.009761   \n",
       "3 -0.375000  0.50219         1 -0.375000  0.140625 -0.188321 -0.052734   \n",
       "4 -0.513250  0.46564         1 -0.513250  0.263426 -0.238990 -0.135203   \n",
       "\n",
       "        F31       F32       F40       F41       F42       F43           F50  \\\n",
       "0  0.001839  0.025089  0.000007  0.000094  0.001286  0.017551  3.541519e-07   \n",
       "1  0.005891 -0.043509  0.000074 -0.000546  0.004035 -0.029801 -6.860919e-06   \n",
       "2  0.031616 -0.102412  0.002086 -0.006757  0.021886 -0.070895 -4.457837e-04   \n",
       "3  0.070620 -0.094573  0.019775 -0.026483  0.035465 -0.047494 -7.415771e-03   \n",
       "4  0.122661 -0.111283  0.069393 -0.062956  0.057116 -0.051818 -3.561597e-02   \n",
       "\n",
       "        F51       F52       F53       F54  \n",
       "0  0.000005  0.000066  0.000900  0.012278  \n",
       "1  0.000051 -0.000374  0.002764 -0.020412  \n",
       "2  0.001444 -0.004677  0.015151 -0.049077  \n",
       "3  0.009931 -0.013299  0.017810 -0.023851  \n",
       "4  0.032312 -0.029315  0.026596 -0.024128  "
      ]
     },
     "execution_count": 31,
     "metadata": {},
     "output_type": "execute_result"
    }
   ],
   "source": [
    "df_file.head()"
   ]
  },
  {
   "cell_type": "code",
   "execution_count": 32,
   "metadata": {},
   "outputs": [],
   "source": [
    "x = np.array(df_file.iloc[:, 3:])\n",
    "X = np.c_[x, np.ones(m)] # add x0 = 1\n",
    "thetas = np.zeros((X.shape[1],1)) # initialize threats as 2d with number of features"
   ]
  },
  {
   "cell_type": "markdown",
   "metadata": {},
   "source": [
    "##  Now start to implement gradient descent but with sklearn"
   ]
  },
  {
   "cell_type": "code",
   "execution_count": 33,
   "metadata": {},
   "outputs": [],
   "source": [
    "LORegression = LogisticRegression(solver='sag')"
   ]
  },
  {
   "cell_type": "code",
   "execution_count": 38,
   "metadata": {},
   "outputs": [
    {
     "name": "stderr",
     "output_type": "stream",
     "text": [
      "/home/abdelrahman/anaconda3/lib/python3.7/site-packages/sklearn/utils/validation.py:724: DataConversionWarning: A column-vector y was passed when a 1d array was expected. Please change the shape of y to (n_samples, ), for example using ravel().\n",
      "  y = column_or_1d(y, warn=True)\n"
     ]
    },
    {
     "data": {
      "text/plain": [
       "LogisticRegression(C=1.0, class_weight=None, dual=False, fit_intercept=True,\n",
       "                   intercept_scaling=1, l1_ratio=None, max_iter=100,\n",
       "                   multi_class='warn', n_jobs=None, penalty='l2',\n",
       "                   random_state=None, solver='sag', tol=0.0001, verbose=0,\n",
       "                   warm_start=False)"
      ]
     },
     "execution_count": 38,
     "metadata": {},
     "output_type": "execute_result"
    }
   ],
   "source": [
    "LORegression.fit(X,y)"
   ]
  },
  {
   "cell_type": "code",
   "execution_count": 39,
   "metadata": {},
   "outputs": [
    {
     "name": "stdout",
     "output_type": "stream",
     "text": [
      "The f1-score of our data is:  0.6929133858267716\n"
     ]
    }
   ],
   "source": [
    "y_hat = LORegression.predict(X)\n",
    "print(\"The f1-score of our data is: \", f1_score(y_hat, y))"
   ]
  },
  {
   "cell_type": "code",
   "execution_count": null,
   "metadata": {},
   "outputs": [],
   "source": []
  }
 ],
 "metadata": {
  "kernelspec": {
   "display_name": "Python 3",
   "language": "python",
   "name": "python3"
  },
  "language_info": {
   "codemirror_mode": {
    "name": "ipython",
    "version": 3
   },
   "file_extension": ".py",
   "mimetype": "text/x-python",
   "name": "python",
   "nbconvert_exporter": "python",
   "pygments_lexer": "ipython3",
   "version": "3.7.4"
  }
 },
 "nbformat": 4,
 "nbformat_minor": 2
}
