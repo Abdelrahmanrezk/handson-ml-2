{
 "cells": [
  {
   "cell_type": "markdown",
   "metadata": {},
   "source": [
    "# Introduction\n",
    "\n",
    "\n",
    "\n",
    "The World Happiness Report is a landmark survey of the state of global happiness.\n",
    "\n",
    "The data trying to analyze which country has higher happiness or life satisfaction and which of them have to be like Dystopia with the world’s lowest incomes, lowest life expectancy, lowest generosity, most corruption, least freedom, and least social support.\n",
    "\n",
    "Other attributes are provided for the dataset to give us other insights and we will see the effect of each of these attributes."
   ]
  },
  {
   "cell_type": "code",
   "execution_count": 1,
   "metadata": {
    "collapsed": true
   },
   "outputs": [],
   "source": [
    "# Main functions file\n",
    "from configs import *\n",
    "\n",
    "# Main libraries usage\n",
    "import matplotlib.pyplot as plt\n",
    "import pandas as pd\n",
    "import numpy as np\n",
    "\n",
    "# Sklearn libraries\n",
    "from sklearn.model_selection import train_test_split, cross_val_score, GridSearchCV, RandomizedSearchCV\n",
    "from sklearn.preprocessing import  OneHotEncoder, MinMaxScaler\n",
    "from sklearn.base import BaseEstimator, TransformerMixin\n",
    "from sklearn.linear_model import LinearRegression\n",
    "from sklearn.tree import  DecisionTreeRegressor\n",
    "from sklearn.metrics import  mean_squared_error\n",
    "from sklearn.compose import  ColumnTransformer\n",
    "from sklearn.impute import SimpleImputer\n",
    "from sklearn.pipeline import  Pipeline\n",
    "\n",
    "%matplotlib inline"
   ]
  },
  {
   "cell_type": "markdown",
   "metadata": {},
   "source": [
    "## Display first 5 rows\n",
    "\n",
    "The first step is to represent some rows from the data just to know what attributes look like then move on to discover more about them."
   ]
  },
  {
   "cell_type": "code",
   "execution_count": 2,
   "metadata": {},
   "outputs": [
    {
     "data": {
      "text/html": [
       "<div>\n",
       "<style scoped>\n",
       "    .dataframe tbody tr th:only-of-type {\n",
       "        vertical-align: middle;\n",
       "    }\n",
       "\n",
       "    .dataframe tbody tr th {\n",
       "        vertical-align: top;\n",
       "    }\n",
       "\n",
       "    .dataframe thead th {\n",
       "        text-align: right;\n",
       "    }\n",
       "</style>\n",
       "<table border=\"1\" class=\"dataframe\">\n",
       "  <thead>\n",
       "    <tr style=\"text-align: right;\">\n",
       "      <th></th>\n",
       "      <th>Country</th>\n",
       "      <th>Region</th>\n",
       "      <th>Happiness Rank</th>\n",
       "      <th>Happiness Score</th>\n",
       "      <th>Standard Error</th>\n",
       "      <th>Economy (GDP per Capita)</th>\n",
       "      <th>Family</th>\n",
       "      <th>Health (Life Expectancy)</th>\n",
       "      <th>Freedom</th>\n",
       "      <th>Trust (Government Corruption)</th>\n",
       "      <th>Generosity</th>\n",
       "      <th>Dystopia Residual</th>\n",
       "    </tr>\n",
       "  </thead>\n",
       "  <tbody>\n",
       "    <tr>\n",
       "      <th>0</th>\n",
       "      <td>Switzerland</td>\n",
       "      <td>Western Europe</td>\n",
       "      <td>1</td>\n",
       "      <td>7.587</td>\n",
       "      <td>0.03411</td>\n",
       "      <td>1.39651</td>\n",
       "      <td>1.34951</td>\n",
       "      <td>0.94143</td>\n",
       "      <td>0.66557</td>\n",
       "      <td>0.41978</td>\n",
       "      <td>0.29678</td>\n",
       "      <td>2.51738</td>\n",
       "    </tr>\n",
       "    <tr>\n",
       "      <th>1</th>\n",
       "      <td>Iceland</td>\n",
       "      <td>Western Europe</td>\n",
       "      <td>2</td>\n",
       "      <td>7.561</td>\n",
       "      <td>0.04884</td>\n",
       "      <td>1.30232</td>\n",
       "      <td>1.40223</td>\n",
       "      <td>0.94784</td>\n",
       "      <td>0.62877</td>\n",
       "      <td>0.14145</td>\n",
       "      <td>0.43630</td>\n",
       "      <td>2.70201</td>\n",
       "    </tr>\n",
       "    <tr>\n",
       "      <th>2</th>\n",
       "      <td>Denmark</td>\n",
       "      <td>Western Europe</td>\n",
       "      <td>3</td>\n",
       "      <td>7.527</td>\n",
       "      <td>0.03328</td>\n",
       "      <td>1.32548</td>\n",
       "      <td>1.36058</td>\n",
       "      <td>0.87464</td>\n",
       "      <td>0.64938</td>\n",
       "      <td>0.48357</td>\n",
       "      <td>0.34139</td>\n",
       "      <td>2.49204</td>\n",
       "    </tr>\n",
       "    <tr>\n",
       "      <th>3</th>\n",
       "      <td>Norway</td>\n",
       "      <td>Western Europe</td>\n",
       "      <td>4</td>\n",
       "      <td>7.522</td>\n",
       "      <td>0.03880</td>\n",
       "      <td>1.45900</td>\n",
       "      <td>1.33095</td>\n",
       "      <td>0.88521</td>\n",
       "      <td>0.66973</td>\n",
       "      <td>0.36503</td>\n",
       "      <td>0.34699</td>\n",
       "      <td>2.46531</td>\n",
       "    </tr>\n",
       "    <tr>\n",
       "      <th>4</th>\n",
       "      <td>Canada</td>\n",
       "      <td>North America</td>\n",
       "      <td>5</td>\n",
       "      <td>7.427</td>\n",
       "      <td>0.03553</td>\n",
       "      <td>1.32629</td>\n",
       "      <td>1.32261</td>\n",
       "      <td>0.90563</td>\n",
       "      <td>0.63297</td>\n",
       "      <td>0.32957</td>\n",
       "      <td>0.45811</td>\n",
       "      <td>2.45176</td>\n",
       "    </tr>\n",
       "  </tbody>\n",
       "</table>\n",
       "</div>"
      ],
      "text/plain": [
       "       Country          Region  Happiness Rank  Happiness Score  \\\n",
       "0  Switzerland  Western Europe               1            7.587   \n",
       "1      Iceland  Western Europe               2            7.561   \n",
       "2      Denmark  Western Europe               3            7.527   \n",
       "3       Norway  Western Europe               4            7.522   \n",
       "4       Canada   North America               5            7.427   \n",
       "\n",
       "   Standard Error  Economy (GDP per Capita)   Family  \\\n",
       "0         0.03411                   1.39651  1.34951   \n",
       "1         0.04884                   1.30232  1.40223   \n",
       "2         0.03328                   1.32548  1.36058   \n",
       "3         0.03880                   1.45900  1.33095   \n",
       "4         0.03553                   1.32629  1.32261   \n",
       "\n",
       "   Health (Life Expectancy)  Freedom  Trust (Government Corruption)  \\\n",
       "0                   0.94143  0.66557                        0.41978   \n",
       "1                   0.94784  0.62877                        0.14145   \n",
       "2                   0.87464  0.64938                        0.48357   \n",
       "3                   0.88521  0.66973                        0.36503   \n",
       "4                   0.90563  0.63297                        0.32957   \n",
       "\n",
       "   Generosity  Dystopia Residual  \n",
       "0     0.29678            2.51738  \n",
       "1     0.43630            2.70201  \n",
       "2     0.34139            2.49204  \n",
       "3     0.34699            2.46531  \n",
       "4     0.45811            2.45176  "
      ]
     },
     "execution_count": 2,
     "metadata": {},
     "output_type": "execute_result"
    }
   ],
   "source": [
    "world_happiness_report = load_csv_file(\"2015.csv\")\n",
    "world_happiness_report.head()"
   ]
  },
  {
   "cell_type": "markdown",
   "metadata": {},
   "source": [
    "## Some information about the data and attributes\n",
    "\n",
    "We can see that all of the attributes have no **NAN** values, even of that, we need to get a specific value for each attribute, because when the system go-live, maybe some of the value of the attribute will not be provided, in the case like this you have to apply the saved value for this attribute.\n",
    "\n",
    "We also can notice that most of the attributes are numbers except the country and region.\n",
    "\n",
    "Two attributes that are close to each other are the **Happiness Rank** and **Happiness score**, so we will use the score as your target variable since we trying to learn about regression.\n",
    "\n",
    "Also, the memory usage is small enough to fit our memory."
   ]
  },
  {
   "cell_type": "code",
   "execution_count": 3,
   "metadata": {},
   "outputs": [
    {
     "name": "stdout",
     "output_type": "stream",
     "text": [
      "<class 'pandas.core.frame.DataFrame'>\n",
      "RangeIndex: 158 entries, 0 to 157\n",
      "Data columns (total 12 columns):\n",
      "Country                          158 non-null object\n",
      "Region                           158 non-null object\n",
      "Happiness Rank                   158 non-null int64\n",
      "Happiness Score                  158 non-null float64\n",
      "Standard Error                   158 non-null float64\n",
      "Economy (GDP per Capita)         158 non-null float64\n",
      "Family                           158 non-null float64\n",
      "Health (Life Expectancy)         158 non-null float64\n",
      "Freedom                          158 non-null float64\n",
      "Trust (Government Corruption)    158 non-null float64\n",
      "Generosity                       158 non-null float64\n",
      "Dystopia Residual                158 non-null float64\n",
      "dtypes: float64(9), int64(1), object(2)\n",
      "memory usage: 14.9+ KB\n"
     ]
    }
   ],
   "source": [
    "world_happiness_report.info()"
   ]
  },
  {
   "cell_type": "markdown",
   "metadata": {},
   "source": [
    "## Some statistics about numbers attributes\n",
    "\n",
    "Since most of the columns (attributes or features) are numbers it will be helpful to display some of statics related to these attributes, like what the mean, median, what the geatest values and lowest or what most values less than 25% or 50% another name is (first quarter range and third quarter range).\n",
    "\n",
    "Insights you can get from this,\n",
    "- maybe you need to apply feature scaling because different ranges for each attribute.\n",
    "- maybe some numbers attribute like categorical because of small discrete values.\n",
    "\n",
    "\n",
    "We can see that most attributes values are not far away from mean in the standard deviation but maybe because these attributes are just small numbers like 25% of **Happieness Rank** less than 40."
   ]
  },
  {
   "cell_type": "code",
   "execution_count": 4,
   "metadata": {},
   "outputs": [
    {
     "data": {
      "text/html": [
       "<div>\n",
       "<style scoped>\n",
       "    .dataframe tbody tr th:only-of-type {\n",
       "        vertical-align: middle;\n",
       "    }\n",
       "\n",
       "    .dataframe tbody tr th {\n",
       "        vertical-align: top;\n",
       "    }\n",
       "\n",
       "    .dataframe thead th {\n",
       "        text-align: right;\n",
       "    }\n",
       "</style>\n",
       "<table border=\"1\" class=\"dataframe\">\n",
       "  <thead>\n",
       "    <tr style=\"text-align: right;\">\n",
       "      <th></th>\n",
       "      <th>Happiness Rank</th>\n",
       "      <th>Happiness Score</th>\n",
       "      <th>Standard Error</th>\n",
       "      <th>Economy (GDP per Capita)</th>\n",
       "      <th>Family</th>\n",
       "      <th>Health (Life Expectancy)</th>\n",
       "      <th>Freedom</th>\n",
       "      <th>Trust (Government Corruption)</th>\n",
       "      <th>Generosity</th>\n",
       "      <th>Dystopia Residual</th>\n",
       "    </tr>\n",
       "  </thead>\n",
       "  <tbody>\n",
       "    <tr>\n",
       "      <th>count</th>\n",
       "      <td>158.000000</td>\n",
       "      <td>158.000000</td>\n",
       "      <td>158.000000</td>\n",
       "      <td>158.000000</td>\n",
       "      <td>158.000000</td>\n",
       "      <td>158.000000</td>\n",
       "      <td>158.000000</td>\n",
       "      <td>158.000000</td>\n",
       "      <td>158.000000</td>\n",
       "      <td>158.000000</td>\n",
       "    </tr>\n",
       "    <tr>\n",
       "      <th>mean</th>\n",
       "      <td>79.493671</td>\n",
       "      <td>5.375734</td>\n",
       "      <td>0.047885</td>\n",
       "      <td>0.846137</td>\n",
       "      <td>0.991046</td>\n",
       "      <td>0.630259</td>\n",
       "      <td>0.428615</td>\n",
       "      <td>0.143422</td>\n",
       "      <td>0.237296</td>\n",
       "      <td>2.098977</td>\n",
       "    </tr>\n",
       "    <tr>\n",
       "      <th>std</th>\n",
       "      <td>45.754363</td>\n",
       "      <td>1.145010</td>\n",
       "      <td>0.017146</td>\n",
       "      <td>0.403121</td>\n",
       "      <td>0.272369</td>\n",
       "      <td>0.247078</td>\n",
       "      <td>0.150693</td>\n",
       "      <td>0.120034</td>\n",
       "      <td>0.126685</td>\n",
       "      <td>0.553550</td>\n",
       "    </tr>\n",
       "    <tr>\n",
       "      <th>min</th>\n",
       "      <td>1.000000</td>\n",
       "      <td>2.839000</td>\n",
       "      <td>0.018480</td>\n",
       "      <td>0.000000</td>\n",
       "      <td>0.000000</td>\n",
       "      <td>0.000000</td>\n",
       "      <td>0.000000</td>\n",
       "      <td>0.000000</td>\n",
       "      <td>0.000000</td>\n",
       "      <td>0.328580</td>\n",
       "    </tr>\n",
       "    <tr>\n",
       "      <th>25%</th>\n",
       "      <td>40.250000</td>\n",
       "      <td>4.526000</td>\n",
       "      <td>0.037268</td>\n",
       "      <td>0.545808</td>\n",
       "      <td>0.856823</td>\n",
       "      <td>0.439185</td>\n",
       "      <td>0.328330</td>\n",
       "      <td>0.061675</td>\n",
       "      <td>0.150553</td>\n",
       "      <td>1.759410</td>\n",
       "    </tr>\n",
       "    <tr>\n",
       "      <th>50%</th>\n",
       "      <td>79.500000</td>\n",
       "      <td>5.232500</td>\n",
       "      <td>0.043940</td>\n",
       "      <td>0.910245</td>\n",
       "      <td>1.029510</td>\n",
       "      <td>0.696705</td>\n",
       "      <td>0.435515</td>\n",
       "      <td>0.107220</td>\n",
       "      <td>0.216130</td>\n",
       "      <td>2.095415</td>\n",
       "    </tr>\n",
       "    <tr>\n",
       "      <th>75%</th>\n",
       "      <td>118.750000</td>\n",
       "      <td>6.243750</td>\n",
       "      <td>0.052300</td>\n",
       "      <td>1.158448</td>\n",
       "      <td>1.214405</td>\n",
       "      <td>0.811013</td>\n",
       "      <td>0.549092</td>\n",
       "      <td>0.180255</td>\n",
       "      <td>0.309883</td>\n",
       "      <td>2.462415</td>\n",
       "    </tr>\n",
       "    <tr>\n",
       "      <th>max</th>\n",
       "      <td>158.000000</td>\n",
       "      <td>7.587000</td>\n",
       "      <td>0.136930</td>\n",
       "      <td>1.690420</td>\n",
       "      <td>1.402230</td>\n",
       "      <td>1.025250</td>\n",
       "      <td>0.669730</td>\n",
       "      <td>0.551910</td>\n",
       "      <td>0.795880</td>\n",
       "      <td>3.602140</td>\n",
       "    </tr>\n",
       "  </tbody>\n",
       "</table>\n",
       "</div>"
      ],
      "text/plain": [
       "       Happiness Rank  Happiness Score  Standard Error  \\\n",
       "count      158.000000       158.000000      158.000000   \n",
       "mean        79.493671         5.375734        0.047885   \n",
       "std         45.754363         1.145010        0.017146   \n",
       "min          1.000000         2.839000        0.018480   \n",
       "25%         40.250000         4.526000        0.037268   \n",
       "50%         79.500000         5.232500        0.043940   \n",
       "75%        118.750000         6.243750        0.052300   \n",
       "max        158.000000         7.587000        0.136930   \n",
       "\n",
       "       Economy (GDP per Capita)      Family  Health (Life Expectancy)  \\\n",
       "count                158.000000  158.000000                158.000000   \n",
       "mean                   0.846137    0.991046                  0.630259   \n",
       "std                    0.403121    0.272369                  0.247078   \n",
       "min                    0.000000    0.000000                  0.000000   \n",
       "25%                    0.545808    0.856823                  0.439185   \n",
       "50%                    0.910245    1.029510                  0.696705   \n",
       "75%                    1.158448    1.214405                  0.811013   \n",
       "max                    1.690420    1.402230                  1.025250   \n",
       "\n",
       "          Freedom  Trust (Government Corruption)  Generosity  \\\n",
       "count  158.000000                     158.000000  158.000000   \n",
       "mean     0.428615                       0.143422    0.237296   \n",
       "std      0.150693                       0.120034    0.126685   \n",
       "min      0.000000                       0.000000    0.000000   \n",
       "25%      0.328330                       0.061675    0.150553   \n",
       "50%      0.435515                       0.107220    0.216130   \n",
       "75%      0.549092                       0.180255    0.309883   \n",
       "max      0.669730                       0.551910    0.795880   \n",
       "\n",
       "       Dystopia Residual  \n",
       "count         158.000000  \n",
       "mean            2.098977  \n",
       "std             0.553550  \n",
       "min             0.328580  \n",
       "25%             1.759410  \n",
       "50%             2.095415  \n",
       "75%             2.462415  \n",
       "max             3.602140  "
      ]
     },
     "execution_count": 4,
     "metadata": {},
     "output_type": "execute_result"
    }
   ],
   "source": [
    "world_happiness_report.describe()"
   ]
  },
  {
   "cell_type": "code",
   "execution_count": 5,
   "metadata": {},
   "outputs": [
    {
     "data": {
      "text/html": [
       "<div>\n",
       "<style scoped>\n",
       "    .dataframe tbody tr th:only-of-type {\n",
       "        vertical-align: middle;\n",
       "    }\n",
       "\n",
       "    .dataframe tbody tr th {\n",
       "        vertical-align: top;\n",
       "    }\n",
       "\n",
       "    .dataframe thead th {\n",
       "        text-align: right;\n",
       "    }\n",
       "</style>\n",
       "<table border=\"1\" class=\"dataframe\">\n",
       "  <thead>\n",
       "    <tr style=\"text-align: right;\">\n",
       "      <th></th>\n",
       "      <th>Country</th>\n",
       "      <th>Region</th>\n",
       "      <th>Happiness Rank</th>\n",
       "      <th>Happiness Score</th>\n",
       "      <th>Standard Error</th>\n",
       "      <th>Economy (GDP per Capita)</th>\n",
       "      <th>Family</th>\n",
       "      <th>Health (Life Expectancy)</th>\n",
       "      <th>Freedom</th>\n",
       "      <th>Trust (Government Corruption)</th>\n",
       "      <th>Generosity</th>\n",
       "      <th>Dystopia Residual</th>\n",
       "    </tr>\n",
       "  </thead>\n",
       "  <tbody>\n",
       "    <tr>\n",
       "      <th>0</th>\n",
       "      <td>Switzerland</td>\n",
       "      <td>Western Europe</td>\n",
       "      <td>1</td>\n",
       "      <td>7.587</td>\n",
       "      <td>0.03411</td>\n",
       "      <td>1.39651</td>\n",
       "      <td>1.34951</td>\n",
       "      <td>0.94143</td>\n",
       "      <td>0.66557</td>\n",
       "      <td>0.41978</td>\n",
       "      <td>0.29678</td>\n",
       "      <td>2.51738</td>\n",
       "    </tr>\n",
       "    <tr>\n",
       "      <th>1</th>\n",
       "      <td>Iceland</td>\n",
       "      <td>Western Europe</td>\n",
       "      <td>2</td>\n",
       "      <td>7.561</td>\n",
       "      <td>0.04884</td>\n",
       "      <td>1.30232</td>\n",
       "      <td>1.40223</td>\n",
       "      <td>0.94784</td>\n",
       "      <td>0.62877</td>\n",
       "      <td>0.14145</td>\n",
       "      <td>0.43630</td>\n",
       "      <td>2.70201</td>\n",
       "    </tr>\n",
       "    <tr>\n",
       "      <th>2</th>\n",
       "      <td>Denmark</td>\n",
       "      <td>Western Europe</td>\n",
       "      <td>3</td>\n",
       "      <td>7.527</td>\n",
       "      <td>0.03328</td>\n",
       "      <td>1.32548</td>\n",
       "      <td>1.36058</td>\n",
       "      <td>0.87464</td>\n",
       "      <td>0.64938</td>\n",
       "      <td>0.48357</td>\n",
       "      <td>0.34139</td>\n",
       "      <td>2.49204</td>\n",
       "    </tr>\n",
       "    <tr>\n",
       "      <th>3</th>\n",
       "      <td>Norway</td>\n",
       "      <td>Western Europe</td>\n",
       "      <td>4</td>\n",
       "      <td>7.522</td>\n",
       "      <td>0.03880</td>\n",
       "      <td>1.45900</td>\n",
       "      <td>1.33095</td>\n",
       "      <td>0.88521</td>\n",
       "      <td>0.66973</td>\n",
       "      <td>0.36503</td>\n",
       "      <td>0.34699</td>\n",
       "      <td>2.46531</td>\n",
       "    </tr>\n",
       "    <tr>\n",
       "      <th>4</th>\n",
       "      <td>Canada</td>\n",
       "      <td>North America</td>\n",
       "      <td>5</td>\n",
       "      <td>7.427</td>\n",
       "      <td>0.03553</td>\n",
       "      <td>1.32629</td>\n",
       "      <td>1.32261</td>\n",
       "      <td>0.90563</td>\n",
       "      <td>0.63297</td>\n",
       "      <td>0.32957</td>\n",
       "      <td>0.45811</td>\n",
       "      <td>2.45176</td>\n",
       "    </tr>\n",
       "  </tbody>\n",
       "</table>\n",
       "</div>"
      ],
      "text/plain": [
       "       Country          Region  Happiness Rank  Happiness Score  \\\n",
       "0  Switzerland  Western Europe               1            7.587   \n",
       "1      Iceland  Western Europe               2            7.561   \n",
       "2      Denmark  Western Europe               3            7.527   \n",
       "3       Norway  Western Europe               4            7.522   \n",
       "4       Canada   North America               5            7.427   \n",
       "\n",
       "   Standard Error  Economy (GDP per Capita)   Family  \\\n",
       "0         0.03411                   1.39651  1.34951   \n",
       "1         0.04884                   1.30232  1.40223   \n",
       "2         0.03328                   1.32548  1.36058   \n",
       "3         0.03880                   1.45900  1.33095   \n",
       "4         0.03553                   1.32629  1.32261   \n",
       "\n",
       "   Health (Life Expectancy)  Freedom  Trust (Government Corruption)  \\\n",
       "0                   0.94143  0.66557                        0.41978   \n",
       "1                   0.94784  0.62877                        0.14145   \n",
       "2                   0.87464  0.64938                        0.48357   \n",
       "3                   0.88521  0.66973                        0.36503   \n",
       "4                   0.90563  0.63297                        0.32957   \n",
       "\n",
       "   Generosity  Dystopia Residual  \n",
       "0     0.29678            2.51738  \n",
       "1     0.43630            2.70201  \n",
       "2     0.34139            2.49204  \n",
       "3     0.34699            2.46531  \n",
       "4     0.45811            2.45176  "
      ]
     },
     "execution_count": 5,
     "metadata": {},
     "output_type": "execute_result"
    }
   ],
   "source": [
    "world_happiness_report.head()"
   ]
  },
  {
   "cell_type": "markdown",
   "metadata": {},
   "source": [
    "## Discover some attributes unique values\n",
    "\n",
    "Because some attributes are categorical and the other ones may be categorical also even displaying as numbers like **Happiness Rank**, so we need to know the unique values and for each of these unique what is the frequent numbers, and actually this can help us in the stage of splitting data.  \n",
    "\n",
    "Also, some attributes may be better to remove from the dataset because it can cause misleading learning, like **Country**, it just displaying names and no information it holds.\n",
    "\n",
    "Also like **Region** may hold some information about the life satisfaction from those who live in Africa from those in Europe so we can trying attribute combination, like remove it and add it to check its effect on learning.\n",
    "\n",
    "Also like **Happiness Rank**, is going from very different values so, it will be good to consider as a number attribute."
   ]
  },
  {
   "cell_type": "code",
   "execution_count": 6,
   "metadata": {},
   "outputs": [
    {
     "data": {
      "text/plain": [
       "Kosovo                 1\n",
       "Congo (Brazzaville)    1\n",
       "Jordan                 1\n",
       "Montenegro             1\n",
       "Canada                 1\n",
       "Albania                1\n",
       "Venezuela              1\n",
       "Japan                  1\n",
       "Angola                 1\n",
       "Kuwait                 1\n",
       "Name: Country, dtype: int64"
      ]
     },
     "execution_count": 6,
     "metadata": {},
     "output_type": "execute_result"
    }
   ],
   "source": [
    "world_happiness_report['Country'].value_counts()[:10]"
   ]
  },
  {
   "cell_type": "code",
   "execution_count": 7,
   "metadata": {},
   "outputs": [
    {
     "data": {
      "text/plain": [
       "Sub-Saharan Africa                 40\n",
       "Central and Eastern Europe         29\n",
       "Latin America and Caribbean        22\n",
       "Western Europe                     21\n",
       "Middle East and Northern Africa    20\n",
       "Southeastern Asia                   9\n",
       "Southern Asia                       7\n",
       "Eastern Asia                        6\n",
       "Australia and New Zealand           2\n",
       "North America                       2\n",
       "Name: Region, dtype: int64"
      ]
     },
     "execution_count": 7,
     "metadata": {},
     "output_type": "execute_result"
    }
   ],
   "source": [
    "world_happiness_report['Region'].value_counts()"
   ]
  },
  {
   "cell_type": "code",
   "execution_count": 8,
   "metadata": {},
   "outputs": [
    {
     "data": {
      "text/plain": [
       "82     2\n",
       "158    1\n",
       "50     1\n",
       "57     1\n",
       "56     1\n",
       "55     1\n",
       "54     1\n",
       "53     1\n",
       "52     1\n",
       "51     1\n",
       "49     1\n",
       "59     1\n",
       "48     1\n",
       "47     1\n",
       "46     1\n",
       "45     1\n",
       "44     1\n",
       "43     1\n",
       "42     1\n",
       "58     1\n",
       "60     1\n",
       "40     1\n",
       "61     1\n",
       "76     1\n",
       "75     1\n",
       "74     1\n",
       "73     1\n",
       "72     1\n",
       "71     1\n",
       "70     1\n",
       "      ..\n",
       "92     1\n",
       "90     1\n",
       "118    1\n",
       "89     1\n",
       "88     1\n",
       "87     1\n",
       "86     1\n",
       "85     1\n",
       "84     1\n",
       "81     1\n",
       "99     1\n",
       "100    1\n",
       "101    1\n",
       "102    1\n",
       "117    1\n",
       "116    1\n",
       "115    1\n",
       "114    1\n",
       "113    1\n",
       "112    1\n",
       "111    1\n",
       "110    1\n",
       "109    1\n",
       "108    1\n",
       "107    1\n",
       "106    1\n",
       "105    1\n",
       "104    1\n",
       "103    1\n",
       "1      1\n",
       "Name: Happiness Rank, Length: 157, dtype: int64"
      ]
     },
     "execution_count": 8,
     "metadata": {},
     "output_type": "execute_result"
    }
   ],
   "source": [
    "world_happiness_report['Happiness Rank'].value_counts()"
   ]
  },
  {
   "cell_type": "markdown",
   "metadata": {},
   "source": [
    "# Important Note !\n",
    "\n",
    "The **Region** can help us during the stage of splitting data to train and test to consider all categories are provided inside the train and test with close ratio."
   ]
  },
  {
   "cell_type": "markdown",
   "metadata": {},
   "source": [
    "## Histogram\n",
    "\n",
    "A simple graph that you can use is the histogram to display different ranges of data with their frequency, it will help you to understand more about the data you dealing with.\n",
    "\n",
    "We can apply it to the whole data or just for some attributes we interest in.\n",
    "\n",
    "The histogram helps us to discover like normal distribution of each attribute, or those who are skewed to right or left, which can help us know which attributes have outliers, which may cause misleading in learning and also may these outliers need to discover of this attribute have its effect on the target.\n",
    "\n",
    "All of these steps help us to get insights and intuition about the data we dealing with.\n",
    "\n",
    "As we can see from graphs below:\n",
    "\n",
    "- Economy (GDP per Capita) range from .0 to 1.5.\n",
    "\n",
    "You can ask the business owner about these values because there is no income for some people like 1.5 and so on, so find which numbers you multiply by is helpful to know the actual values like should we multiply by 10,000 to back the original values.\n",
    "\n",
    "Even of machine learning model work best with small ranges of numbers, but we need to get a whole overview about the data and its attributes.\n",
    "\n",
    "- Happiness Score, it from 2 to 7.\n",
    "\n",
    "Also, we can ask about these values and what about the prediction when the system goes live maybe we go beyond these values or should we consider 7 is the maximum, like these question help us to understand in depth about the data we dealing with."
   ]
  },
  {
   "cell_type": "code",
   "execution_count": 9,
   "metadata": {},
   "outputs": [
    {
     "name": "stderr",
     "output_type": "stream",
     "text": [
      "/home/abdelrahman/anaconda3/lib/python3.6/site-packages/pandas/plotting/_tools.py:308: MatplotlibDeprecationWarning: \n",
      "The rowNum attribute was deprecated in Matplotlib 3.2 and will be removed two minor releases later. Use ax.get_subplotspec().rowspan.start instead.\n",
      "  layout[ax.rowNum, ax.colNum] = ax.get_visible()\n",
      "/home/abdelrahman/anaconda3/lib/python3.6/site-packages/pandas/plotting/_tools.py:308: MatplotlibDeprecationWarning: \n",
      "The colNum attribute was deprecated in Matplotlib 3.2 and will be removed two minor releases later. Use ax.get_subplotspec().colspan.start instead.\n",
      "  layout[ax.rowNum, ax.colNum] = ax.get_visible()\n",
      "/home/abdelrahman/anaconda3/lib/python3.6/site-packages/pandas/plotting/_tools.py:314: MatplotlibDeprecationWarning: \n",
      "The rowNum attribute was deprecated in Matplotlib 3.2 and will be removed two minor releases later. Use ax.get_subplotspec().rowspan.start instead.\n",
      "  if not layout[ax.rowNum + 1, ax.colNum]:\n",
      "/home/abdelrahman/anaconda3/lib/python3.6/site-packages/pandas/plotting/_tools.py:314: MatplotlibDeprecationWarning: \n",
      "The colNum attribute was deprecated in Matplotlib 3.2 and will be removed two minor releases later. Use ax.get_subplotspec().colspan.start instead.\n",
      "  if not layout[ax.rowNum + 1, ax.colNum]:\n"
     ]
    },
    {
     "data": {
      "text/plain": [
       "array([[<matplotlib.axes._subplots.AxesSubplot object at 0x7fae2f33fbe0>,\n",
       "        <matplotlib.axes._subplots.AxesSubplot object at 0x7fae2d2511d0>,\n",
       "        <matplotlib.axes._subplots.AxesSubplot object at 0x7fae2d287438>],\n",
       "       [<matplotlib.axes._subplots.AxesSubplot object at 0x7fae2d2396a0>,\n",
       "        <matplotlib.axes._subplots.AxesSubplot object at 0x7fae2d1eb8d0>,\n",
       "        <matplotlib.axes._subplots.AxesSubplot object at 0x7fae2d19fb38>],\n",
       "       [<matplotlib.axes._subplots.AxesSubplot object at 0x7fae2d153da0>,\n",
       "        <matplotlib.axes._subplots.AxesSubplot object at 0x7fae2d186fd0>,\n",
       "        <matplotlib.axes._subplots.AxesSubplot object at 0x7fae2d114080>],\n",
       "       [<matplotlib.axes._subplots.AxesSubplot object at 0x7fae2d0fa518>,\n",
       "        <matplotlib.axes._subplots.AxesSubplot object at 0x7fae2d0ad780>,\n",
       "        <matplotlib.axes._subplots.AxesSubplot object at 0x7fae2d05f9e8>]],\n",
       "      dtype=object)"
      ]
     },
     "execution_count": 9,
     "metadata": {},
     "output_type": "execute_result"
    },
    {
     "data": {
      "image/png": "[encoded data removed]",
      "text/plain": [
       "<Figure size 1080x864 with 12 Axes>"
      ]
     },
     "metadata": {},
     "output_type": "display_data"
    }
   ],
   "source": [
    "world_happiness_report.hist(bins=50, figsize=(15, 12))"
   ]
  },
  {
   "cell_type": "markdown",
   "metadata": {},
   "source": [
    "## Create a Test set\n",
    "\n",
    "After what we have discussed and present we need to go deeper in our discovery process and visualization, but first, we need to set aside part of the data for testing and use the rest of the data to discover and go deeper with the analysis.\n",
    "\n",
    "We will split the data using two method, then comapre this pliting to the whole data, and check how the we consider all samples in the testing as well as in training.\n",
    "\n",
    "The Region attribute can help us in splitting data, to consider each group are provided."
   ]
  },
  {
   "cell_type": "code",
   "execution_count": 10,
   "metadata": {},
   "outputs": [
    {
     "data": {
      "text/plain": [
       "Sub-Saharan Africa                 40\n",
       "Central and Eastern Europe         29\n",
       "Latin America and Caribbean        22\n",
       "Western Europe                     21\n",
       "Middle East and Northern Africa    20\n",
       "Southeastern Asia                   9\n",
       "Southern Asia                       7\n",
       "Eastern Asia                        6\n",
       "Australia and New Zealand           2\n",
       "North America                       2\n",
       "Name: Region, dtype: int64"
      ]
     },
     "execution_count": 10,
     "metadata": {},
     "output_type": "execute_result"
    }
   ],
   "source": [
    "world_happiness_report['Region'].value_counts()"
   ]
  },
  {
   "cell_type": "code",
   "execution_count": 11,
   "metadata": {
    "collapsed": true
   },
   "outputs": [],
   "source": [
    "# test_size the size of testing set\n",
    "# random_state to generate the same splitting each time run the code\n",
    "random_train_set, random_test_set = train_test_split(world_happiness_report, test_size=.2, random_state=42)"
   ]
  },
  {
   "cell_type": "code",
   "execution_count": 12,
   "metadata": {},
   "outputs": [
    {
     "name": "stdout",
     "output_type": "stream",
     "text": [
      "126 32\n"
     ]
    }
   ],
   "source": [
    "# display number of instances per set\n",
    "print(len(random_train_set), len(random_test_set))"
   ]
  },
  {
   "cell_type": "code",
   "execution_count": 13,
   "metadata": {},
   "outputs": [
    {
     "name": "stdout",
     "output_type": "stream",
     "text": [
      "126 32\n"
     ]
    }
   ],
   "source": [
    "# Instead of random splitting like train_test_split\n",
    "# this splitting try to include all of categorize when split based on the attribute you need\n",
    "\n",
    "# this stratified_splitting function from configs file \n",
    "tr_stratified_set, tes_stratified_set = stratified_splitting(world_happiness_report, \"Region\")\n",
    "# As we can see same number of instance per set\n",
    "print(len(tr_stratified_set), len(tes_stratified_set))"
   ]
  },
  {
   "cell_type": "code",
   "execution_count": 14,
   "metadata": {},
   "outputs": [
    {
     "data": {
      "text/html": [
       "<div>\n",
       "<style scoped>\n",
       "    .dataframe tbody tr th:only-of-type {\n",
       "        vertical-align: middle;\n",
       "    }\n",
       "\n",
       "    .dataframe tbody tr th {\n",
       "        vertical-align: top;\n",
       "    }\n",
       "\n",
       "    .dataframe thead th {\n",
       "        text-align: right;\n",
       "    }\n",
       "</style>\n",
       "<table border=\"1\" class=\"dataframe\">\n",
       "  <thead>\n",
       "    <tr style=\"text-align: right;\">\n",
       "      <th></th>\n",
       "      <th>overall</th>\n",
       "      <th>random_split</th>\n",
       "      <th>stratified_split</th>\n",
       "      <th>overall_Vs_random_error</th>\n",
       "      <th>overall_Vs_stratified_error</th>\n",
       "    </tr>\n",
       "  </thead>\n",
       "  <tbody>\n",
       "    <tr>\n",
       "      <th>Australia and New Zealand</th>\n",
       "      <td>0.012658</td>\n",
       "      <td>0.03125</td>\n",
       "      <td>0.00000</td>\n",
       "      <td>0.018592</td>\n",
       "      <td>0.000000</td>\n",
       "    </tr>\n",
       "    <tr>\n",
       "      <th>Central and Eastern Europe</th>\n",
       "      <td>0.183544</td>\n",
       "      <td>0.12500</td>\n",
       "      <td>0.18750</td>\n",
       "      <td>0.058544</td>\n",
       "      <td>0.003956</td>\n",
       "    </tr>\n",
       "    <tr>\n",
       "      <th>Eastern Asia</th>\n",
       "      <td>0.037975</td>\n",
       "      <td>0.03125</td>\n",
       "      <td>0.03125</td>\n",
       "      <td>0.006725</td>\n",
       "      <td>0.006725</td>\n",
       "    </tr>\n",
       "    <tr>\n",
       "      <th>Latin America and Caribbean</th>\n",
       "      <td>0.139241</td>\n",
       "      <td>0.15625</td>\n",
       "      <td>0.15625</td>\n",
       "      <td>0.017009</td>\n",
       "      <td>0.017009</td>\n",
       "    </tr>\n",
       "    <tr>\n",
       "      <th>Middle East and Northern Africa</th>\n",
       "      <td>0.126582</td>\n",
       "      <td>0.15625</td>\n",
       "      <td>0.12500</td>\n",
       "      <td>0.029668</td>\n",
       "      <td>0.001582</td>\n",
       "    </tr>\n",
       "    <tr>\n",
       "      <th>North America</th>\n",
       "      <td>0.012658</td>\n",
       "      <td>0.00000</td>\n",
       "      <td>0.00000</td>\n",
       "      <td>0.000000</td>\n",
       "      <td>0.000000</td>\n",
       "    </tr>\n",
       "    <tr>\n",
       "      <th>Southeastern Asia</th>\n",
       "      <td>0.056962</td>\n",
       "      <td>0.06250</td>\n",
       "      <td>0.06250</td>\n",
       "      <td>0.005538</td>\n",
       "      <td>0.005538</td>\n",
       "    </tr>\n",
       "    <tr>\n",
       "      <th>Southern Asia</th>\n",
       "      <td>0.044304</td>\n",
       "      <td>0.00000</td>\n",
       "      <td>0.06250</td>\n",
       "      <td>0.000000</td>\n",
       "      <td>0.018196</td>\n",
       "    </tr>\n",
       "    <tr>\n",
       "      <th>Sub-Saharan Africa</th>\n",
       "      <td>0.253165</td>\n",
       "      <td>0.34375</td>\n",
       "      <td>0.25000</td>\n",
       "      <td>0.090585</td>\n",
       "      <td>0.003165</td>\n",
       "    </tr>\n",
       "    <tr>\n",
       "      <th>Western Europe</th>\n",
       "      <td>0.132911</td>\n",
       "      <td>0.09375</td>\n",
       "      <td>0.12500</td>\n",
       "      <td>0.039161</td>\n",
       "      <td>0.007911</td>\n",
       "    </tr>\n",
       "  </tbody>\n",
       "</table>\n",
       "</div>"
      ],
      "text/plain": [
       "                                  overall  random_split  stratified_split  \\\n",
       "Australia and New Zealand        0.012658       0.03125           0.00000   \n",
       "Central and Eastern Europe       0.183544       0.12500           0.18750   \n",
       "Eastern Asia                     0.037975       0.03125           0.03125   \n",
       "Latin America and Caribbean      0.139241       0.15625           0.15625   \n",
       "Middle East and Northern Africa  0.126582       0.15625           0.12500   \n",
       "North America                    0.012658       0.00000           0.00000   \n",
       "Southeastern Asia                0.056962       0.06250           0.06250   \n",
       "Southern Asia                    0.044304       0.00000           0.06250   \n",
       "Sub-Saharan Africa               0.253165       0.34375           0.25000   \n",
       "Western Europe                   0.132911       0.09375           0.12500   \n",
       "\n",
       "                                 overall_Vs_random_error  \\\n",
       "Australia and New Zealand                       0.018592   \n",
       "Central and Eastern Europe                      0.058544   \n",
       "Eastern Asia                                    0.006725   \n",
       "Latin America and Caribbean                     0.017009   \n",
       "Middle East and Northern Africa                 0.029668   \n",
       "North America                                   0.000000   \n",
       "Southeastern Asia                               0.005538   \n",
       "Southern Asia                                   0.000000   \n",
       "Sub-Saharan Africa                              0.090585   \n",
       "Western Europe                                  0.039161   \n",
       "\n",
       "                                 overall_Vs_stratified_error  \n",
       "Australia and New Zealand                           0.000000  \n",
       "Central and Eastern Europe                          0.003956  \n",
       "Eastern Asia                                        0.006725  \n",
       "Latin America and Caribbean                         0.017009  \n",
       "Middle East and Northern Africa                     0.001582  \n",
       "North America                                       0.000000  \n",
       "Southeastern Asia                                   0.005538  \n",
       "Southern Asia                                       0.018196  \n",
       "Sub-Saharan Africa                                  0.003165  \n",
       "Western Europe                                      0.007911  "
      ]
     },
     "execution_count": 14,
     "metadata": {},
     "output_type": "execute_result"
    }
   ],
   "source": [
    "\n",
    "# this compare_random_stratified_split function from configs file\n",
    "error_result = compare_random_stratified_split(world_happiness_report, random_test_set, \n",
    "                                              tes_stratified_set, \"Region\")\n",
    "error_result.fillna(0, inplace=True)\n",
    "error_result"
   ]
  },
  {
   "cell_type": "code",
   "execution_count": 15,
   "metadata": {},
   "outputs": [
    {
     "data": {
      "text/html": [
       "<div>\n",
       "<style scoped>\n",
       "    .dataframe tbody tr th:only-of-type {\n",
       "        vertical-align: middle;\n",
       "    }\n",
       "\n",
       "    .dataframe tbody tr th {\n",
       "        vertical-align: top;\n",
       "    }\n",
       "\n",
       "    .dataframe thead th {\n",
       "        text-align: right;\n",
       "    }\n",
       "</style>\n",
       "<table border=\"1\" class=\"dataframe\">\n",
       "  <thead>\n",
       "    <tr style=\"text-align: right;\">\n",
       "      <th></th>\n",
       "      <th>overall</th>\n",
       "      <th>random_split</th>\n",
       "      <th>stratified_split</th>\n",
       "      <th>overall_Vs_random_error</th>\n",
       "      <th>overall_Vs_stratified_error</th>\n",
       "    </tr>\n",
       "  </thead>\n",
       "  <tbody>\n",
       "    <tr>\n",
       "      <th>Australia and New Zealand</th>\n",
       "      <td>0.012658</td>\n",
       "      <td>0.03125</td>\n",
       "      <td>0.00000</td>\n",
       "      <td>0.018592</td>\n",
       "      <td>0.000000</td>\n",
       "    </tr>\n",
       "    <tr>\n",
       "      <th>Central and Eastern Europe</th>\n",
       "      <td>0.183544</td>\n",
       "      <td>0.12500</td>\n",
       "      <td>0.18750</td>\n",
       "      <td>0.058544</td>\n",
       "      <td>0.003956</td>\n",
       "    </tr>\n",
       "    <tr>\n",
       "      <th>Eastern Asia</th>\n",
       "      <td>0.037975</td>\n",
       "      <td>0.03125</td>\n",
       "      <td>0.03125</td>\n",
       "      <td>0.006725</td>\n",
       "      <td>0.006725</td>\n",
       "    </tr>\n",
       "    <tr>\n",
       "      <th>Latin America and Caribbean</th>\n",
       "      <td>0.139241</td>\n",
       "      <td>0.15625</td>\n",
       "      <td>0.15625</td>\n",
       "      <td>0.017009</td>\n",
       "      <td>0.017009</td>\n",
       "    </tr>\n",
       "    <tr>\n",
       "      <th>Middle East and Northern Africa</th>\n",
       "      <td>0.126582</td>\n",
       "      <td>0.15625</td>\n",
       "      <td>0.12500</td>\n",
       "      <td>0.029668</td>\n",
       "      <td>0.001582</td>\n",
       "    </tr>\n",
       "    <tr>\n",
       "      <th>North America</th>\n",
       "      <td>0.012658</td>\n",
       "      <td>0.00000</td>\n",
       "      <td>0.00000</td>\n",
       "      <td>0.000000</td>\n",
       "      <td>0.000000</td>\n",
       "    </tr>\n",
       "    <tr>\n",
       "      <th>Southeastern Asia</th>\n",
       "      <td>0.056962</td>\n",
       "      <td>0.06250</td>\n",
       "      <td>0.06250</td>\n",
       "      <td>0.005538</td>\n",
       "      <td>0.005538</td>\n",
       "    </tr>\n",
       "    <tr>\n",
       "      <th>Southern Asia</th>\n",
       "      <td>0.044304</td>\n",
       "      <td>0.00000</td>\n",
       "      <td>0.06250</td>\n",
       "      <td>0.000000</td>\n",
       "      <td>0.018196</td>\n",
       "    </tr>\n",
       "    <tr>\n",
       "      <th>Sub-Saharan Africa</th>\n",
       "      <td>0.253165</td>\n",
       "      <td>0.34375</td>\n",
       "      <td>0.25000</td>\n",
       "      <td>0.090585</td>\n",
       "      <td>0.003165</td>\n",
       "    </tr>\n",
       "    <tr>\n",
       "      <th>Western Europe</th>\n",
       "      <td>0.132911</td>\n",
       "      <td>0.09375</td>\n",
       "      <td>0.12500</td>\n",
       "      <td>0.039161</td>\n",
       "      <td>0.007911</td>\n",
       "    </tr>\n",
       "  </tbody>\n",
       "</table>\n",
       "</div>"
      ],
      "text/plain": [
       "                                  overall  random_split  stratified_split  \\\n",
       "Australia and New Zealand        0.012658       0.03125           0.00000   \n",
       "Central and Eastern Europe       0.183544       0.12500           0.18750   \n",
       "Eastern Asia                     0.037975       0.03125           0.03125   \n",
       "Latin America and Caribbean      0.139241       0.15625           0.15625   \n",
       "Middle East and Northern Africa  0.126582       0.15625           0.12500   \n",
       "North America                    0.012658       0.00000           0.00000   \n",
       "Southeastern Asia                0.056962       0.06250           0.06250   \n",
       "Southern Asia                    0.044304       0.00000           0.06250   \n",
       "Sub-Saharan Africa               0.253165       0.34375           0.25000   \n",
       "Western Europe                   0.132911       0.09375           0.12500   \n",
       "\n",
       "                                 overall_Vs_random_error  \\\n",
       "Australia and New Zealand                       0.018592   \n",
       "Central and Eastern Europe                      0.058544   \n",
       "Eastern Asia                                    0.006725   \n",
       "Latin America and Caribbean                     0.017009   \n",
       "Middle East and Northern Africa                 0.029668   \n",
       "North America                                   0.000000   \n",
       "Southeastern Asia                               0.005538   \n",
       "Southern Asia                                   0.000000   \n",
       "Sub-Saharan Africa                              0.090585   \n",
       "Western Europe                                  0.039161   \n",
       "\n",
       "                                 overall_Vs_stratified_error  \n",
       "Australia and New Zealand                           0.000000  \n",
       "Central and Eastern Europe                          0.003956  \n",
       "Eastern Asia                                        0.006725  \n",
       "Latin America and Caribbean                         0.017009  \n",
       "Middle East and Northern Africa                     0.001582  \n",
       "North America                                       0.000000  \n",
       "Southeastern Asia                                   0.005538  \n",
       "Southern Asia                                       0.018196  \n",
       "Sub-Saharan Africa                                  0.003165  \n",
       "Western Europe                                      0.007911  "
      ]
     },
     "execution_count": 15,
     "metadata": {},
     "output_type": "execute_result"
    }
   ],
   "source": [
    "error_result.fillna(0)"
   ]
  },
  {
   "cell_type": "markdown",
   "metadata": {},
   "source": [
    "# Important Note !\n",
    "\n",
    "Even of the big difference error between random and stratified Vs overall based on the **Region** attributes, it help you to consider that we should collect more instances for North America and Australia and New Zealand, as they just 2  instances."
   ]
  },
  {
   "cell_type": "markdown",
   "metadata": {},
   "source": [
    "## Discover and visualize to get insights\n",
    "\n",
    "The histogram is helpful, but as we need to get more insights we need to go deeper, and the visualization helps us to get more insights since the brain is very weel capture information from images and graphs, also instead of representing each attribute on its own, now the time to discover the relation ship between attributes, or some attributes with the target attribute.\n",
    "\n",
    "Now we have a train and test set so let us keep the test set aside and not touched till we decide to launch the model, also take a copy of the traing set to go in depth of discovering and keep the original data."
   ]
  },
  {
   "cell_type": "code",
   "execution_count": 16,
   "metadata": {},
   "outputs": [
    {
     "data": {
      "text/html": [
       "<div>\n",
       "<style scoped>\n",
       "    .dataframe tbody tr th:only-of-type {\n",
       "        vertical-align: middle;\n",
       "    }\n",
       "\n",
       "    .dataframe tbody tr th {\n",
       "        vertical-align: top;\n",
       "    }\n",
       "\n",
       "    .dataframe thead th {\n",
       "        text-align: right;\n",
       "    }\n",
       "</style>\n",
       "<table border=\"1\" class=\"dataframe\">\n",
       "  <thead>\n",
       "    <tr style=\"text-align: right;\">\n",
       "      <th></th>\n",
       "      <th>Country</th>\n",
       "      <th>Region</th>\n",
       "      <th>Happiness Rank</th>\n",
       "      <th>Happiness Score</th>\n",
       "      <th>Standard Error</th>\n",
       "      <th>Economy (GDP per Capita)</th>\n",
       "      <th>Family</th>\n",
       "      <th>Health (Life Expectancy)</th>\n",
       "      <th>Freedom</th>\n",
       "      <th>Trust (Government Corruption)</th>\n",
       "      <th>Generosity</th>\n",
       "      <th>Dystopia Residual</th>\n",
       "    </tr>\n",
       "  </thead>\n",
       "  <tbody>\n",
       "    <tr>\n",
       "      <th>127</th>\n",
       "      <td>Botswana</td>\n",
       "      <td>Sub-Saharan Africa</td>\n",
       "      <td>128</td>\n",
       "      <td>4.332</td>\n",
       "      <td>0.04934</td>\n",
       "      <td>0.99355</td>\n",
       "      <td>1.10464</td>\n",
       "      <td>0.04776</td>\n",
       "      <td>0.49495</td>\n",
       "      <td>0.12474</td>\n",
       "      <td>0.10461</td>\n",
       "      <td>1.46181</td>\n",
       "    </tr>\n",
       "    <tr>\n",
       "      <th>150</th>\n",
       "      <td>Ivory Coast</td>\n",
       "      <td>Sub-Saharan Africa</td>\n",
       "      <td>151</td>\n",
       "      <td>3.655</td>\n",
       "      <td>0.05141</td>\n",
       "      <td>0.46534</td>\n",
       "      <td>0.77115</td>\n",
       "      <td>0.15185</td>\n",
       "      <td>0.46866</td>\n",
       "      <td>0.17922</td>\n",
       "      <td>0.20165</td>\n",
       "      <td>1.41723</td>\n",
       "    </tr>\n",
       "    <tr>\n",
       "      <th>34</th>\n",
       "      <td>Saudi Arabia</td>\n",
       "      <td>Middle East and Northern Africa</td>\n",
       "      <td>35</td>\n",
       "      <td>6.411</td>\n",
       "      <td>0.04633</td>\n",
       "      <td>1.39541</td>\n",
       "      <td>1.08393</td>\n",
       "      <td>0.72025</td>\n",
       "      <td>0.31048</td>\n",
       "      <td>0.32524</td>\n",
       "      <td>0.13706</td>\n",
       "      <td>2.43872</td>\n",
       "    </tr>\n",
       "    <tr>\n",
       "      <th>155</th>\n",
       "      <td>Syria</td>\n",
       "      <td>Middle East and Northern Africa</td>\n",
       "      <td>156</td>\n",
       "      <td>3.006</td>\n",
       "      <td>0.05015</td>\n",
       "      <td>0.66320</td>\n",
       "      <td>0.47489</td>\n",
       "      <td>0.72193</td>\n",
       "      <td>0.15684</td>\n",
       "      <td>0.18906</td>\n",
       "      <td>0.47179</td>\n",
       "      <td>0.32858</td>\n",
       "    </tr>\n",
       "    <tr>\n",
       "      <th>115</th>\n",
       "      <td>Liberia</td>\n",
       "      <td>Sub-Saharan Africa</td>\n",
       "      <td>116</td>\n",
       "      <td>4.571</td>\n",
       "      <td>0.11068</td>\n",
       "      <td>0.07120</td>\n",
       "      <td>0.78968</td>\n",
       "      <td>0.34201</td>\n",
       "      <td>0.28531</td>\n",
       "      <td>0.06232</td>\n",
       "      <td>0.24362</td>\n",
       "      <td>2.77729</td>\n",
       "    </tr>\n",
       "  </tbody>\n",
       "</table>\n",
       "</div>"
      ],
      "text/plain": [
       "          Country                           Region  Happiness Rank  \\\n",
       "127      Botswana               Sub-Saharan Africa             128   \n",
       "150   Ivory Coast               Sub-Saharan Africa             151   \n",
       "34   Saudi Arabia  Middle East and Northern Africa              35   \n",
       "155         Syria  Middle East and Northern Africa             156   \n",
       "115       Liberia               Sub-Saharan Africa             116   \n",
       "\n",
       "     Happiness Score  Standard Error  Economy (GDP per Capita)   Family  \\\n",
       "127            4.332         0.04934                   0.99355  1.10464   \n",
       "150            3.655         0.05141                   0.46534  0.77115   \n",
       "34             6.411         0.04633                   1.39541  1.08393   \n",
       "155            3.006         0.05015                   0.66320  0.47489   \n",
       "115            4.571         0.11068                   0.07120  0.78968   \n",
       "\n",
       "     Health (Life Expectancy)  Freedom  Trust (Government Corruption)  \\\n",
       "127                   0.04776  0.49495                        0.12474   \n",
       "150                   0.15185  0.46866                        0.17922   \n",
       "34                    0.72025  0.31048                        0.32524   \n",
       "155                   0.72193  0.15684                        0.18906   \n",
       "115                   0.34201  0.28531                        0.06232   \n",
       "\n",
       "     Generosity  Dystopia Residual  \n",
       "127     0.10461            1.46181  \n",
       "150     0.20165            1.41723  \n",
       "34      0.13706            2.43872  \n",
       "155     0.47179            0.32858  \n",
       "115     0.24362            2.77729  "
      ]
     },
     "execution_count": 16,
     "metadata": {},
     "output_type": "execute_result"
    }
   ],
   "source": [
    "happiness_report = tr_stratified_set.copy()\n",
    "happiness_report.head()"
   ]
  },
  {
   "cell_type": "markdown",
   "metadata": {},
   "source": [
    "## Some Assumption\n",
    "\n",
    "It more powerful when you trying to get insights from the data is to make some assumption which can lead you to good result at the end.\n",
    "\n",
    "As we can in first graph how the **Happiness Score** going on to increase with the strong positive correlation between **Economy (GDP per Capita)** and ** Health (Life Expectancy)**.\n",
    "\n",
    "Also, may be the **Freedom** has its relation with the **Dystopia Residual)**, as when the Dystopia Residual decrease it means that the life free is going to be high because all of us trying to life in Utopia, and the **Dystopia Residual** is represent the Dystopia Happiness, so it increase with the freedom.\n",
    "\n",
    "\n",
    "Also, as there are two similr attribute which are **Happiness Rank** and **Happiness Score**, dicover these two attributes may be also help us to get more insights, and as we can see in the graph below there is a strong negative correlation.\n"
   ]
  },
  {
   "cell_type": "code",
   "execution_count": 17,
   "metadata": {},
   "outputs": [
    {
     "data": {
      "text/plain": [
       "<Figure size 720x720 with 0 Axes>"
      ]
     },
     "metadata": {},
     "output_type": "display_data"
    },
    {
     "data": {
      "image/png": "[encoded data removed]",
      "text/plain": [
       "<Figure size 432x288 with 2 Axes>"
      ]
     },
     "metadata": {},
     "output_type": "display_data"
    }
   ],
   "source": [
    "_ = visualize_plot(happiness_report, \"scatter\", \"Health (Life Expectancy)\", \"Economy (GDP per Capita)\",\n",
    "                  50, \"Happiness Score\", True)"
   ]
  },
  {
   "cell_type": "markdown",
   "metadata": {},
   "source": [
    "## Correlation\n",
    "\n",
    "As we get a lot of insights from which attributes have its own linearity of effect the target variables, from strong positive correlation to strong negative correlation. But more insights is to get numbers that represent the correlation between each of these attributes with the target.\n",
    "\n",
    "And as we can see that GDP per Capita as well as Life Expectancy are most effect the Happiness Score, and how far away Happiness Rank is strong negative as it, and others like **Standard Error** may be need to removed as it have a small negative affect on target so we can trying to train the model with and without."
   ]
  },
  {
   "cell_type": "code",
   "execution_count": 18,
   "metadata": {},
   "outputs": [
    {
     "data": {
      "text/plain": [
       "Happiness Score                  1.000000\n",
       "Economy (GDP per Capita)         0.774147\n",
       "Family                           0.732949\n",
       "Health (Life Expectancy)         0.720472\n",
       "Freedom                          0.587719\n",
       "Dystopia Residual                0.502247\n",
       "Trust (Government Corruption)    0.380981\n",
       "Generosity                       0.200766\n",
       "Standard Error                  -0.188232\n",
       "Happiness Rank                  -0.991884\n",
       "Name: Happiness Score, dtype: float64"
      ]
     },
     "execution_count": 18,
     "metadata": {},
     "output_type": "execute_result"
    }
   ],
   "source": [
    "correlation_metrix = happiness_report.corr()\n",
    "correlation_metrix['Happiness Score'].sort_values(ascending=False)"
   ]
  },
  {
   "cell_type": "markdown",
   "metadata": {},
   "source": [
    "## Scatter Matrix\n",
    "\n",
    "Even of graphs above give us a lot of insight we need more insights, but it not helpfull to graphs each of these attributes agnist each other it consume a lot of time and also we need one graph represent all in 1, but to represent each attribute against each other it means that, we have 10 number attributes it will produce 10*10 graph, so instead we display the most effected ones like what we see in the above numbers."
   ]
  },
  {
   "cell_type": "code",
   "execution_count": 19,
   "metadata": {},
   "outputs": [
    {
     "data": {
      "text/plain": [
       "Index(['Country', 'Region', 'Happiness Rank', 'Happiness Score',\n",
       "       'Standard Error', 'Economy (GDP per Capita)', 'Family',\n",
       "       'Health (Life Expectancy)', 'Freedom', 'Trust (Government Corruption)',\n",
       "       'Generosity', 'Dystopia Residual'],\n",
       "      dtype='object')"
      ]
     },
     "execution_count": 19,
     "metadata": {},
     "output_type": "execute_result"
    }
   ],
   "source": [
    "happiness_report.columns"
   ]
  },
  {
   "cell_type": "code",
   "execution_count": 20,
   "metadata": {
    "collapsed": true
   },
   "outputs": [],
   "source": [
    "attributes = [\"Happiness Score\", \"Happiness Rank\", \"Health (Life Expectancy)\", \"Economy (GDP per Capita)\"]"
   ]
  },
  {
   "cell_type": "code",
   "execution_count": 21,
   "metadata": {},
   "outputs": [
    {
     "name": "stderr",
     "output_type": "stream",
     "text": [
      "/home/abdelrahman/anaconda3/lib/python3.6/site-packages/pandas/plotting/_tools.py:308: MatplotlibDeprecationWarning: \n",
      "The rowNum attribute was deprecated in Matplotlib 3.2 and will be removed two minor releases later. Use ax.get_subplotspec().rowspan.start instead.\n",
      "  layout[ax.rowNum, ax.colNum] = ax.get_visible()\n",
      "/home/abdelrahman/anaconda3/lib/python3.6/site-packages/pandas/plotting/_tools.py:308: MatplotlibDeprecationWarning: \n",
      "The colNum attribute was deprecated in Matplotlib 3.2 and will be removed two minor releases later. Use ax.get_subplotspec().colspan.start instead.\n",
      "  layout[ax.rowNum, ax.colNum] = ax.get_visible()\n",
      "/home/abdelrahman/anaconda3/lib/python3.6/site-packages/pandas/plotting/_tools.py:314: MatplotlibDeprecationWarning: \n",
      "The rowNum attribute was deprecated in Matplotlib 3.2 and will be removed two minor releases later. Use ax.get_subplotspec().rowspan.start instead.\n",
      "  if not layout[ax.rowNum + 1, ax.colNum]:\n",
      "/home/abdelrahman/anaconda3/lib/python3.6/site-packages/pandas/plotting/_tools.py:314: MatplotlibDeprecationWarning: \n",
      "The colNum attribute was deprecated in Matplotlib 3.2 and will be removed two minor releases later. Use ax.get_subplotspec().colspan.start instead.\n",
      "  if not layout[ax.rowNum + 1, ax.colNum]:\n"
     ]
    },
    {
     "data": {
      "text/plain": [
       "array([[<matplotlib.axes._subplots.AxesSubplot object at 0x7fae2b342908>,\n",
       "        <matplotlib.axes._subplots.AxesSubplot object at 0x7fae2b2f42e8>,\n",
       "        <matplotlib.axes._subplots.AxesSubplot object at 0x7fae2b325550>,\n",
       "        <matplotlib.axes._subplots.AxesSubplot object at 0x7fae2b2d97b8>],\n",
       "       [<matplotlib.axes._subplots.AxesSubplot object at 0x7fae2b28ba20>,\n",
       "        <matplotlib.axes._subplots.AxesSubplot object at 0x7fae2b240c88>,\n",
       "        <matplotlib.axes._subplots.AxesSubplot object at 0x7fae2b1f4ef0>,\n",
       "        <matplotlib.axes._subplots.AxesSubplot object at 0x7fae2b230668>],\n",
       "       [<matplotlib.axes._subplots.AxesSubplot object at 0x7fae2b2306d8>,\n",
       "        <matplotlib.axes._subplots.AxesSubplot object at 0x7fae2b195da0>,\n",
       "        <matplotlib.axes._subplots.AxesSubplot object at 0x7fae2b155160>,\n",
       "        <matplotlib.axes._subplots.AxesSubplot object at 0x7fae2b1074e0>],\n",
       "       [<matplotlib.axes._subplots.AxesSubplot object at 0x7fae2b0ba860>,\n",
       "        <matplotlib.axes._subplots.AxesSubplot object at 0x7fae2b0ebbe0>,\n",
       "        <matplotlib.axes._subplots.AxesSubplot object at 0x7fae2b09ff60>,\n",
       "        <matplotlib.axes._subplots.AxesSubplot object at 0x7fae2b05b320>]],\n",
       "      dtype=object)"
      ]
     },
     "execution_count": 21,
     "metadata": {},
     "output_type": "execute_result"
    },
    {
     "data": {
      "image/png": "[encoded data removed]",
      "text/plain": [
       "<Figure size 1600x1000 with 16 Axes>"
      ]
     },
     "metadata": {},
     "output_type": "display_data"
    }
   ],
   "source": [
    "plt.style.use('default')\n",
    "pd.plotting.scatter_matrix(happiness_report[attributes], figsize=(16,10))"
   ]
  },
  {
   "cell_type": "markdown",
   "metadata": {},
   "source": [
    "## Note!!\n",
    "\n",
    "**As we can see the strong relationship between the target and the other two ones, while these two and the target has a strong negative correlation with the *Happiness Score*.**"
   ]
  },
  {
   "cell_type": "markdown",
   "metadata": {
    "collapsed": true
   },
   "source": [
    "## Attribute Combination\n",
    "\n",
    "It worse trying to add a relationship between two attributes to extract new ones, but even if that multiple attributes have strong positive or negative relation but its not reflect any information to extract new ones from.\n",
    "\n",
    "Maybe there is a one I will try to add which is related to **Economy (GDP per Capita)' Vs 'Family'**."
   ]
  },
  {
   "cell_type": "code",
   "execution_count": 22,
   "metadata": {
    "collapsed": true
   },
   "outputs": [],
   "source": [
    "happiness_report['GDP_for_family'] =  happiness_report['Economy (GDP per Capita)'] / happiness_report['Family']"
   ]
  },
  {
   "cell_type": "code",
   "execution_count": 23,
   "metadata": {},
   "outputs": [
    {
     "data": {
      "text/plain": [
       "Happiness Score                  1.000000\n",
       "Economy (GDP per Capita)         0.774147\n",
       "Family                           0.732949\n",
       "Health (Life Expectancy)         0.720472\n",
       "Freedom                          0.587719\n",
       "Dystopia Residual                0.502247\n",
       "Trust (Government Corruption)    0.380981\n",
       "GDP_for_family                   0.351773\n",
       "Generosity                       0.200766\n",
       "Standard Error                  -0.188232\n",
       "Happiness Rank                  -0.991884\n",
       "Name: Happiness Score, dtype: float64"
      ]
     },
     "execution_count": 23,
     "metadata": {},
     "output_type": "execute_result"
    }
   ],
   "source": [
    "# Now lets looking in the correlation again\n",
    "\n",
    "happiness_corr = happiness_report.corr()\n",
    "happiness_corr['Happiness Score'].sort_values(ascending=False)"
   ]
  },
  {
   "cell_type": "markdown",
   "metadata": {},
   "source": [
    "## Note !\n",
    "\n",
    "The new ones **GDP_for_family** has a positive correlation of *.35* with **Happiness Score**, so we can train the model with and also without."
   ]
  },
  {
   "cell_type": "markdown",
   "metadata": {},
   "source": [
    "# Prepare the Data for Machine Learning Algorithms\n",
    "\n",
    "We have passed through different ways of discovery and analysis to get insights about the data we dealing with and what are the most representative attributes of our data, also we have added a new attribute to look at in the training of our model.\n",
    "\n",
    "From this step we need to make our work as automated as we can because it will not work just with the data we have, it will work with the test set we keep aside and for the new data when the system goes a life, also it may be used for other similar dataset or some of the functions can be used.\n"
   ]
  },
  {
   "cell_type": "markdown",
   "metadata": {},
   "source": [
    "# Notes !\n",
    "\n",
    "First, we need to split the learning attributes and target variable.\n",
    "\n",
    "Second, separate the categories attributes from the attributes of the numbers.\n"
   ]
  },
  {
   "cell_type": "code",
   "execution_count": 24,
   "metadata": {
    "collapsed": true
   },
   "outputs": [],
   "source": [
    "happiness_report = tr_stratified_set.copy()\n",
    "happiness_report_num, happiness_report_cat, happiness_report_labels = split_seprate(happiness_report)"
   ]
  },
  {
   "cell_type": "markdown",
   "metadata": {},
   "source": [
    "# Numeric Attributes handling\n",
    "\n",
    "We do not have any missing values in our training, it (126) instance for all attributes, but the thing does not go like this, the test set may include some missing values or even when system goes live it may return some missing values for some attributes so we need to handle like this case and save the value we will replace with once we have missing value.\n",
    "\n",
    "Also because some attributes have different ranges like **Happiness Rank**, from most of the other ones, and because of some models working well with data in a specific range, we will apply MaxMin features scaling to restrict that all values are between range 0 and 1.\n",
    "\n",
    "Some of steps we can do with missing values:\n",
    "\n",
    "- Remove the attribute itself\n",
    "- Remove corresponding rows (instances)\n",
    "- Replace the missing value with the mean, standard deviation, or with 0 value as the case required"
   ]
  },
  {
   "cell_type": "code",
   "execution_count": 25,
   "metadata": {},
   "outputs": [
    {
     "data": {
      "text/plain": [
       "array([7.89126984e+01, 4.78035714e-02, 8.56830476e-01, 9.81851587e-01,\n",
       "       6.34861190e-01, 4.24264603e-01, 1.44228095e-01, 2.41001905e-01,\n",
       "       2.09922468e+00])"
      ]
     },
     "execution_count": 25,
     "metadata": {},
     "output_type": "execute_result"
    }
   ],
   "source": [
    "imputer = SimpleImputer(strategy='mean')\n",
    "imputer.fit(happiness_report_num.values)\n",
    "imputer.statistics_"
   ]
  },
  {
   "cell_type": "code",
   "execution_count": 26,
   "metadata": {},
   "outputs": [
    {
     "data": {
      "text/plain": [
       "(126, 9)"
      ]
     },
     "execution_count": 26,
     "metadata": {},
     "output_type": "execute_result"
    }
   ],
   "source": [
    "X_training = imputer.transform(happiness_report_num)\n",
    "\n",
    "X_training.shape # numpy array"
   ]
  },
  {
   "cell_type": "code",
   "execution_count": 27,
   "metadata": {
    "collapsed": true
   },
   "outputs": [],
   "source": [
    "# Feature Scaling\n",
    "min_max_scaling = MinMaxScaler()\n",
    "min_max_scaling.fit(X_training)\n",
    "X_training = min_max_scaling.transform(happiness_report_num)"
   ]
  },
  {
   "cell_type": "code",
   "execution_count": 28,
   "metadata": {},
   "outputs": [
    {
     "data": {
      "text/html": [
       "<div>\n",
       "<style scoped>\n",
       "    .dataframe tbody tr th:only-of-type {\n",
       "        vertical-align: middle;\n",
       "    }\n",
       "\n",
       "    .dataframe tbody tr th {\n",
       "        vertical-align: top;\n",
       "    }\n",
       "\n",
       "    .dataframe thead th {\n",
       "        text-align: right;\n",
       "    }\n",
       "</style>\n",
       "<table border=\"1\" class=\"dataframe\">\n",
       "  <thead>\n",
       "    <tr style=\"text-align: right;\">\n",
       "      <th></th>\n",
       "      <th>Happiness Rank</th>\n",
       "      <th>Standard Error</th>\n",
       "      <th>Economy (GDP per Capita)</th>\n",
       "      <th>Family</th>\n",
       "      <th>Health (Life Expectancy)</th>\n",
       "      <th>Freedom</th>\n",
       "      <th>Trust (Government Corruption)</th>\n",
       "      <th>Generosity</th>\n",
       "      <th>Dystopia Residual</th>\n",
       "    </tr>\n",
       "  </thead>\n",
       "  <tbody>\n",
       "    <tr>\n",
       "      <th>127</th>\n",
       "      <td>0.808917</td>\n",
       "      <td>0.334707</td>\n",
       "      <td>0.587753</td>\n",
       "      <td>0.787774</td>\n",
       "      <td>0.000000</td>\n",
       "      <td>0.739029</td>\n",
       "      <td>0.226015</td>\n",
       "      <td>0.131439</td>\n",
       "      <td>0.346177</td>\n",
       "    </tr>\n",
       "    <tr>\n",
       "      <th>150</th>\n",
       "      <td>0.955414</td>\n",
       "      <td>0.357158</td>\n",
       "      <td>0.275281</td>\n",
       "      <td>0.549945</td>\n",
       "      <td>0.106487</td>\n",
       "      <td>0.699775</td>\n",
       "      <td>0.324727</td>\n",
       "      <td>0.253367</td>\n",
       "      <td>0.332558</td>\n",
       "    </tr>\n",
       "    <tr>\n",
       "      <th>34</th>\n",
       "      <td>0.216561</td>\n",
       "      <td>0.302061</td>\n",
       "      <td>0.825481</td>\n",
       "      <td>0.773004</td>\n",
       "      <td>0.687976</td>\n",
       "      <td>0.463590</td>\n",
       "      <td>0.589299</td>\n",
       "      <td>0.172212</td>\n",
       "      <td>0.644601</td>\n",
       "    </tr>\n",
       "    <tr>\n",
       "      <th>155</th>\n",
       "      <td>0.987261</td>\n",
       "      <td>0.343492</td>\n",
       "      <td>0.392329</td>\n",
       "      <td>0.338668</td>\n",
       "      <td>0.689695</td>\n",
       "      <td>0.234184</td>\n",
       "      <td>0.342556</td>\n",
       "      <td>0.592790</td>\n",
       "      <td>0.000000</td>\n",
       "    </tr>\n",
       "    <tr>\n",
       "      <th>115</th>\n",
       "      <td>0.732484</td>\n",
       "      <td>1.000000</td>\n",
       "      <td>0.042120</td>\n",
       "      <td>0.563160</td>\n",
       "      <td>0.301026</td>\n",
       "      <td>0.426007</td>\n",
       "      <td>0.112917</td>\n",
       "      <td>0.306101</td>\n",
       "      <td>0.748027</td>\n",
       "    </tr>\n",
       "  </tbody>\n",
       "</table>\n",
       "</div>"
      ],
      "text/plain": [
       "     Happiness Rank  Standard Error  Economy (GDP per Capita)    Family  \\\n",
       "127        0.808917        0.334707                  0.587753  0.787774   \n",
       "150        0.955414        0.357158                  0.275281  0.549945   \n",
       "34         0.216561        0.302061                  0.825481  0.773004   \n",
       "155        0.987261        0.343492                  0.392329  0.338668   \n",
       "115        0.732484        1.000000                  0.042120  0.563160   \n",
       "\n",
       "     Health (Life Expectancy)   Freedom  Trust (Government Corruption)  \\\n",
       "127                  0.000000  0.739029                       0.226015   \n",
       "150                  0.106487  0.699775                       0.324727   \n",
       "34                   0.687976  0.463590                       0.589299   \n",
       "155                  0.689695  0.234184                       0.342556   \n",
       "115                  0.301026  0.426007                       0.112917   \n",
       "\n",
       "     Generosity  Dystopia Residual  \n",
       "127    0.131439           0.346177  \n",
       "150    0.253367           0.332558  \n",
       "34     0.172212           0.644601  \n",
       "155    0.592790           0.000000  \n",
       "115    0.306101           0.748027  "
      ]
     },
     "execution_count": 28,
     "metadata": {},
     "output_type": "execute_result"
    }
   ],
   "source": [
    "\n",
    "# Return to pandas data frame with imputed data\n",
    "\n",
    "happiness_report_num = pd.DataFrame(X_training, columns=happiness_report_num.columns,\n",
    "                                   index=happiness_report_num.index)\n",
    "happiness_report_num.head()"
   ]
  },
  {
   "cell_type": "markdown",
   "metadata": {},
   "source": [
    "# Categorize attributes\n",
    "\n",
    "just one attribute is categorized as the **Region** attribute and it may reflect some information not like country because it just 1 country for each instance, but the **Region** is 10 region overall which can reflect those who live in some region have happiness score large than others in another region.\n",
    "\n",
    "But not this the point, most of the models accept only numbers so we need to transfer this attribute to the number that the model can deal with, and there are different ways to transform, and this based on the kine of categorized attribute you have, is it ordinal or random one that the arrangements may cause misleading to the model.\n",
    "\n",
    "The **Region** is not ordinal so will use the **One Hot** method, also there is another way we can deal with embedding."
   ]
  },
  {
   "cell_type": "code",
   "execution_count": 29,
   "metadata": {},
   "outputs": [
    {
     "name": "stdout",
     "output_type": "stream",
     "text": [
      "(126, 10)\n",
      "[array(['Australia and New Zealand', 'Central and Eastern Europe',\n",
      "       'Eastern Asia', 'Latin America and Caribbean',\n",
      "       'Middle East and Northern Africa', 'North America',\n",
      "       'Southeastern Asia', 'Southern Asia', 'Sub-Saharan Africa',\n",
      "       'Western Europe'], dtype=object)]\n"
     ]
    },
    {
     "data": {
      "text/plain": [
       "<126x10 sparse matrix of type '<class 'numpy.float64'>'\n",
       "\twith 126 stored elements in Compressed Sparse Row format>"
      ]
     },
     "execution_count": 29,
     "metadata": {},
     "output_type": "execute_result"
    }
   ],
   "source": [
    "# happiness_report_cat = pd.DataFrame(happiness_report_cat, columns=['Region'])\n",
    "one_hot_encode = OneHotEncoder()\n",
    "happiness_report_cat_1hot = one_hot_encode.fit_transform(happiness_report_cat)\n",
    "print(happiness_report_cat_1hot.shape)\n",
    "print(one_hot_encode.categories_)\n",
    "happiness_report_cat_1hot"
   ]
  },
  {
   "cell_type": "markdown",
   "metadata": {},
   "source": [
    "# sparse matrix\n",
    "\n",
    "Because most of this matrix are 0, sklearn keep just the location of **nonZeros** to save your memory, and to back to the numpy array just us **toarray** method assocated with the object."
   ]
  },
  {
   "cell_type": "code",
   "execution_count": 30,
   "metadata": {},
   "outputs": [
    {
     "data": {
      "text/plain": [
       "array([[0., 0., 0., ..., 0., 1., 0.],\n",
       "       [0., 0., 0., ..., 0., 1., 0.],\n",
       "       [0., 0., 0., ..., 0., 0., 0.],\n",
       "       ...,\n",
       "       [0., 0., 0., ..., 1., 0., 0.],\n",
       "       [0., 0., 0., ..., 0., 0., 1.],\n",
       "       [0., 0., 0., ..., 0., 0., 0.]])"
      ]
     },
     "execution_count": 30,
     "metadata": {},
     "output_type": "execute_result"
    }
   ],
   "source": [
    "happiness_report_cat_1hot.toarray()"
   ]
  },
  {
   "cell_type": "markdown",
   "metadata": {},
   "source": [
    "# Attribute Combination class\n",
    "\n",
    "We have discussed earlier about attribute combination, but here we need to make this process automated, and also some attributes maybe useful to remove from the dataset like **Standard Error **, it less effective the target variable as we see.\n",
    "\n",
    "But we need to make the process alongside sklearn functionality."
   ]
  },
  {
   "cell_type": "code",
   "execution_count": 31,
   "metadata": {},
   "outputs": [
    {
     "data": {
      "text/html": [
       "<div>\n",
       "<style scoped>\n",
       "    .dataframe tbody tr th:only-of-type {\n",
       "        vertical-align: middle;\n",
       "    }\n",
       "\n",
       "    .dataframe tbody tr th {\n",
       "        vertical-align: top;\n",
       "    }\n",
       "\n",
       "    .dataframe thead th {\n",
       "        text-align: right;\n",
       "    }\n",
       "</style>\n",
       "<table border=\"1\" class=\"dataframe\">\n",
       "  <thead>\n",
       "    <tr style=\"text-align: right;\">\n",
       "      <th></th>\n",
       "      <th>Happiness Rank</th>\n",
       "      <th>Standard Error</th>\n",
       "      <th>Economy (GDP per Capita)</th>\n",
       "      <th>Family</th>\n",
       "      <th>Health (Life Expectancy)</th>\n",
       "      <th>Freedom</th>\n",
       "      <th>Trust (Government Corruption)</th>\n",
       "      <th>Generosity</th>\n",
       "      <th>Dystopia Residual</th>\n",
       "    </tr>\n",
       "  </thead>\n",
       "  <tbody>\n",
       "    <tr>\n",
       "      <th>127</th>\n",
       "      <td>0.808917</td>\n",
       "      <td>0.334707</td>\n",
       "      <td>0.587753</td>\n",
       "      <td>0.787774</td>\n",
       "      <td>0.000000</td>\n",
       "      <td>0.739029</td>\n",
       "      <td>0.226015</td>\n",
       "      <td>0.131439</td>\n",
       "      <td>0.346177</td>\n",
       "    </tr>\n",
       "    <tr>\n",
       "      <th>150</th>\n",
       "      <td>0.955414</td>\n",
       "      <td>0.357158</td>\n",
       "      <td>0.275281</td>\n",
       "      <td>0.549945</td>\n",
       "      <td>0.106487</td>\n",
       "      <td>0.699775</td>\n",
       "      <td>0.324727</td>\n",
       "      <td>0.253367</td>\n",
       "      <td>0.332558</td>\n",
       "    </tr>\n",
       "    <tr>\n",
       "      <th>34</th>\n",
       "      <td>0.216561</td>\n",
       "      <td>0.302061</td>\n",
       "      <td>0.825481</td>\n",
       "      <td>0.773004</td>\n",
       "      <td>0.687976</td>\n",
       "      <td>0.463590</td>\n",
       "      <td>0.589299</td>\n",
       "      <td>0.172212</td>\n",
       "      <td>0.644601</td>\n",
       "    </tr>\n",
       "    <tr>\n",
       "      <th>155</th>\n",
       "      <td>0.987261</td>\n",
       "      <td>0.343492</td>\n",
       "      <td>0.392329</td>\n",
       "      <td>0.338668</td>\n",
       "      <td>0.689695</td>\n",
       "      <td>0.234184</td>\n",
       "      <td>0.342556</td>\n",
       "      <td>0.592790</td>\n",
       "      <td>0.000000</td>\n",
       "    </tr>\n",
       "    <tr>\n",
       "      <th>115</th>\n",
       "      <td>0.732484</td>\n",
       "      <td>1.000000</td>\n",
       "      <td>0.042120</td>\n",
       "      <td>0.563160</td>\n",
       "      <td>0.301026</td>\n",
       "      <td>0.426007</td>\n",
       "      <td>0.112917</td>\n",
       "      <td>0.306101</td>\n",
       "      <td>0.748027</td>\n",
       "    </tr>\n",
       "  </tbody>\n",
       "</table>\n",
       "</div>"
      ],
      "text/plain": [
       "     Happiness Rank  Standard Error  Economy (GDP per Capita)    Family  \\\n",
       "127        0.808917        0.334707                  0.587753  0.787774   \n",
       "150        0.955414        0.357158                  0.275281  0.549945   \n",
       "34         0.216561        0.302061                  0.825481  0.773004   \n",
       "155        0.987261        0.343492                  0.392329  0.338668   \n",
       "115        0.732484        1.000000                  0.042120  0.563160   \n",
       "\n",
       "     Health (Life Expectancy)   Freedom  Trust (Government Corruption)  \\\n",
       "127                  0.000000  0.739029                       0.226015   \n",
       "150                  0.106487  0.699775                       0.324727   \n",
       "34                   0.687976  0.463590                       0.589299   \n",
       "155                  0.689695  0.234184                       0.342556   \n",
       "115                  0.301026  0.426007                       0.112917   \n",
       "\n",
       "     Generosity  Dystopia Residual  \n",
       "127    0.131439           0.346177  \n",
       "150    0.253367           0.332558  \n",
       "34     0.172212           0.644601  \n",
       "155    0.592790           0.000000  \n",
       "115    0.306101           0.748027  "
      ]
     },
     "execution_count": 31,
     "metadata": {},
     "output_type": "execute_result"
    }
   ],
   "source": [
    "happiness_report_num.head()"
   ]
  },
  {
   "cell_type": "code",
   "execution_count": 32,
   "metadata": {},
   "outputs": [
    {
     "name": "stdout",
     "output_type": "stream",
     "text": [
      "(126, 9)\n"
     ]
    },
    {
     "data": {
      "text/plain": [
       "(126, 10)"
      ]
     },
     "execution_count": 32,
     "metadata": {},
     "output_type": "execute_result"
    }
   ],
   "source": [
    "print(happiness_report_num.values.shape)\n",
    "attr_adder = AddCombinedAttributes()\n",
    "add_extra_attr = attr_adder.transform(happiness_report_num.values)\n",
    "add_extra_attr.shape"
   ]
  },
  {
   "cell_type": "markdown",
   "metadata": {},
   "source": [
    "# PipeLine\n",
    "\n",
    "We have moved through different stages and for each one, we have explained why and trying first to make the process, for now, we have prepared most of the things but again it will be helpful to go through again these steps but in the simple pipeline that works for **numbers** and **categories** separately.\n",
    "\n",
    "## Numeric Pipeline\n",
    "\n",
    "We have apply these stages for numeric attributes:\n",
    "- MinMaxScaler\n",
    "- SimpleImputer\n",
    "- CombinedAttributes\n",
    "\n",
    "## Categorize Pipeline\n",
    "\n",
    "Just we have made one function to convert the category to a number\n",
    "\n",
    "## Compine the Two pipelines\n",
    "\n",
    "As we have two pipelines for numbers and categories we will introduce one pipeline to combine them."
   ]
  },
  {
   "cell_type": "code",
   "execution_count": 33,
   "metadata": {
    "collapsed": true
   },
   "outputs": [],
   "source": [
    "happiness_report = tr_stratified_set.copy()\n",
    "happiness_report = happiness_report.drop('Happiness Score' , axis=1)\n",
    "num_attr_names = happiness_report_num.columns\n",
    "cat_attr_name = ['Region']"
   ]
  },
  {
   "cell_type": "code",
   "execution_count": 34,
   "metadata": {
    "collapsed": true
   },
   "outputs": [],
   "source": [
    "numeric_pipeline = Pipeline([\n",
    "    ('imputer', SimpleImputer(strategy='mean')),\n",
    "    ('attr_combination', AddCombinedAttributes()),\n",
    "    ('min_max_scaler', MinMaxScaler()),\n",
    "])"
   ]
  },
  {
   "cell_type": "code",
   "execution_count": 35,
   "metadata": {
    "collapsed": true
   },
   "outputs": [],
   "source": [
    "full_pipeline = ColumnTransformer([\n",
    "    (\"num_pipeline\", numeric_pipeline,  num_attr_names),\n",
    "    (\"cat_pipeline\", OneHotEncoder(),  cat_attr_name)\n",
    "])\n",
    "\n",
    "happiness_report_prepared = full_pipeline.fit_transform(happiness_report)"
   ]
  },
  {
   "cell_type": "markdown",
   "metadata": {},
   "source": [
    "# Note !\n",
    "\n",
    "We have 9 numeric attributes and with AddCombinedAttributes it will be 10, and also because we have categorized attributes with 10 discrete values, then it matrix of 10*number of instances, then the ColumnTransformer combine the output from each pipeline and return one matrix."
   ]
  },
  {
   "cell_type": "code",
   "execution_count": 36,
   "metadata": {},
   "outputs": [
    {
     "data": {
      "text/plain": [
       "(126, 20)"
      ]
     },
     "execution_count": 36,
     "metadata": {},
     "output_type": "execute_result"
    }
   ],
   "source": [
    "happiness_report_prepared.shape"
   ]
  },
  {
   "cell_type": "markdown",
   "metadata": {},
   "source": [
    "# Select & Train the model\n",
    "\n",
    "Things now are simple than we may assume, we have to go through the dataset from a different perspective like in correlation, different graph representation attributes combination and other, its time to check how the model will make on the training data.\n",
    "\n",
    "Let's trying a Linear Regression model since we are dealing with continuous variable."
   ]
  },
  {
   "cell_type": "code",
   "execution_count": 37,
   "metadata": {},
   "outputs": [
    {
     "data": {
      "text/plain": [
       "LinearRegression()"
      ]
     },
     "execution_count": 37,
     "metadata": {},
     "output_type": "execute_result"
    }
   ],
   "source": [
    "lin_reg = LinearRegression()\n",
    "lin_reg.fit(happiness_report_prepared, happiness_report_labels)"
   ]
  },
  {
   "cell_type": "code",
   "execution_count": 38,
   "metadata": {
    "collapsed": true
   },
   "outputs": [],
   "source": [
    "# Now let check result on some data points, but first pass data to the pipeline\n",
    "some_data,  some_data_labeled = prepare_data(tr_stratified_set)\n",
    "some_data_prepared = full_pipeline.transform(some_data)\n",
    "predict_some_data = lin_reg.predict(some_data_prepared)"
   ]
  },
  {
   "cell_type": "code",
   "execution_count": 39,
   "metadata": {},
   "outputs": [
    {
     "name": "stdout",
     "output_type": "stream",
     "text": [
      "Predict Values\n",
      " [[4.33204767]\n",
      " [3.6550461 ]\n",
      " [6.41107397]\n",
      " [3.00635742]\n",
      " [4.57136591]\n",
      " [4.41925336]\n",
      " [5.19241404]\n",
      " [4.86713171]\n",
      " [4.78652409]\n",
      " [7.42669063]]\n"
     ]
    }
   ],
   "source": [
    "print(\"Predict Values\\n\", predict_some_data)"
   ]
  },
  {
   "cell_type": "code",
   "execution_count": 40,
   "metadata": {},
   "outputs": [
    {
     "name": "stdout",
     "output_type": "stream",
     "text": [
      "Actual      Happiness Score\n",
      "127            4.332\n",
      "150            3.655\n",
      "34             6.411\n",
      "155            3.006\n",
      "115            4.571\n",
      "124            4.419\n",
      "82             5.192\n",
      "100            4.867\n",
      "105            4.786\n",
      "4              7.427\n"
     ]
    }
   ],
   "source": [
    "print(\"Actual\", some_data_labeled)"
   ]
  },
  {
   "cell_type": "code",
   "execution_count": 41,
   "metadata": {},
   "outputs": [
    {
     "data": {
      "text/plain": [
       "0.00026494316420516196"
      ]
     },
     "execution_count": 41,
     "metadata": {},
     "output_type": "execute_result"
    }
   ],
   "source": [
    "happiness_report_predict = lin_reg.predict(happiness_report_prepared)\n",
    "lin_mse = mean_squared_error(happiness_report_predict, happiness_report_labels)\n",
    "lin_rmse = np.sqrt(lin_mse)\n",
    "lin_rmse"
   ]
  },
  {
   "cell_type": "code",
   "execution_count": 42,
   "metadata": {},
   "outputs": [
    {
     "data": {
      "text/plain": [
       "0.0"
      ]
     },
     "execution_count": 42,
     "metadata": {},
     "output_type": "execute_result"
    }
   ],
   "source": [
    "# Decision Tree\n",
    "\n",
    "tree_reg = DecisionTreeRegressor()\n",
    "tree_reg.fit(happiness_report_prepared, happiness_report_labels)\n",
    "happiness_report_predict = tree_reg.predict(happiness_report_prepared)\n",
    "tree_mse = mean_squared_error(happiness_report_predict, happiness_report_labels)\n",
    "tree_rmse = np.sqrt(tree_mse)\n",
    "tree_rmse"
   ]
  },
  {
   "cell_type": "markdown",
   "metadata": {},
   "source": [
    "# Better Evaluation\n",
    "\n",
    "There is no big difference between the two models in error, but it seems that we have overfitting the dataset very well, actually, this may back to the small number of instances we have but also we have to make our evaluation better than we have.\n",
    "\n",
    "## Cross Validation\n",
    "\n",
    "its a helpful method that helps us to train on part of the training set and evaluate our result on another part from also training, not just that it helps you to make different evaluation, train the same models across different iteration for each time pick a part for training and part for evaluation, then the same process pick another part for training and another for testing, ending by that you have trained on the whole training and also evaluate on the whole training set."
   ]
  },
  {
   "cell_type": "code",
   "execution_count": 43,
   "metadata": {},
   "outputs": [
    {
     "data": {
      "text/plain": [
       "array([0.08579502, 0.14311617, 0.10387389])"
      ]
     },
     "execution_count": 43,
     "metadata": {},
     "output_type": "execute_result"
    }
   ],
   "source": [
    "scores = cross_val_score(tree_reg, happiness_report_prepared, happiness_report_labels,\n",
    "                        scoring=\"neg_mean_squared_error\", cv=3)\n",
    "tree_rmse_scores = np.sqrt(-scores)\n",
    "tree_rmse_scores"
   ]
  },
  {
   "cell_type": "code",
   "execution_count": 44,
   "metadata": {},
   "outputs": [
    {
     "data": {
      "text/plain": [
       "array([0.00031172, 0.00032935, 0.00031999])"
      ]
     },
     "execution_count": 44,
     "metadata": {},
     "output_type": "execute_result"
    }
   ],
   "source": [
    "scores = cross_val_score(lin_reg, happiness_report_prepared, happiness_report_labels,\n",
    "                        scoring=\"neg_mean_squared_error\", cv=3)\n",
    "tree_rmse_scores = np.sqrt(-scores)\n",
    "tree_rmse_scores"
   ]
  },
  {
   "cell_type": "markdown",
   "metadata": {},
   "source": [
    "# Summary\n",
    "\n",
    "As we can see it seems that we have better result of the two models, but LinearRegression looks better than DecisionTreeRegressor and the assumption we said about overfitting seems to be not here, as the result is close to each other from training to validation, but one last thing to decide that is what we have kept aside which is the **Test Set**."
   ]
  },
  {
   "cell_type": "code",
   "execution_count": 45,
   "metadata": {},
   "outputs": [
    {
     "data": {
      "text/plain": [
       "0.00023131982217648652"
      ]
     },
     "execution_count": 45,
     "metadata": {},
     "output_type": "execute_result"
    }
   ],
   "source": [
    "test_data,  test_labeled = prepare_data(tes_stratified_set)\n",
    "test_data_prepared = full_pipeline.transform(test_data)\n",
    "predict_test_data = lin_reg.predict(test_data_prepared)\n",
    "lin_mse = mean_squared_error(predict_test_data, test_labeled)\n",
    "lin_rmse = np.sqrt(lin_mse)\n",
    "lin_rmse"
   ]
  },
  {
   "cell_type": "markdown",
   "metadata": {},
   "source": [
    "# Note !\n",
    "\n",
    "As we can see we have a small error on the test set, and this can lead us to launch model to work on our system."
   ]
  },
  {
   "cell_type": "code",
   "execution_count": null,
   "metadata": {
    "collapsed": true
   },
   "outputs": [],
   "source": []
  }
 ],
 "metadata": {
  "kernelspec": {
   "display_name": "Python 3",
   "language": "python",
   "name": "python3"
  },
  "language_info": {
   "codemirror_mode": {
    "name": "ipython",
    "version": 3
   },
   "file_extension": ".py",
   "mimetype": "text/x-python",
   "name": "python",
   "nbconvert_exporter": "python",
   "pygments_lexer": "ipython3",
   "version": "3.6.3"
  }
 },
 "nbformat": 4,
 "nbformat_minor": 2
}
