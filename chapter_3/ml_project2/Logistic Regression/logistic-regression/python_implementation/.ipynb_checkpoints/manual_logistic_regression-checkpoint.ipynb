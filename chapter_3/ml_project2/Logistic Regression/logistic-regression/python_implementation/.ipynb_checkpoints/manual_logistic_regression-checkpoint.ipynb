{
 "cells": [
  {
   "cell_type": "markdown",
   "metadata": {},
   "source": [
    "# 2-Programming Exercise 2: Logistic Regression Coursera (Classification)\n",
    "\n",
    "## Manual Logistic Regression"
   ]
  },
  {
   "cell_type": "markdown",
   "metadata": {},
   "source": [
    "#  Introduction \n",
    "\n",
    "### The task related to build a classification model that estimates an applicant’s probability of admission based the scores from those two exams\n",
    "\n",
    "### This Task is related to Coursera Machine Learning Course by Andrew NG, but implemnted in Python.\n",
    "\n",
    "**Most text used in this notebook from ex2.pdf of Coursera**\n",
    "\n",
    "**Look at ex2.pdf to get more intuition about the task**\n",
    "\n",
    "**The task will be implemented in three ways and three notebooks and it all about Logistic regression (Classification)**\n",
    "\n",
    "- As manual code which pure code.\n",
    "- Using Sklearn library\n",
    "- Using Tensflow & Keras\n",
    "\n",
    "###   Logistic regression with one variable\n",
    "\n",
    "In this exercise,we will implement logistic regression and apply it to two different datasets\n",
    "\n",
    "## Most of code is written to be clean and enhancing with functions"
   ]
  },
  {
   "cell_type": "markdown",
   "metadata": {},
   "source": [
    "## logistic Regression"
   ]
  },
  {
   "cell_type": "markdown",
   "metadata": {},
   "source": [
    "##  Importing libraries"
   ]
  },
  {
   "cell_type": "code",
   "execution_count": 1,
   "metadata": {},
   "outputs": [],
   "source": [
    "import pandas as pd\n",
    "import numpy as np\n",
    "import matplotlib.pyplot as plt"
   ]
  },
  {
   "cell_type": "markdown",
   "metadata": {},
   "source": [
    "##  Handling file\n",
    "\n",
    "I would like to change the data from txt to be in csv file.\n",
    "\n",
    "**You can find these csv files at csv_files direction.**\n"
   ]
  },
  {
   "cell_type": "code",
   "execution_count": 2,
   "metadata": {},
   "outputs": [],
   "source": [
    "def from_txt_to_csv(file_name, cols_names):\n",
    "    '''\n",
    "    Argument:\n",
    "        file_path that you need to convert to csv file\n",
    "        cols_names if you would like to saved with columns names\n",
    "    return:\n",
    "        True if no error occured of saved operations\n",
    "    '''\n",
    "# read the txt file with columns name and save as csv file\n",
    "    try:\n",
    "        read_file = pd.read_csv ('csv_files/'+ file_name + '.txt', names=cols_names) \n",
    "        read_file.to_csv ('csv_files/' + file_name + '.csv', index=None)\n",
    "# if there is any error print it in separate file in dir logs_files\n",
    "    except Exception as e:\n",
    "        file = open(\"log_files/from_txt_to_csv.log\",\"+a\")\n",
    "        file.write(\"This error related to function from_txt_to_csv function of manual_linea_regression notebook\\n\" \n",
    "                   + str(e) + \"\\n\" + \"#\" *99 + \"\\n\") # \"#\" *99 as separated lines\n",
    "    return True"
   ]
  },
  {
   "cell_type": "code",
   "execution_count": 3,
   "metadata": {},
   "outputs": [
    {
     "data": {
      "text/plain": [
       "True"
      ]
     },
     "execution_count": 3,
     "metadata": {},
     "output_type": "execute_result"
    }
   ],
   "source": [
    "# create columns name for our data\n",
    "cols = ['exam_1', 'exam_2', 'admitted']\n",
    "# call the function\n",
    "from_txt_to_csv('ex2data1', cols)"
   ]
  },
  {
   "cell_type": "markdown",
   "metadata": {},
   "source": [
    "##  Read the csv file"
   ]
  },
  {
   "cell_type": "code",
   "execution_count": 4,
   "metadata": {},
   "outputs": [
    {
     "data": {
      "text/html": [
       "<div>\n",
       "<style scoped>\n",
       "    .dataframe tbody tr th:only-of-type {\n",
       "        vertical-align: middle;\n",
       "    }\n",
       "\n",
       "    .dataframe tbody tr th {\n",
       "        vertical-align: top;\n",
       "    }\n",
       "\n",
       "    .dataframe thead th {\n",
       "        text-align: right;\n",
       "    }\n",
       "</style>\n",
       "<table border=\"1\" class=\"dataframe\">\n",
       "  <thead>\n",
       "    <tr style=\"text-align: right;\">\n",
       "      <th></th>\n",
       "      <th>exam_1</th>\n",
       "      <th>exam_2</th>\n",
       "      <th>admitted</th>\n",
       "    </tr>\n",
       "  </thead>\n",
       "  <tbody>\n",
       "    <tr>\n",
       "      <td>0</td>\n",
       "      <td>34.623660</td>\n",
       "      <td>78.024693</td>\n",
       "      <td>0</td>\n",
       "    </tr>\n",
       "    <tr>\n",
       "      <td>1</td>\n",
       "      <td>30.286711</td>\n",
       "      <td>43.894998</td>\n",
       "      <td>0</td>\n",
       "    </tr>\n",
       "    <tr>\n",
       "      <td>2</td>\n",
       "      <td>35.847409</td>\n",
       "      <td>72.902198</td>\n",
       "      <td>0</td>\n",
       "    </tr>\n",
       "    <tr>\n",
       "      <td>3</td>\n",
       "      <td>60.182599</td>\n",
       "      <td>86.308552</td>\n",
       "      <td>1</td>\n",
       "    </tr>\n",
       "    <tr>\n",
       "      <td>4</td>\n",
       "      <td>79.032736</td>\n",
       "      <td>75.344376</td>\n",
       "      <td>1</td>\n",
       "    </tr>\n",
       "  </tbody>\n",
       "</table>\n",
       "</div>"
      ],
      "text/plain": [
       "      exam_1     exam_2  admitted\n",
       "0  34.623660  78.024693         0\n",
       "1  30.286711  43.894998         0\n",
       "2  35.847409  72.902198         0\n",
       "3  60.182599  86.308552         1\n",
       "4  79.032736  75.344376         1"
      ]
     },
     "execution_count": 4,
     "metadata": {},
     "output_type": "execute_result"
    }
   ],
   "source": [
    "df_file = pd.read_csv('csv_files/ex2data1.csv')\n",
    "df_file.head()"
   ]
  },
  {
   "cell_type": "markdown",
   "metadata": {},
   "source": [
    "## Visualizing the data\n",
    "\n",
    "- first retrive the admitted students as positive_points\n",
    "- second retrive the Non-admitted students negative_points\n",
    "- Visualizing the result"
   ]
  },
  {
   "cell_type": "code",
   "execution_count": 5,
   "metadata": {},
   "outputs": [
    {
     "name": "stdout",
     "output_type": "stream",
     "text": [
      "Some of positive points\n",
      "       exam_1     exam_2  admitted\n",
      "3  60.182599  86.308552         1\n",
      "4  79.032736  75.344376         1\n",
      "6  61.106665  96.511426         1\n",
      "7  75.024746  46.554014         1\n",
      "8  76.098787  87.420570         1\n"
     ]
    }
   ],
   "source": [
    "positive_points = df_file[df_file['admitted'] == 1]\n",
    "print(\"Some of positive points\\n\", positive_points[:5])"
   ]
  },
  {
   "cell_type": "code",
   "execution_count": 6,
   "metadata": {},
   "outputs": [
    {
     "name": "stdout",
     "output_type": "stream",
     "text": [
      "Some of positive points\n",
      "        exam_1     exam_2  admitted\n",
      "0   34.623660  78.024693         0\n",
      "1   30.286711  43.894998         0\n",
      "2   35.847409  72.902198         0\n",
      "5   45.083277  56.316372         0\n",
      "10  95.861555  38.225278         0\n"
     ]
    }
   ],
   "source": [
    "negative_points = df_file[df_file['admitted'] == 0]\n",
    "print(\"Some of positive points\\n\", negative_points[:5])"
   ]
  },
  {
   "cell_type": "code",
   "execution_count": 7,
   "metadata": {},
   "outputs": [],
   "source": [
    "def init_2d_graphs(*colors):\n",
    "    '''\n",
    "        Just graph initialize in good way\n",
    "    '''\n",
    "    plt.style.use(colors) # color of your 2d graph\n",
    "    plt.figure(figsize=(10,6)) # set the figure size\n",
    "    return True"
   ]
  },
  {
   "cell_type": "code",
   "execution_count": 8,
   "metadata": {},
   "outputs": [
    {
     "data": {
      "text/plain": [
       "Text(0, 0.5, 'Exam 2 Score')"
      ]
     },
     "execution_count": 8,
     "metadata": {},
     "output_type": "execute_result"
    },
    {
     "data": {
      "image/png": "[encoded data removed]",
      "text/plain": [
       "<Figure size 720x432 with 1 Axes>"
      ]
     },
     "metadata": {},
     "output_type": "display_data"
    }
   ],
   "source": [
    "init_2d_graphs('ggplot', 'dark_background' )\n",
    "\n",
    "plt.scatter(positive_points['exam_1'],positive_points['exam_2'], s = 200, c = 'green', marker = 'P', label =  'Admitted')\n",
    "plt.scatter(negative_points['exam_1'],negative_points['exam_2'], s = 200, c = 'red', marker = 'x', label =  'Not-Admitted')\n",
    "plt.title(\"The Relation between \" + 'Admitted Student' + \" And \" + 'Not-Admitted Student' )\n",
    "plt.legend()\n",
    "plt.xlabel('Exam 1 Score')\n",
    "plt.ylabel('Exam 2 Score')"
   ]
  },
  {
   "cell_type": "markdown",
   "metadata": {},
   "source": [
    "## Prepare The Sigmoid function\n",
    "\n",
    "**Before you start with the actual cost function, recall that the logistic regres-sion hypothesis is defined as:**\n",
    "\n",
    "![alt text](images/h_x.png \"Hypothesis\")\n",
    "\n",
    "**where functiongis the sigmoid function.  The sigmoid function is defined as:**\n",
    "\n",
    "![alt text](images/sigmoid_1.png \"sigmoid_1\")"
   ]
  },
  {
   "cell_type": "code",
   "execution_count": 9,
   "metadata": {},
   "outputs": [],
   "source": [
    "def sigmoid(z):\n",
    "    '''\n",
    "    Argument:\n",
    "        z = x*theta\n",
    "    '''\n",
    "# np.log is natural log of base 2 which is called ln\n",
    "    g_z = 1/(1+np.exp(-z))\n",
    "    return g_z"
   ]
  },
  {
   "cell_type": "markdown",
   "metadata": {},
   "source": [
    "## Visualizing the sigmoid"
   ]
  },
  {
   "cell_type": "code",
   "execution_count": 10,
   "metadata": {},
   "outputs": [],
   "source": [
    "x = np.arange(-10, 11) #from -10 to 10, 11 because of 0 index\n",
    "g_z = sigmoid(x)\n"
   ]
  },
  {
   "cell_type": "code",
   "execution_count": 11,
   "metadata": {},
   "outputs": [
    {
     "data": {
      "text/plain": [
       "<matplotlib.legend.Legend at 0x7ff22d461350>"
      ]
     },
     "execution_count": 11,
     "metadata": {},
     "output_type": "execute_result"
    },
    {
     "data": {
      "image/png": "[encoded data removed]",
      "text/plain": [
       "<Figure size 720x432 with 1 Axes>"
      ]
     },
     "metadata": {},
     "output_type": "display_data"
    }
   ],
   "source": [
    "init_2d_graphs('ggplot', 'dark_background' )\n",
    "plt.scatter(x,g_z, s=200, c='red', marker='o')\n",
    "plt.plot(x, g_z, 'red', label= 'Sigmoid Function',linewidth=3)\n",
    "plt.xlabel('The range of values')\n",
    "plt.ylabel('The sigmoid values')\n",
    "plt.title('Visualizing of sigmoid function')\n",
    "plt.legend()"
   ]
  },
  {
   "cell_type": "markdown",
   "metadata": {},
   "source": [
    "## parameters initialize"
   ]
  },
  {
   "cell_type": "code",
   "execution_count": 12,
   "metadata": {},
   "outputs": [
    {
     "name": "stdout",
     "output_type": "stream",
     "text": [
      "Theats shape is:  (3, 1)\n",
      "######################################################################\n",
      "Theats values are:  [[0.]\n",
      " [0.]\n",
      " [0.]]\n",
      "######################################################################\n",
      "First 5 values now of the features are:  [[34.62365962 78.02469282  1.        ]\n",
      " [30.28671077 43.89499752  1.        ]\n",
      " [35.84740877 72.90219803  1.        ]\n",
      " [60.18259939 86.3085521   1.        ]\n",
      " [79.03273605 75.34437644  1.        ]]\n"
     ]
    }
   ],
   "source": [
    "x = np.array(df_file.iloc[:, :-1])\n",
    "y = np.array(df_file.iloc[:, -1])\n",
    "m = len(y)\n",
    "y = y.reshape(-1,1)\n",
    "X = np.c_[x, np.ones(m)] # add x0 = 1\n",
    "\n",
    "all_costs = []\n",
    "all_thetas = []\n",
    "\n",
    "thetas = np.zeros((3,1)) # initialize threats as 2d array and 2*1 dimension with 0 values\n",
    "print('Theats shape is: ', thetas.shape)\n",
    "print(\"#\" * 70)\n",
    "print('Theats values are: ', thetas)\n",
    "print(\"#\" * 70)\n",
    "\n",
    "print('First 5 values now of the features are: ', X[:5])"
   ]
  },
  {
   "cell_type": "markdown",
   "metadata": {},
   "source": [
    "## features normalization or Data Scaling"
   ]
  },
  {
   "cell_type": "code",
   "execution_count": 13,
   "metadata": {},
   "outputs": [],
   "source": [
    "def features_normalization_with_std(X):\n",
    "    '''\n",
    "        Normalize the data via standard deviation\n",
    "    '''\n",
    "    X= (X - np.mean(X)) / np.std(X)\n",
    "    return X"
   ]
  },
  {
   "cell_type": "code",
   "execution_count": 14,
   "metadata": {},
   "outputs": [],
   "source": [
    "X = features_normalization_with_std(X)"
   ]
  },
  {
   "cell_type": "markdown",
   "metadata": {},
   "source": [
    "## Cost function\n",
    "\n",
    "**Recall that the cost function in logistic regression is:**\n",
    "\n",
    "![alt text](images/cost_func1.png \"cost_function\")"
   ]
  },
  {
   "cell_type": "code",
   "execution_count": 15,
   "metadata": {},
   "outputs": [],
   "source": [
    "def cost_function(thetas,x,m,y):\n",
    "    '''\n",
    "    Arguments:\n",
    "        thetas the paramter we need to minimize of shape 3*1\n",
    "        x the eatures of our dataset 100*3\n",
    "        m number of training examples \n",
    "        y is output we need to predict\n",
    "    return:\n",
    "        cost function as total squared cost of our predicted values h_x and the real values y\n",
    "    '''\n",
    "    z   = np.matmul(x,thetas) # hypothesis function\n",
    "    y_hat = sigmoid(z)\n",
    "    \n",
    "# get the cost function\n",
    "    cost_function = (-1/m) * (np.matmul(y.T, np.log(y_hat)) + np.matmul((1-y).T, np.log(1-y_hat)))\n",
    "    return cost_function"
   ]
  },
  {
   "cell_type": "code",
   "execution_count": 16,
   "metadata": {},
   "outputs": [
    {
     "name": "stdout",
     "output_type": "stream",
     "text": [
      "The cost funtion of our training data is:  [[0.69314718]]\n"
     ]
    }
   ],
   "source": [
    "J = cost_function(thetas, X, m, y)\n",
    "all_costs.append(J)\n",
    "print(\"The cost funtion of our training data is: \", J)"
   ]
  },
  {
   "cell_type": "markdown",
   "metadata": {},
   "source": [
    "## Gradient Descent\n",
    "\n",
    "**Recall that the Gradient Descent vectorized implementation of classification is :**\n",
    "\n",
    "![alt text](images/vecto_grad.png \"vecto_grad\")\n"
   ]
  },
  {
   "cell_type": "code",
   "execution_count": 17,
   "metadata": {},
   "outputs": [],
   "source": [
    "def gradient_descent(thetas,x,m,y, learning_rate):\n",
    "    '''\n",
    "    Arguments:\n",
    "       thetas the paramter we need to minimize of shape 3*1\n",
    "        x the eatures of our dataset 100*3\n",
    "        m number of training examples \n",
    "        y is output we need to predict\n",
    "        learning rate is alpha which inilized above as .01\n",
    "    return:\n",
    "        cost function as total squared cost of our predicted values h_x and the real values y\n",
    "    '''\n",
    "    z = np.matmul(x,thetas)\n",
    "    y_hat = sigmoid(z)\n",
    "    \n",
    "    grad = (learning_rate / m) * (np.matmul(x.T, y_hat - y))\n",
    "    \n",
    "# return the gradient but transposed to be 2*1 instead of 1*2 to that maps to theta dimensions\n",
    "    return grad"
   ]
  },
  {
   "cell_type": "code",
   "execution_count": 18,
   "metadata": {},
   "outputs": [
    {
     "name": "stdout",
     "output_type": "stream",
     "text": [
      "Instead of Thetas as zero now thetas paramters after just 1 iteration is:  (3, 1)\n"
     ]
    }
   ],
   "source": [
    "grad = gradient_descent(thetas, X, m, y, .01)\n",
    "all_thetas.append(grad)\n",
    "print(\"Instead of Thetas as zero now thetas paramters after just 1 iteration is: \", grad.shape)"
   ]
  },
  {
   "cell_type": "code",
   "execution_count": 19,
   "metadata": {},
   "outputs": [],
   "source": [
    "def logistic_regression_model(thetas, x, m, y, learning_rate, num_of_iterations):\n",
    "    '''\n",
    "    Arguments:\n",
    "        thetas the paramter we need to minimize of shape 2*1\n",
    "        x the eatures of our dataset 97*2\n",
    "        m number of training examples\n",
    "        y is output we need to predict\n",
    "        learning rate is alpha which inilized above as .01\n",
    "        num_of_iterations you need to minimize the cost function\n",
    "    return:\n",
    "        cost function as total squared cost of our predicted values h_x and the real values y\n",
    "    '''\n",
    "    for i in range(num_of_iterations):\n",
    "        J = cost_function(thetas, x, m, y)\n",
    "        all_thetas.append(thetas)\n",
    "        all_costs.append(J)\n",
    "# get new values of theta as gradient descent step\n",
    "        grad = gradient_descent(thetas, x, m , y, learning_rate)\n",
    "\n",
    "# update theta so if grad is negative the theta will increase otherwise will decrease\n",
    "        thetas = thetas - grad\n",
    "\n",
    "    return all_costs, thetas, all_thetas"
   ]
  },
  {
   "cell_type": "code",
   "execution_count": 20,
   "metadata": {},
   "outputs": [],
   "source": [
    "all_costs, last_thetas, all_theta = logistic_regression_model(thetas, X, m, y, .01, 500)"
   ]
  },
  {
   "cell_type": "code",
   "execution_count": 21,
   "metadata": {},
   "outputs": [
    {
     "name": "stdout",
     "output_type": "stream",
     "text": [
      "Our cost function after 500 iterations is:  [[0.53005164]]\n"
     ]
    }
   ],
   "source": [
    "J = cost_function(last_thetas, X, m, y)\n",
    "print(\"Our cost function after 500 iterations is: \", J)"
   ]
  },
  {
   "cell_type": "code",
   "execution_count": 22,
   "metadata": {},
   "outputs": [],
   "source": [
    "cost_list = np.array(all_costs)\n",
    "cost_list = cost_list.reshape(-1,1)"
   ]
  },
  {
   "cell_type": "code",
   "execution_count": 23,
   "metadata": {},
   "outputs": [
    {
     "data": {
      "text/plain": [
       "<matplotlib.legend.Legend at 0x7ff22d349590>"
      ]
     },
     "execution_count": 23,
     "metadata": {},
     "output_type": "execute_result"
    },
    {
     "data": {
      "image/png": "[encoded data removed]",
      "text/plain": [
       "<Figure size 720x432 with 1 Axes>"
      ]
     },
     "metadata": {},
     "output_type": "display_data"
    }
   ],
   "source": [
    "init_2d_graphs('ggplot', 'dark_background' )\n",
    "plt.plot(np.arange(501), cost_list, 'red', label= 'Cost Function',linewidth=3)\n",
    "plt.xlabel('The number of iterations')\n",
    "plt.ylabel('The cost of after 500 iteration')\n",
    "plt.title('Error vs. Training Iterations')\n",
    "plt.legend()"
   ]
  },
  {
   "cell_type": "code",
   "execution_count": 24,
   "metadata": {},
   "outputs": [],
   "source": [
    "all_costs, last_thetas, all_theta = logistic_regression_model(thetas, X, m, y, .1, 500)"
   ]
  },
  {
   "cell_type": "code",
   "execution_count": 25,
   "metadata": {},
   "outputs": [],
   "source": [
    "cost_list = np.array(all_costs)\n",
    "cost_list = cost_list.reshape(-1,1)"
   ]
  },
  {
   "cell_type": "code",
   "execution_count": 26,
   "metadata": {},
   "outputs": [
    {
     "data": {
      "text/plain": [
       "<matplotlib.legend.Legend at 0x7ff22d228510>"
      ]
     },
     "execution_count": 26,
     "metadata": {},
     "output_type": "execute_result"
    },
    {
     "data": {
      "image/png": "[encoded data removed]",
      "text/plain": [
       "<Figure size 720x432 with 1 Axes>"
      ]
     },
     "metadata": {},
     "output_type": "display_data"
    }
   ],
   "source": [
    "init_2d_graphs('ggplot', 'dark_background' )\n",
    "plt.plot(np.arange(len(cost_list)), cost_list, 'red', label= 'Cost Function',linewidth=3)\n",
    "plt.xlabel('The number of iterations')\n",
    "plt.ylabel('The cost of after another 500 iteration with learning rate of .1')\n",
    "plt.title('Error vs. Training Iterations')\n",
    "plt.legend()"
   ]
  },
  {
   "cell_type": "markdown",
   "metadata": {},
   "source": [
    "## Regularized logistic regression\n",
    "\n",
    "In this part of the exercise, we will implement regularized logistic regressionto predict whether microchips from a fabrication plant passes quality assur-ance (QA). "
   ]
  },
  {
   "cell_type": "markdown",
   "metadata": {},
   "source": [
    "## Handling file\n",
    "\n",
    "**As step above**"
   ]
  },
  {
   "cell_type": "code",
   "execution_count": 27,
   "metadata": {},
   "outputs": [
    {
     "data": {
      "text/html": [
       "<div>\n",
       "<style scoped>\n",
       "    .dataframe tbody tr th:only-of-type {\n",
       "        vertical-align: middle;\n",
       "    }\n",
       "\n",
       "    .dataframe tbody tr th {\n",
       "        vertical-align: top;\n",
       "    }\n",
       "\n",
       "    .dataframe thead th {\n",
       "        text-align: right;\n",
       "    }\n",
       "</style>\n",
       "<table border=\"1\" class=\"dataframe\">\n",
       "  <thead>\n",
       "    <tr style=\"text-align: right;\">\n",
       "      <th></th>\n",
       "      <th>test_1</th>\n",
       "      <th>test_2</th>\n",
       "      <th>Accepted</th>\n",
       "    </tr>\n",
       "  </thead>\n",
       "  <tbody>\n",
       "    <tr>\n",
       "      <td>0</td>\n",
       "      <td>0.051267</td>\n",
       "      <td>0.69956</td>\n",
       "      <td>1</td>\n",
       "    </tr>\n",
       "    <tr>\n",
       "      <td>1</td>\n",
       "      <td>-0.092742</td>\n",
       "      <td>0.68494</td>\n",
       "      <td>1</td>\n",
       "    </tr>\n",
       "    <tr>\n",
       "      <td>2</td>\n",
       "      <td>-0.213710</td>\n",
       "      <td>0.69225</td>\n",
       "      <td>1</td>\n",
       "    </tr>\n",
       "    <tr>\n",
       "      <td>3</td>\n",
       "      <td>-0.375000</td>\n",
       "      <td>0.50219</td>\n",
       "      <td>1</td>\n",
       "    </tr>\n",
       "    <tr>\n",
       "      <td>4</td>\n",
       "      <td>-0.513250</td>\n",
       "      <td>0.46564</td>\n",
       "      <td>1</td>\n",
       "    </tr>\n",
       "  </tbody>\n",
       "</table>\n",
       "</div>"
      ],
      "text/plain": [
       "     test_1   test_2  Accepted\n",
       "0  0.051267  0.69956         1\n",
       "1 -0.092742  0.68494         1\n",
       "2 -0.213710  0.69225         1\n",
       "3 -0.375000  0.50219         1\n",
       "4 -0.513250  0.46564         1"
      ]
     },
     "execution_count": 27,
     "metadata": {},
     "output_type": "execute_result"
    }
   ],
   "source": [
    "# create columns name for our data\n",
    "cols = ['test_1', 'test_2', 'Accepted']\n",
    "# call the function\n",
    "from_txt_to_csv('ex2data2', cols)\n",
    "df_file = pd.read_csv('csv_files/ex2data2.csv')\n",
    "#now you can see the data after convert to csv with columns name\n",
    "df_file.head()"
   ]
  },
  {
   "cell_type": "code",
   "execution_count": 28,
   "metadata": {},
   "outputs": [
    {
     "data": {
      "text/html": [
       "<div>\n",
       "<style scoped>\n",
       "    .dataframe tbody tr th:only-of-type {\n",
       "        vertical-align: middle;\n",
       "    }\n",
       "\n",
       "    .dataframe tbody tr th {\n",
       "        vertical-align: top;\n",
       "    }\n",
       "\n",
       "    .dataframe thead th {\n",
       "        text-align: right;\n",
       "    }\n",
       "</style>\n",
       "<table border=\"1\" class=\"dataframe\">\n",
       "  <thead>\n",
       "    <tr style=\"text-align: right;\">\n",
       "      <th></th>\n",
       "      <th>test_1</th>\n",
       "      <th>test_2</th>\n",
       "      <th>Accepted</th>\n",
       "    </tr>\n",
       "  </thead>\n",
       "  <tbody>\n",
       "    <tr>\n",
       "      <td>count</td>\n",
       "      <td>118.000000</td>\n",
       "      <td>118.000000</td>\n",
       "      <td>118.000000</td>\n",
       "    </tr>\n",
       "    <tr>\n",
       "      <td>mean</td>\n",
       "      <td>0.054779</td>\n",
       "      <td>0.183102</td>\n",
       "      <td>0.491525</td>\n",
       "    </tr>\n",
       "    <tr>\n",
       "      <td>std</td>\n",
       "      <td>0.496654</td>\n",
       "      <td>0.519743</td>\n",
       "      <td>0.502060</td>\n",
       "    </tr>\n",
       "    <tr>\n",
       "      <td>min</td>\n",
       "      <td>-0.830070</td>\n",
       "      <td>-0.769740</td>\n",
       "      <td>0.000000</td>\n",
       "    </tr>\n",
       "    <tr>\n",
       "      <td>25%</td>\n",
       "      <td>-0.372120</td>\n",
       "      <td>-0.254385</td>\n",
       "      <td>0.000000</td>\n",
       "    </tr>\n",
       "    <tr>\n",
       "      <td>50%</td>\n",
       "      <td>-0.006336</td>\n",
       "      <td>0.213455</td>\n",
       "      <td>0.000000</td>\n",
       "    </tr>\n",
       "    <tr>\n",
       "      <td>75%</td>\n",
       "      <td>0.478970</td>\n",
       "      <td>0.646562</td>\n",
       "      <td>1.000000</td>\n",
       "    </tr>\n",
       "    <tr>\n",
       "      <td>max</td>\n",
       "      <td>1.070900</td>\n",
       "      <td>1.108900</td>\n",
       "      <td>1.000000</td>\n",
       "    </tr>\n",
       "  </tbody>\n",
       "</table>\n",
       "</div>"
      ],
      "text/plain": [
       "           test_1      test_2    Accepted\n",
       "count  118.000000  118.000000  118.000000\n",
       "mean     0.054779    0.183102    0.491525\n",
       "std      0.496654    0.519743    0.502060\n",
       "min     -0.830070   -0.769740    0.000000\n",
       "25%     -0.372120   -0.254385    0.000000\n",
       "50%     -0.006336    0.213455    0.000000\n",
       "75%      0.478970    0.646562    1.000000\n",
       "max      1.070900    1.108900    1.000000"
      ]
     },
     "execution_count": 28,
     "metadata": {},
     "output_type": "execute_result"
    }
   ],
   "source": [
    "df_file.describe()"
   ]
  },
  {
   "cell_type": "markdown",
   "metadata": {},
   "source": [
    "## Visualizing the data\n"
   ]
  },
  {
   "cell_type": "code",
   "execution_count": 29,
   "metadata": {},
   "outputs": [
    {
     "name": "stdout",
     "output_type": "stream",
     "text": [
      "Some of positive points\n",
      "      test_1   test_2  Accepted\n",
      "0  0.051267  0.69956         1\n",
      "1 -0.092742  0.68494         1\n",
      "2 -0.213710  0.69225         1\n",
      "3 -0.375000  0.50219         1\n",
      "4 -0.513250  0.46564         1\n"
     ]
    }
   ],
   "source": [
    "positive_points = df_file[df_file['Accepted'] == 1]\n",
    "print(\"Some of positive points\\n\", positive_points[:5])"
   ]
  },
  {
   "cell_type": "code",
   "execution_count": 30,
   "metadata": {},
   "outputs": [
    {
     "name": "stdout",
     "output_type": "stream",
     "text": [
      "Some of positive points\n",
      "      test_1   test_2  Accepted\n",
      "58  0.18376  0.93348         0\n",
      "59  0.22408  0.77997         0\n",
      "60  0.29896  0.61915         0\n",
      "61  0.50634  0.75804         0\n",
      "62  0.61578  0.72880         0\n"
     ]
    }
   ],
   "source": [
    "negative_points = df_file[df_file['Accepted'] == 0]\n",
    "print(\"Some of positive points\\n\", negative_points[:5])"
   ]
  },
  {
   "cell_type": "code",
   "execution_count": 31,
   "metadata": {},
   "outputs": [
    {
     "data": {
      "text/plain": [
       "Text(0, 0.5, 'Test 2 ')"
      ]
     },
     "execution_count": 31,
     "metadata": {},
     "output_type": "execute_result"
    },
    {
     "data": {
      "image/png": "[encoded data removed]",
      "text/plain": [
       "<Figure size 720x432 with 1 Axes>"
      ]
     },
     "metadata": {},
     "output_type": "display_data"
    }
   ],
   "source": [
    "init_2d_graphs('ggplot', 'dark_background' )\n",
    "\n",
    "plt.scatter(positive_points['test_1'],positive_points['test_2'], s = 200, c = 'green', marker = 'P', label =  'Accepted')\n",
    "plt.scatter(negative_points['test_1'],negative_points['test_2'], s = 200, c = 'red', marker = 'x', label =  'Not-Accepted')\n",
    "plt.title(\"The Relation between \" + 'Accepted Test' + \" And \" + 'Not-Accepted Student' )\n",
    "plt.legend()\n",
    "plt.xlabel('Test 1 ')\n",
    "plt.ylabel('Test 2 ')"
   ]
  },
  {
   "cell_type": "markdown",
   "metadata": {},
   "source": [
    "## Feature mapping\n",
    "\n",
    "**Some times you increase your features to fit the data well**"
   ]
  },
  {
   "cell_type": "code",
   "execution_count": 32,
   "metadata": {},
   "outputs": [],
   "source": [
    "x = np.array(df_file.iloc[:, :-1])\n",
    "y = np.array(df_file.iloc[:, -1])\n",
    "m = len(y)\n",
    "y = y.reshape(-1,1)\n",
    "\n",
    "all_costs = []\n",
    "all_thetas = []\n"
   ]
  },
  {
   "cell_type": "code",
   "execution_count": 33,
   "metadata": {},
   "outputs": [],
   "source": [
    "for i in range(1,6):\n",
    "    for j in range(i):\n",
    "        '''\n",
    "        mapping features is to make polynomial features from linear here is to power 4\n",
    "        '''\n",
    "        df_file['F' + str(i) + str(j)] = np.power(x[:, 0], i-j) * np.power(x[:, 1], j)"
   ]
  },
  {
   "cell_type": "code",
   "execution_count": 34,
   "metadata": {},
   "outputs": [
    {
     "data": {
      "text/html": [
       "<div>\n",
       "<style scoped>\n",
       "    .dataframe tbody tr th:only-of-type {\n",
       "        vertical-align: middle;\n",
       "    }\n",
       "\n",
       "    .dataframe tbody tr th {\n",
       "        vertical-align: top;\n",
       "    }\n",
       "\n",
       "    .dataframe thead th {\n",
       "        text-align: right;\n",
       "    }\n",
       "</style>\n",
       "<table border=\"1\" class=\"dataframe\">\n",
       "  <thead>\n",
       "    <tr style=\"text-align: right;\">\n",
       "      <th></th>\n",
       "      <th>test_1</th>\n",
       "      <th>test_2</th>\n",
       "      <th>Accepted</th>\n",
       "      <th>F10</th>\n",
       "      <th>F20</th>\n",
       "      <th>F21</th>\n",
       "      <th>F30</th>\n",
       "      <th>F31</th>\n",
       "      <th>F32</th>\n",
       "      <th>F40</th>\n",
       "      <th>F41</th>\n",
       "      <th>F42</th>\n",
       "      <th>F43</th>\n",
       "      <th>F50</th>\n",
       "      <th>F51</th>\n",
       "      <th>F52</th>\n",
       "      <th>F53</th>\n",
       "      <th>F54</th>\n",
       "    </tr>\n",
       "  </thead>\n",
       "  <tbody>\n",
       "    <tr>\n",
       "      <td>0</td>\n",
       "      <td>0.051267</td>\n",
       "      <td>0.69956</td>\n",
       "      <td>1</td>\n",
       "      <td>0.051267</td>\n",
       "      <td>0.002628</td>\n",
       "      <td>0.035864</td>\n",
       "      <td>0.000135</td>\n",
       "      <td>0.001839</td>\n",
       "      <td>0.025089</td>\n",
       "      <td>0.000007</td>\n",
       "      <td>0.000094</td>\n",
       "      <td>0.001286</td>\n",
       "      <td>0.017551</td>\n",
       "      <td>3.541519e-07</td>\n",
       "      <td>0.000005</td>\n",
       "      <td>0.000066</td>\n",
       "      <td>0.000900</td>\n",
       "      <td>0.012278</td>\n",
       "    </tr>\n",
       "    <tr>\n",
       "      <td>1</td>\n",
       "      <td>-0.092742</td>\n",
       "      <td>0.68494</td>\n",
       "      <td>1</td>\n",
       "      <td>-0.092742</td>\n",
       "      <td>0.008601</td>\n",
       "      <td>-0.063523</td>\n",
       "      <td>-0.000798</td>\n",
       "      <td>0.005891</td>\n",
       "      <td>-0.043509</td>\n",
       "      <td>0.000074</td>\n",
       "      <td>-0.000546</td>\n",
       "      <td>0.004035</td>\n",
       "      <td>-0.029801</td>\n",
       "      <td>-6.860919e-06</td>\n",
       "      <td>0.000051</td>\n",
       "      <td>-0.000374</td>\n",
       "      <td>0.002764</td>\n",
       "      <td>-0.020412</td>\n",
       "    </tr>\n",
       "    <tr>\n",
       "      <td>2</td>\n",
       "      <td>-0.213710</td>\n",
       "      <td>0.69225</td>\n",
       "      <td>1</td>\n",
       "      <td>-0.213710</td>\n",
       "      <td>0.045672</td>\n",
       "      <td>-0.147941</td>\n",
       "      <td>-0.009761</td>\n",
       "      <td>0.031616</td>\n",
       "      <td>-0.102412</td>\n",
       "      <td>0.002086</td>\n",
       "      <td>-0.006757</td>\n",
       "      <td>0.021886</td>\n",
       "      <td>-0.070895</td>\n",
       "      <td>-4.457837e-04</td>\n",
       "      <td>0.001444</td>\n",
       "      <td>-0.004677</td>\n",
       "      <td>0.015151</td>\n",
       "      <td>-0.049077</td>\n",
       "    </tr>\n",
       "    <tr>\n",
       "      <td>3</td>\n",
       "      <td>-0.375000</td>\n",
       "      <td>0.50219</td>\n",
       "      <td>1</td>\n",
       "      <td>-0.375000</td>\n",
       "      <td>0.140625</td>\n",
       "      <td>-0.188321</td>\n",
       "      <td>-0.052734</td>\n",
       "      <td>0.070620</td>\n",
       "      <td>-0.094573</td>\n",
       "      <td>0.019775</td>\n",
       "      <td>-0.026483</td>\n",
       "      <td>0.035465</td>\n",
       "      <td>-0.047494</td>\n",
       "      <td>-7.415771e-03</td>\n",
       "      <td>0.009931</td>\n",
       "      <td>-0.013299</td>\n",
       "      <td>0.017810</td>\n",
       "      <td>-0.023851</td>\n",
       "    </tr>\n",
       "    <tr>\n",
       "      <td>4</td>\n",
       "      <td>-0.513250</td>\n",
       "      <td>0.46564</td>\n",
       "      <td>1</td>\n",
       "      <td>-0.513250</td>\n",
       "      <td>0.263426</td>\n",
       "      <td>-0.238990</td>\n",
       "      <td>-0.135203</td>\n",
       "      <td>0.122661</td>\n",
       "      <td>-0.111283</td>\n",
       "      <td>0.069393</td>\n",
       "      <td>-0.062956</td>\n",
       "      <td>0.057116</td>\n",
       "      <td>-0.051818</td>\n",
       "      <td>-3.561597e-02</td>\n",
       "      <td>0.032312</td>\n",
       "      <td>-0.029315</td>\n",
       "      <td>0.026596</td>\n",
       "      <td>-0.024128</td>\n",
       "    </tr>\n",
       "  </tbody>\n",
       "</table>\n",
       "</div>"
      ],
      "text/plain": [
       "     test_1   test_2  Accepted       F10       F20       F21       F30  \\\n",
       "0  0.051267  0.69956         1  0.051267  0.002628  0.035864  0.000135   \n",
       "1 -0.092742  0.68494         1 -0.092742  0.008601 -0.063523 -0.000798   \n",
       "2 -0.213710  0.69225         1 -0.213710  0.045672 -0.147941 -0.009761   \n",
       "3 -0.375000  0.50219         1 -0.375000  0.140625 -0.188321 -0.052734   \n",
       "4 -0.513250  0.46564         1 -0.513250  0.263426 -0.238990 -0.135203   \n",
       "\n",
       "        F31       F32       F40       F41       F42       F43           F50  \\\n",
       "0  0.001839  0.025089  0.000007  0.000094  0.001286  0.017551  3.541519e-07   \n",
       "1  0.005891 -0.043509  0.000074 -0.000546  0.004035 -0.029801 -6.860919e-06   \n",
       "2  0.031616 -0.102412  0.002086 -0.006757  0.021886 -0.070895 -4.457837e-04   \n",
       "3  0.070620 -0.094573  0.019775 -0.026483  0.035465 -0.047494 -7.415771e-03   \n",
       "4  0.122661 -0.111283  0.069393 -0.062956  0.057116 -0.051818 -3.561597e-02   \n",
       "\n",
       "        F51       F52       F53       F54  \n",
       "0  0.000005  0.000066  0.000900  0.012278  \n",
       "1  0.000051 -0.000374  0.002764 -0.020412  \n",
       "2  0.001444 -0.004677  0.015151 -0.049077  \n",
       "3  0.009931 -0.013299  0.017810 -0.023851  \n",
       "4  0.032312 -0.029315  0.026596 -0.024128  "
      ]
     },
     "execution_count": 34,
     "metadata": {},
     "output_type": "execute_result"
    }
   ],
   "source": [
    "df_file.head()"
   ]
  },
  {
   "cell_type": "code",
   "execution_count": 35,
   "metadata": {},
   "outputs": [],
   "source": [
    "x = np.array(df_file.iloc[:, 3:])\n",
    "X = np.c_[x, np.ones(m)] # add x0 = 1\n",
    "thetas = np.zeros((X.shape[1],1)) # initialize threats as 2d with number of features"
   ]
  },
  {
   "cell_type": "markdown",
   "metadata": {},
   "source": [
    "## Regularized Cost function\n",
    "\n",
    "**we will use the cost function created above and add the Regularized part instead of write the function again**\n",
    "\n",
    "**Recall that the Regularized cost function in logistic regression is:**\n",
    "\n",
    "![alt text](images/reg_cost.png \"Regularized cost\")"
   ]
  },
  {
   "cell_type": "code",
   "execution_count": 36,
   "metadata": {},
   "outputs": [
    {
     "name": "stdout",
     "output_type": "stream",
     "text": [
      "The cost funtion of our training data is:  [[0.69314718]]\n"
     ]
    }
   ],
   "source": [
    "J = cost_function(thetas, X, m, y)\n",
    "J += (1/(2*m)) * np.sum(np.power(thetas[1:] , 2))\n",
    "all_costs.append(J)\n",
    "print(\"The cost funtion of our training data is: \", J)"
   ]
  },
  {
   "cell_type": "markdown",
   "metadata": {},
   "source": [
    "## Regularized Gradient Descent\n",
    "\n",
    "**we will use the Gradient Descent function created above and add the Regularized part instead of write the function again**\n",
    "\n",
    "**Recall that the Regularized cost function in logistic regression is:**\n",
    "\n",
    "![alt text](images/grad_regulized.png \"Regularized Gradient\")"
   ]
  },
  {
   "cell_type": "code",
   "execution_count": 37,
   "metadata": {},
   "outputs": [
    {
     "name": "stdout",
     "output_type": "stream",
     "text": [
      "Instead of Thetas as zero now thetas paramters after just 1 iteration is:  [[1.87880932e-04]\n",
      " [5.03446395e-04]\n",
      " [1.15013308e-04]\n",
      " [1.83559872e-04]\n",
      " [7.32393391e-05]\n",
      " [8.19244468e-05]\n",
      " [3.93486234e-04]\n",
      " [2.23923907e-05]\n",
      " [1.28600503e-04]\n",
      " [3.09593720e-05]\n",
      " [1.99707467e-04]\n",
      " [4.32983232e-05]\n",
      " [3.38643902e-05]\n",
      " [5.83822078e-05]\n",
      " [4.47629067e-05]\n",
      " [8.47457627e-05]]\n"
     ]
    }
   ],
   "source": [
    "grad = gradient_descent(thetas, X, m, y, .01)\n",
    "grad += (1/m) * thetas\n",
    "all_thetas.append(grad)\n",
    "print(\"Instead of Thetas as zero now thetas paramters after just 1 iteration is: \", grad)"
   ]
  },
  {
   "cell_type": "code",
   "execution_count": 38,
   "metadata": {},
   "outputs": [],
   "source": [
    "def logistic_regression_model_regularized(thetas, x, m, y, learning_rate, num_of_iterations):\n",
    "    '''\n",
    "    Arguments:\n",
    "        thetas the paramter we need to minimize of shape 2*1\n",
    "        x the eatures of our dataset 97*2\n",
    "        m number of training examples\n",
    "        y is output we need to predict\n",
    "        learning rate is alpha which inilized above as .01\n",
    "        num_of_iterations you need to minimize the cost function\n",
    "    return:\n",
    "        cost function as total squared cost of our predicted values h_x and the real values y\n",
    "    '''\n",
    "    for i in range(num_of_iterations):\n",
    "        J = cost_function(thetas, x, m, y)\n",
    "        J += (1/(2*m)) * np.sum(np.power(thetas[1:] , 2))\n",
    "        \n",
    "        all_thetas.append(thetas)\n",
    "        \n",
    "        all_costs.append(J)\n",
    "# get new values of theta as gradient descent step\n",
    "        grad = gradient_descent(thetas, x, m , y, learning_rate)\n",
    "        grad += (1/m) * thetas\n",
    "# update theta so if grad is negative the theta will increase otherwise will decrease\n",
    "        thetas = thetas - grad\n",
    "\n",
    "    return all_costs, thetas, all_thetas"
   ]
  },
  {
   "cell_type": "code",
   "execution_count": 39,
   "metadata": {},
   "outputs": [],
   "source": [
    "all_costs, last_thetas, all_theta = logistic_regression_model_regularized(thetas, X, m, y, .01, 500)"
   ]
  },
  {
   "cell_type": "code",
   "execution_count": 40,
   "metadata": {},
   "outputs": [
    {
     "data": {
      "text/plain": [
       "(501, 1)"
      ]
     },
     "execution_count": 40,
     "metadata": {},
     "output_type": "execute_result"
    }
   ],
   "source": [
    "cost_list = np.array(all_costs)\n",
    "cost_list = cost_list.reshape(-1,1)\n",
    "cost_list.shape"
   ]
  },
  {
   "cell_type": "code",
   "execution_count": 41,
   "metadata": {},
   "outputs": [
    {
     "data": {
      "text/plain": [
       "<matplotlib.legend.Legend at 0x7ff22d1276d0>"
      ]
     },
     "execution_count": 41,
     "metadata": {},
     "output_type": "execute_result"
    },
    {
     "data": {
      "image/png": "[encoded data removed]",
      "text/plain": [
       "<Figure size 720x432 with 1 Axes>"
      ]
     },
     "metadata": {},
     "output_type": "display_data"
    }
   ],
   "source": [
    "init_2d_graphs('ggplot', 'dark_background' )\n",
    "plt.plot(np.arange(501), cost_list, 'red', label= 'Cost Function',linewidth=3)\n",
    "plt.xlabel('The number of iterations')\n",
    "plt.ylabel('The cost of after 500 iteration')\n",
    "plt.title('Error vs. Training Iterations')\n",
    "plt.legend()"
   ]
  },
  {
   "cell_type": "code",
   "execution_count": 42,
   "metadata": {},
   "outputs": [],
   "source": [
    "all_costs, last_thetas, all_theta = logistic_regression_model(thetas, X, m, y, 1, 10000)"
   ]
  },
  {
   "cell_type": "code",
   "execution_count": 43,
   "metadata": {},
   "outputs": [
    {
     "data": {
      "text/plain": [
       "(10501, 1)"
      ]
     },
     "execution_count": 43,
     "metadata": {},
     "output_type": "execute_result"
    }
   ],
   "source": [
    "cost_list = np.array(all_costs)\n",
    "cost_list = cost_list.reshape(-1,1)\n",
    "cost_list.shape"
   ]
  },
  {
   "cell_type": "code",
   "execution_count": 45,
   "metadata": {},
   "outputs": [
    {
     "data": {
      "text/plain": [
       "<matplotlib.legend.Legend at 0x7ff22cd46950>"
      ]
     },
     "execution_count": 45,
     "metadata": {},
     "output_type": "execute_result"
    },
    {
     "data": {
      "image/png": "[encoded data removed]",
      "text/plain": [
       "<Figure size 720x432 with 1 Axes>"
      ]
     },
     "metadata": {},
     "output_type": "display_data"
    }
   ],
   "source": [
    "init_2d_graphs('ggplot', 'dark_background' )\n",
    "plt.plot(np.arange(10501), cost_list, 'red', label= 'Cost Function',linewidth=3)\n",
    "plt.xlabel('The number of iterations')\n",
    "plt.ylabel('The cost of after 10000 iteration')\n",
    "plt.title('Error vs. Training Iterations')\n",
    "plt.legend()"
   ]
  },
  {
   "cell_type": "markdown",
   "metadata": {},
   "source": [
    "## The last cost function"
   ]
  },
  {
   "cell_type": "code",
   "execution_count": 46,
   "metadata": {},
   "outputs": [
    {
     "name": "stdout",
     "output_type": "stream",
     "text": [
      "The cost funtion of our training data is:  [[0.44617382]]\n"
     ]
    }
   ],
   "source": [
    "J = cost_function(last_thetas, X, m, y)\n",
    "J += (1/(2*m)) * np.sum(np.power(thetas[1:] , 2))\n",
    "print(\"The cost funtion of our training data is: \", J)"
   ]
  },
  {
   "cell_type": "code",
   "execution_count": null,
   "metadata": {},
   "outputs": [],
   "source": []
  }
 ],
 "metadata": {
  "kernelspec": {
   "display_name": "Python 3",
   "language": "python",
   "name": "python3"
  },
  "language_info": {
   "codemirror_mode": {
    "name": "ipython",
    "version": 3
   },
   "file_extension": ".py",
   "mimetype": "text/x-python",
   "name": "python",
   "nbconvert_exporter": "python",
   "pygments_lexer": "ipython3",
   "version": "3.7.4"
  }
 },
 "nbformat": 4,
 "nbformat_minor": 2
}
