{
 "cells": [
  {
   "cell_type": "markdown",
   "metadata": {},
   "source": [
    "# 3-Programming Exercise 1: Linear Regression Coursera\n",
    "\n",
    "### The same task but with Tensorflow and Keras \n",
    "\n",
    "**The first file manual_linea_regression has some of handling so we complete in implement the task**"
   ]
  },
  {
   "cell_type": "code",
   "execution_count": 2,
   "metadata": {},
   "outputs": [],
   "source": [
    "import numpy as np\n",
    "import tensorflow as tf \n",
    "import matplotlib.pyplot as plt \n",
    "import pandas as pd\n",
    "from manual_linea_regression import init_2d_graphs, ploting_2d_data,features_normalization_with_std"
   ]
  },
  {
   "cell_type": "markdown",
   "metadata": {},
   "source": [
    "##  Read CSV file"
   ]
  },
  {
   "cell_type": "code",
   "execution_count": 3,
   "metadata": {},
   "outputs": [
    {
     "data": {
      "text/html": [
       "<div>\n",
       "<style scoped>\n",
       "    .dataframe tbody tr th:only-of-type {\n",
       "        vertical-align: middle;\n",
       "    }\n",
       "\n",
       "    .dataframe tbody tr th {\n",
       "        vertical-align: top;\n",
       "    }\n",
       "\n",
       "    .dataframe thead th {\n",
       "        text-align: right;\n",
       "    }\n",
       "</style>\n",
       "<table border=\"1\" class=\"dataframe\">\n",
       "  <thead>\n",
       "    <tr style=\"text-align: right;\">\n",
       "      <th></th>\n",
       "      <th>city_population</th>\n",
       "      <th>food_truck_profit</th>\n",
       "    </tr>\n",
       "  </thead>\n",
       "  <tbody>\n",
       "    <tr>\n",
       "      <td>0</td>\n",
       "      <td>6.1101</td>\n",
       "      <td>17.5920</td>\n",
       "    </tr>\n",
       "    <tr>\n",
       "      <td>1</td>\n",
       "      <td>5.5277</td>\n",
       "      <td>9.1302</td>\n",
       "    </tr>\n",
       "    <tr>\n",
       "      <td>2</td>\n",
       "      <td>8.5186</td>\n",
       "      <td>13.6620</td>\n",
       "    </tr>\n",
       "    <tr>\n",
       "      <td>3</td>\n",
       "      <td>7.0032</td>\n",
       "      <td>11.8540</td>\n",
       "    </tr>\n",
       "    <tr>\n",
       "      <td>4</td>\n",
       "      <td>5.8598</td>\n",
       "      <td>6.8233</td>\n",
       "    </tr>\n",
       "  </tbody>\n",
       "</table>\n",
       "</div>"
      ],
      "text/plain": [
       "   city_population  food_truck_profit\n",
       "0           6.1101            17.5920\n",
       "1           5.5277             9.1302\n",
       "2           8.5186            13.6620\n",
       "3           7.0032            11.8540\n",
       "4           5.8598             6.8233"
      ]
     },
     "execution_count": 3,
     "metadata": {},
     "output_type": "execute_result"
    }
   ],
   "source": [
    "df_file = pd.read_csv('csv_files/ex1data1.csv')\n",
    "df_file.head()"
   ]
  },
  {
   "cell_type": "code",
   "execution_count": 4,
   "metadata": {},
   "outputs": [
    {
     "data": {
      "text/plain": [
       "<matplotlib.legend.Legend at 0x7fe313ba0190>"
      ]
     },
     "execution_count": 4,
     "metadata": {},
     "output_type": "execute_result"
    },
    {
     "data": {
      "image/png": "[encoded data removed]",
      "text/plain": [
       "<Figure size 720x432 with 1 Axes>"
      ]
     },
     "metadata": {},
     "output_type": "display_data"
    }
   ],
   "source": [
    "# our initialized and graph draw for our dataset\n",
    "X = df_file['city_population'] # x_axis\n",
    "Y = df_file['food_truck_profit'] # y_axis\n",
    "m = len(Y)\n",
    "# because y is shape (97,) whcih rank of 0 and we need to be (97,1) to subtract from y_hat\n",
    "Y = Y.values.reshape(m,1) # because of type Series we use .values\n",
    "# X = X.values.reshape(len(X),1) # because of type Series we use .values\n",
    "\n",
    "x_label = 'Population of City in 10,000s'\n",
    "y_label = 'Profit in $10,000s'\n",
    "graph_legend = 'Training data'\n",
    "# the labels of x & y\n",
    "\n",
    "init_2d_graphs('ggplot', 'dark_background' )\n",
    "plt.scatter(X,Y, s=300, c='red', marker='P', label=graph_legend)\n",
    "plt.xlabel(x_label)\n",
    "plt.ylabel(y_label)\n",
    "plt.legend()"
   ]
  },
  {
   "cell_type": "code",
   "execution_count": 5,
   "metadata": {},
   "outputs": [],
   "source": [
    "X = (np.stack((X, np.ones(m)), axis=1))"
   ]
  },
  {
   "cell_type": "markdown",
   "metadata": {},
   "source": [
    "### But initialized is different in tensorflow"
   ]
  },
  {
   "cell_type": "code",
   "execution_count": 9,
   "metadata": {},
   "outputs": [],
   "source": [
    "tf.compat.v1.disable_eager_execution()\n",
    "# X & y will be applied later when the algorith run\n",
    "x = tf.compat.v1.placeholder(tf.float64)\n",
    "y = tf.compat.v1.placeholder(tf.float64)\n",
    "\n",
    "# we have one features so we need thetas to be 2*1\n",
    "thetas = tf.compat.v1.Variable(np.zeros((2,1)), tf.float64)\n",
    "all_cost = []\n",
    "all_weights = []\n",
    "all_weights.append(np.zeros((2,1))) # values of thetas\n",
    "Alpha = tf.compat.v1.Variable(.01, tf.float64)\n",
    "iterations = 1500"
   ]
  },
  {
   "cell_type": "markdown",
   "metadata": {},
   "source": [
    "## Hypothesis Function"
   ]
  },
  {
   "cell_type": "code",
   "execution_count": 10,
   "metadata": {},
   "outputs": [],
   "source": [
    "y_hat = tf.matmul(x, thetas)"
   ]
  },
  {
   "cell_type": "markdown",
   "metadata": {},
   "source": [
    "## Cost function"
   ]
  },
  {
   "cell_type": "code",
   "execution_count": 11,
   "metadata": {},
   "outputs": [],
   "source": [
    "cost_function =  tf.reduce_sum(tf.pow(y_hat - y,2)) * (1/(2*m))"
   ]
  },
  {
   "cell_type": "code",
   "execution_count": 12,
   "metadata": {},
   "outputs": [
    {
     "name": "stdout",
     "output_type": "stream",
     "text": [
      "32.072733877455676\n"
     ]
    }
   ],
   "source": [
    "with tf.compat.v1.Session() as sess:\n",
    "    sess.run(tf.compat.v1.global_variables_initializer())\n",
    "    # test the cost function\n",
    "    cost = sess.run(cost_function, {x:X, y:Y})\n",
    "    all_cost.append(cost)\n",
    "    print(cost)"
   ]
  },
  {
   "cell_type": "markdown",
   "metadata": {},
   "source": [
    "## Gradient Descent"
   ]
  },
  {
   "cell_type": "code",
   "execution_count": 13,
   "metadata": {},
   "outputs": [],
   "source": [
    "LRModel = tf.compat.v1.train.GradientDescentOptimizer(Alpha).minimize(cost_function)"
   ]
  },
  {
   "cell_type": "markdown",
   "metadata": {},
   "source": [
    "## Run the model to minimize cost function"
   ]
  },
  {
   "cell_type": "code",
   "execution_count": 14,
   "metadata": {},
   "outputs": [],
   "source": [
    "with tf.compat.v1.Session() as sess:\n",
    "    sess.run(tf.compat.v1.global_variables_initializer())\n",
    "    for i in range(iterations):\n",
    "        sess.run(LRModel, {x:X, y: Y})\n",
    "        cost = sess.run(cost_function, {x:X, y:Y})\n",
    "        we = sess.run(thetas)\n",
    "        all_cost.append(cost)\n",
    "        all_weights.append(we)\n",
    "    last_cost = sess.run(cost_function, {x:X, y:Y})\n",
    "    last_weights = sess.run(thetas)"
   ]
  },
  {
   "cell_type": "code",
   "execution_count": 15,
   "metadata": {},
   "outputs": [],
   "source": [
    "sess = tf.compat.v1.Session()\n",
    "sess.run(tf.compat.v1.global_variables_initializer())"
   ]
  },
  {
   "cell_type": "code",
   "execution_count": 16,
   "metadata": {},
   "outputs": [
    {
     "name": "stdout",
     "output_type": "stream",
     "text": [
      "Our cost function after 1000 iterations is:  4.483388257364758\n"
     ]
    }
   ],
   "source": [
    "print(\"Our cost function after 1000 iterations is: \", last_cost)"
   ]
  },
  {
   "cell_type": "code",
   "execution_count": 17,
   "metadata": {},
   "outputs": [
    {
     "data": {
      "text/plain": [
       "Text(0, 0.5, 'Profit in $10,000s')"
      ]
     },
     "execution_count": 17,
     "metadata": {},
     "output_type": "execute_result"
    },
    {
     "data": {
      "image/png": "[encoded data removed]",
      "text/plain": [
       "<Figure size 720x432 with 1 Axes>"
      ]
     },
     "metadata": {},
     "output_type": "display_data"
    }
   ],
   "source": [
    "# Plot the graph with different first 4 values of thetas and last values of thetas\n",
    "init_2d_graphs('ggplot', 'dark_background' ) # initialize graphics size\n",
    "for i in range(4):\n",
    "    prediction = np.matmul(X, all_weights[i])\n",
    "    plt.plot(X[:,0], prediction, label='predict ' + str(i+1), linewidth=3)\n",
    "prediction = np.matmul(X, last_weights)\n",
    "plt.plot(X[:,0], prediction, label='predict ' + str(i+1), linewidth=3)\n",
    "plt.scatter(X[:,0],Y, s = 200, c = 'green', marker = 'X', label =  'Training data')\n",
    "plt.title(\"The Relation between \" + 'Population of City in 10,000s' + \" And \" + 'Profit in $10,000s' )\n",
    "plt.legend()\n",
    "plt.xlabel('Population of City in 10,000s')\n",
    "plt.ylabel('Profit in $10,000s')"
   ]
  },
  {
   "cell_type": "code",
   "execution_count": 18,
   "metadata": {},
   "outputs": [
    {
     "data": {
      "text/plain": [
       "<matplotlib.legend.Legend at 0x7fe3101d5b50>"
      ]
     },
     "execution_count": 18,
     "metadata": {},
     "output_type": "execute_result"
    },
    {
     "data": {
      "image/png": "[encoded data removed]",
      "text/plain": [
       "<Figure size 720x432 with 1 Axes>"
      ]
     },
     "metadata": {},
     "output_type": "display_data"
    }
   ],
   "source": [
    "init_2d_graphs() # initialize graphics size\n",
    "plt.plot(np.arange(1501), all_cost, 'r', label='Cost Functions', linewidth=2) \n",
    "plt.xlabel(\"Iterations\")\n",
    "plt.ylabel(\"Cost Function\")\n",
    "plt.title('Error vs. Training Iterations')\n",
    "plt.legend()"
   ]
  },
  {
   "cell_type": "markdown",
   "metadata": {},
   "source": [
    "#  linear regression with multiple variables"
   ]
  },
  {
   "cell_type": "markdown",
   "metadata": {},
   "source": [
    "##  Read CSV file"
   ]
  },
  {
   "cell_type": "code",
   "execution_count": 19,
   "metadata": {},
   "outputs": [
    {
     "data": {
      "text/html": [
       "<div>\n",
       "<style scoped>\n",
       "    .dataframe tbody tr th:only-of-type {\n",
       "        vertical-align: middle;\n",
       "    }\n",
       "\n",
       "    .dataframe tbody tr th {\n",
       "        vertical-align: top;\n",
       "    }\n",
       "\n",
       "    .dataframe thead th {\n",
       "        text-align: right;\n",
       "    }\n",
       "</style>\n",
       "<table border=\"1\" class=\"dataframe\">\n",
       "  <thead>\n",
       "    <tr style=\"text-align: right;\">\n",
       "      <th></th>\n",
       "      <th>house_size</th>\n",
       "      <th>number_of_bedrooms</th>\n",
       "      <th>house_price</th>\n",
       "    </tr>\n",
       "  </thead>\n",
       "  <tbody>\n",
       "    <tr>\n",
       "      <td>0</td>\n",
       "      <td>2104</td>\n",
       "      <td>3</td>\n",
       "      <td>399900</td>\n",
       "    </tr>\n",
       "    <tr>\n",
       "      <td>1</td>\n",
       "      <td>1600</td>\n",
       "      <td>3</td>\n",
       "      <td>329900</td>\n",
       "    </tr>\n",
       "    <tr>\n",
       "      <td>2</td>\n",
       "      <td>2400</td>\n",
       "      <td>3</td>\n",
       "      <td>369000</td>\n",
       "    </tr>\n",
       "    <tr>\n",
       "      <td>3</td>\n",
       "      <td>1416</td>\n",
       "      <td>2</td>\n",
       "      <td>232000</td>\n",
       "    </tr>\n",
       "    <tr>\n",
       "      <td>4</td>\n",
       "      <td>3000</td>\n",
       "      <td>4</td>\n",
       "      <td>539900</td>\n",
       "    </tr>\n",
       "  </tbody>\n",
       "</table>\n",
       "</div>"
      ],
      "text/plain": [
       "   house_size  number_of_bedrooms  house_price\n",
       "0        2104                   3       399900\n",
       "1        1600                   3       329900\n",
       "2        2400                   3       369000\n",
       "3        1416                   2       232000\n",
       "4        3000                   4       539900"
      ]
     },
     "execution_count": 19,
     "metadata": {},
     "output_type": "execute_result"
    }
   ],
   "source": [
    "df_file = pd.read_csv('csv_files/ex1data2.csv')\n",
    "df_file.head()"
   ]
  },
  {
   "cell_type": "markdown",
   "metadata": {},
   "source": [
    "## fetures normalization"
   ]
  },
  {
   "cell_type": "code",
   "execution_count": 20,
   "metadata": {},
   "outputs": [],
   "source": [
    "df_file = features_normalization_with_std(df_file)"
   ]
  },
  {
   "cell_type": "code",
   "execution_count": 21,
   "metadata": {},
   "outputs": [
    {
     "name": "stdout",
     "output_type": "stream",
     "text": [
      "(47, 2)\n",
      "################################################################################\n",
      "Number of training example:  47\n",
      "################################################################################\n",
      "Theats shape is:  (3, 1)\n",
      "################################################################################\n",
      "Theats values are:  [[0.]\n",
      " [0.]\n",
      " [0.]]\n",
      "################################################################################\n"
     ]
    }
   ],
   "source": [
    "X = np.array(df_file.iloc[:, :2])# get the 2 features columns)\n",
    "Y = df_file['house_price'] # the real output \n",
    "\n",
    "# # because y is shape (97,) whcih rank of 0 and we need to be (97,1) to subtract from y_hat\n",
    "Y = Y.values.reshape(len(Y),1) # because of type Series we use .values\n",
    "\n",
    "# variables and parameters initialize\n",
    "all_cost = []\n",
    "m = len(Y) \n",
    "print(X.shape)\n",
    "print(\"#\"*80)\n",
    "print(\"Number of training example: \", m)\n",
    "print(\"#\"*80)\n",
    "Alpha = .1 # learning rate\n",
    "iterations = 100 # number of gradient descent iterations\n",
    "thetas = np.zeros((3,1)) # initialize threats as 2d array and 2*1 dimension with 0 values\n",
    "print('Theats shape is: ', thetas.shape)\n",
    "print(\"#\"*80)\n",
    "print('Theats values are: ', thetas)\n",
    "print(\"#\"*80)\n"
   ]
  },
  {
   "cell_type": "code",
   "execution_count": 22,
   "metadata": {},
   "outputs": [],
   "source": [
    "X = np.c_[X, np.ones((m,1))] # add column of bais"
   ]
  },
  {
   "cell_type": "markdown",
   "metadata": {},
   "source": [
    "###  initialized tensors"
   ]
  },
  {
   "cell_type": "code",
   "execution_count": 23,
   "metadata": {},
   "outputs": [],
   "source": [
    "tf.compat.v1.disable_eager_execution()\n",
    "# X & y will be applied later when the algorith run\n",
    "x = tf.compat.v1.placeholder(tf.float64)\n",
    "y = tf.compat.v1.placeholder(tf.float64)\n",
    "\n",
    "# we have multi-features so we need thetas to be 3*1\n",
    "thetas = tf.compat.v1.Variable(np.zeros((3,1)), tf.float64)\n",
    "all_weights = []\n",
    "all_weights.append(np.zeros((3,1))) # values of thetas\n",
    "Alpha = tf.compat.v1.Variable(.01, tf.float64)\n",
    "iterations = 1500"
   ]
  },
  {
   "cell_type": "markdown",
   "metadata": {},
   "source": [
    "## Hypothesis Function"
   ]
  },
  {
   "cell_type": "code",
   "execution_count": 24,
   "metadata": {},
   "outputs": [],
   "source": [
    "y_hat = tf.matmul(x, thetas)"
   ]
  },
  {
   "cell_type": "markdown",
   "metadata": {},
   "source": [
    "## Cost function"
   ]
  },
  {
   "cell_type": "code",
   "execution_count": 25,
   "metadata": {},
   "outputs": [],
   "source": [
    "cost_function =  tf.reduce_sum(tf.pow(y_hat - y,2)) * (1/(2*m))"
   ]
  },
  {
   "cell_type": "code",
   "execution_count": 26,
   "metadata": {},
   "outputs": [
    {
     "name": "stdout",
     "output_type": "stream",
     "text": [
      "0.5\n"
     ]
    }
   ],
   "source": [
    "with tf.compat.v1.Session() as sess:\n",
    "    sess.run(tf.compat.v1.global_variables_initializer())\n",
    "    # test the cost function\n",
    "    cost = sess.run(cost_function, {x:X, y:Y})\n",
    "    all_cost.append(cost)\n",
    "    print(cost) # small value because of normaliztion step"
   ]
  },
  {
   "cell_type": "markdown",
   "metadata": {},
   "source": [
    "## Gradient Descent"
   ]
  },
  {
   "cell_type": "code",
   "execution_count": 27,
   "metadata": {},
   "outputs": [],
   "source": [
    "LRModel = tf.compat.v1.train.GradientDescentOptimizer(Alpha).minimize(cost_function)"
   ]
  },
  {
   "cell_type": "markdown",
   "metadata": {},
   "source": [
    "## Run the model to minimize cost function"
   ]
  },
  {
   "cell_type": "code",
   "execution_count": 28,
   "metadata": {},
   "outputs": [],
   "source": [
    "with tf.compat.v1.Session() as sess:\n",
    "    sess.run(tf.compat.v1.global_variables_initializer())\n",
    "    for i in range(iterations):\n",
    "        sess.run(LRModel, {x:X, y: Y})\n",
    "        cost = sess.run(cost_function, {x:X, y:Y})\n",
    "        we = sess.run(thetas)\n",
    "        all_cost.append(cost)\n",
    "        all_weights.append(we)\n",
    "    last_cost = sess.run(cost_function, {x:X, y:Y})\n",
    "    last_weights = sess.run(thetas)"
   ]
  },
  {
   "cell_type": "code",
   "execution_count": 29,
   "metadata": {},
   "outputs": [],
   "source": [
    "sess = tf.compat.v1.Session()\n",
    "sess.run(tf.compat.v1.global_variables_initializer())"
   ]
  },
  {
   "cell_type": "code",
   "execution_count": 30,
   "metadata": {},
   "outputs": [
    {
     "name": "stdout",
     "output_type": "stream",
     "text": [
      "Our cost function after 1000 iterations is:  0.1335276647713807\n"
     ]
    }
   ],
   "source": [
    "print(\"Our cost function after 1000 iterations is: \", last_cost)"
   ]
  },
  {
   "cell_type": "code",
   "execution_count": null,
   "metadata": {},
   "outputs": [],
   "source": []
  }
 ],
 "metadata": {
  "kernelspec": {
   "display_name": "Python 3",
   "language": "python",
   "name": "python3"
  },
  "language_info": {
   "codemirror_mode": {
    "name": "ipython",
    "version": 3
   },
   "file_extension": ".py",
   "mimetype": "text/x-python",
   "name": "python",
   "nbconvert_exporter": "python",
   "pygments_lexer": "ipython3",
   "version": "3.7.4"
  }
 },
 "nbformat": 4,
 "nbformat_minor": 2
}
