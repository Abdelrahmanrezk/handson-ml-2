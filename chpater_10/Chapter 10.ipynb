{
 "cells": [
  {
   "cell_type": "code",
   "execution_count": 1,
   "metadata": {},
   "outputs": [
    {
     "name": "stdout",
     "output_type": "stream",
     "text": [
      "2.6.0\n",
      "2.6.0\n"
     ]
    }
   ],
   "source": [
    "import os\n",
    "import time\n",
    "import tensorflow as tf\n",
    "from tensorflow import keras\n",
    "from keras.utils.vis_utils import plot_model\n",
    "import matplotlib.pyplot as plt\n",
    "from sklearn.datasets import fetch_california_housing\n",
    "from sklearn.model_selection import train_test_split\n",
    "from sklearn.preprocessing import StandardScaler\n",
    "from scipy.stats import reciprocal\n",
    "from sklearn.model_selection import RandomizedSearchCV\n",
    "import numpy as np\n",
    "import pandas as pd\n",
    "%matplotlib inline\n",
    "%load_ext tensorboard\n",
    "print(tf.__version__)\n",
    "print(keras.__version__)\n",
    "import warnings\n",
    "warnings.filterwarnings('ignore')\n"
   ]
  },
  {
   "cell_type": "code",
   "execution_count": 2,
   "metadata": {},
   "outputs": [],
   "source": [
    "fashion_dataset = keras.datasets.fashion_mnist\n",
    "(X_train_full, y_train_full), (X_test, y_test) = fashion_dataset.load_data()"
   ]
  },
  {
   "cell_type": "code",
   "execution_count": 3,
   "metadata": {},
   "outputs": [
    {
     "name": "stdout",
     "output_type": "stream",
     "text": [
      "Train Data: \n",
      "(60000, 28, 28)\n",
      "(60000,)\n",
      "Testing Data: \n",
      "(10000, 28, 28)\n",
      "(10000,)\n",
      "==================================================\n",
      "[[  0   0   0   0   0   0   0   0   0   0   0   0   0   0   0   0   0   0\n",
      "    0   0   0   0   0   0   0   0   0   0]\n",
      " [  0   0   0   0   0   0   0   0   0   0   0   0   0   0   0   0   0   0\n",
      "    0   0   0   0   0   0   0   0   0   0]\n",
      " [  0   0   0   0   0   0   0   0   0   0   0   0   0   0   0   0   0   0\n",
      "    0   0   0   0   0   0   0   0   0   0]\n",
      " [  0   0   0   0   0   0   0   0   0   0   0   0   1   0   0  13  73   0\n",
      "    0   1   4   0   0   0   0   1   1   0]\n",
      " [  0   0   0   0   0   0   0   0   0   0   0   0   3   0  36 136 127  62\n",
      "   54   0   0   0   1   3   4   0   0   3]\n",
      " [  0   0   0   0   0   0   0   0   0   0   0   0   6   0 102 204 176 134\n",
      "  144 123  23   0   0   0   0  12  10   0]\n",
      " [  0   0   0   0   0   0   0   0   0   0   0   0   0   0 155 236 207 178\n",
      "  107 156 161 109  64  23  77 130  72  15]\n",
      " [  0   0   0   0   0   0   0   0   0   0   0   1   0  69 207 223 218 216\n",
      "  216 163 127 121 122 146 141  88 172  66]\n",
      " [  0   0   0   0   0   0   0   0   0   1   1   1   0 200 232 232 233 229\n",
      "  223 223 215 213 164 127 123 196 229   0]\n",
      " [  0   0   0   0   0   0   0   0   0   0   0   0   0 183 225 216 223 228\n",
      "  235 227 224 222 224 221 223 245 173   0]\n",
      " [  0   0   0   0   0   0   0   0   0   0   0   0   0 193 228 218 213 198\n",
      "  180 212 210 211 213 223 220 243 202   0]\n",
      " [  0   0   0   0   0   0   0   0   0   1   3   0  12 219 220 212 218 192\n",
      "  169 227 208 218 224 212 226 197 209  52]\n",
      " [  0   0   0   0   0   0   0   0   0   0   6   0  99 244 222 220 218 203\n",
      "  198 221 215 213 222 220 245 119 167  56]\n",
      " [  0   0   0   0   0   0   0   0   0   4   0   0  55 236 228 230 228 240\n",
      "  232 213 218 223 234 217 217 209  92   0]\n",
      " [  0   0   1   4   6   7   2   0   0   0   0   0 237 226 217 223 222 219\n",
      "  222 221 216 223 229 215 218 255  77   0]\n",
      " [  0   3   0   0   0   0   0   0   0  62 145 204 228 207 213 221 218 208\n",
      "  211 218 224 223 219 215 224 244 159   0]\n",
      " [  0   0   0   0  18  44  82 107 189 228 220 222 217 226 200 205 211 230\n",
      "  224 234 176 188 250 248 233 238 215   0]\n",
      " [  0  57 187 208 224 221 224 208 204 214 208 209 200 159 245 193 206 223\n",
      "  255 255 221 234 221 211 220 232 246   0]\n",
      " [  3 202 228 224 221 211 211 214 205 205 205 220 240  80 150 255 229 221\n",
      "  188 154 191 210 204 209 222 228 225   0]\n",
      " [ 98 233 198 210 222 229 229 234 249 220 194 215 217 241  65  73 106 117\n",
      "  168 219 221 215 217 223 223 224 229  29]\n",
      " [ 75 204 212 204 193 205 211 225 216 185 197 206 198 213 240 195 227 245\n",
      "  239 223 218 212 209 222 220 221 230  67]\n",
      " [ 48 203 183 194 213 197 185 190 194 192 202 214 219 221 220 236 225 216\n",
      "  199 206 186 181 177 172 181 205 206 115]\n",
      " [  0 122 219 193 179 171 183 196 204 210 213 207 211 210 200 196 194 191\n",
      "  195 191 198 192 176 156 167 177 210  92]\n",
      " [  0   0  74 189 212 191 175 172 175 181 185 188 189 188 193 198 204 209\n",
      "  210 210 211 188 188 194 192 216 170   0]\n",
      " [  2   0   0   0  66 200 222 237 239 242 246 243 244 221 220 193 191 179\n",
      "  182 182 181 176 166 168  99  58   0   0]\n",
      " [  0   0   0   0   0   0   0  40  61  44  72  41  35   0   0   0   0   0\n",
      "    0   0   0   0   0   0   0   0   0   0]\n",
      " [  0   0   0   0   0   0   0   0   0   0   0   0   0   0   0   0   0   0\n",
      "    0   0   0   0   0   0   0   0   0   0]\n",
      " [  0   0   0   0   0   0   0   0   0   0   0   0   0   0   0   0   0   0\n",
      "    0   0   0   0   0   0   0   0   0   0]]\n"
     ]
    }
   ],
   "source": [
    "print(\"Train Data: \")\n",
    "print(X_train_full.shape)\n",
    "print(y_train_full.shape)\n",
    "print(\"Testing Data: \")\n",
    "print(X_test.shape)\n",
    "print(y_test.shape)\n",
    "\n",
    "print(\"=\" * 50)\n",
    "print(X_train_full[0])"
   ]
  },
  {
   "cell_type": "markdown",
   "metadata": {},
   "source": [
    "# From Loading Data\n",
    "\n",
    "- Train data: 60000 instances which each instance represent image\n",
    "- Test data: 10000\n",
    "- (60000,) & (10000,) are rank-1 array labels (Target Variable).\n",
    "- No Dev-set so we need to create one for validation\n",
    "- 28 * 28 gray scale image so need to vectorize to feed to the model\n",
    "- Image intensities have range from 0-255 as integer datatype so need scaling to 0-1"
   ]
  },
  {
   "cell_type": "code",
   "execution_count": 4,
   "metadata": {},
   "outputs": [],
   "source": [
    "X_train, X_valid = X_train_full[:55000] / 255.0, X_train_full[55000:] / 255.0\n",
    "y_train, y_valid = y_train_full[:55000], y_train_full[55000:]"
   ]
  },
  {
   "cell_type": "markdown",
   "metadata": {},
   "source": [
    "## Display some images"
   ]
  },
  {
   "cell_type": "code",
   "execution_count": 5,
   "metadata": {},
   "outputs": [
    {
     "data": {
      "image/png": "[encoded data removed]",
      "text/plain": [
       "<Figure size 432x288 with 1 Axes>"
      ]
     },
     "metadata": {
      "needs_background": "light"
     },
     "output_type": "display_data"
    }
   ],
   "source": [
    "some_digit = X_train_full[0]\n",
    "plt.imshow(some_digit, cmap='binary') # Binary to be in Gray scale\n",
    "plt.axis('off')\n",
    "plt.show()"
   ]
  },
  {
   "cell_type": "code",
   "execution_count": 6,
   "metadata": {},
   "outputs": [],
   "source": [
    "# List class names to know which class we dealing with\n",
    "class_names = [\"T-shirt/top\", \"Trouser\", \"Pullover\", \"Dress\", \"Coat\", \n",
    "               \"Sandal\", \"Shirt\", \"Sneaker\", \"Bag\", \"Ankle boot\"]"
   ]
  },
  {
   "cell_type": "code",
   "execution_count": 7,
   "metadata": {},
   "outputs": [
    {
     "data": {
      "image/png": "[encoded data removed]",
      "text/plain": [
       "<Figure size 864x345.6 with 40 Axes>"
      ]
     },
     "metadata": {
      "needs_background": "light"
     },
     "output_type": "display_data"
    }
   ],
   "source": [
    "n_rows = 4\n",
    "n_cols = 10\n",
    "plt.figure(figsize=(n_cols * 1.2, n_rows * 1.2))\n",
    "for row in range(n_rows):\n",
    "    for col in range(n_cols):\n",
    "        index = n_cols * row + col\n",
    "        plt.subplot(n_rows, n_cols, index + 1)\n",
    "        plt.imshow(X_train[index], cmap=\"binary\", interpolation=\"nearest\")\n",
    "        plt.axis('off')\n",
    "        plt.title(class_names[y_train[index]], fontsize=12)\n",
    "plt.subplots_adjust(wspace=0.2, hspace=0.5)\n",
    "plt.show()\n"
   ]
  },
  {
   "cell_type": "markdown",
   "metadata": {},
   "source": [
    "##  Creating The model Using the Sequential Keras API"
   ]
  },
  {
   "cell_type": "code",
   "execution_count": 8,
   "metadata": {},
   "outputs": [],
   "source": [
    "model = keras.models.Sequential()\n",
    "model.add(keras.layers.Flatten(input_shape=[28, 28]))\n",
    "model.add(keras.layers.Dense(300, activation='relu'))\n",
    "model.add(keras.layers.Dense(100, activation='relu'))\n",
    "model.add(keras.layers.Dense(10, activation='softmax'))\n",
    "\n",
    "## Another Way\n",
    "\n",
    "# model = keras.models.Sequential([\n",
    "#     keras.layers.Flatten(input_shape=[28, 28]),\n",
    "#     keras.layers.Dense(300, activation='relu'),\n",
    "#     keras.layers.Dense(100, activation='relu'),\n",
    "#     keras.layers.Dense(10, activation='softmax')\n",
    "# ])"
   ]
  },
  {
   "cell_type": "markdown",
   "metadata": {},
   "source": [
    "## Model Information\n",
    "\n",
    "- keras.models.Sequential()\n",
    "    - Create a sequential model (It stack layer by layer as sequential)\n",
    "    \n",
    "- keras.layers.Flatten(input_shape=[28, 28])\n",
    "\n",
    "Add the input layer, Flatten means reshape the input image, and there is no batch size have been introduced so when we print the summary we will see for the (None, 784), none means that any number of instance(batch-size) can be feed to the input layer.\n",
    "\n",
    "- keras.layers.Dense(300, activation='relu')\n",
    "\n",
    "Create first hidden layer with 300 neurons and set the activation function with **Relu** function (linear function), **Dense** means that fully connected layer, and this hidden layer manage the matrix weights and the bias vectors.\n",
    "\n",
    "- keras.layers.Dense(100, activation='relu') same but with 100 neurons\n",
    "\n",
    "- keras.layers.Dense(10, activation='softmax')\n",
    "\n",
    "As we dealing with 10-classes (multi classification task) do for the output layer we set the activation function to softmax which handle this by probability distribution for 10-class up to 1.\n"
   ]
  },
  {
   "cell_type": "code",
   "execution_count": 9,
   "metadata": {},
   "outputs": [
    {
     "name": "stdout",
     "output_type": "stream",
     "text": [
      "Model: \"sequential\"\n",
      "_________________________________________________________________\n",
      "Layer (type)                 Output Shape              Param #   \n",
      "=================================================================\n",
      "flatten (Flatten)            (None, 784)               0         \n",
      "_________________________________________________________________\n",
      "dense (Dense)                (None, 300)               235500    \n",
      "_________________________________________________________________\n",
      "dense_1 (Dense)              (None, 100)               30100     \n",
      "_________________________________________________________________\n",
      "dense_2 (Dense)              (None, 10)                1010      \n",
      "=================================================================\n",
      "Total params: 266,610\n",
      "Trainable params: 266,610\n",
      "Non-trainable params: 0\n",
      "_________________________________________________________________\n"
     ]
    }
   ],
   "source": [
    "model.summary()"
   ]
  },
  {
   "cell_type": "code",
   "execution_count": 10,
   "metadata": {},
   "outputs": [
    {
     "data": {
      "image/png": "[encoded data removed]",
      "text/plain": [
       "<IPython.core.display.Image object>"
      ]
     },
     "execution_count": 10,
     "metadata": {},
     "output_type": "execute_result"
    }
   ],
   "source": [
    "keras.utils.plot_model(model, \"my_fashion_mnist_model.png\", show_shapes=True)"
   ]
  },
  {
   "cell_type": "markdown",
   "metadata": {},
   "source": [
    "## Model summary\n",
    "\n",
    "Its layer has its own name as you can see Flatten, dense_1 and so on.\n",
    "\n",
    "The output shape of each layer is:\n",
    "\n",
    "- Input layer (None, 784) None means you can feed any number of instance(batch-size), 784 after flate the input\n",
    "- (None, 300), None will be the batch-size when you specify, 300 nurons\n",
    "- (None, 300) and (None, 100) as above\n",
    "\n",
    "The Param:\n",
    "\n",
    "**Input layer has no params associated with it, it just represent the features we have**\n",
    "\n",
    "We have just the weights and bais as our paramters so, the weighted matrix of first hidden layer and the bais vector is equal to:\n",
    "\n",
    "- Number of nuorns in its layer * number of neurons in previous layer and this means 300 * nuorns of input layer for wieghted matrix, so 300 * 784\n",
    "\n",
    "- Number of nuorns in its layer for bais vector, so 300 * 1\n",
    "- summ (300 * 784 + 300) = 235500 as you can see in summary of first hidden layer\n",
    "\n",
    "Just as above the next layer will be\n",
    "- (100 * 300 + 100)  = 30100\n",
    "- (10 * 100 + 10) = 1010\n",
    "- Total of params along the network is 235500 + 30100 + 1010 = 266610\n"
   ]
  },
  {
   "cell_type": "code",
   "execution_count": 11,
   "metadata": {},
   "outputs": [
    {
     "name": "stdout",
     "output_type": "stream",
     "text": [
      "[<keras.layers.core.Flatten object at 0x7fa464748c88>, <keras.layers.core.Dense object at 0x7fa46399b9e8>, <keras.layers.core.Dense object at 0x7fa463942eb8>, <keras.layers.core.Dense object at 0x7fa4601777b8>]\n",
      "==================================================\n",
      "dense\n"
     ]
    }
   ],
   "source": [
    "# get model list of layers\n",
    "print(model.layers)\n",
    "hidden1 = model.layers[1] # 1 as first hidden layers because layer 0 for the input layer\n",
    "print(\"=\"*50)\n",
    "print(hidden1.name)"
   ]
  },
  {
   "cell_type": "code",
   "execution_count": 12,
   "metadata": {},
   "outputs": [
    {
     "name": "stdout",
     "output_type": "stream",
     "text": [
      "(784, 300)\n",
      "(300,)\n",
      "[0. 0. 0. 0. 0. 0. 0. 0. 0. 0. 0. 0. 0. 0. 0. 0. 0. 0. 0. 0. 0. 0. 0. 0.\n",
      " 0. 0. 0. 0. 0. 0. 0. 0. 0. 0. 0. 0. 0. 0. 0. 0. 0. 0. 0. 0. 0. 0. 0. 0.\n",
      " 0. 0. 0. 0. 0. 0. 0. 0. 0. 0. 0. 0. 0. 0. 0. 0. 0. 0. 0. 0. 0. 0. 0. 0.\n",
      " 0. 0. 0. 0. 0. 0. 0. 0. 0. 0. 0. 0. 0. 0. 0. 0. 0. 0. 0. 0. 0. 0. 0. 0.\n",
      " 0. 0. 0. 0. 0. 0. 0. 0. 0. 0. 0. 0. 0. 0. 0. 0. 0. 0. 0. 0. 0. 0. 0. 0.\n",
      " 0. 0. 0. 0. 0. 0. 0. 0. 0. 0. 0. 0. 0. 0. 0. 0. 0. 0. 0. 0. 0. 0. 0. 0.\n",
      " 0. 0. 0. 0. 0. 0. 0. 0. 0. 0. 0. 0. 0. 0. 0. 0. 0. 0. 0. 0. 0. 0. 0. 0.\n",
      " 0. 0. 0. 0. 0. 0. 0. 0. 0. 0. 0. 0. 0. 0. 0. 0. 0. 0. 0. 0. 0. 0. 0. 0.\n",
      " 0. 0. 0. 0. 0. 0. 0. 0. 0. 0. 0. 0. 0. 0. 0. 0. 0. 0. 0. 0. 0. 0. 0. 0.\n",
      " 0. 0. 0. 0. 0. 0. 0. 0. 0. 0. 0. 0. 0. 0. 0. 0. 0. 0. 0. 0. 0. 0. 0. 0.\n",
      " 0. 0. 0. 0. 0. 0. 0. 0. 0. 0. 0. 0. 0. 0. 0. 0. 0. 0. 0. 0. 0. 0. 0. 0.\n",
      " 0. 0. 0. 0. 0. 0. 0. 0. 0. 0. 0. 0. 0. 0. 0. 0. 0. 0. 0. 0. 0. 0. 0. 0.\n",
      " 0. 0. 0. 0. 0. 0. 0. 0. 0. 0. 0. 0.]\n"
     ]
    },
    {
     "data": {
      "text/plain": [
       "array([[ 0.01855657, -0.02582928, -0.01116974, ..., -0.00986645,\n",
       "        -0.02670331,  0.02857717],\n",
       "       [-0.07176007,  0.02613346, -0.06925733, ...,  0.04578768,\n",
       "        -0.01279071, -0.06861894],\n",
       "       [-0.07159699,  0.01674688,  0.03190048, ..., -0.04001986,\n",
       "        -0.00266774,  0.03071966],\n",
       "       ...,\n",
       "       [ 0.01381165, -0.04273189,  0.03212753, ..., -0.05961136,\n",
       "         0.0124689 , -0.00037033],\n",
       "       [ 0.06095718,  0.07171668,  0.06315157, ...,  0.06449686,\n",
       "        -0.05781815,  0.06444739],\n",
       "       [-0.05523137,  0.00675301,  0.0111271 , ...,  0.04634476,\n",
       "        -0.0587753 , -0.01012485]], dtype=float32)"
      ]
     },
     "execution_count": 12,
     "metadata": {},
     "output_type": "execute_result"
    }
   ],
   "source": [
    "# get the weights and the bias for this hidden layer\n",
    "weights1, bais1 = hidden1.get_weights()\n",
    "print(weights1.shape)\n",
    "print(bais1.shape)\n",
    "print(bais1)\n",
    "weights1"
   ]
  },
  {
   "cell_type": "markdown",
   "metadata": {},
   "source": [
    "## From weights\n",
    "\n",
    "As we can see bias initialized as vector of zeros while weights with random values to break the symmetry in learning."
   ]
  },
  {
   "cell_type": "markdown",
   "metadata": {
    "collapsed": true
   },
   "source": [
    "## Complile & Fit the model\n",
    "\n",
    "- loss\n",
    "\n",
    "**sparse_categorical_crossentropy** when you have one class per instance from some of classes as from 0-9, while **categorical_crossentropy** when you have a one-hot for each instance and this one_hot vector is all of 0 and 1 for index that represent the class which this instance belong to.\n",
    "\n",
    "- optimizer\n",
    "\n",
    "As we can see sgd have no hyper parameters so it used the default defined ones from keras like for learning rate it use .01, so if we need to use what we need we have to pass **keras.optimizers.SGD(learning_rate=.01)** and other parameters it used.\n",
    "\n",
    "- metrics\n",
    "Is an optional parameters as others except the loss and the optimizer, and it give you the accuracy during each epoch as in the **Bar** and if you apply a validation set, at the end of each epoch it will give you the accuracy as well as the loss on this dev set.\n",
    "\n",
    "Once we fit the model it give us the history during the journy of the model for each epochs from loss to accuracy as you apply other optional parameters in the compile it will give you history of these parameters.\n",
    "\n",
    "So we can see th"
   ]
  },
  {
   "cell_type": "code",
   "execution_count": 13,
   "metadata": {},
   "outputs": [],
   "source": [
    "model.compile(loss=\"sparse_categorical_crossentropy\",\n",
    "             optimizer=\"sgd\",\n",
    "             metrics=\"accuracy\")"
   ]
  },
  {
   "cell_type": "code",
   "execution_count": 14,
   "metadata": {},
   "outputs": [
    {
     "data": {
      "text/plain": [
       "array([9, 0, 0], dtype=uint8)"
      ]
     },
     "execution_count": 14,
     "metadata": {},
     "output_type": "execute_result"
    }
   ],
   "source": [
    "y_train[:3]"
   ]
  },
  {
   "cell_type": "code",
   "execution_count": 15,
   "metadata": {},
   "outputs": [
    {
     "name": "stdout",
     "output_type": "stream",
     "text": [
      "Epoch 1/30\n",
      "1719/1719 [==============================] - 6s 3ms/step - loss: 0.7107 - accuracy: 0.7664 - val_loss: 0.5155 - val_accuracy: 0.8178\n",
      "Epoch 2/30\n",
      "1719/1719 [==============================] - 6s 3ms/step - loss: 0.4892 - accuracy: 0.8309 - val_loss: 0.4441 - val_accuracy: 0.8434\n",
      "Epoch 3/30\n",
      "1719/1719 [==============================] - 6s 4ms/step - loss: 0.4431 - accuracy: 0.8452 - val_loss: 0.4493 - val_accuracy: 0.8414\n",
      "Epoch 4/30\n",
      "1719/1719 [==============================] - 6s 4ms/step - loss: 0.4157 - accuracy: 0.8550 - val_loss: 0.4435 - val_accuracy: 0.8406\n",
      "Epoch 5/30\n",
      "1719/1719 [==============================] - 6s 3ms/step - loss: 0.3951 - accuracy: 0.8626 - val_loss: 0.3828 - val_accuracy: 0.8632\n",
      "Epoch 6/30\n",
      "1719/1719 [==============================] - 5s 3ms/step - loss: 0.3791 - accuracy: 0.8671 - val_loss: 0.3780 - val_accuracy: 0.8646\n",
      "Epoch 7/30\n",
      "1719/1719 [==============================] - 5s 3ms/step - loss: 0.3651 - accuracy: 0.8715 - val_loss: 0.3876 - val_accuracy: 0.8648\n",
      "Epoch 8/30\n",
      "1719/1719 [==============================] - 4s 2ms/step - loss: 0.3535 - accuracy: 0.8759 - val_loss: 0.3557 - val_accuracy: 0.8718\n",
      "Epoch 9/30\n",
      "1719/1719 [==============================] - 4s 3ms/step - loss: 0.3428 - accuracy: 0.8790 - val_loss: 0.3455 - val_accuracy: 0.8750\n",
      "Epoch 10/30\n",
      "1719/1719 [==============================] - 5s 3ms/step - loss: 0.3342 - accuracy: 0.8816 - val_loss: 0.3548 - val_accuracy: 0.8736\n",
      "Epoch 11/30\n",
      "1719/1719 [==============================] - 4s 3ms/step - loss: 0.3255 - accuracy: 0.8832 - val_loss: 0.3436 - val_accuracy: 0.8764\n",
      "Epoch 12/30\n",
      "1719/1719 [==============================] - 4s 2ms/step - loss: 0.3171 - accuracy: 0.8859 - val_loss: 0.3289 - val_accuracy: 0.8828\n",
      "Epoch 13/30\n",
      "1719/1719 [==============================] - 4s 2ms/step - loss: 0.3089 - accuracy: 0.8901 - val_loss: 0.3460 - val_accuracy: 0.8792\n",
      "Epoch 14/30\n",
      "1719/1719 [==============================] - 4s 2ms/step - loss: 0.3026 - accuracy: 0.8928 - val_loss: 0.3434 - val_accuracy: 0.8770\n",
      "Epoch 15/30\n",
      "1719/1719 [==============================] - 4s 2ms/step - loss: 0.2961 - accuracy: 0.8934 - val_loss: 0.3388 - val_accuracy: 0.8802\n",
      "Epoch 16/30\n",
      "1719/1719 [==============================] - 4s 2ms/step - loss: 0.2905 - accuracy: 0.8958 - val_loss: 0.3234 - val_accuracy: 0.8852\n",
      "Epoch 17/30\n",
      "1719/1719 [==============================] - 5s 3ms/step - loss: 0.2848 - accuracy: 0.8964 - val_loss: 0.3181 - val_accuracy: 0.8814\n",
      "Epoch 18/30\n",
      "1719/1719 [==============================] - 5s 3ms/step - loss: 0.2790 - accuracy: 0.8993 - val_loss: 0.3205 - val_accuracy: 0.8820\n",
      "Epoch 19/30\n",
      "1719/1719 [==============================] - 4s 3ms/step - loss: 0.2740 - accuracy: 0.9014 - val_loss: 0.3312 - val_accuracy: 0.8798\n",
      "Epoch 20/30\n",
      "1719/1719 [==============================] - 5s 3ms/step - loss: 0.2690 - accuracy: 0.9034 - val_loss: 0.3213 - val_accuracy: 0.8830\n",
      "Epoch 21/30\n",
      "1719/1719 [==============================] - 4s 3ms/step - loss: 0.2638 - accuracy: 0.9050 - val_loss: 0.3316 - val_accuracy: 0.8794\n",
      "Epoch 22/30\n",
      "1719/1719 [==============================] - 4s 3ms/step - loss: 0.2593 - accuracy: 0.9064 - val_loss: 0.3160 - val_accuracy: 0.8878\n",
      "Epoch 23/30\n",
      "1719/1719 [==============================] - 5s 3ms/step - loss: 0.2541 - accuracy: 0.9080 - val_loss: 0.3238 - val_accuracy: 0.8796\n",
      "Epoch 24/30\n",
      "1719/1719 [==============================] - 4s 3ms/step - loss: 0.2494 - accuracy: 0.9100 - val_loss: 0.3099 - val_accuracy: 0.8880\n",
      "Epoch 25/30\n",
      "1719/1719 [==============================] - 4s 3ms/step - loss: 0.2455 - accuracy: 0.9116 - val_loss: 0.3128 - val_accuracy: 0.8868\n",
      "Epoch 26/30\n",
      "1719/1719 [==============================] - 4s 3ms/step - loss: 0.2411 - accuracy: 0.9132 - val_loss: 0.3122 - val_accuracy: 0.8872\n",
      "Epoch 27/30\n",
      "1719/1719 [==============================] - 5s 3ms/step - loss: 0.2373 - accuracy: 0.9154 - val_loss: 0.3266 - val_accuracy: 0.8820\n",
      "Epoch 28/30\n",
      "1719/1719 [==============================] - 5s 3ms/step - loss: 0.2340 - accuracy: 0.9167 - val_loss: 0.3121 - val_accuracy: 0.8854\n",
      "Epoch 29/30\n",
      "1719/1719 [==============================] - 4s 3ms/step - loss: 0.2291 - accuracy: 0.9179 - val_loss: 0.3148 - val_accuracy: 0.8836\n",
      "Epoch 30/30\n",
      "1719/1719 [==============================] - 5s 3ms/step - loss: 0.2255 - accuracy: 0.9182 - val_loss: 0.3018 - val_accuracy: 0.8874\n"
     ]
    }
   ],
   "source": [
    "history = model.fit(X_train, y_train, epochs=30, validation_data=(X_valid, y_valid))"
   ]
  },
  {
   "cell_type": "markdown",
   "metadata": {},
   "source": [
    "## SGD\n",
    "\n",
    "As we can see it pass not one instance at a time in the Bar it default is 32 as well as it wait to end of epoch to give you the loss and accuracy on validation set while it changes in the training\n",
    "\n",
    "## Important NOTE from the book\n",
    "\n",
    "\"\"If the training set was very skewed, with some classes being overrepresented and others  underrepresented,  it  would  be  useful  to  set  the  class_weight  argument  when calling  the  fit()  method,  giving  a  larger  weight  to  underrepresented  classes,  and  alower weight to overrepresented classes. These weights would be used by Keras when computing  the  loss.  If  you  need  per-instance  weights  instead,  you  can  set  the  sample_weight  argument  (it  supersedes  class_weight).  This  could  be  useful  for  example  if  some  instances  were  labeled  by  experts  while  others  were  labeled  using  acrowd sourcing platform: you might want to give more weight to the former. You canalso  provide  sample  weights  (but  not  class  weights)  for  the  validation  set  by  addingthem as a third item in the validation_data tuple\"\"\n",
    "\n"
   ]
  },
  {
   "cell_type": "code",
   "execution_count": 16,
   "metadata": {},
   "outputs": [
    {
     "name": "stdout",
     "output_type": "stream",
     "text": [
      "{'verbose': 1, 'epochs': 30, 'steps': 1719}\n",
      "[0, 1, 2, 3, 4, 5, 6, 7, 8, 9, 10, 11, 12, 13, 14, 15, 16, 17, 18, 19, 20, 21, 22, 23, 24, 25, 26, 27, 28, 29]\n"
     ]
    }
   ],
   "source": [
    "print(history.params)\n",
    "print(history.epoch)"
   ]
  },
  {
   "cell_type": "code",
   "execution_count": 17,
   "metadata": {},
   "outputs": [
    {
     "data": {
      "text/plain": [
       "(0.0, 1.0)"
      ]
     },
     "execution_count": 17,
     "metadata": {},
     "output_type": "execute_result"
    },
    {
     "data": {
      "image/png": "[encoded data removed]",
      "text/plain": [
       "<Figure size 576x360 with 1 Axes>"
      ]
     },
     "metadata": {
      "needs_background": "light"
     },
     "output_type": "display_data"
    }
   ],
   "source": [
    "pd.DataFrame(history.history).plot(figsize=(8,5))\n",
    "plt.grid(True)\n",
    "plt.gca().set_ylim(0, 1) # set the vertical range to [0-1]"
   ]
  },
  {
   "cell_type": "code",
   "execution_count": 18,
   "metadata": {},
   "outputs": [
    {
     "name": "stdout",
     "output_type": "stream",
     "text": [
      "1719/1719 [==============================] - 3s 2ms/step - loss: 0.2170 - accuracy: 0.9222\n"
     ]
    },
    {
     "data": {
      "text/plain": [
       "[0.2169802039861679, 0.9221636652946472]"
      ]
     },
     "execution_count": 18,
     "metadata": {},
     "output_type": "execute_result"
    }
   ],
   "source": [
    "model.evaluate(X_train, y_train)"
   ]
  },
  {
   "cell_type": "code",
   "execution_count": 19,
   "metadata": {},
   "outputs": [
    {
     "name": "stdout",
     "output_type": "stream",
     "text": [
      "157/157 [==============================] - 0s 2ms/step - loss: 0.3018 - accuracy: 0.8874\n"
     ]
    },
    {
     "data": {
      "text/plain": [
       "[0.3017829656600952, 0.8873999714851379]"
      ]
     },
     "execution_count": 19,
     "metadata": {},
     "output_type": "execute_result"
    }
   ],
   "source": [
    "model.evaluate(X_valid, y_valid)"
   ]
  },
  {
   "cell_type": "code",
   "execution_count": 20,
   "metadata": {},
   "outputs": [
    {
     "data": {
      "text/plain": [
       "array([[0., 0., 0., 0., 0., 0., 0., 0., 0., 1.],\n",
       "       [0., 0., 1., 0., 0., 0., 0., 0., 0., 0.],\n",
       "       [0., 1., 0., 0., 0., 0., 0., 0., 0., 0.],\n",
       "       [0., 1., 0., 0., 0., 0., 0., 0., 0., 0.],\n",
       "       [0., 0., 0., 0., 0., 0., 1., 0., 0., 0.],\n",
       "       [0., 1., 0., 0., 0., 0., 0., 0., 0., 0.],\n",
       "       [0., 0., 0., 0., 1., 0., 0., 0., 0., 0.],\n",
       "       [0., 0., 0., 0., 0., 0., 1., 0., 0., 0.],\n",
       "       [0., 0., 0., 0., 0., 1., 0., 0., 0., 0.],\n",
       "       [0., 0., 0., 0., 0., 0., 0., 1., 0., 0.]], dtype=float32)"
      ]
     },
     "execution_count": 20,
     "metadata": {},
     "output_type": "execute_result"
    }
   ],
   "source": [
    "# one probabilty per class\n",
    "x_new = X_test[:10]\n",
    "model.predict(x_new)"
   ]
  },
  {
   "cell_type": "code",
   "execution_count": 21,
   "metadata": {},
   "outputs": [
    {
     "name": "stdout",
     "output_type": "stream",
     "text": [
      "[9 2 1 1 6 1 4 6 5 7]\n",
      "['Ankle boot' 'Pullover' 'Trouser' 'Trouser' 'Shirt' 'Trouser' 'Coat'\n",
      " 'Shirt' 'Sandal' 'Sneaker']\n"
     ]
    }
   ],
   "source": [
    "# predict class dierctly\n",
    "y_pred = model.predict(x_new)\n",
    "y_pred=np.argmax(y_pred,axis=1)\n",
    "\n",
    "print(y_pred)\n",
    "print(np.array(class_names)[y_pred])"
   ]
  },
  {
   "cell_type": "code",
   "execution_count": 22,
   "metadata": {},
   "outputs": [
    {
     "data": {
      "image/png": "[encoded data removed]",
      "text/plain": [
       "<Figure size 518.4x172.8 with 10 Axes>"
      ]
     },
     "metadata": {
      "needs_background": "light"
     },
     "output_type": "display_data"
    }
   ],
   "source": [
    "plt.figure(figsize=(7.2, 2.4))\n",
    "for index, image in enumerate(x_new):\n",
    "    plt.subplot(2, 5, index + 1)\n",
    "    plt.imshow(image, cmap=\"binary\", interpolation=\"nearest\")\n",
    "    plt.axis('off')\n",
    "    plt.title(class_names[y_test[index]], fontsize=12)\n",
    "plt.subplots_adjust(wspace=0.2, hspace=0.5)\n",
    "plt.show()"
   ]
  },
  {
   "cell_type": "markdown",
   "metadata": {},
   "source": [
    "# Regression MLP\n",
    "\n",
    "Now let going on another problem but regression problem to see how Keras APIs work also with regression problems."
   ]
  },
  {
   "cell_type": "code",
   "execution_count": 23,
   "metadata": {},
   "outputs": [],
   "source": [
    "housing = fetch_california_housing()\n",
    "X_train_full, X_test, y_train_full, y_test = train_test_split(housing.data, housing.target)\n",
    "X_train, X_valid, y_train, y_valid = train_test_split(X_train_full, y_train_full)"
   ]
  },
  {
   "cell_type": "code",
   "execution_count": 24,
   "metadata": {},
   "outputs": [],
   "source": [
    "scaler = StandardScaler()\n",
    "X_train = scaler.fit_transform(X_train)\n",
    "X_valid = scaler.transform(X_valid)\n",
    "X_test = scaler.transform(X_test)"
   ]
  },
  {
   "cell_type": "code",
   "execution_count": 25,
   "metadata": {},
   "outputs": [
    {
     "data": {
      "text/plain": [
       "(11610, 8)"
      ]
     },
     "execution_count": 25,
     "metadata": {},
     "output_type": "execute_result"
    }
   ],
   "source": [
    "X_train.shape"
   ]
  },
  {
   "cell_type": "code",
   "execution_count": 26,
   "metadata": {},
   "outputs": [
    {
     "name": "stdout",
     "output_type": "stream",
     "text": [
      "Epoch 1/20\n",
      "363/363 [==============================] - 1s 1ms/step - loss: 0.9005 - val_loss: 0.5108\n",
      "Epoch 2/20\n",
      "363/363 [==============================] - 0s 1ms/step - loss: 0.4776 - val_loss: 0.4260\n",
      "Epoch 3/20\n",
      "363/363 [==============================] - 0s 1ms/step - loss: 0.4429 - val_loss: 0.4175\n",
      "Epoch 4/20\n",
      "363/363 [==============================] - 0s 1ms/step - loss: 0.4303 - val_loss: 0.3985\n",
      "Epoch 5/20\n",
      "363/363 [==============================] - 0s 1ms/step - loss: 0.4225 - val_loss: 0.3871\n",
      "Epoch 6/20\n",
      "363/363 [==============================] - 0s 1ms/step - loss: 0.4153 - val_loss: 0.3931\n",
      "Epoch 7/20\n",
      "363/363 [==============================] - 1s 1ms/step - loss: 0.4077 - val_loss: 0.3829\n",
      "Epoch 8/20\n",
      "363/363 [==============================] - 0s 1ms/step - loss: 0.4034 - val_loss: 0.3919\n",
      "Epoch 9/20\n",
      "363/363 [==============================] - 0s 1ms/step - loss: 0.4007 - val_loss: 0.3745\n",
      "Epoch 10/20\n",
      "363/363 [==============================] - 0s 1ms/step - loss: 0.3971 - val_loss: 0.3735\n",
      "Epoch 11/20\n",
      "363/363 [==============================] - 0s 1ms/step - loss: 0.3932 - val_loss: 0.3799\n",
      "Epoch 12/20\n",
      "363/363 [==============================] - 0s 1ms/step - loss: 0.3898 - val_loss: 0.3710\n",
      "Epoch 13/20\n",
      "363/363 [==============================] - 0s 1ms/step - loss: 0.3875 - val_loss: 0.3691\n",
      "Epoch 14/20\n",
      "363/363 [==============================] - 0s 1ms/step - loss: 0.3826 - val_loss: 0.3556\n",
      "Epoch 15/20\n",
      "363/363 [==============================] - 0s 1ms/step - loss: 0.3834 - val_loss: 0.3584\n",
      "Epoch 16/20\n",
      "363/363 [==============================] - 0s 1ms/step - loss: 0.3829 - val_loss: 0.3616\n",
      "Epoch 17/20\n",
      "363/363 [==============================] - 0s 1ms/step - loss: 0.3786 - val_loss: 0.3633\n",
      "Epoch 18/20\n",
      "363/363 [==============================] - 0s 1ms/step - loss: 0.3749 - val_loss: 0.3559\n",
      "Epoch 19/20\n",
      "363/363 [==============================] - 0s 1ms/step - loss: 0.3734 - val_loss: 0.3605\n",
      "Epoch 20/20\n",
      "363/363 [==============================] - 0s 1ms/step - loss: 0.3706 - val_loss: 0.3543\n",
      "162/162 [==============================] - 0s 786us/step - loss: 0.3636\n"
     ]
    },
    {
     "data": {
      "text/plain": [
       "array([[2.4064276],\n",
       "       [2.8560443],\n",
       "       [1.301703 ]], dtype=float32)"
      ]
     },
     "execution_count": 26,
     "metadata": {},
     "output_type": "execute_result"
    }
   ],
   "source": [
    "model = keras.models.Sequential([\n",
    "    keras.layers.Dense(30, activation='relu', input_shape=X_train.shape[1:]),\n",
    "    keras.layers.Dense(1)\n",
    "])\n",
    "\n",
    "model.compile(loss='mean_squared_error', optimizer='sgd')\n",
    "history = model.fit(X_train, y_train, epochs=20, validation_data=(X_valid, y_valid))\n",
    "mse_test = model.evaluate(X_test, y_test)\n",
    "X_new = X_test[:3]\n",
    "model.predict(X_new)"
   ]
  },
  {
   "cell_type": "code",
   "execution_count": 27,
   "metadata": {},
   "outputs": [
    {
     "data": {
      "text/plain": [
       "0.36361613869667053"
      ]
     },
     "execution_count": 27,
     "metadata": {},
     "output_type": "execute_result"
    }
   ],
   "source": [
    "mse_test"
   ]
  },
  {
   "cell_type": "code",
   "execution_count": 28,
   "metadata": {},
   "outputs": [
    {
     "data": {
      "image/png": "[encoded data removed]",
      "text/plain": [
       "<Figure size 432x288 with 1 Axes>"
      ]
     },
     "metadata": {
      "needs_background": "light"
     },
     "output_type": "display_data"
    }
   ],
   "source": [
    "plt.plot(pd.DataFrame(history.history))\n",
    "plt.grid(True)\n",
    "plt.gca().set_ylim(0, 1)\n",
    "plt.show()"
   ]
  },
  {
   "cell_type": "markdown",
   "metadata": {},
   "source": [
    "# Building Complex Models Using the Functioal APIs\n",
    "\n",
    "As you can see, the Sequential API is quite easy to use. However, although sequential models are extremely common, it is sometimes useful to build neural networks with more complex topologies, or with multiple inputs or outputs. For this purpose, Kerasoffers the Functional API.\n",
    "\n",
    "This architecture using all or part from the features as a **wide** which path directly to the output layer, and at the same time part or all the features during the **deep** path, it helps the model to learn from deep patterns as well as from directly the input features because it sometimes these features distorted by this sequence if transformation during the deep path.\n",
    "\n",
    "<img src=\"images/ch10_1.png\" width=\"300\" height=\"300\">"
   ]
  },
  {
   "cell_type": "markdown",
   "metadata": {},
   "source": [
    "First,  we  need  to  create  an  Input  object.  This  is  needed  because  we  may  have multiple inputs, as we will see later.\n",
    "\n",
    "Notice that we call it like a function, passing it the input. This is why this is called the Functional API. Note that we are just telling Keras how it should connect the layers together, no actual data is being pro‐cessed yet.\n",
    "\n",
    "Next, path the hidden1 to hidden2 as well.\n",
    "\n",
    "Next, we create a Concatenate() to  concatenate  the  input  and  the  output  of  the  second  hidden  layer.\n",
    "\n",
    "Next, the path the result from the concatenation of input(simple rules), and deeply hidden path (deep pattern) to the output layer.\n",
    "\n",
    "Next, build the keras model from these wide and deep representation, which specifying inputs and outputs to use."
   ]
  },
  {
   "cell_type": "code",
   "execution_count": 29,
   "metadata": {},
   "outputs": [
    {
     "data": {
      "text/plain": [
       "(11610, 8)"
      ]
     },
     "execution_count": 29,
     "metadata": {},
     "output_type": "execute_result"
    }
   ],
   "source": [
    "X_train.shape"
   ]
  },
  {
   "cell_type": "code",
   "execution_count": 30,
   "metadata": {},
   "outputs": [
    {
     "name": "stdout",
     "output_type": "stream",
     "text": [
      "Model: \"model\"\n",
      "__________________________________________________________________________________________________\n",
      "Layer (type)                    Output Shape         Param #     Connected to                     \n",
      "==================================================================================================\n",
      "input_1 (InputLayer)            [(None, 8)]          0                                            \n",
      "__________________________________________________________________________________________________\n",
      "dense_5 (Dense)                 (None, 30)           270         input_1[0][0]                    \n",
      "__________________________________________________________________________________________________\n",
      "dense_6 (Dense)                 (None, 30)           930         dense_5[0][0]                    \n",
      "__________________________________________________________________________________________________\n",
      "concatenate (Concatenate)       (None, 38)           0           input_1[0][0]                    \n",
      "                                                                 dense_6[0][0]                    \n",
      "__________________________________________________________________________________________________\n",
      "dense_7 (Dense)                 (None, 1)            39          concatenate[0][0]                \n",
      "==================================================================================================\n",
      "Total params: 1,239\n",
      "Trainable params: 1,239\n",
      "Non-trainable params: 0\n",
      "__________________________________________________________________________________________________\n"
     ]
    }
   ],
   "source": [
    "input_  = keras.layers.Input(shape=X_train.shape[1])\n",
    "hidden1 = keras.layers.Dense(30, activation='relu')(input_)\n",
    "hidden2 = keras.layers.Dense(30, activation='relu')(hidden1)\n",
    "concat  = keras.layers.concatenate([input_, hidden2])\n",
    "output  = keras.layers.Dense(1)(concat)\n",
    "model   = keras.Model(inputs=[input_], outputs=[output]) \n",
    "model.summary()"
   ]
  },
  {
   "cell_type": "code",
   "execution_count": 31,
   "metadata": {},
   "outputs": [
    {
     "name": "stdout",
     "output_type": "stream",
     "text": [
      "Epoch 1/20\n",
      "363/363 [==============================] - 1s 1ms/step - loss: 1.1017 - val_loss: 13.0537\n",
      "Epoch 2/20\n",
      "363/363 [==============================] - 1s 1ms/step - loss: 5.3609 - val_loss: 718.6829\n",
      "Epoch 3/20\n",
      "363/363 [==============================] - 0s 1ms/step - loss: 24.3263 - val_loss: 1264.3297\n",
      "Epoch 4/20\n",
      "363/363 [==============================] - 0s 1ms/step - loss: nan - val_loss: nan\n",
      "Epoch 5/20\n",
      "363/363 [==============================] - 0s 1ms/step - loss: nan - val_loss: nan\n",
      "Epoch 6/20\n",
      "363/363 [==============================] - 0s 1ms/step - loss: nan - val_loss: nan\n",
      "Epoch 7/20\n",
      "363/363 [==============================] - 0s 1ms/step - loss: nan - val_loss: nan\n",
      "Epoch 8/20\n",
      "363/363 [==============================] - 0s 1ms/step - loss: nan - val_loss: nan\n",
      "Epoch 9/20\n",
      "363/363 [==============================] - 0s 1ms/step - loss: nan - val_loss: nan\n",
      "Epoch 10/20\n",
      "363/363 [==============================] - 0s 1ms/step - loss: nan - val_loss: nan\n",
      "Epoch 11/20\n",
      "363/363 [==============================] - 0s 1ms/step - loss: nan - val_loss: nan\n",
      "Epoch 12/20\n",
      "363/363 [==============================] - 0s 1ms/step - loss: nan - val_loss: nan\n",
      "Epoch 13/20\n",
      "363/363 [==============================] - 1s 1ms/step - loss: nan - val_loss: nan\n",
      "Epoch 14/20\n",
      "363/363 [==============================] - 0s 1ms/step - loss: nan - val_loss: nan\n",
      "Epoch 15/20\n",
      "363/363 [==============================] - 0s 1ms/step - loss: nan - val_loss: nan\n",
      "Epoch 16/20\n",
      "363/363 [==============================] - 0s 1ms/step - loss: nan - val_loss: nan\n",
      "Epoch 17/20\n",
      "363/363 [==============================] - 0s 1ms/step - loss: nan - val_loss: nan\n",
      "Epoch 18/20\n",
      "363/363 [==============================] - 0s 1ms/step - loss: nan - val_loss: nan\n",
      "Epoch 19/20\n",
      "363/363 [==============================] - 0s 1ms/step - loss: nan - val_loss: nan\n",
      "Epoch 20/20\n",
      "363/363 [==============================] - 0s 1ms/step - loss: nan - val_loss: nan\n",
      "162/162 [==============================] - 0s 847us/step - loss: nan\n"
     ]
    },
    {
     "data": {
      "text/plain": [
       "array([[nan],\n",
       "       [nan],\n",
       "       [nan]], dtype=float32)"
      ]
     },
     "execution_count": 31,
     "metadata": {},
     "output_type": "execute_result"
    }
   ],
   "source": [
    "model.compile(loss='mean_squared_error', optimizer='sgd')\n",
    "history = model.fit(X_train, y_train, epochs=20, validation_data=(X_valid, y_valid))\n",
    "mse_test = model.evaluate(X_test, y_test)\n",
    "X_new = X_test[:3]\n",
    "model.predict(X_new)"
   ]
  },
  {
   "cell_type": "code",
   "execution_count": 32,
   "metadata": {},
   "outputs": [
    {
     "data": {
      "image/png": "[encoded data removed]",
      "text/plain": [
       "<Figure size 432x288 with 1 Axes>"
      ]
     },
     "metadata": {
      "needs_background": "light"
     },
     "output_type": "display_data"
    }
   ],
   "source": [
    "plt.plot(pd.DataFrame(history.history))\n",
    "plt.grid(True)\n",
    "plt.gca().set_ylim(0, 1)\n",
    "plt.show()"
   ]
  },
  {
   "cell_type": "markdown",
   "metadata": {},
   "source": [
    "# multiple  inputs\n",
    "But  what  if  you  want  to  send  a  subset  of  the  features  through  the  wide  path,  and  a different  subset  (possibly  overlapping)  through  the  deep  path In this  case,  one  solution  is  to  use  **multiple  inputs.**  For  example,  suppose  we  want  tosend  5  features  through  the  deep  path  (features  0  to  4),  and  6  features  through  the wide path (features 2 to 7).\n",
    "\n",
    "<img src=\"images/ch10_2.png\" width=\"300\" height=\"300\">"
   ]
  },
  {
   "cell_type": "code",
   "execution_count": 33,
   "metadata": {},
   "outputs": [],
   "source": [
    "input_A = keras.layers.Input(shape=[5], name=\"wide_input\")\n",
    "input_B = keras.layers.Input(shape=[6], name=\"deep_input\") \n",
    "hidden1 = keras.layers.Dense(30, activation=\"relu\")(input_B)\n",
    "hidden2 = keras.layers.Dense(30, activation=\"relu\")(hidden1)\n",
    "concat = keras.layers.concatenate([input_A, hidden2])\n",
    "output = keras.layers.Dense(1, name='output')(concat)\n",
    "model = keras.Model(inputs=[input_A, input_B], outputs=[output])"
   ]
  },
  {
   "cell_type": "code",
   "execution_count": 34,
   "metadata": {},
   "outputs": [
    {
     "data": {
      "image/png": "[encoded data removed]",
      "text/plain": [
       "<IPython.core.display.Image object>"
      ]
     },
     "execution_count": 34,
     "metadata": {},
     "output_type": "execute_result"
    }
   ],
   "source": [
    "keras.utils.plot_model(model, \"my_fashion_mnist_model2.png\", show_shapes=True)"
   ]
  },
  {
   "cell_type": "markdown",
   "metadata": {},
   "source": [
    "Note  that  we  specified  inputs=[input_A,  input_B], when creating the model. Now we can compile the model as usual, but when we call the  fit()  method,  instead  of  passing  a  single  input  matrix  X_train,  we  must  pass  a pair  of  matrices  (X_train_A,  X_train_B):  one  per  input.  The  same  is  true  for X_valid, and also for X_test and X_new when you call evaluate() or predict():"
   ]
  },
  {
   "cell_type": "code",
   "execution_count": 35,
   "metadata": {},
   "outputs": [
    {
     "name": "stdout",
     "output_type": "stream",
     "text": [
      "Epoch 1/10\n",
      "363/363 [==============================] - 1s 1ms/step - loss: 1.1111 - val_loss: 0.5061\n",
      "Epoch 2/10\n",
      "363/363 [==============================] - 0s 1ms/step - loss: 0.4863 - val_loss: 0.7180\n",
      "Epoch 3/10\n",
      "363/363 [==============================] - 0s 1ms/step - loss: 0.4883 - val_loss: 0.5074\n",
      "Epoch 4/10\n",
      "363/363 [==============================] - 0s 1ms/step - loss: 0.4377 - val_loss: 0.4068\n",
      "Epoch 5/10\n",
      "363/363 [==============================] - 0s 1ms/step - loss: 0.4208 - val_loss: 0.3978\n",
      "Epoch 6/10\n",
      "363/363 [==============================] - 0s 1ms/step - loss: 0.4108 - val_loss: 0.3871\n",
      "Epoch 7/10\n",
      "363/363 [==============================] - 0s 1ms/step - loss: 0.4060 - val_loss: 0.3788\n",
      "Epoch 8/10\n",
      "363/363 [==============================] - 0s 1ms/step - loss: 0.3998 - val_loss: 0.3784\n",
      "Epoch 9/10\n",
      "363/363 [==============================] - 1s 1ms/step - loss: 0.3956 - val_loss: 0.3971\n",
      "Epoch 10/10\n",
      "363/363 [==============================] - 0s 1ms/step - loss: 0.3925 - val_loss: 0.3634\n",
      "162/162 [==============================] - 0s 922us/step - loss: 0.3734\n",
      "0.3734419047832489\n",
      "[[2.2103822]\n",
      " [2.654489 ]\n",
      " [1.3768495]]\n"
     ]
    }
   ],
   "source": [
    "X_train_A, X_train_B  = X_train[:, :5], X_train[:, 2:]\n",
    "X_valid_A, X_valid_B  = X_valid[:, :5], X_valid[:, 2:]\n",
    "X_test_A,  X_test_B   = X_test[:, :5],  X_test[:, 2:]\n",
    "X_new_A,   X_new_B    = X_test_A[:3], X_test_B[:3]\n",
    "\n",
    "model.compile(loss=\"mean_squared_error\", optimizer='sgd')\n",
    "\n",
    "history = model.fit((X_train_A, X_train_B), y_train, epochs=10,\n",
    "                    validation_data=((X_valid_A, X_valid_B ), y_valid))\n",
    "\n",
    "mse_test = model.evaluate((X_test_A,  X_test_B), y_test)\n",
    "y_pred = model.predict((X_new_A,   X_new_B ))\n",
    "print(mse_test)\n",
    "print(y_pred)"
   ]
  },
  {
   "cell_type": "code",
   "execution_count": 36,
   "metadata": {},
   "outputs": [
    {
     "name": "stdout",
     "output_type": "stream",
     "text": [
      "Model: \"model_1\"\n",
      "__________________________________________________________________________________________________\n",
      "Layer (type)                    Output Shape         Param #     Connected to                     \n",
      "==================================================================================================\n",
      "deep_input (InputLayer)         [(None, 6)]          0                                            \n",
      "__________________________________________________________________________________________________\n",
      "dense_8 (Dense)                 (None, 30)           210         deep_input[0][0]                 \n",
      "__________________________________________________________________________________________________\n",
      "wide_input (InputLayer)         [(None, 5)]          0                                            \n",
      "__________________________________________________________________________________________________\n",
      "dense_9 (Dense)                 (None, 30)           930         dense_8[0][0]                    \n",
      "__________________________________________________________________________________________________\n",
      "concatenate_1 (Concatenate)     (None, 35)           0           wide_input[0][0]                 \n",
      "                                                                 dense_9[0][0]                    \n",
      "__________________________________________________________________________________________________\n",
      "output (Dense)                  (None, 1)            36          concatenate_1[0][0]              \n",
      "==================================================================================================\n",
      "Total params: 1,176\n",
      "Trainable params: 1,176\n",
      "Non-trainable params: 0\n",
      "__________________________________________________________________________________________________\n"
     ]
    }
   ],
   "source": [
    "model.summary()"
   ]
  },
  {
   "cell_type": "markdown",
   "metadata": {
    "collapsed": true
   },
   "source": [
    "# multiple  output\n",
    "\n",
    "One of the favorite thing in the functional API, its provide us if we need to handle multi-task classification, or even if we work on the dataset and we have to classify something is discrete and another output is regression, or even if we need multi-output for the same thing as we will see.\n",
    "\n",
    "<img src=\"images/ch10_3.png\" width=\"300\" height=\"300\">"
   ]
  },
  {
   "cell_type": "code",
   "execution_count": 37,
   "metadata": {},
   "outputs": [],
   "source": [
    "input_A = keras.layers.Input(shape=[5], name='wide_input')\n",
    "input_B = keras.layers.Input(shape=[6], name='deep_input')\n",
    "hidden1 = keras.layers.Dense(30, activation='relu')(input_B)\n",
    "hidden2 = keras.layers.Dense(30, activation='relu')(hidden1)\n",
    "concat  = keras.layers.concatenate([input_A, hidden2])\n",
    "\n",
    "# All of the above lines as before with multi input idea\n",
    "output     = keras.layers.Dense(1, name='main_output')(concat)\n",
    "\n",
    "# The new output aux output and its not complex as the other one and maybe it possible in regularization\n",
    "aux_output = keras.layers.Dense(1, name='aux_output')(hidden2)\n",
    "\n",
    "# Now the model has two output and when compile need output y for each of them\n",
    "model      = keras.Model(inputs=[input_A, input_B], outputs=[output, aux_output])\n"
   ]
  },
  {
   "cell_type": "code",
   "execution_count": 38,
   "metadata": {},
   "outputs": [
    {
     "data": {
      "image/png": "[encoded data removed]",
      "text/plain": [
       "<IPython.core.display.Image object>"
      ]
     },
     "execution_count": 38,
     "metadata": {},
     "output_type": "execute_result"
    }
   ],
   "source": [
    "keras.utils.plot_model(model, \"my_fashion_mnist_model2.png\", show_shapes=True)"
   ]
  },
  {
   "cell_type": "code",
   "execution_count": 39,
   "metadata": {},
   "outputs": [
    {
     "name": "stdout",
     "output_type": "stream",
     "text": [
      "Model: \"model_2\"\n",
      "__________________________________________________________________________________________________\n",
      "Layer (type)                    Output Shape         Param #     Connected to                     \n",
      "==================================================================================================\n",
      "deep_input (InputLayer)         [(None, 6)]          0                                            \n",
      "__________________________________________________________________________________________________\n",
      "dense_10 (Dense)                (None, 30)           210         deep_input[0][0]                 \n",
      "__________________________________________________________________________________________________\n",
      "wide_input (InputLayer)         [(None, 5)]          0                                            \n",
      "__________________________________________________________________________________________________\n",
      "dense_11 (Dense)                (None, 30)           930         dense_10[0][0]                   \n",
      "__________________________________________________________________________________________________\n",
      "concatenate_2 (Concatenate)     (None, 35)           0           wide_input[0][0]                 \n",
      "                                                                 dense_11[0][0]                   \n",
      "__________________________________________________________________________________________________\n",
      "main_output (Dense)             (None, 1)            36          concatenate_2[0][0]              \n",
      "__________________________________________________________________________________________________\n",
      "aux_output (Dense)              (None, 1)            31          dense_11[0][0]                   \n",
      "==================================================================================================\n",
      "Total params: 1,207\n",
      "Trainable params: 1,207\n",
      "Non-trainable params: 0\n",
      "__________________________________________________________________________________________________\n"
     ]
    }
   ],
   "source": [
    "model.summary()"
   ]
  },
  {
   "cell_type": "markdown",
   "metadata": {},
   "source": [
    "# Notes !\n",
    "we  care  much more about the main output than about the auxiliary output (as it is just used for reg‐ularization), so we want to give the main output’s loss a much greater weight"
   ]
  },
  {
   "cell_type": "code",
   "execution_count": 40,
   "metadata": {},
   "outputs": [],
   "source": [
    "model.compile(loss=['mse', 'mse'], loss_weights=[0.9, 0.1], optimizer='sgd')"
   ]
  },
  {
   "cell_type": "markdown",
   "metadata": {},
   "source": [
    "The main output and the auxiliary output should try to predict the samething, so they should use the same labels. So instead of passing y_train, we just needto pass (y_train, y_train) "
   ]
  },
  {
   "cell_type": "code",
   "execution_count": 41,
   "metadata": {},
   "outputs": [
    {
     "name": "stdout",
     "output_type": "stream",
     "text": [
      "Epoch 1/20\n",
      "363/363 [==============================] - 1s 2ms/step - loss: 0.9631 - main_output_loss: 0.8733 - aux_output_loss: 1.7717 - val_loss: 0.7443 - val_main_output_loss: 0.6808 - val_aux_output_loss: 1.3163\n",
      "Epoch 2/20\n",
      "363/363 [==============================] - 1s 2ms/step - loss: 0.5848 - main_output_loss: 0.5313 - aux_output_loss: 1.0659 - val_loss: 0.6093 - val_main_output_loss: 0.5690 - val_aux_output_loss: 0.9717\n",
      "Epoch 3/20\n",
      "363/363 [==============================] - 1s 2ms/step - loss: 0.5203 - main_output_loss: 0.4792 - aux_output_loss: 0.8901 - val_loss: 0.4980 - val_main_output_loss: 0.4662 - val_aux_output_loss: 0.7840\n",
      "Epoch 4/20\n",
      "363/363 [==============================] - 1s 2ms/step - loss: 0.4801 - main_output_loss: 0.4472 - aux_output_loss: 0.7768 - val_loss: 0.4739 - val_main_output_loss: 0.4465 - val_aux_output_loss: 0.7208\n",
      "Epoch 5/20\n",
      "363/363 [==============================] - 1s 2ms/step - loss: 0.4688 - main_output_loss: 0.4417 - aux_output_loss: 0.7130 - val_loss: 0.4487 - val_main_output_loss: 0.4256 - val_aux_output_loss: 0.6566\n",
      "Epoch 6/20\n",
      "363/363 [==============================] - 1s 1ms/step - loss: 0.4491 - main_output_loss: 0.4250 - aux_output_loss: 0.6664 - val_loss: 0.4426 - val_main_output_loss: 0.4229 - val_aux_output_loss: 0.6197\n",
      "Epoch 7/20\n",
      "363/363 [==============================] - 1s 2ms/step - loss: 0.4375 - main_output_loss: 0.4156 - aux_output_loss: 0.6340 - val_loss: 0.4197 - val_main_output_loss: 0.3969 - val_aux_output_loss: 0.6249\n",
      "Epoch 8/20\n",
      "363/363 [==============================] - 1s 2ms/step - loss: 0.4297 - main_output_loss: 0.4093 - aux_output_loss: 0.6135 - val_loss: 0.4233 - val_main_output_loss: 0.4068 - val_aux_output_loss: 0.5720\n",
      "Epoch 9/20\n",
      "363/363 [==============================] - 1s 2ms/step - loss: 0.4345 - main_output_loss: 0.4160 - aux_output_loss: 0.6012 - val_loss: 0.4447 - val_main_output_loss: 0.4265 - val_aux_output_loss: 0.6085\n",
      "Epoch 10/20\n",
      "363/363 [==============================] - 1s 2ms/step - loss: 0.4212 - main_output_loss: 0.4030 - aux_output_loss: 0.5848 - val_loss: 0.4049 - val_main_output_loss: 0.3893 - val_aux_output_loss: 0.5452\n",
      "Epoch 11/20\n",
      "363/363 [==============================] - 1s 2ms/step - loss: 0.4078 - main_output_loss: 0.3903 - aux_output_loss: 0.5657 - val_loss: 0.3933 - val_main_output_loss: 0.3781 - val_aux_output_loss: 0.5306\n",
      "Epoch 12/20\n",
      "363/363 [==============================] - 1s 1ms/step - loss: 0.4013 - main_output_loss: 0.3844 - aux_output_loss: 0.5528 - val_loss: 0.3798 - val_main_output_loss: 0.3635 - val_aux_output_loss: 0.5268\n",
      "Epoch 13/20\n",
      "363/363 [==============================] - 1s 2ms/step - loss: 0.3961 - main_output_loss: 0.3796 - aux_output_loss: 0.5444 - val_loss: 0.3878 - val_main_output_loss: 0.3732 - val_aux_output_loss: 0.5191\n",
      "Epoch 14/20\n",
      "363/363 [==============================] - 1s 1ms/step - loss: 0.3960 - main_output_loss: 0.3804 - aux_output_loss: 0.5369 - val_loss: 0.3880 - val_main_output_loss: 0.3748 - val_aux_output_loss: 0.5072\n",
      "Epoch 15/20\n",
      "363/363 [==============================] - 1s 1ms/step - loss: 0.3901 - main_output_loss: 0.3750 - aux_output_loss: 0.5262 - val_loss: 0.3703 - val_main_output_loss: 0.3554 - val_aux_output_loss: 0.5035\n",
      "Epoch 16/20\n",
      "363/363 [==============================] - 1s 2ms/step - loss: 0.3876 - main_output_loss: 0.3729 - aux_output_loss: 0.5202 - val_loss: 0.3810 - val_main_output_loss: 0.3669 - val_aux_output_loss: 0.5075\n",
      "Epoch 17/20\n",
      "363/363 [==============================] - 1s 1ms/step - loss: 0.3813 - main_output_loss: 0.3668 - aux_output_loss: 0.5120 - val_loss: 0.3768 - val_main_output_loss: 0.3635 - val_aux_output_loss: 0.4969\n",
      "Epoch 18/20\n",
      "363/363 [==============================] - 1s 2ms/step - loss: 0.3804 - main_output_loss: 0.3662 - aux_output_loss: 0.5085 - val_loss: 0.3959 - val_main_output_loss: 0.3851 - val_aux_output_loss: 0.4935\n",
      "Epoch 19/20\n",
      "363/363 [==============================] - 1s 2ms/step - loss: 0.3781 - main_output_loss: 0.3644 - aux_output_loss: 0.5013 - val_loss: 0.3727 - val_main_output_loss: 0.3603 - val_aux_output_loss: 0.4843\n",
      "Epoch 20/20\n",
      "363/363 [==============================] - 1s 2ms/step - loss: 0.3728 - main_output_loss: 0.3592 - aux_output_loss: 0.4949 - val_loss: 0.3546 - val_main_output_loss: 0.3417 - val_aux_output_loss: 0.4704\n"
     ]
    }
   ],
   "source": [
    "history = model.fit([X_train_A, X_train_B], [y_train, y_train], epochs=20, \n",
    "          validation_data=([X_valid_A, X_valid_B], [y_valid, y_valid]))"
   ]
  },
  {
   "cell_type": "code",
   "execution_count": 42,
   "metadata": {},
   "outputs": [
    {
     "data": {
      "text/plain": [
       "(0.0, 1.0)"
      ]
     },
     "execution_count": 42,
     "metadata": {},
     "output_type": "execute_result"
    },
    {
     "data": {
      "image/png": "[encoded data removed]",
      "text/plain": [
       "<Figure size 576x360 with 1 Axes>"
      ]
     },
     "metadata": {
      "needs_background": "light"
     },
     "output_type": "display_data"
    }
   ],
   "source": [
    "pd.DataFrame(history.history).plot(figsize=(8,5))\n",
    "plt.grid(True)\n",
    "plt.gca().set_ylim(0, 1)\n"
   ]
  },
  {
   "cell_type": "code",
   "execution_count": 43,
   "metadata": {},
   "outputs": [
    {
     "name": "stdout",
     "output_type": "stream",
     "text": [
      "162/162 [==============================] - 0s 931us/step - loss: 0.3546 - main_output_loss: 0.3414 - aux_output_loss: 0.4742\n",
      "======================\n",
      "0.3546464145183563\n",
      "0.3413594365119934\n",
      "0.4742293059825897\n"
     ]
    }
   ],
   "source": [
    "total_loss, main_loss, aux_loss = model.evaluate([X_test_A, X_test_B], [y_test, y_test])\n",
    "print('======================')\n",
    "print(total_loss)\n",
    "print(main_loss)\n",
    "print(aux_loss)"
   ]
  },
  {
   "cell_type": "code",
   "execution_count": 44,
   "metadata": {},
   "outputs": [
    {
     "name": "stdout",
     "output_type": "stream",
     "text": [
      "WARNING:tensorflow:5 out of the last 6 calls to <function Model.make_predict_function.<locals>.predict_function at 0x7fa463aa8268> triggered tf.function retracing. Tracing is expensive and the excessive number of tracings could be due to (1) creating @tf.function repeatedly in a loop, (2) passing tensors with different shapes, (3) passing Python objects instead of tensors. For (1), please define your @tf.function outside of the loop. For (2), @tf.function has experimental_relax_shapes=True option that relaxes argument shapes that can avoid unnecessary retracing. For (3), please refer to https://www.tensorflow.org/guide/function#controlling_retracing and https://www.tensorflow.org/api_docs/python/tf/function for  more details.\n"
     ]
    }
   ],
   "source": [
    "# Similarly, the predict() method will return predictions for each output\n",
    "y_pred_main, y_pred_aux = model.predict([X_new_A, X_new_B])"
   ]
  },
  {
   "cell_type": "code",
   "execution_count": 45,
   "metadata": {},
   "outputs": [
    {
     "data": {
      "text/plain": [
       "array([[2.1323462],\n",
       "       [2.7336366],\n",
       "       [1.4170306]], dtype=float32)"
      ]
     },
     "execution_count": 45,
     "metadata": {},
     "output_type": "execute_result"
    }
   ],
   "source": [
    "y_pred_main[:5]"
   ]
  },
  {
   "cell_type": "code",
   "execution_count": 46,
   "metadata": {},
   "outputs": [
    {
     "data": {
      "text/plain": [
       "array([[2.0582743],\n",
       "       [2.3761377],\n",
       "       [1.5503141]], dtype=float32)"
      ]
     },
     "execution_count": 46,
     "metadata": {},
     "output_type": "execute_result"
    }
   ],
   "source": [
    "y_pred_aux[:5]"
   ]
  },
  {
   "cell_type": "markdown",
   "metadata": {},
   "source": [
    "# Using the Subclassing API to Build Dynamic Models \n",
    "\n",
    "**I think this point should be from the book dierct so I mentioned it as it in the book\n",
    "**\n",
    "\n",
    "Both the Sequential API and the Functional API are declarative: you start by declaring  which  layers  you  want  to  use  and  how  they  should  be  connected,  and  only  then can  you  start  feeding  the  model  some  data  for  training  or  inference.  This  has  many advantages:  the  model  can  easily  be  saved,  cloned,  shared,  its  structure  can  be  displayed  and  analyzed,  the  framework  can  infer  shapes  and  check  types,  so  errors  canbe caught early (i.e., before any data ever goes through the model). It’s also fairly easyto debug, since the whole model is just a static graph of layers. But the flip side is just that:  it’s  static.  Some  models  involve  loops,  varying  shapes,  conditional  branching,and other dynamic behaviors. For such cases, or simply if you prefer a more impera‐tive programming style, the Subclassing API is for you.\n",
    "\n",
    "Simply subclass the Model class, create the layers you need in the constructor, and use them to perform the computations you want in the call() method. For example, creating  an  instance  of  the  following  WideAndDeepModel  class  gives  us  an  equivalent model to the one we just built with the Functional API. You can then compile it, eval‐uate it and use it to make predictions, exactly like we just did.\n",
    "\n",
    "But, this  extra  flexibility  comes  at  a  cost:  your  model’s  architecture  is  hidden within the call() method, so Keras cannot easily inspect it, it cannot save or clone it,and  when  you  call  the  summary()  method,  you  only  get  a  list  of  layers,  without  any information on how they are connected to each other. Moreover, Keras cannot checktypes and shapes ahead of time, and it is easier to make mistakes. So unless you really need  that  extra  flexibility,  you  should  probably  stick  to  the  Sequential  API  or  theFunctional API.\n",
    "\n",
    "# Note !\n",
    "\n",
    "The inheritance design in the subclass usage of the **Model** class provide you with the public methods in the super class."
   ]
  },
  {
   "cell_type": "code",
   "execution_count": 47,
   "metadata": {},
   "outputs": [],
   "source": [
    "# class WideAndDeepModel(keras.Model):\n",
    "#     def __init__(self, units=30, activation='relu', **kwargs):\n",
    "#         super().__init__(**kwargs) ## handles standards args like: name\n",
    "#         self.hidden1 = keras.layers.Dense(units, activation=activation)\n",
    "#         self.hidden2 = keras.layers.Dense(units, activation=activation)\n",
    "#         self.main_output = keras.layers.Dense(1)\n",
    "#         self.aux_output = keras.layers.Dense(1)\n",
    "        \n",
    "#     def call(self, inputs):\n",
    "#         input_A, input_B = inputs\n",
    "#         hidden1 = self.hidden1(input_B)\n",
    "#         hidden2 = self.hidden2(hidden1)\n",
    "#         concat = keras.layers.concatenate([input_A, hidden2])\n",
    "#         main_output = self.main_output(concat)\n",
    "#         aux_loss = self.aux_output(hidden2)\n",
    "#         return main_output, aux_output\n",
    "    \n",
    "# model = WideAndDeepModel()\n"
   ]
  },
  {
   "cell_type": "code",
   "execution_count": 48,
   "metadata": {},
   "outputs": [],
   "source": [
    "model.save('models/first_keras_model.h5')"
   ]
  },
  {
   "cell_type": "code",
   "execution_count": 49,
   "metadata": {},
   "outputs": [
    {
     "name": "stdout",
     "output_type": "stream",
     "text": [
      "162/162 [==============================] - 0s 1ms/step - loss: 0.3546 - main_output_loss: 0.3414 - aux_output_loss: 0.4742\n",
      "======================\n",
      "0.3546464145183563\n",
      "0.3413594365119934\n",
      "0.4742293059825897\n"
     ]
    }
   ],
   "source": [
    "model = keras.models.load_model('models/first_keras_model.h5')\n",
    "\n",
    "# Again after load the model \n",
    "total_loss, main_loss, aux_loss = model.evaluate([X_test_A, X_test_B], [y_test, y_test])\n",
    "print('======================')\n",
    "print(total_loss)\n",
    "print(main_loss)\n",
    "print(aux_loss)"
   ]
  },
  {
   "cell_type": "markdown",
   "metadata": {},
   "source": [
    "# Using Callbacks\n",
    "\n",
    "Its regular when the dataset becomes large and large that your model may take days or hours of run and in this case you do not need to wait to save the model at the end of training because of case that computer crashes or networks problems and others and for this we have to save checkpoints during the training on regular intervals.\n",
    "\n",
    "Callbacks have different functionality from checkpoints saved to early stopping and others as well it help you to design your callbacks function, checkpoints used when your computer crash or others problem to save your models and the paramters **save_best_only** to retrive and save the weights based on the best score on the validation, and for early stoping when the val_loss across diferent eopchs in our case **10 epochs** and no progress have made it stop the learning."
   ]
  },
  {
   "cell_type": "code",
   "execution_count": 50,
   "metadata": {},
   "outputs": [],
   "source": [
    "housing = fetch_california_housing()\n",
    "X_train_full, X_test, y_train_full, y_test = train_test_split(housing.data, housing.target)\n",
    "X_train, X_valid, y_train, y_valid = train_test_split(X_train_full, y_train_full)\n",
    "scaler = StandardScaler()\n",
    "X_train = scaler.fit_transform(X_train)\n",
    "X_valid = scaler.transform(X_valid)\n",
    "X_test = scaler.transform(X_test)"
   ]
  },
  {
   "cell_type": "code",
   "execution_count": 51,
   "metadata": {},
   "outputs": [
    {
     "data": {
      "text/plain": [
       "(11610, 8)"
      ]
     },
     "execution_count": 51,
     "metadata": {},
     "output_type": "execute_result"
    }
   ],
   "source": [
    "X_train.shape"
   ]
  },
  {
   "cell_type": "code",
   "execution_count": 52,
   "metadata": {},
   "outputs": [
    {
     "name": "stdout",
     "output_type": "stream",
     "text": [
      "Epoch 1/20\n",
      "291/291 [==============================] - 1s 2ms/step - loss: 1.1270 - accuracy: 0.0030 - val_loss: 0.6206 - val_accuracy: 0.0022\n",
      "\n",
      "Epoch 00001: val_loss improved from -inf to 0.62058, saving model to models/saved-model-01-0.62.h5\n",
      "Epoch 2/20\n",
      "291/291 [==============================] - 0s 1ms/step - loss: 0.6023 - accuracy: 0.0031 - val_loss: 0.5304 - val_accuracy: 0.0022\n",
      "\n",
      "Epoch 00002: val_loss did not improve from 0.62058\n",
      "Epoch 3/20\n",
      "291/291 [==============================] - 0s 1ms/step - loss: 0.5287 - accuracy: 0.0031 - val_loss: 0.4783 - val_accuracy: 0.0022\n",
      "\n",
      "Epoch 00003: val_loss did not improve from 0.62058\n",
      "Epoch 4/20\n",
      "291/291 [==============================] - 0s 1ms/step - loss: 0.4936 - accuracy: 0.0031 - val_loss: 0.4524 - val_accuracy: 0.0022\n",
      "\n",
      "Epoch 00004: val_loss did not improve from 0.62058\n",
      "Epoch 5/20\n",
      "291/291 [==============================] - 0s 1ms/step - loss: 0.4691 - accuracy: 0.0030 - val_loss: 0.4342 - val_accuracy: 0.0022\n",
      "\n",
      "Epoch 00005: val_loss did not improve from 0.62058\n",
      "Epoch 6/20\n",
      "291/291 [==============================] - 0s 1ms/step - loss: 0.4537 - accuracy: 0.0030 - val_loss: 0.4163 - val_accuracy: 0.0022\n",
      "\n",
      "Epoch 00006: val_loss did not improve from 0.62058\n",
      "Epoch 7/20\n",
      "291/291 [==============================] - 0s 1ms/step - loss: 0.4422 - accuracy: 0.0030 - val_loss: 0.4082 - val_accuracy: 0.0022\n",
      "\n",
      "Epoch 00007: val_loss did not improve from 0.62058\n",
      "Epoch 8/20\n",
      "291/291 [==============================] - 0s 1ms/step - loss: 0.4322 - accuracy: 0.0030 - val_loss: 0.3942 - val_accuracy: 0.0022\n",
      "\n",
      "Epoch 00008: val_loss did not improve from 0.62058\n",
      "Epoch 9/20\n",
      "291/291 [==============================] - 0s 1ms/step - loss: 0.4237 - accuracy: 0.0030 - val_loss: 0.3840 - val_accuracy: 0.0022\n",
      "\n",
      "Epoch 00009: val_loss did not improve from 0.62058\n",
      "Epoch 10/20\n",
      "291/291 [==============================] - 0s 1ms/step - loss: 0.4184 - accuracy: 0.0030 - val_loss: 0.3828 - val_accuracy: 0.0022\n",
      "\n",
      "Epoch 00010: val_loss did not improve from 0.62058\n",
      "Epoch 11/20\n",
      "291/291 [==============================] - 0s 1ms/step - loss: 0.4125 - accuracy: 0.0031 - val_loss: 0.3720 - val_accuracy: 0.0022\n",
      "\n",
      "Epoch 00011: val_loss did not improve from 0.62058\n",
      "Epoch 12/20\n",
      "291/291 [==============================] - 0s 1ms/step - loss: 0.4080 - accuracy: 0.0031 - val_loss: 0.3732 - val_accuracy: 0.0022\n",
      "\n",
      "Epoch 00012: val_loss did not improve from 0.62058\n",
      "Epoch 13/20\n",
      "291/291 [==============================] - 0s 1ms/step - loss: 0.4033 - accuracy: 0.0031 - val_loss: 0.3638 - val_accuracy: 0.0022\n",
      "\n",
      "Epoch 00013: val_loss did not improve from 0.62058\n",
      "Epoch 14/20\n",
      "291/291 [==============================] - 0s 1ms/step - loss: 0.3999 - accuracy: 0.0031 - val_loss: 0.3647 - val_accuracy: 0.0022\n",
      "\n",
      "Epoch 00014: val_loss did not improve from 0.62058\n",
      "Epoch 15/20\n",
      "291/291 [==============================] - 0s 1ms/step - loss: 0.3962 - accuracy: 0.0030 - val_loss: 0.3603 - val_accuracy: 0.0022\n",
      "\n",
      "Epoch 00015: val_loss did not improve from 0.62058\n",
      "Epoch 16/20\n",
      "291/291 [==============================] - 0s 1ms/step - loss: 0.3936 - accuracy: 0.0031 - val_loss: 0.3536 - val_accuracy: 0.0022\n",
      "\n",
      "Epoch 00016: val_loss did not improve from 0.62058\n",
      "Epoch 17/20\n",
      "291/291 [==============================] - 0s 1ms/step - loss: 0.3904 - accuracy: 0.0031 - val_loss: 0.3610 - val_accuracy: 0.0022\n",
      "\n",
      "Epoch 00017: val_loss did not improve from 0.62058\n",
      "Epoch 18/20\n",
      "291/291 [==============================] - 0s 1ms/step - loss: 0.3886 - accuracy: 0.0031 - val_loss: 0.3610 - val_accuracy: 0.0022\n",
      "\n",
      "Epoch 00018: val_loss did not improve from 0.62058\n",
      "Epoch 19/20\n",
      "291/291 [==============================] - 0s 1ms/step - loss: 0.3859 - accuracy: 0.0031 - val_loss: 0.3569 - val_accuracy: 0.0022\n",
      "\n",
      "Epoch 00019: val_loss did not improve from 0.62058\n",
      "Epoch 20/20\n",
      "291/291 [==============================] - 0s 1ms/step - loss: 0.3840 - accuracy: 0.0031 - val_loss: 0.3549 - val_accuracy: 0.0022\n",
      "\n",
      "Epoch 00020: val_loss did not improve from 0.62058\n"
     ]
    }
   ],
   "source": [
    "model = keras.models.Sequential([\n",
    "    keras.layers.Dense(10, activation='relu', input_shape=X_train.shape[1:]),\n",
    "    keras.layers.Dense(1)\n",
    "])\n",
    "\n",
    "model.compile(loss='mean_squared_error', optimizer='sgd', metrics=[\"accuracy\"])\n",
    "\n",
    "filepath = \"models/saved-model-{epoch:02d}-{val_loss:.2f}.h5\"\n",
    "\n",
    "checkpoints_cb = keras.callbacks.ModelCheckpoint(filepath, monitor='val_loss', verbose=1, save_best_only=True, mode='max')\n",
    "\n",
    "history = model.fit(X_train, y_train, epochs=20, validation_split=0.2,\n",
    "                   callbacks=[checkpoints_cb])"
   ]
  },
  {
   "cell_type": "code",
   "execution_count": 53,
   "metadata": {},
   "outputs": [
    {
     "name": "stdout",
     "output_type": "stream",
     "text": [
      "Epoch 1/100\n",
      "363/363 [==============================] - 1s 1ms/step - loss: 0.8780 - val_loss: 3.8537\n",
      "\n",
      "Epoch 00001: val_loss improved from inf to 3.85375, saving model to models/saved-model-EarlyStopping-01-3.85.h5\n",
      "Epoch 2/100\n",
      "363/363 [==============================] - 0s 1ms/step - loss: 1.0096 - val_loss: 7.8806\n",
      "\n",
      "Epoch 00002: val_loss did not improve from 3.85375\n",
      "Epoch 3/100\n",
      "363/363 [==============================] - 0s 1ms/step - loss: 0.7923 - val_loss: 0.7921\n",
      "\n",
      "Epoch 00003: val_loss improved from 3.85375 to 0.79208, saving model to models/saved-model-EarlyStopping-03-0.79.h5\n",
      "Epoch 4/100\n",
      "363/363 [==============================] - 0s 1ms/step - loss: 0.4599 - val_loss: 0.4096\n",
      "\n",
      "Epoch 00004: val_loss improved from 0.79208 to 0.40961, saving model to models/saved-model-EarlyStopping-04-0.41.h5\n",
      "Epoch 5/100\n",
      "363/363 [==============================] - 0s 1ms/step - loss: 0.4218 - val_loss: 0.3981\n",
      "\n",
      "Epoch 00005: val_loss improved from 0.40961 to 0.39814, saving model to models/saved-model-EarlyStopping-05-0.40.h5\n",
      "Epoch 6/100\n",
      "363/363 [==============================] - 0s 1ms/step - loss: 0.4053 - val_loss: 0.3894\n",
      "\n",
      "Epoch 00006: val_loss improved from 0.39814 to 0.38937, saving model to models/saved-model-EarlyStopping-06-0.39.h5\n",
      "Epoch 7/100\n",
      "363/363 [==============================] - 0s 1ms/step - loss: 0.4004 - val_loss: 0.4407\n",
      "\n",
      "Epoch 00007: val_loss did not improve from 0.38937\n",
      "Epoch 8/100\n",
      "363/363 [==============================] - 0s 1ms/step - loss: 0.4113 - val_loss: 0.3948\n",
      "\n",
      "Epoch 00008: val_loss did not improve from 0.38937\n",
      "Epoch 9/100\n",
      "363/363 [==============================] - 0s 1ms/step - loss: 0.4205 - val_loss: 0.3830\n",
      "\n",
      "Epoch 00009: val_loss improved from 0.38937 to 0.38300, saving model to models/saved-model-EarlyStopping-09-0.38.h5\n",
      "Epoch 10/100\n",
      "363/363 [==============================] - 0s 1ms/step - loss: 0.3906 - val_loss: 0.3751\n",
      "\n",
      "Epoch 00010: val_loss improved from 0.38300 to 0.37506, saving model to models/saved-model-EarlyStopping-10-0.38.h5\n",
      "Epoch 11/100\n",
      "363/363 [==============================] - 0s 1ms/step - loss: 0.3860 - val_loss: 0.3802\n",
      "\n",
      "Epoch 00011: val_loss did not improve from 0.37506\n",
      "Epoch 12/100\n",
      "363/363 [==============================] - 0s 1ms/step - loss: 0.4092 - val_loss: 0.3799\n",
      "\n",
      "Epoch 00012: val_loss did not improve from 0.37506\n",
      "Epoch 13/100\n",
      "363/363 [==============================] - 0s 1ms/step - loss: 0.4059 - val_loss: 0.3900\n",
      "\n",
      "Epoch 00013: val_loss did not improve from 0.37506\n",
      "Epoch 14/100\n",
      "363/363 [==============================] - 0s 1ms/step - loss: 0.3997 - val_loss: 0.4277\n",
      "\n",
      "Epoch 00014: val_loss did not improve from 0.37506\n",
      "Epoch 15/100\n",
      "363/363 [==============================] - 0s 1ms/step - loss: 0.4009 - val_loss: 0.3777\n",
      "\n",
      "Epoch 00015: val_loss did not improve from 0.37506\n"
     ]
    }
   ],
   "source": [
    "model = keras.models.Sequential([\n",
    "    keras.layers.Dense(20, activation='relu', input_shape=X_train.shape[1:]),\n",
    "    keras.layers.Dense(1)\n",
    "])\n",
    "\n",
    "model.compile(loss='mean_squared_error', optimizer='sgd')\n",
    "\n",
    "filepath = \"models/saved-model-EarlyStopping-{epoch:02d}-{val_loss:.2f}.h5\"\n",
    "\n",
    "checkpoints_cb = keras.callbacks.ModelCheckpoint(filepath, monitor='val_loss', verbose=1, save_best_only=True)\n",
    "earlyStopping_cb = keras.callbacks.EarlyStopping(patience=5, restore_best_weights=True)\n",
    "\n",
    "history = model.fit(X_train, y_train, epochs=100, validation_data=(X_valid, y_valid),\n",
    "                   callbacks=[checkpoints_cb, earlyStopping_cb])"
   ]
  },
  {
   "cell_type": "markdown",
   "metadata": {},
   "source": [
    "# Using Tensorboard for visulization\n",
    "\n",
    "\n",
    "\"\"\n",
    "TensorBoard  is  a  great  interactive  visualization  tool  that  you  can  use  to  view  thelearning curves during training, compare learning curves between multiple runs, vis‐ualize  the  computation  graph,  analyze  training  statistics,  view  images  generated  byyour  model.\n",
    "\"\"\n",
    "\"\"\n",
    "To use it, you must modify your program so that it outputs the data you want to visu‐alize  to  special  binary  log  files  called  event  files.  Each  binary  data  record  is  called  asummary. The TensorBoard server will monitor the log directory, and it will automat‐ically  pick  up  the  changes  and  update  the  visualizations:  this  allows  you  to  visualizelive data (with a short delay), such as the learning curves during training. In general,you want to point the TensorBoard server to a root log directory, and configure yourprogram so that it writes to a different subdirectory every time it runs. This way, thesame TensorBoard server instance will allow you to visualize and compare data frommultiple runs of your program, without getting everything mixed up\"\""
   ]
  },
  {
   "cell_type": "code",
   "execution_count": 54,
   "metadata": {},
   "outputs": [],
   "source": [
    "root_logdir = os.path.join(os.curdir, \"my_logs\")\n",
    "def get_run_logdir():\n",
    "    run_id = time.strftime(\"run_%Y_%m_%d_%H_%M_%S\")\n",
    "    return os.path.join(root_logdir, run_id)\n",
    "\n",
    "run_logdir = get_run_logdir()\n",
    "\n",
    "tensorboard_cb = keras.callbacks.TensorBoard(run_logdir)\n"
   ]
  },
  {
   "cell_type": "code",
   "execution_count": 55,
   "metadata": {},
   "outputs": [
    {
     "name": "stdout",
     "output_type": "stream",
     "text": [
      "Epoch 1/30\n",
      "363/363 [==============================] - 1s 1ms/step - loss: 1.0465 - val_loss: 2.8469\n",
      "Epoch 2/30\n",
      "363/363 [==============================] - 0s 1ms/step - loss: 1.3627 - val_loss: 2.2485\n",
      "Epoch 3/30\n",
      "363/363 [==============================] - 0s 1ms/step - loss: 0.5310 - val_loss: 33.4930\n",
      "Epoch 4/30\n",
      "363/363 [==============================] - 0s 1ms/step - loss: 0.7827 - val_loss: 0.4382\n",
      "Epoch 5/30\n",
      "363/363 [==============================] - 0s 1ms/step - loss: 0.3985 - val_loss: 0.3605\n",
      "Epoch 6/30\n",
      "363/363 [==============================] - 0s 1ms/step - loss: 0.3789 - val_loss: 0.3525\n",
      "Epoch 7/30\n",
      "363/363 [==============================] - 0s 1ms/step - loss: 0.3718 - val_loss: 0.3483\n",
      "Epoch 8/30\n",
      "363/363 [==============================] - 0s 1ms/step - loss: 0.3675 - val_loss: 0.3412\n",
      "Epoch 9/30\n",
      "363/363 [==============================] - 1s 2ms/step - loss: 0.3634 - val_loss: 0.3397\n",
      "Epoch 10/30\n",
      "363/363 [==============================] - 0s 1ms/step - loss: 0.3603 - val_loss: 0.3571\n",
      "Epoch 11/30\n",
      "363/363 [==============================] - 0s 1ms/step - loss: 0.3583 - val_loss: 0.3351\n",
      "Epoch 12/30\n",
      "363/363 [==============================] - 0s 1ms/step - loss: 0.3563 - val_loss: 0.3360\n",
      "Epoch 13/30\n",
      "363/363 [==============================] - 0s 1ms/step - loss: 0.3554 - val_loss: 0.3338\n",
      "Epoch 14/30\n",
      "363/363 [==============================] - 0s 1ms/step - loss: 0.3526 - val_loss: 0.3376\n",
      "Epoch 15/30\n",
      "363/363 [==============================] - 0s 1ms/step - loss: 0.3528 - val_loss: 0.3320\n",
      "Epoch 16/30\n",
      "363/363 [==============================] - 0s 1ms/step - loss: 0.3519 - val_loss: 0.3307\n",
      "Epoch 17/30\n",
      "363/363 [==============================] - 0s 1ms/step - loss: 0.3500 - val_loss: 0.3334\n",
      "Epoch 18/30\n",
      "363/363 [==============================] - 0s 1ms/step - loss: 0.3479 - val_loss: 0.3327\n",
      "Epoch 19/30\n",
      "363/363 [==============================] - 0s 1ms/step - loss: 0.3467 - val_loss: 0.3406\n",
      "Epoch 20/30\n",
      "363/363 [==============================] - 0s 1ms/step - loss: 0.3468 - val_loss: 0.3259\n",
      "Epoch 21/30\n",
      "363/363 [==============================] - 0s 1ms/step - loss: 0.3458 - val_loss: 0.3272\n",
      "Epoch 22/30\n",
      "363/363 [==============================] - 0s 1ms/step - loss: 0.3449 - val_loss: 0.3305\n",
      "Epoch 23/30\n",
      "363/363 [==============================] - 0s 1ms/step - loss: 0.3440 - val_loss: 0.3293\n",
      "Epoch 24/30\n",
      "363/363 [==============================] - 0s 1ms/step - loss: 0.3435 - val_loss: 0.3241\n",
      "Epoch 25/30\n",
      "363/363 [==============================] - 0s 1ms/step - loss: 0.3418 - val_loss: 0.3259\n",
      "Epoch 26/30\n",
      "363/363 [==============================] - 0s 1ms/step - loss: 0.3410 - val_loss: 0.3256\n",
      "Epoch 27/30\n",
      "363/363 [==============================] - 0s 1ms/step - loss: 0.3405 - val_loss: 0.3258\n",
      "Epoch 28/30\n",
      "363/363 [==============================] - 0s 1ms/step - loss: 0.3398 - val_loss: 0.3267\n",
      "Epoch 29/30\n",
      "363/363 [==============================] - 0s 1ms/step - loss: 0.3403 - val_loss: 0.3250\n",
      "Epoch 30/30\n",
      "363/363 [==============================] - 0s 1ms/step - loss: 0.3384 - val_loss: 0.3234\n"
     ]
    }
   ],
   "source": [
    "housing = fetch_california_housing()\n",
    "X_train_full, X_test, y_train_full, y_test = train_test_split(housing.data, housing.target)\n",
    "X_train, X_valid, y_train, y_valid = train_test_split(X_train_full, y_train_full)\n",
    "scaler = StandardScaler()\n",
    "X_train = scaler.fit_transform(X_train)\n",
    "X_valid = scaler.transform(X_valid)\n",
    "X_test = scaler.transform(X_test)\n",
    "\n",
    "model = keras.models.Sequential([\n",
    "    keras.layers.Dense(30, activation='relu', input_shape=X_train.shape[1:]),\n",
    "    keras.layers.Dense(1)\n",
    "])\n",
    "\n",
    "model.compile(loss='mean_squared_error', optimizer='sgd')\n",
    "history = model.fit(X_train, y_train, epochs=30, validation_data=(X_valid, y_valid),\n",
    "                   callbacks=[tensorboard_cb])"
   ]
  },
  {
   "cell_type": "markdown",
   "metadata": {},
   "source": [
    "# Fine-Tuning Neural Network Hyperparameters\n",
    "\n",
    "FeedForward and BackdAll of these hyperparameters introduce a question of How  do  you  know  what  combination  of  hyperparameters is the best for your task, using **sklearn** GridSearch for brute force combination or RandomSearch is not the best way, but Keras wrapper provides a way to go beyond this.\n",
    "\n",
    "The first step is to create a func‐tion that will build and compile a Keras model, given a set of hyperparameters."
   ]
  },
  {
   "cell_type": "code",
   "execution_count": 56,
   "metadata": {},
   "outputs": [],
   "source": [
    "def build_model(n_hidden=1, n_neurons=30, learning_rate=3e-3, input_shape=[8]):\n",
    "    model = keras.models.Sequential()\n",
    "    model.add(keras.layers.InputLayer(input_shape=input_shape))\n",
    "    for layer in range(n_hidden):\n",
    "        model.add(keras.layers.Dense(n_neurons, activation='relu'))\n",
    "    model.add(keras.layers.Dense(1))\n",
    "    model.compile(loss='mse', optimizer=keras.optimizers.SGD(lr=learning_rate))\n",
    "    return model\n",
    "\n",
    "# Now, let’s create a KerasRegressor based on this build_model()"
   ]
  },
  {
   "cell_type": "code",
   "execution_count": 57,
   "metadata": {},
   "outputs": [],
   "source": [
    "keras_reg = keras.wrappers.scikit_learn.KerasRegressor(build_model)"
   ]
  },
  {
   "cell_type": "markdown",
   "metadata": {},
   "source": [
    "**The  KerasRegressor  object  is  a  thin  wrapper  around  the  Keras  model  built  usingbuild_model(). Since we did not specify any hyperparameter when creating it, it willjust  use  the  default  hyperparameters  we  defined  in  build_model(). **\n",
    "\n",
    " Now  we  can  use this  object  like  a  regular  Scikit-Learn  regressor:  we  can  train  it  using  its  fit()method,  then  evaluate  it  using  its  score()  method,  and  use  it  to  make  predictions using  its  predict()  method.  Note  that  any  extra  parameter  you  pass  to  the  fit()method  will  simply  get  passed  to  the  underlying  Keras  model.  "
   ]
  },
  {
   "cell_type": "code",
   "execution_count": 58,
   "metadata": {},
   "outputs": [
    {
     "name": "stdout",
     "output_type": "stream",
     "text": [
      "Epoch 1/20\n",
      "363/363 [==============================] - 1s 1ms/step - loss: 1.4010 - val_loss: 0.6866\n",
      "Epoch 2/20\n",
      "363/363 [==============================] - 0s 1ms/step - loss: 0.6724 - val_loss: 0.5845\n",
      "Epoch 3/20\n",
      "363/363 [==============================] - 0s 1ms/step - loss: 0.5930 - val_loss: 0.5285\n",
      "Epoch 4/20\n",
      "363/363 [==============================] - 0s 1ms/step - loss: 0.5431 - val_loss: 0.4875\n",
      "Epoch 5/20\n",
      "363/363 [==============================] - 0s 1ms/step - loss: 0.5087 - val_loss: 0.4613\n",
      "Epoch 6/20\n",
      "363/363 [==============================] - 0s 1ms/step - loss: 0.4853 - val_loss: 0.4429\n",
      "Epoch 7/20\n",
      "363/363 [==============================] - 0s 1ms/step - loss: 0.4681 - val_loss: 0.4316\n",
      "Epoch 8/20\n",
      "363/363 [==============================] - 0s 1ms/step - loss: 0.4548 - val_loss: 0.4214\n",
      "Epoch 9/20\n",
      "363/363 [==============================] - 0s 1ms/step - loss: 0.4448 - val_loss: 0.4155\n",
      "Epoch 10/20\n",
      "363/363 [==============================] - 0s 1ms/step - loss: 0.4365 - val_loss: 0.4107\n",
      "Epoch 11/20\n",
      "363/363 [==============================] - 0s 1ms/step - loss: 0.4296 - val_loss: 0.4072\n",
      "Epoch 12/20\n",
      "363/363 [==============================] - 0s 1ms/step - loss: 0.4242 - val_loss: 0.3997\n",
      "Epoch 13/20\n",
      "363/363 [==============================] - 0s 1ms/step - loss: 0.4193 - val_loss: 0.3966\n",
      "Epoch 14/20\n",
      "363/363 [==============================] - 1s 1ms/step - loss: 0.4145 - val_loss: 0.3952\n",
      "Epoch 15/20\n",
      "363/363 [==============================] - 0s 1ms/step - loss: 0.4106 - val_loss: 0.3920\n",
      "Epoch 16/20\n",
      "363/363 [==============================] - 0s 1ms/step - loss: 0.4072 - val_loss: 0.3896\n",
      "Epoch 17/20\n",
      "363/363 [==============================] - 0s 1ms/step - loss: 0.4042 - val_loss: 0.3853\n",
      "Epoch 18/20\n",
      "363/363 [==============================] - 0s 1ms/step - loss: 0.4011 - val_loss: 0.3861\n",
      "Epoch 19/20\n",
      "363/363 [==============================] - 0s 1ms/step - loss: 0.3987 - val_loss: 0.3811\n",
      "Epoch 20/20\n",
      "363/363 [==============================] - 0s 1ms/step - loss: 0.3962 - val_loss: 0.3811\n",
      "162/162 [==============================] - 0s 805us/step - loss: 0.3828\n"
     ]
    },
    {
     "data": {
      "text/plain": [
       "-0.38279902935028076"
      ]
     },
     "execution_count": 58,
     "metadata": {},
     "output_type": "execute_result"
    }
   ],
   "source": [
    "keras_reg.fit(X_train, y_train, epochs=20, validation_data=(X_valid, y_valid),\n",
    "             callbacks=[keras.callbacks.EarlyStopping(patience=10)])\n",
    "mse_test = keras_reg.score(X_test, y_test)\n",
    "mse_test"
   ]
  },
  {
   "cell_type": "markdown",
   "metadata": {},
   "source": [
    "However,  we  do  not  actually  want  to  train  and  evaluate  a  single  model  like  this,  we want to train hundreds of variants and see which one performs best on the validation set. Since there are many hyperparameters, it is preferable to use a randomized search."
   ]
  },
  {
   "cell_type": "code",
   "execution_count": 59,
   "metadata": {},
   "outputs": [
    {
     "name": "stdout",
     "output_type": "stream",
     "text": [
      "Epoch 1/10\n",
      "242/242 [==============================] - 1s 2ms/step - loss: 1.1203 - val_loss: 0.7059\n",
      "Epoch 2/10\n",
      "242/242 [==============================] - 0s 1ms/step - loss: 0.6446 - val_loss: 5.2419\n",
      "Epoch 3/10\n",
      "242/242 [==============================] - 0s 1ms/step - loss: 0.7565 - val_loss: 0.9249\n",
      "Epoch 4/10\n",
      "242/242 [==============================] - 0s 1ms/step - loss: 0.5120 - val_loss: 0.5819\n",
      "Epoch 5/10\n",
      "242/242 [==============================] - 0s 1ms/step - loss: 0.4524 - val_loss: 0.4075\n",
      "Epoch 6/10\n",
      "242/242 [==============================] - 0s 1ms/step - loss: 0.4306 - val_loss: 0.4034\n",
      "Epoch 7/10\n",
      "242/242 [==============================] - 0s 1ms/step - loss: 0.4188 - val_loss: 0.3888\n",
      "Epoch 8/10\n",
      "242/242 [==============================] - 0s 1ms/step - loss: 0.4107 - val_loss: 0.3925\n",
      "Epoch 9/10\n",
      "242/242 [==============================] - 0s 1ms/step - loss: 0.4042 - val_loss: 0.3807\n",
      "Epoch 10/10\n",
      "242/242 [==============================] - 0s 1ms/step - loss: 0.3987 - val_loss: 0.3876\n",
      "121/121 [==============================] - 0s 805us/step - loss: 0.3850\n",
      "Epoch 1/10\n",
      "242/242 [==============================] - 1s 2ms/step - loss: 1.0921 - val_loss: 1.7255\n",
      "Epoch 2/10\n",
      "242/242 [==============================] - 0s 1ms/step - loss: 0.6071 - val_loss: 0.7363\n",
      "Epoch 3/10\n",
      "242/242 [==============================] - 0s 2ms/step - loss: 0.5275 - val_loss: 0.5091\n",
      "Epoch 4/10\n",
      "242/242 [==============================] - 0s 1ms/step - loss: 0.4791 - val_loss: 0.4412\n",
      "Epoch 5/10\n",
      "242/242 [==============================] - 0s 1ms/step - loss: 0.4490 - val_loss: 0.4211\n",
      "Epoch 6/10\n",
      "242/242 [==============================] - 0s 1ms/step - loss: 0.4290 - val_loss: 0.4056\n",
      "Epoch 7/10\n",
      "242/242 [==============================] - 0s 2ms/step - loss: 0.4133 - val_loss: 0.3977\n",
      "Epoch 8/10\n",
      "242/242 [==============================] - 0s 1ms/step - loss: 0.4034 - val_loss: 0.4113\n",
      "Epoch 9/10\n",
      "242/242 [==============================] - 0s 1ms/step - loss: 0.3945 - val_loss: 0.4192\n",
      "Epoch 10/10\n",
      "242/242 [==============================] - 0s 1ms/step - loss: 0.3870 - val_loss: 0.4263\n",
      "121/121 [==============================] - 0s 823us/step - loss: 0.4102\n",
      "Epoch 1/10\n",
      "242/242 [==============================] - 1s 2ms/step - loss: 1.1308 - val_loss: 3.3902\n",
      "Epoch 2/10\n",
      "242/242 [==============================] - 0s 1ms/step - loss: 0.8057 - val_loss: 0.9423\n",
      "Epoch 3/10\n",
      "242/242 [==============================] - 0s 1ms/step - loss: 0.5346 - val_loss: 0.4714\n",
      "Epoch 4/10\n",
      "242/242 [==============================] - 0s 1ms/step - loss: 0.4701 - val_loss: 0.4328\n",
      "Epoch 5/10\n",
      "242/242 [==============================] - 0s 1ms/step - loss: 0.4348 - val_loss: 0.4112\n",
      "Epoch 6/10\n",
      "242/242 [==============================] - 0s 1ms/step - loss: 0.4140 - val_loss: 0.3986\n",
      "Epoch 7/10\n",
      "242/242 [==============================] - 0s 1ms/step - loss: 0.4010 - val_loss: 0.3962\n",
      "Epoch 8/10\n",
      "242/242 [==============================] - 0s 1ms/step - loss: 0.3932 - val_loss: 0.3867\n",
      "Epoch 9/10\n",
      "242/242 [==============================] - 0s 1ms/step - loss: 0.3854 - val_loss: 0.3942\n",
      "Epoch 10/10\n",
      "242/242 [==============================] - 0s 1ms/step - loss: 0.3823 - val_loss: 0.3792\n",
      "121/121 [==============================] - 0s 965us/step - loss: 0.3939\n",
      "Epoch 1/10\n",
      "242/242 [==============================] - 1s 2ms/step - loss: 4.3567 - val_loss: 3.0192\n",
      "Epoch 2/10\n",
      "242/242 [==============================] - 0s 1ms/step - loss: 2.2182 - val_loss: 2.1326\n",
      "Epoch 3/10\n",
      "242/242 [==============================] - 0s 1ms/step - loss: 1.5036 - val_loss: 1.4772\n",
      "Epoch 4/10\n",
      "242/242 [==============================] - 0s 1ms/step - loss: 1.1677 - val_loss: 1.1372\n",
      "Epoch 5/10\n",
      "242/242 [==============================] - 0s 1ms/step - loss: 0.9920 - val_loss: 0.9420\n",
      "Epoch 6/10\n",
      "242/242 [==============================] - 0s 1ms/step - loss: 0.8919 - val_loss: 0.8301\n",
      "Epoch 7/10\n",
      "242/242 [==============================] - 0s 1ms/step - loss: 0.8304 - val_loss: 0.7660\n",
      "Epoch 8/10\n",
      "242/242 [==============================] - 0s 1ms/step - loss: 0.7901 - val_loss: 0.7273\n",
      "Epoch 9/10\n",
      "242/242 [==============================] - 0s 2ms/step - loss: 0.7613 - val_loss: 0.6977\n",
      "Epoch 10/10\n",
      "242/242 [==============================] - 0s 2ms/step - loss: 0.7400 - val_loss: 0.6789\n",
      "121/121 [==============================] - 0s 859us/step - loss: 0.6873\n",
      "Epoch 1/10\n",
      "242/242 [==============================] - 1s 2ms/step - loss: 4.5980 - val_loss: 3.0284\n",
      "Epoch 2/10\n",
      "242/242 [==============================] - 0s 1ms/step - loss: 2.1688 - val_loss: 1.9636\n",
      "Epoch 3/10\n",
      "242/242 [==============================] - 0s 1ms/step - loss: 1.3153 - val_loss: 1.6144\n",
      "Epoch 4/10\n",
      "242/242 [==============================] - 0s 1ms/step - loss: 0.9774 - val_loss: 1.4239\n",
      "Epoch 5/10\n",
      "242/242 [==============================] - 0s 1ms/step - loss: 0.8340 - val_loss: 1.2813\n",
      "Epoch 6/10\n",
      "242/242 [==============================] - 0s 1ms/step - loss: 0.7676 - val_loss: 1.1695\n",
      "Epoch 7/10\n",
      "242/242 [==============================] - 0s 1ms/step - loss: 0.7323 - val_loss: 1.0771\n",
      "Epoch 8/10\n",
      "242/242 [==============================] - 0s 1ms/step - loss: 0.7110 - val_loss: 0.9997\n",
      "Epoch 9/10\n",
      "242/242 [==============================] - 0s 1ms/step - loss: 0.6959 - val_loss: 0.9357\n",
      "Epoch 10/10\n",
      "242/242 [==============================] - 0s 1ms/step - loss: 0.6837 - val_loss: 0.8840\n",
      "121/121 [==============================] - 0s 763us/step - loss: 0.7183\n",
      "Epoch 1/10\n",
      "242/242 [==============================] - 1s 2ms/step - loss: 4.6644 - val_loss: 2.7072\n",
      "Epoch 2/10\n",
      "242/242 [==============================] - 0s 1ms/step - loss: 2.1211 - val_loss: 1.7253\n",
      "Epoch 3/10\n",
      "242/242 [==============================] - 0s 1ms/step - loss: 1.4134 - val_loss: 1.3375\n",
      "Epoch 4/10\n",
      "242/242 [==============================] - 0s 1ms/step - loss: 1.1112 - val_loss: 1.0468\n",
      "Epoch 5/10\n",
      "242/242 [==============================] - 0s 1ms/step - loss: 0.9534 - val_loss: 0.8962\n",
      "Epoch 6/10\n",
      "242/242 [==============================] - 0s 1ms/step - loss: 0.8665 - val_loss: 0.8146\n",
      "Epoch 7/10\n",
      "242/242 [==============================] - 0s 1ms/step - loss: 0.8154 - val_loss: 0.7659\n",
      "Epoch 8/10\n",
      "242/242 [==============================] - 0s 1ms/step - loss: 0.7826 - val_loss: 0.7368\n",
      "Epoch 9/10\n",
      "242/242 [==============================] - 0s 1ms/step - loss: 0.7599 - val_loss: 0.7195\n",
      "Epoch 10/10\n",
      "242/242 [==============================] - 0s 1ms/step - loss: 0.7427 - val_loss: 0.7024\n",
      "121/121 [==============================] - 0s 812us/step - loss: 0.7772\n",
      "Epoch 1/10\n",
      "242/242 [==============================] - 1s 2ms/step - loss: 3.1028 - val_loss: 2.9487\n",
      "Epoch 2/10\n",
      "242/242 [==============================] - 0s 1ms/step - loss: 1.2932 - val_loss: 1.1832\n",
      "Epoch 3/10\n",
      "242/242 [==============================] - 0s 1ms/step - loss: 0.8302 - val_loss: 0.7534\n",
      "Epoch 4/10\n",
      "242/242 [==============================] - 0s 1ms/step - loss: 0.7071 - val_loss: 0.6366\n",
      "Epoch 5/10\n",
      "242/242 [==============================] - 0s 1ms/step - loss: 0.6645 - val_loss: 0.5972\n",
      "Epoch 6/10\n",
      "242/242 [==============================] - 0s 1ms/step - loss: 0.6437 - val_loss: 0.5831\n",
      "Epoch 7/10\n",
      "242/242 [==============================] - 0s 2ms/step - loss: 0.6281 - val_loss: 0.5717\n",
      "Epoch 8/10\n",
      "242/242 [==============================] - 0s 1ms/step - loss: 0.6146 - val_loss: 0.5567\n",
      "Epoch 9/10\n",
      "242/242 [==============================] - 0s 1ms/step - loss: 0.6033 - val_loss: 0.5488\n",
      "Epoch 10/10\n",
      "242/242 [==============================] - 0s 1ms/step - loss: 0.5926 - val_loss: 0.5432\n",
      "121/121 [==============================] - 0s 731us/step - loss: 0.5565\n",
      "Epoch 1/10\n",
      "242/242 [==============================] - 1s 2ms/step - loss: 3.1856 - val_loss: 4.6060\n",
      "Epoch 2/10\n",
      "242/242 [==============================] - 0s 1ms/step - loss: 1.3245 - val_loss: 4.5178\n",
      "Epoch 3/10\n",
      "242/242 [==============================] - 0s 1ms/step - loss: 0.9188 - val_loss: 4.0475\n",
      "Epoch 4/10\n",
      "242/242 [==============================] - 0s 1ms/step - loss: 0.7818 - val_loss: 3.4550\n",
      "Epoch 5/10\n",
      "242/242 [==============================] - 0s 1ms/step - loss: 0.7230 - val_loss: 2.9374\n",
      "Epoch 6/10\n",
      "242/242 [==============================] - 0s 1ms/step - loss: 0.6903 - val_loss: 2.5009\n",
      "Epoch 7/10\n",
      "242/242 [==============================] - 0s 1ms/step - loss: 0.6675 - val_loss: 2.1454\n"
     ]
    },
    {
     "name": "stdout",
     "output_type": "stream",
     "text": [
      "Epoch 8/10\n",
      "242/242 [==============================] - 0s 1ms/step - loss: 0.6487 - val_loss: 1.8218\n",
      "Epoch 9/10\n",
      "242/242 [==============================] - 0s 1ms/step - loss: 0.6323 - val_loss: 1.5785\n",
      "Epoch 10/10\n",
      "242/242 [==============================] - 0s 1ms/step - loss: 0.6173 - val_loss: 1.3632\n",
      "121/121 [==============================] - 0s 776us/step - loss: 0.7184\n",
      "Epoch 1/10\n",
      "242/242 [==============================] - 1s 2ms/step - loss: 3.1197 - val_loss: 1.5536\n",
      "Epoch 2/10\n",
      "242/242 [==============================] - 0s 1ms/step - loss: 1.1362 - val_loss: 0.8459\n",
      "Epoch 3/10\n",
      "242/242 [==============================] - 0s 1ms/step - loss: 0.8051 - val_loss: 0.7070\n",
      "Epoch 4/10\n",
      "242/242 [==============================] - 0s 1ms/step - loss: 0.7298 - val_loss: 0.6646\n",
      "Epoch 5/10\n",
      "242/242 [==============================] - 0s 1ms/step - loss: 0.6969 - val_loss: 0.6406\n",
      "Epoch 6/10\n",
      "242/242 [==============================] - 0s 1ms/step - loss: 0.6729 - val_loss: 0.6251\n",
      "Epoch 7/10\n",
      "242/242 [==============================] - 0s 1ms/step - loss: 0.6521 - val_loss: 0.6043\n",
      "Epoch 8/10\n",
      "242/242 [==============================] - 0s 1ms/step - loss: 0.6346 - val_loss: 0.5899\n",
      "Epoch 9/10\n",
      "242/242 [==============================] - 0s 1ms/step - loss: 0.6183 - val_loss: 0.5768\n",
      "Epoch 10/10\n",
      "242/242 [==============================] - 0s 1ms/step - loss: 0.6038 - val_loss: 0.5628\n",
      "121/121 [==============================] - 0s 1ms/step - loss: 0.6111\n",
      "Epoch 1/10\n",
      "242/242 [==============================] - 1s 2ms/step - loss: 2.7642 - val_loss: 2.1502\n",
      "Epoch 2/10\n",
      "242/242 [==============================] - 0s 1ms/step - loss: 0.7714 - val_loss: 1.4758\n",
      "Epoch 3/10\n",
      "242/242 [==============================] - 0s 2ms/step - loss: 0.6667 - val_loss: 0.9717\n",
      "Epoch 4/10\n",
      "242/242 [==============================] - 0s 1ms/step - loss: 0.5795 - val_loss: 0.6350\n",
      "Epoch 5/10\n",
      "242/242 [==============================] - 0s 1ms/step - loss: 0.5791 - val_loss: 0.7878\n",
      "Epoch 6/10\n",
      "242/242 [==============================] - 0s 1ms/step - loss: 0.5633 - val_loss: 0.5252\n",
      "Epoch 7/10\n",
      "242/242 [==============================] - 0s 1ms/step - loss: 0.5595 - val_loss: 0.5521\n",
      "Epoch 8/10\n",
      "242/242 [==============================] - 0s 1ms/step - loss: 0.5486 - val_loss: 0.5471\n",
      "Epoch 9/10\n",
      "242/242 [==============================] - 0s 1ms/step - loss: 0.5590 - val_loss: 0.5600\n",
      "121/121 [==============================] - 0s 703us/step - loss: 0.5196\n",
      "Epoch 1/10\n",
      "242/242 [==============================] - 1s 2ms/step - loss: 2.6545 - val_loss: 6.4364\n",
      "Epoch 2/10\n",
      "242/242 [==============================] - 0s 1ms/step - loss: 0.7588 - val_loss: 4.0207\n",
      "Epoch 3/10\n",
      "242/242 [==============================] - 0s 1ms/step - loss: 0.6002 - val_loss: 2.5609\n",
      "Epoch 4/10\n",
      "242/242 [==============================] - 0s 1ms/step - loss: 0.5730 - val_loss: 1.6280\n",
      "Epoch 5/10\n",
      "242/242 [==============================] - 0s 1ms/step - loss: 0.5598 - val_loss: 1.0320\n",
      "Epoch 6/10\n",
      "242/242 [==============================] - 0s 1ms/step - loss: 0.5502 - val_loss: 0.6897\n",
      "Epoch 7/10\n",
      "242/242 [==============================] - 0s 1ms/step - loss: 0.5428 - val_loss: 0.5390\n",
      "Epoch 8/10\n",
      "242/242 [==============================] - 0s 1ms/step - loss: 0.5373 - val_loss: 0.5195\n",
      "Epoch 9/10\n",
      "242/242 [==============================] - 0s 1ms/step - loss: 0.5329 - val_loss: 0.5838\n",
      "Epoch 10/10\n",
      "242/242 [==============================] - 0s 1ms/step - loss: 0.5297 - val_loss: 0.7119\n",
      "121/121 [==============================] - 0s 825us/step - loss: 0.5804\n",
      "Epoch 1/10\n",
      "242/242 [==============================] - 1s 2ms/step - loss: 3.6220 - val_loss: 10.4643\n",
      "Epoch 2/10\n",
      "242/242 [==============================] - 0s 1ms/step - loss: 1.3719 - val_loss: 4.7120\n",
      "Epoch 3/10\n",
      "242/242 [==============================] - 0s 1ms/step - loss: 1.0365 - val_loss: 3.5290\n",
      "Epoch 4/10\n",
      "242/242 [==============================] - 0s 1ms/step - loss: 0.8027 - val_loss: 1.2971\n",
      "Epoch 5/10\n",
      "242/242 [==============================] - 0s 1ms/step - loss: 0.7264 - val_loss: 1.0035\n",
      "Epoch 6/10\n",
      "242/242 [==============================] - 0s 1ms/step - loss: 0.6428 - val_loss: 0.6130\n",
      "Epoch 7/10\n",
      "242/242 [==============================] - 0s 1ms/step - loss: 0.6212 - val_loss: 0.6221\n",
      "Epoch 8/10\n",
      "242/242 [==============================] - 0s 1ms/step - loss: 0.6010 - val_loss: 0.6275\n",
      "Epoch 9/10\n",
      "242/242 [==============================] - 0s 1ms/step - loss: 0.5887 - val_loss: 0.6156\n",
      "121/121 [==============================] - 0s 776us/step - loss: 0.6076\n",
      "Epoch 1/10\n",
      "242/242 [==============================] - 1s 2ms/step - loss: 0.8846 - val_loss: 2.7629\n",
      "Epoch 2/10\n",
      "242/242 [==============================] - 0s 1ms/step - loss: 0.6879 - val_loss: 14.9137\n",
      "Epoch 3/10\n",
      "242/242 [==============================] - 0s 2ms/step - loss: 1.3989 - val_loss: 9.9950\n",
      "Epoch 4/10\n",
      "242/242 [==============================] - 0s 2ms/step - loss: nan - val_loss: nan\n",
      "121/121 [==============================] - 0s 1ms/step - loss: nan\n",
      "Epoch 1/10\n",
      "242/242 [==============================] - 1s 2ms/step - loss: 0.7507 - val_loss: 0.4643\n",
      "Epoch 2/10\n",
      "242/242 [==============================] - 0s 2ms/step - loss: 0.4270 - val_loss: 0.4654\n",
      "Epoch 3/10\n",
      "242/242 [==============================] - 0s 1ms/step - loss: 0.3925 - val_loss: 0.3952\n",
      "Epoch 4/10\n",
      "242/242 [==============================] - 0s 1ms/step - loss: 0.3725 - val_loss: 0.3997\n",
      "Epoch 5/10\n",
      "242/242 [==============================] - 0s 1ms/step - loss: 0.3639 - val_loss: 0.3567\n",
      "Epoch 6/10\n",
      "242/242 [==============================] - 0s 2ms/step - loss: 0.3503 - val_loss: 0.4002\n",
      "Epoch 7/10\n",
      "242/242 [==============================] - 0s 2ms/step - loss: 0.3433 - val_loss: 0.4500\n",
      "Epoch 8/10\n",
      "242/242 [==============================] - 0s 2ms/step - loss: 0.3350 - val_loss: 0.4184\n",
      "121/121 [==============================] - 0s 1ms/step - loss: 0.3597\n",
      "Epoch 1/10\n",
      "242/242 [==============================] - 1s 2ms/step - loss: 0.7661 - val_loss: 0.6461\n",
      "Epoch 2/10\n",
      "242/242 [==============================] - 0s 2ms/step - loss: 0.4777 - val_loss: 1.6019\n",
      "Epoch 3/10\n",
      "242/242 [==============================] - 0s 1ms/step - loss: 0.4309 - val_loss: 23.2712\n",
      "Epoch 4/10\n",
      "242/242 [==============================] - 0s 1ms/step - loss: 0.4853 - val_loss: 3.6469\n",
      "121/121 [==============================] - 0s 834us/step - loss: 0.4110\n",
      "Epoch 1/10\n",
      "363/363 [==============================] - 1s 2ms/step - loss: 0.9329 - val_loss: 4.5797\n",
      "Epoch 2/10\n",
      "363/363 [==============================] - 0s 1ms/step - loss: 0.6517 - val_loss: 4.9333\n",
      "Epoch 3/10\n",
      "363/363 [==============================] - 0s 1ms/step - loss: 0.5910 - val_loss: 1.0966\n",
      "Epoch 4/10\n",
      "363/363 [==============================] - 0s 1ms/step - loss: 0.4703 - val_loss: 0.4174\n",
      "Epoch 5/10\n",
      "363/363 [==============================] - 0s 1ms/step - loss: 0.4105 - val_loss: 0.3913\n",
      "Epoch 6/10\n",
      "363/363 [==============================] - 0s 1ms/step - loss: 0.3977 - val_loss: 0.3842\n",
      "Epoch 7/10\n",
      "363/363 [==============================] - 0s 1ms/step - loss: 0.3902 - val_loss: 0.3783\n",
      "Epoch 8/10\n",
      "363/363 [==============================] - 0s 1ms/step - loss: 0.3822 - val_loss: 0.3768\n",
      "Epoch 9/10\n",
      "363/363 [==============================] - 0s 1ms/step - loss: 0.3778 - val_loss: 0.3694\n",
      "Epoch 10/10\n",
      "363/363 [==============================] - 0s 1ms/step - loss: 0.3733 - val_loss: 0.3678\n"
     ]
    },
    {
     "data": {
      "text/plain": [
       "RandomizedSearchCV(cv=3,\n",
       "                   estimator=<keras.wrappers.scikit_learn.KerasRegressor object at 0x7fa47ad88d30>,\n",
       "                   n_iter=5,\n",
       "                   param_distributions={'learning_rate': <scipy.stats._distn_infrastructure.rv_frozen object at 0x7fa47ad88cf8>,\n",
       "                                        'n_hidden': [0, 1, 2, 3],\n",
       "                                        'n_neurons': array([ 1,  2,  3,  4,  5,  6,  7,  8,  9, 10, 11, 12, 13, 14, 15, 16, 17,\n",
       "       18, 19, 20, 21, 22, 23, 24, 25, 26, 27, 28, 29, 30, 31, 32, 33, 34,\n",
       "       35, 36, 37, 38, 39, 40, 41, 42, 43, 44, 45, 46, 47, 48, 49, 50, 51,\n",
       "       52, 53, 54, 55, 56, 57, 58, 59, 60, 61, 62, 63, 64, 65, 66, 67, 68,\n",
       "       69, 70, 71, 72, 73, 74, 75, 76, 77, 78, 79, 80, 81, 82, 83, 84, 85,\n",
       "       86, 87, 88, 89, 90, 91, 92, 93, 94, 95, 96, 97, 98, 99])})"
      ]
     },
     "execution_count": 59,
     "metadata": {},
     "output_type": "execute_result"
    }
   ],
   "source": [
    "# Now we can use any combination of hyperparams using this regressor \n",
    "#instead of the default defined in the build method\n",
    "keras_reg = keras.wrappers.scikit_learn.KerasRegressor(build_model)\n",
    "param_distribs = {\"n_hidden\": [0, 1, 2, 3],   \n",
    "                  \"n_neurons\": np.arange(1, 100),\n",
    "                  \"learning_rate\": reciprocal(3e-4, 3e-2),}\n",
    "\n",
    "rnd_search_cv = RandomizedSearchCV(keras_reg, param_distribs, n_iter=5, cv=3)\n",
    "rnd_search_cv.fit(X_train, y_train, epochs=10, validation_data=(X_valid, y_valid),\n",
    "             callbacks=[keras.callbacks.EarlyStopping(patience=3)])"
   ]
  },
  {
   "cell_type": "markdown",
   "metadata": {},
   "source": [
    "**we pass extra parameters to the fit() method: they simply get relayed to the under‐lying Keras models**"
   ]
  },
  {
   "cell_type": "code",
   "execution_count": 60,
   "metadata": {
    "scrolled": false
   },
   "outputs": [
    {
     "ename": "ValueError",
     "evalue": "Please provide to Input a `shape` or a `tensor` or a `type_spec` argument. Note that `shape` does not include the batch dimension.",
     "output_type": "error",
     "traceback": [
      "\u001b[0;31m---------------------------------------------------------------------------\u001b[0m",
      "\u001b[0;31mValueError\u001b[0m                                Traceback (most recent call last)",
      "\u001b[0;32m<ipython-input-60-b83ab5e45afe>\u001b[0m in \u001b[0;36m<module>\u001b[0;34m\u001b[0m\n\u001b[1;32m     14\u001b[0m \u001b[0mrnd_search_cv\u001b[0m \u001b[0;34m=\u001b[0m \u001b[0mRandomizedSearchCV\u001b[0m\u001b[0;34m(\u001b[0m\u001b[0mkeras_reg\u001b[0m\u001b[0;34m,\u001b[0m \u001b[0mparam_distribs\u001b[0m\u001b[0;34m,\u001b[0m \u001b[0mn_iter\u001b[0m\u001b[0;34m=\u001b[0m\u001b[0;36m5\u001b[0m\u001b[0;34m,\u001b[0m \u001b[0mcv\u001b[0m\u001b[0;34m=\u001b[0m\u001b[0;36m3\u001b[0m\u001b[0;34m)\u001b[0m\u001b[0;34m\u001b[0m\u001b[0;34m\u001b[0m\u001b[0m\n\u001b[1;32m     15\u001b[0m rnd_search_cv.fit(X_train, y_train, epochs=10, validation_data=(X_valid, y_valid),\n\u001b[0;32m---> 16\u001b[0;31m              callbacks=[keras.callbacks.EarlyStopping(patience=3)])\n\u001b[0m",
      "\u001b[0;32m~/.local/lib/python3.6/site-packages/sklearn/utils/validation.py\u001b[0m in \u001b[0;36minner_f\u001b[0;34m(*args, **kwargs)\u001b[0m\n\u001b[1;32m     71\u001b[0m                           FutureWarning)\n\u001b[1;32m     72\u001b[0m         \u001b[0mkwargs\u001b[0m\u001b[0;34m.\u001b[0m\u001b[0mupdate\u001b[0m\u001b[0;34m(\u001b[0m\u001b[0;34m{\u001b[0m\u001b[0mk\u001b[0m\u001b[0;34m:\u001b[0m \u001b[0marg\u001b[0m \u001b[0;32mfor\u001b[0m \u001b[0mk\u001b[0m\u001b[0;34m,\u001b[0m \u001b[0marg\u001b[0m \u001b[0;32min\u001b[0m \u001b[0mzip\u001b[0m\u001b[0;34m(\u001b[0m\u001b[0msig\u001b[0m\u001b[0;34m.\u001b[0m\u001b[0mparameters\u001b[0m\u001b[0;34m,\u001b[0m \u001b[0margs\u001b[0m\u001b[0;34m)\u001b[0m\u001b[0;34m}\u001b[0m\u001b[0;34m)\u001b[0m\u001b[0;34m\u001b[0m\u001b[0;34m\u001b[0m\u001b[0m\n\u001b[0;32m---> 73\u001b[0;31m         \u001b[0;32mreturn\u001b[0m \u001b[0mf\u001b[0m\u001b[0;34m(\u001b[0m\u001b[0;34m**\u001b[0m\u001b[0mkwargs\u001b[0m\u001b[0;34m)\u001b[0m\u001b[0;34m\u001b[0m\u001b[0;34m\u001b[0m\u001b[0m\n\u001b[0m\u001b[1;32m     74\u001b[0m     \u001b[0;32mreturn\u001b[0m \u001b[0minner_f\u001b[0m\u001b[0;34m\u001b[0m\u001b[0;34m\u001b[0m\u001b[0m\n\u001b[1;32m     75\u001b[0m \u001b[0;34m\u001b[0m\u001b[0m\n",
      "\u001b[0;32m~/.local/lib/python3.6/site-packages/sklearn/model_selection/_search.py\u001b[0m in \u001b[0;36mfit\u001b[0;34m(self, X, y, groups, **fit_params)\u001b[0m\n\u001b[1;32m    763\u001b[0m             \u001b[0mrefit_start_time\u001b[0m \u001b[0;34m=\u001b[0m \u001b[0mtime\u001b[0m\u001b[0;34m.\u001b[0m\u001b[0mtime\u001b[0m\u001b[0;34m(\u001b[0m\u001b[0;34m)\u001b[0m\u001b[0;34m\u001b[0m\u001b[0;34m\u001b[0m\u001b[0m\n\u001b[1;32m    764\u001b[0m             \u001b[0;32mif\u001b[0m \u001b[0my\u001b[0m \u001b[0;32mis\u001b[0m \u001b[0;32mnot\u001b[0m \u001b[0;32mNone\u001b[0m\u001b[0;34m:\u001b[0m\u001b[0;34m\u001b[0m\u001b[0;34m\u001b[0m\u001b[0m\n\u001b[0;32m--> 765\u001b[0;31m                 \u001b[0mself\u001b[0m\u001b[0;34m.\u001b[0m\u001b[0mbest_estimator_\u001b[0m\u001b[0;34m.\u001b[0m\u001b[0mfit\u001b[0m\u001b[0;34m(\u001b[0m\u001b[0mX\u001b[0m\u001b[0;34m,\u001b[0m \u001b[0my\u001b[0m\u001b[0;34m,\u001b[0m \u001b[0;34m**\u001b[0m\u001b[0mfit_params\u001b[0m\u001b[0;34m)\u001b[0m\u001b[0;34m\u001b[0m\u001b[0;34m\u001b[0m\u001b[0m\n\u001b[0m\u001b[1;32m    766\u001b[0m             \u001b[0;32melse\u001b[0m\u001b[0;34m:\u001b[0m\u001b[0;34m\u001b[0m\u001b[0;34m\u001b[0m\u001b[0m\n\u001b[1;32m    767\u001b[0m                 \u001b[0mself\u001b[0m\u001b[0;34m.\u001b[0m\u001b[0mbest_estimator_\u001b[0m\u001b[0;34m.\u001b[0m\u001b[0mfit\u001b[0m\u001b[0;34m(\u001b[0m\u001b[0mX\u001b[0m\u001b[0;34m,\u001b[0m \u001b[0;34m**\u001b[0m\u001b[0mfit_params\u001b[0m\u001b[0;34m)\u001b[0m\u001b[0;34m\u001b[0m\u001b[0;34m\u001b[0m\u001b[0m\n",
      "\u001b[0;32m~/.local/lib/python3.6/site-packages/keras/wrappers/scikit_learn.py\u001b[0m in \u001b[0;36mfit\u001b[0;34m(self, x, y, **kwargs)\u001b[0m\n\u001b[1;32m    151\u001b[0m           **self.filter_sk_params(self.build_fn.__call__))\n\u001b[1;32m    152\u001b[0m     \u001b[0;32melse\u001b[0m\u001b[0;34m:\u001b[0m\u001b[0;34m\u001b[0m\u001b[0;34m\u001b[0m\u001b[0m\n\u001b[0;32m--> 153\u001b[0;31m       \u001b[0mself\u001b[0m\u001b[0;34m.\u001b[0m\u001b[0mmodel\u001b[0m \u001b[0;34m=\u001b[0m \u001b[0mself\u001b[0m\u001b[0;34m.\u001b[0m\u001b[0mbuild_fn\u001b[0m\u001b[0;34m(\u001b[0m\u001b[0;34m**\u001b[0m\u001b[0mself\u001b[0m\u001b[0;34m.\u001b[0m\u001b[0mfilter_sk_params\u001b[0m\u001b[0;34m(\u001b[0m\u001b[0mself\u001b[0m\u001b[0;34m.\u001b[0m\u001b[0mbuild_fn\u001b[0m\u001b[0;34m)\u001b[0m\u001b[0;34m)\u001b[0m\u001b[0;34m\u001b[0m\u001b[0;34m\u001b[0m\u001b[0m\n\u001b[0m\u001b[1;32m    154\u001b[0m \u001b[0;34m\u001b[0m\u001b[0m\n\u001b[1;32m    155\u001b[0m     if (losses.is_categorical_crossentropy(self.model.loss) and\n",
      "\u001b[0;32m<ipython-input-60-b83ab5e45afe>\u001b[0m in \u001b[0;36mbuild_model\u001b[0;34m(n_hidden, n_neurons, learning_rate, input_shape)\u001b[0m\n\u001b[1;32m      1\u001b[0m \u001b[0;32mdef\u001b[0m \u001b[0mbuild_model\u001b[0m\u001b[0;34m(\u001b[0m\u001b[0mn_hidden\u001b[0m\u001b[0;34m=\u001b[0m\u001b[0;36m0\u001b[0m\u001b[0;34m,\u001b[0m \u001b[0mn_neurons\u001b[0m\u001b[0;34m=\u001b[0m\u001b[0;36m0\u001b[0m\u001b[0;34m,\u001b[0m \u001b[0mlearning_rate\u001b[0m\u001b[0;34m=\u001b[0m\u001b[0;36m3e-3\u001b[0m\u001b[0;34m,\u001b[0m \u001b[0minput_shape\u001b[0m\u001b[0;34m=\u001b[0m\u001b[0;34m[\u001b[0m\u001b[0;36m8\u001b[0m\u001b[0;34m]\u001b[0m\u001b[0;34m)\u001b[0m\u001b[0;34m:\u001b[0m\u001b[0;34m\u001b[0m\u001b[0;34m\u001b[0m\u001b[0m\n\u001b[1;32m      2\u001b[0m     \u001b[0mmodel\u001b[0m \u001b[0;34m=\u001b[0m \u001b[0mkeras\u001b[0m\u001b[0;34m.\u001b[0m\u001b[0mmodels\u001b[0m\u001b[0;34m.\u001b[0m\u001b[0mSequential\u001b[0m\u001b[0;34m(\u001b[0m\u001b[0;34m)\u001b[0m\u001b[0;34m\u001b[0m\u001b[0;34m\u001b[0m\u001b[0m\n\u001b[0;32m----> 3\u001b[0;31m     \u001b[0mmodel\u001b[0m\u001b[0;34m.\u001b[0m\u001b[0madd\u001b[0m\u001b[0;34m(\u001b[0m\u001b[0mkeras\u001b[0m\u001b[0;34m.\u001b[0m\u001b[0mlayers\u001b[0m\u001b[0;34m.\u001b[0m\u001b[0mInput\u001b[0m\u001b[0;34m(\u001b[0m\u001b[0minput_shape\u001b[0m\u001b[0;34m=\u001b[0m\u001b[0minput_shape\u001b[0m\u001b[0;34m)\u001b[0m\u001b[0;34m)\u001b[0m\u001b[0;34m\u001b[0m\u001b[0;34m\u001b[0m\u001b[0m\n\u001b[0m\u001b[1;32m      4\u001b[0m     \u001b[0;32mfor\u001b[0m \u001b[0mlayer\u001b[0m \u001b[0;32min\u001b[0m \u001b[0mrange\u001b[0m\u001b[0;34m(\u001b[0m\u001b[0mn_hidden\u001b[0m\u001b[0;34m)\u001b[0m\u001b[0;34m:\u001b[0m\u001b[0;34m\u001b[0m\u001b[0;34m\u001b[0m\u001b[0m\n\u001b[1;32m      5\u001b[0m         \u001b[0mmodel\u001b[0m\u001b[0;34m.\u001b[0m\u001b[0madd\u001b[0m\u001b[0;34m(\u001b[0m\u001b[0mkeras\u001b[0m\u001b[0;34m.\u001b[0m\u001b[0mlayers\u001b[0m\u001b[0;34m.\u001b[0m\u001b[0mDense\u001b[0m\u001b[0;34m(\u001b[0m\u001b[0mn_neurons\u001b[0m\u001b[0;34m,\u001b[0m \u001b[0mactivation\u001b[0m\u001b[0;34m=\u001b[0m\u001b[0;34m'relu'\u001b[0m\u001b[0;34m)\u001b[0m\u001b[0;34m)\u001b[0m\u001b[0;34m\u001b[0m\u001b[0;34m\u001b[0m\u001b[0m\n",
      "\u001b[0;32m~/.local/lib/python3.6/site-packages/keras/engine/input_layer.py\u001b[0m in \u001b[0;36mInput\u001b[0;34m(shape, batch_size, name, dtype, sparse, tensor, ragged, type_spec, **kwargs)\u001b[0m\n\u001b[1;32m    368\u001b[0m   if (batch_input_shape is None and shape is None and tensor is None\n\u001b[1;32m    369\u001b[0m       and type_spec is None):\n\u001b[0;32m--> 370\u001b[0;31m     raise ValueError('Please provide to Input a `shape`'\n\u001b[0m\u001b[1;32m    371\u001b[0m                      \u001b[0;34m' or a `tensor` or a `type_spec` argument. Note that '\u001b[0m\u001b[0;34m\u001b[0m\u001b[0;34m\u001b[0m\u001b[0m\n\u001b[1;32m    372\u001b[0m                      \u001b[0;34m'`shape` does not include the batch '\u001b[0m\u001b[0;34m\u001b[0m\u001b[0;34m\u001b[0m\u001b[0m\n",
      "\u001b[0;31mValueError\u001b[0m: Please provide to Input a `shape` or a `tensor` or a `type_spec` argument. Note that `shape` does not include the batch dimension."
     ]
    }
   ],
   "source": [
    "def build_model(n_hidden=0, n_neurons=0, learning_rate=3e-3, input_shape=[8]):\n",
    "    model = keras.models.Sequential()\n",
    "    model.add(keras.layers.Input(input_shape=input_shape))\n",
    "    for layer in range(n_hidden):\n",
    "        model.add(keras.layers.Dense(n_neurons, activation='relu'))\n",
    "    model.add(keras.layers.Dense(1))\n",
    "    model.compile(loss='mse', optimizer=keras.optimizers.SGD(lr=learning_rate))\n",
    "    return model\n",
    "\n",
    "\n",
    "keras_reg = keras.wrappers.scikit_learn.KerasRegressor(build_model)\n",
    "param_distribs = {\"learning_rate\": np.linspace(0.005, 3, 10).astype('float16')}\n",
    "\n",
    "rnd_search_cv = RandomizedSearchCV(keras_reg, param_distribs, n_iter=5, cv=3)\n",
    "rnd_search_cv.fit(X_train, y_train, epochs=10, validation_data=(X_valid, y_valid),\n",
    "             callbacks=[keras.callbacks.EarlyStopping(patience=3)])"
   ]
  },
  {
   "cell_type": "code",
   "execution_count": null,
   "metadata": {},
   "outputs": [],
   "source": [
    "learning_rate= np.linspace(0.005, 3, 10).astype('float16')\n",
    "learning_rate"
   ]
  },
  {
   "cell_type": "markdown",
   "metadata": {},
   "source": [
    "# NOTEs from the book !!\n",
    "\n",
    "However,  when  training  is  slow(e.g.,  for  more  complex  problems  with  larger  datasets),  this  approach  will  onlyexplore  a  tiny  portion  of  the  hyperparameter  space, but we  can  partially  alleviate  this problem  by  assisting  the  search  process  manually:  first  run  a  quick  random  search using  wide  ranges  of  hyperparameter  values,  then  run  another  search  using  smaller ranges of values centered on the best ones found during the first run, and so on.\n",
    " \n",
    "This will  hopefully  zoom  in  to  a  good  set  of  hyperparameters.  However,  this  is  very  time consuming, and probably not the best use of your time.\n",
    "\n",
    "Fortunately,  there  are  many  techniques  to  explore  a  search  space  much  more  effi‐ciently than randomly.\n",
    "\n",
    "Their core idea is simple: when a region of the space turns out to be good, it should be explored more. This takes care of the “zooming” process foryou  and  leads  to  much  better  solutions  in  much  less  time.  Here  are  a  few  Python libraries you can use to optimize hyperparameters:\n",
    "\n",
    "- Hyperopt\n",
    "- Hyperas,  kopt  or  Talos\n",
    "- Scikit-Optimize and others"
   ]
  },
  {
   "cell_type": "markdown",
   "metadata": {
    "collapsed": true
   },
   "source": [
    "# Number of Hidden layers\n",
    "\n",
    "What the number of hidden layers should we use ? it's like a magic box even of that one-hidden layer make a good prediction at some problems, but with the complexity of the dataset like the recognized pictures the deep network can do magic things, because low-level layers capture the edges (lines like horizontal and verticals), second-level which the medium layers trying tom combine these edges to make shapes which will be used in the last layer to identify the faces with the output layers.\n",
    "\n",
    "We can use the weights of low-level layers as pre-trained parameters for some problem and map to the similar problem we have (transfer learning), as low-level in similar problem will capture the similar things, and by training, it will change according to the new problem we transfer to.\n",
    "\n",
    "# Number of neurons per hidden layers\n",
    "\n",
    "The neurons per input and output layers are defined by the problem itself like in an image the input layer neurons will be the width * height of that image, and the output depends on the case if you classify or detect objects and so on.\n",
    "\n",
    "But this is different when we dealing with hidden layers, the number of neurons plays the role that can get the features representation and in the high-level layer, the neurons be responsible for combine some of the features together in one neuron-like part of the face and other neurons for another part and in the neurons of next layers, these parts combined together and so on, also if we have just 2 neurons in first hidden layers with 3-d problems it will be lost some of the information so it important, but for most cases we use a big number of layers and neurons for each layer become small as we go deeper, and in the problem of overfitting we can doing dropout, regularization or even change the architecture."
   ]
  },
  {
   "cell_type": "markdown",
   "metadata": {
    "collapsed": true
   },
   "source": [
    "# Try to solve chapter Exercise"
   ]
  },
  {
   "cell_type": "code",
   "execution_count": null,
   "metadata": {},
   "outputs": [],
   "source": []
  }
 ],
 "metadata": {
  "kernelspec": {
   "display_name": "Python 3",
   "language": "python",
   "name": "python3"
  },
  "language_info": {
   "codemirror_mode": {
    "name": "ipython",
    "version": 3
   },
   "file_extension": ".py",
   "mimetype": "text/x-python",
   "name": "python",
   "nbconvert_exporter": "python",
   "pygments_lexer": "ipython3",
   "version": "3.6.9"
  }
 },
 "nbformat": 4,
 "nbformat_minor": 2
}
