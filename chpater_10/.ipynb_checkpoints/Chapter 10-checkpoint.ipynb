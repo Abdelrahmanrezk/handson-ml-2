{
 "cells": [
  {
   "cell_type": "code",
   "execution_count": 1,
   "metadata": {},
   "outputs": [
    {
     "name": "stdout",
     "output_type": "stream",
     "text": [
      "2.6.0\n",
      "2.6.0\n"
     ]
    }
   ],
   "source": [
    "import os\n",
    "import time\n",
    "import tensorflow as tf\n",
    "from tensorflow import keras\n",
    "from keras.utils.vis_utils import plot_model\n",
    "import matplotlib.pyplot as plt\n",
    "from sklearn.datasets import fetch_california_housing\n",
    "from sklearn.model_selection import train_test_split\n",
    "from sklearn.preprocessing import StandardScaler\n",
    "from scipy.stats import reciprocal\n",
    "from sklearn.model_selection import RandomizedSearchCV\n",
    "import numpy as np\n",
    "import pandas as pd\n",
    "%matplotlib inline\n",
    "%load_ext tensorboard\n",
    "print(tf.__version__)\n",
    "print(keras.__version__)\n",
    "import warnings\n",
    "warnings.filterwarnings('ignore')\n"
   ]
  },
  {
   "cell_type": "code",
   "execution_count": 2,
   "metadata": {},
   "outputs": [],
   "source": [
    "fashion_dataset = keras.datasets.fashion_mnist\n",
    "(X_train_full, y_train_full), (X_test, y_test) = fashion_dataset.load_data()"
   ]
  },
  {
   "cell_type": "code",
   "execution_count": 3,
   "metadata": {},
   "outputs": [
    {
     "name": "stdout",
     "output_type": "stream",
     "text": [
      "Train Data: \n",
      "(60000, 28, 28)\n",
      "(60000,)\n",
      "Testing Data: \n",
      "(10000, 28, 28)\n",
      "(10000,)\n",
      "==================================================\n",
      "[[  0   0   0   0   0   0   0   0   0   0   0   0   0   0   0   0   0   0\n",
      "    0   0   0   0   0   0   0   0   0   0]\n",
      " [  0   0   0   0   0   0   0   0   0   0   0   0   0   0   0   0   0   0\n",
      "    0   0   0   0   0   0   0   0   0   0]\n",
      " [  0   0   0   0   0   0   0   0   0   0   0   0   0   0   0   0   0   0\n",
      "    0   0   0   0   0   0   0   0   0   0]\n",
      " [  0   0   0   0   0   0   0   0   0   0   0   0   1   0   0  13  73   0\n",
      "    0   1   4   0   0   0   0   1   1   0]\n",
      " [  0   0   0   0   0   0   0   0   0   0   0   0   3   0  36 136 127  62\n",
      "   54   0   0   0   1   3   4   0   0   3]\n",
      " [  0   0   0   0   0   0   0   0   0   0   0   0   6   0 102 204 176 134\n",
      "  144 123  23   0   0   0   0  12  10   0]\n",
      " [  0   0   0   0   0   0   0   0   0   0   0   0   0   0 155 236 207 178\n",
      "  107 156 161 109  64  23  77 130  72  15]\n",
      " [  0   0   0   0   0   0   0   0   0   0   0   1   0  69 207 223 218 216\n",
      "  216 163 127 121 122 146 141  88 172  66]\n",
      " [  0   0   0   0   0   0   0   0   0   1   1   1   0 200 232 232 233 229\n",
      "  223 223 215 213 164 127 123 196 229   0]\n",
      " [  0   0   0   0   0   0   0   0   0   0   0   0   0 183 225 216 223 228\n",
      "  235 227 224 222 224 221 223 245 173   0]\n",
      " [  0   0   0   0   0   0   0   0   0   0   0   0   0 193 228 218 213 198\n",
      "  180 212 210 211 213 223 220 243 202   0]\n",
      " [  0   0   0   0   0   0   0   0   0   1   3   0  12 219 220 212 218 192\n",
      "  169 227 208 218 224 212 226 197 209  52]\n",
      " [  0   0   0   0   0   0   0   0   0   0   6   0  99 244 222 220 218 203\n",
      "  198 221 215 213 222 220 245 119 167  56]\n",
      " [  0   0   0   0   0   0   0   0   0   4   0   0  55 236 228 230 228 240\n",
      "  232 213 218 223 234 217 217 209  92   0]\n",
      " [  0   0   1   4   6   7   2   0   0   0   0   0 237 226 217 223 222 219\n",
      "  222 221 216 223 229 215 218 255  77   0]\n",
      " [  0   3   0   0   0   0   0   0   0  62 145 204 228 207 213 221 218 208\n",
      "  211 218 224 223 219 215 224 244 159   0]\n",
      " [  0   0   0   0  18  44  82 107 189 228 220 222 217 226 200 205 211 230\n",
      "  224 234 176 188 250 248 233 238 215   0]\n",
      " [  0  57 187 208 224 221 224 208 204 214 208 209 200 159 245 193 206 223\n",
      "  255 255 221 234 221 211 220 232 246   0]\n",
      " [  3 202 228 224 221 211 211 214 205 205 205 220 240  80 150 255 229 221\n",
      "  188 154 191 210 204 209 222 228 225   0]\n",
      " [ 98 233 198 210 222 229 229 234 249 220 194 215 217 241  65  73 106 117\n",
      "  168 219 221 215 217 223 223 224 229  29]\n",
      " [ 75 204 212 204 193 205 211 225 216 185 197 206 198 213 240 195 227 245\n",
      "  239 223 218 212 209 222 220 221 230  67]\n",
      " [ 48 203 183 194 213 197 185 190 194 192 202 214 219 221 220 236 225 216\n",
      "  199 206 186 181 177 172 181 205 206 115]\n",
      " [  0 122 219 193 179 171 183 196 204 210 213 207 211 210 200 196 194 191\n",
      "  195 191 198 192 176 156 167 177 210  92]\n",
      " [  0   0  74 189 212 191 175 172 175 181 185 188 189 188 193 198 204 209\n",
      "  210 210 211 188 188 194 192 216 170   0]\n",
      " [  2   0   0   0  66 200 222 237 239 242 246 243 244 221 220 193 191 179\n",
      "  182 182 181 176 166 168  99  58   0   0]\n",
      " [  0   0   0   0   0   0   0  40  61  44  72  41  35   0   0   0   0   0\n",
      "    0   0   0   0   0   0   0   0   0   0]\n",
      " [  0   0   0   0   0   0   0   0   0   0   0   0   0   0   0   0   0   0\n",
      "    0   0   0   0   0   0   0   0   0   0]\n",
      " [  0   0   0   0   0   0   0   0   0   0   0   0   0   0   0   0   0   0\n",
      "    0   0   0   0   0   0   0   0   0   0]]\n"
     ]
    }
   ],
   "source": [
    "print(\"Train Data: \")\n",
    "print(X_train_full.shape)\n",
    "print(y_train_full.shape)\n",
    "print(\"Testing Data: \")\n",
    "print(X_test.shape)\n",
    "print(y_test.shape)\n",
    "\n",
    "print(\"=\" * 50)\n",
    "print(X_train_full[0])"
   ]
  },
  {
   "cell_type": "markdown",
   "metadata": {},
   "source": [
    "# From Loading Data\n",
    "\n",
    "- Train data: 60000 instances which each instance represent image\n",
    "- Test data: 10000\n",
    "- (60000,) & (10000,) are rank-1 array labels (Target Variable).\n",
    "- No Dev-set so we need to create one for validation\n",
    "- 28 * 28 gray scale image so need to vectorize to feed to the model\n",
    "- Image intensities have range from 0-255 as integer datatype so need scaling to 0-1"
   ]
  },
  {
   "cell_type": "code",
   "execution_count": 4,
   "metadata": {},
   "outputs": [],
   "source": [
    "X_train, X_valid = X_train_full[:55000] / 255.0, X_train_full[55000:] / 255.0\n",
    "y_train, y_valid = y_train_full[:55000], y_train_full[55000:]"
   ]
  },
  {
   "cell_type": "markdown",
   "metadata": {},
   "source": [
    "## Display some images"
   ]
  },
  {
   "cell_type": "code",
   "execution_count": 5,
   "metadata": {},
   "outputs": [
    {
     "data": {
      "image/png": "[encoded data removed]",
      "text/plain": [
       "<Figure size 432x288 with 1 Axes>"
      ]
     },
     "metadata": {
      "needs_background": "light"
     },
     "output_type": "display_data"
    }
   ],
   "source": [
    "some_digit = X_train_full[0]\n",
    "plt.imshow(some_digit, cmap='binary') # Binary to be in Gray scale\n",
    "plt.axis('off')\n",
    "plt.show()"
   ]
  },
  {
   "cell_type": "code",
   "execution_count": 6,
   "metadata": {},
   "outputs": [],
   "source": [
    "# List class names to know which class we dealing with\n",
    "class_names = [\"T-shirt/top\", \"Trouser\", \"Pullover\", \"Dress\", \"Coat\", \n",
    "               \"Sandal\", \"Shirt\", \"Sneaker\", \"Bag\", \"Ankle boot\"]"
   ]
  },
  {
   "cell_type": "code",
   "execution_count": 7,
   "metadata": {},
   "outputs": [
    {
     "data": {
      "image/png": "[encoded data removed]",
      "text/plain": [
       "<Figure size 864x345.6 with 40 Axes>"
      ]
     },
     "metadata": {
      "needs_background": "light"
     },
     "output_type": "display_data"
    }
   ],
   "source": [
    "n_rows = 4\n",
    "n_cols = 10\n",
    "plt.figure(figsize=(n_cols * 1.2, n_rows * 1.2))\n",
    "for row in range(n_rows):\n",
    "    for col in range(n_cols):\n",
    "        index = n_cols * row + col\n",
    "        plt.subplot(n_rows, n_cols, index + 1)\n",
    "        plt.imshow(X_train[index], cmap=\"binary\", interpolation=\"nearest\")\n",
    "        plt.axis('off')\n",
    "        plt.title(class_names[y_train[index]], fontsize=12)\n",
    "plt.subplots_adjust(wspace=0.2, hspace=0.5)\n",
    "plt.show()\n"
   ]
  },
  {
   "cell_type": "markdown",
   "metadata": {},
   "source": [
    "##  Creating The model Using the Sequential Keras API"
   ]
  },
  {
   "cell_type": "code",
   "execution_count": 8,
   "metadata": {},
   "outputs": [],
   "source": [
    "model = keras.models.Sequential()\n",
    "model.add(keras.layers.Flatten(input_shape=[28, 28]))\n",
    "model.add(keras.layers.Dense(300, activation='relu'))\n",
    "model.add(keras.layers.Dense(100, activation='relu'))\n",
    "model.add(keras.layers.Dense(10, activation='softmax'))\n",
    "\n",
    "## Another Way\n",
    "\n",
    "# model = keras.models.Sequential([\n",
    "#     keras.layers.Flatten(input_shape=[28, 28]),\n",
    "#     keras.layers.Dense(300, activation='relu'),\n",
    "#     keras.layers.Dense(100, activation='relu'),\n",
    "#     keras.layers.Dense(10, activation='softmax')\n",
    "# ])"
   ]
  },
  {
   "cell_type": "markdown",
   "metadata": {},
   "source": [
    "## Model Information\n",
    "\n",
    "- keras.models.Sequential()\n",
    "    - Create a sequential model (It stack layer by layer as sequential)\n",
    "    \n",
    "- keras.layers.Flatten(input_shape=[28, 28])\n",
    "\n",
    "Add the input layer, Flatten means reshape the input image, and there is no batch size have been introduced so when we print the summary we will see for the (None, 784), none means that any number of instance(batch-size) can be feed to the input layer.\n",
    "\n",
    "- keras.layers.Dense(300, activation='relu')\n",
    "\n",
    "Create first hidden layer with 300 neurons and set the activation function with **Relu** function (linear function), **Dense** means that fully connected layer, and this hidden layer manage the matrix weights and the bias vectors.\n",
    "\n",
    "- keras.layers.Dense(100, activation='relu') same but with 100 neurons\n",
    "\n",
    "- keras.layers.Dense(10, activation='softmax')\n",
    "\n",
    "As we dealing with 10-classes (multi classification task) do for the output layer we set the activation function to softmax which handle this by probability distribution for 10-class up to 1.\n"
   ]
  },
  {
   "cell_type": "code",
   "execution_count": 9,
   "metadata": {},
   "outputs": [
    {
     "name": "stdout",
     "output_type": "stream",
     "text": [
      "Model: \"sequential\"\n",
      "_________________________________________________________________\n",
      "Layer (type)                 Output Shape              Param #   \n",
      "=================================================================\n",
      "flatten (Flatten)            (None, 784)               0         \n",
      "_________________________________________________________________\n",
      "dense (Dense)                (None, 300)               235500    \n",
      "_________________________________________________________________\n",
      "dense_1 (Dense)              (None, 100)               30100     \n",
      "_________________________________________________________________\n",
      "dense_2 (Dense)              (None, 10)                1010      \n",
      "=================================================================\n",
      "Total params: 266,610\n",
      "Trainable params: 266,610\n",
      "Non-trainable params: 0\n",
      "_________________________________________________________________\n"
     ]
    }
   ],
   "source": [
    "model.summary()"
   ]
  },
  {
   "cell_type": "code",
   "execution_count": 10,
   "metadata": {},
   "outputs": [
    {
     "data": {
      "image/png": "[encoded data removed]",
      "text/plain": [
       "<IPython.core.display.Image object>"
      ]
     },
     "execution_count": 10,
     "metadata": {},
     "output_type": "execute_result"
    }
   ],
   "source": [
    "keras.utils.plot_model(model, \"my_fashion_mnist_model.png\", show_shapes=True)"
   ]
  },
  {
   "cell_type": "markdown",
   "metadata": {},
   "source": [
    "## Model summary\n",
    "\n",
    "Its layer has its own name as you can see Flatten, dense_1 and so on.\n",
    "\n",
    "The output shape of each layer is:\n",
    "\n",
    "- Input layer (None, 784) None means you can feed any number of instance(batch-size), 784 after flate the input\n",
    "- (None, 300), None will be the batch-size when you specify, 300 nurons\n",
    "- (None, 300) and (None, 100) as above\n",
    "\n",
    "The Param:\n",
    "\n",
    "**Input layer has no params associated with it, it just represent the features we have**\n",
    "\n",
    "We have just the weights and bais as our paramters so, the weighted matrix of first hidden layer and the bais vector is equal to:\n",
    "\n",
    "- Number of nuorns in its layer * number of neurons in previous layer and this means 300 * nuorns of input layer for wieghted matrix, so 300 * 784\n",
    "\n",
    "- Number of nuorns in its layer for bais vector, so 300 * 1\n",
    "- summ (300 * 784 + 300) = 235500 as you can see in summary of first hidden layer\n",
    "\n",
    "Just as above the next layer will be\n",
    "- (100 * 300 + 100)  = 30100\n",
    "- (10 * 100 + 10) = 1010\n",
    "- Total of params along the network is 235500 + 30100 + 1010 = 266610\n"
   ]
  },
  {
   "cell_type": "code",
   "execution_count": 11,
   "metadata": {},
   "outputs": [
    {
     "name": "stdout",
     "output_type": "stream",
     "text": [
      "[<keras.layers.core.Flatten object at 0x7fc0e4933b70>, <keras.layers.core.Dense object at 0x7fc0e3b8f940>, <keras.layers.core.Dense object at 0x7fc0e035b0f0>, <keras.layers.core.Dense object at 0x7fc0e035bfd0>]\n",
      "==================================================\n",
      "dense\n"
     ]
    }
   ],
   "source": [
    "# get model list of layers\n",
    "print(model.layers)\n",
    "hidden1 = model.layers[1] # 1 as first hidden layers because layer 0 for the input layer\n",
    "print(\"=\"*50)\n",
    "print(hidden1.name)"
   ]
  },
  {
   "cell_type": "code",
   "execution_count": 12,
   "metadata": {},
   "outputs": [
    {
     "name": "stdout",
     "output_type": "stream",
     "text": [
      "(784, 300)\n",
      "(300,)\n",
      "[0. 0. 0. 0. 0. 0. 0. 0. 0. 0. 0. 0. 0. 0. 0. 0. 0. 0. 0. 0. 0. 0. 0. 0.\n",
      " 0. 0. 0. 0. 0. 0. 0. 0. 0. 0. 0. 0. 0. 0. 0. 0. 0. 0. 0. 0. 0. 0. 0. 0.\n",
      " 0. 0. 0. 0. 0. 0. 0. 0. 0. 0. 0. 0. 0. 0. 0. 0. 0. 0. 0. 0. 0. 0. 0. 0.\n",
      " 0. 0. 0. 0. 0. 0. 0. 0. 0. 0. 0. 0. 0. 0. 0. 0. 0. 0. 0. 0. 0. 0. 0. 0.\n",
      " 0. 0. 0. 0. 0. 0. 0. 0. 0. 0. 0. 0. 0. 0. 0. 0. 0. 0. 0. 0. 0. 0. 0. 0.\n",
      " 0. 0. 0. 0. 0. 0. 0. 0. 0. 0. 0. 0. 0. 0. 0. 0. 0. 0. 0. 0. 0. 0. 0. 0.\n",
      " 0. 0. 0. 0. 0. 0. 0. 0. 0. 0. 0. 0. 0. 0. 0. 0. 0. 0. 0. 0. 0. 0. 0. 0.\n",
      " 0. 0. 0. 0. 0. 0. 0. 0. 0. 0. 0. 0. 0. 0. 0. 0. 0. 0. 0. 0. 0. 0. 0. 0.\n",
      " 0. 0. 0. 0. 0. 0. 0. 0. 0. 0. 0. 0. 0. 0. 0. 0. 0. 0. 0. 0. 0. 0. 0. 0.\n",
      " 0. 0. 0. 0. 0. 0. 0. 0. 0. 0. 0. 0. 0. 0. 0. 0. 0. 0. 0. 0. 0. 0. 0. 0.\n",
      " 0. 0. 0. 0. 0. 0. 0. 0. 0. 0. 0. 0. 0. 0. 0. 0. 0. 0. 0. 0. 0. 0. 0. 0.\n",
      " 0. 0. 0. 0. 0. 0. 0. 0. 0. 0. 0. 0. 0. 0. 0. 0. 0. 0. 0. 0. 0. 0. 0. 0.\n",
      " 0. 0. 0. 0. 0. 0. 0. 0. 0. 0. 0. 0.]\n"
     ]
    },
    {
     "data": {
      "text/plain": [
       "array([[-0.00157624, -0.01880918, -0.03946187, ...,  0.01065082,\n",
       "         0.02888688, -0.0154088 ],\n",
       "       [ 0.02939735,  0.01240145,  0.01497708, ...,  0.04784074,\n",
       "         0.03950644, -0.06899963],\n",
       "       [-0.02806742,  0.05964431, -0.02809151, ...,  0.03423376,\n",
       "        -0.06033916,  0.06772123],\n",
       "       ...,\n",
       "       [ 0.06033757, -0.04829707, -0.01830589, ..., -0.07393597,\n",
       "         0.02724241,  0.0656853 ],\n",
       "       [ 0.05290543, -0.0185983 ,  0.03769524, ..., -0.00094137,\n",
       "        -0.005576  ,  0.03423324],\n",
       "       [-0.03900934,  0.00761493, -0.05849985, ...,  0.00433785,\n",
       "         0.02991929, -0.02581296]], dtype=float32)"
      ]
     },
     "execution_count": 12,
     "metadata": {},
     "output_type": "execute_result"
    }
   ],
   "source": [
    "# get the weights and the bias for this hidden layer\n",
    "weights1, bais1 = hidden1.get_weights()\n",
    "print(weights1.shape)\n",
    "print(bais1.shape)\n",
    "print(bais1)\n",
    "weights1"
   ]
  },
  {
   "cell_type": "markdown",
   "metadata": {},
   "source": [
    "## From weights\n",
    "\n",
    "As we can see bias initialized as vector of zeros while weights with random values to break the symmetry in learning."
   ]
  },
  {
   "cell_type": "markdown",
   "metadata": {
    "collapsed": true
   },
   "source": [
    "## Complile & Fit the model\n",
    "\n",
    "- loss\n",
    "\n",
    "**sparse_categorical_crossentropy** when you have one class per instance from some of classes as from 0-9, while **categorical_crossentropy** when you have a one-hot for each instance and this one_hot vector is all of 0 and 1 for index that represent the class which this instance belong to.\n",
    "\n",
    "- optimizer\n",
    "\n",
    "As we can see sgd have no hyper parameters so it used the default defined ones from keras like for learning rate it use .01, so if we need to use what we need we have to pass **keras.optimizers.SGD(learning_rate=.01)** and other parameters it used.\n",
    "\n",
    "- metrics\n",
    "Is an optional parameters as others except the loss and the optimizer, and it give you the accuracy during each epoch as in the **Bar** and if you apply a validation set, at the end of each epoch it will give you the accuracy as well as the loss on this dev set.\n",
    "\n",
    "Once we fit the model it give us the history during the journy of the model for each epochs from loss to accuracy as you apply other optional parameters in the compile it will give you history of these parameters.\n",
    "\n",
    "So we can see th"
   ]
  },
  {
   "cell_type": "code",
   "execution_count": 13,
   "metadata": {},
   "outputs": [],
   "source": [
    "model.compile(loss=\"sparse_categorical_crossentropy\",\n",
    "             optimizer=\"sgd\",\n",
    "             metrics=\"accuracy\")"
   ]
  },
  {
   "cell_type": "code",
   "execution_count": 14,
   "metadata": {},
   "outputs": [
    {
     "data": {
      "text/plain": [
       "array([9, 0, 0], dtype=uint8)"
      ]
     },
     "execution_count": 14,
     "metadata": {},
     "output_type": "execute_result"
    }
   ],
   "source": [
    "y_train[:3]"
   ]
  },
  {
   "cell_type": "code",
   "execution_count": 15,
   "metadata": {},
   "outputs": [
    {
     "name": "stdout",
     "output_type": "stream",
     "text": [
      "Epoch 1/30\n",
      "1719/1719 [==============================] - 4s 2ms/step - loss: 0.7003 - accuracy: 0.7701 - val_loss: 0.5069 - val_accuracy: 0.8252\n",
      "Epoch 2/30\n",
      "1719/1719 [==============================] - 4s 2ms/step - loss: 0.4827 - accuracy: 0.8326 - val_loss: 0.4454 - val_accuracy: 0.8464\n",
      "Epoch 3/30\n",
      "1719/1719 [==============================] - 4s 2ms/step - loss: 0.4364 - accuracy: 0.8486 - val_loss: 0.4438 - val_accuracy: 0.8358\n",
      "Epoch 4/30\n",
      "1719/1719 [==============================] - 4s 2ms/step - loss: 0.4095 - accuracy: 0.8571 - val_loss: 0.3972 - val_accuracy: 0.8648\n",
      "Epoch 5/30\n",
      "1719/1719 [==============================] - 4s 2ms/step - loss: 0.3901 - accuracy: 0.8628 - val_loss: 0.3901 - val_accuracy: 0.8666\n",
      "Epoch 6/30\n",
      "1719/1719 [==============================] - 4s 2ms/step - loss: 0.3742 - accuracy: 0.8677 - val_loss: 0.3646 - val_accuracy: 0.8706\n",
      "Epoch 7/30\n",
      "1719/1719 [==============================] - 4s 2ms/step - loss: 0.3605 - accuracy: 0.8732 - val_loss: 0.3934 - val_accuracy: 0.8558\n",
      "Epoch 8/30\n",
      "1719/1719 [==============================] - 4s 2ms/step - loss: 0.3492 - accuracy: 0.8775 - val_loss: 0.3684 - val_accuracy: 0.8718\n",
      "Epoch 9/30\n",
      "1719/1719 [==============================] - 4s 2ms/step - loss: 0.3388 - accuracy: 0.8781 - val_loss: 0.3571 - val_accuracy: 0.8726\n",
      "Epoch 10/30\n",
      "1719/1719 [==============================] - 4s 2ms/step - loss: 0.3284 - accuracy: 0.8837 - val_loss: 0.3430 - val_accuracy: 0.8742\n",
      "Epoch 11/30\n",
      "1719/1719 [==============================] - 4s 2ms/step - loss: 0.3197 - accuracy: 0.8863 - val_loss: 0.3465 - val_accuracy: 0.8762\n",
      "Epoch 12/30\n",
      "1719/1719 [==============================] - 5s 3ms/step - loss: 0.3131 - accuracy: 0.8883 - val_loss: 0.3352 - val_accuracy: 0.8790\n",
      "Epoch 13/30\n",
      "1719/1719 [==============================] - 5s 3ms/step - loss: 0.3050 - accuracy: 0.8906 - val_loss: 0.3621 - val_accuracy: 0.8740\n",
      "Epoch 14/30\n",
      "1719/1719 [==============================] - 4s 2ms/step - loss: 0.2970 - accuracy: 0.8941 - val_loss: 0.3345 - val_accuracy: 0.8810\n",
      "Epoch 15/30\n",
      "1719/1719 [==============================] - 4s 2ms/step - loss: 0.2914 - accuracy: 0.8961 - val_loss: 0.3364 - val_accuracy: 0.8796\n",
      "Epoch 16/30\n",
      "1719/1719 [==============================] - 4s 2ms/step - loss: 0.2846 - accuracy: 0.8982 - val_loss: 0.3379 - val_accuracy: 0.8774\n",
      "Epoch 17/30\n",
      "1719/1719 [==============================] - 4s 2ms/step - loss: 0.2784 - accuracy: 0.8997 - val_loss: 0.3253 - val_accuracy: 0.8810\n",
      "Epoch 18/30\n",
      "1719/1719 [==============================] - 5s 3ms/step - loss: 0.2732 - accuracy: 0.9025 - val_loss: 0.3328 - val_accuracy: 0.8814\n",
      "Epoch 19/30\n",
      "1719/1719 [==============================] - 5s 3ms/step - loss: 0.2678 - accuracy: 0.9038 - val_loss: 0.3279 - val_accuracy: 0.8814\n",
      "Epoch 20/30\n",
      "1719/1719 [==============================] - 5s 3ms/step - loss: 0.2629 - accuracy: 0.9053 - val_loss: 0.3229 - val_accuracy: 0.8826\n",
      "Epoch 21/30\n",
      "1719/1719 [==============================] - 4s 3ms/step - loss: 0.2573 - accuracy: 0.9081 - val_loss: 0.3216 - val_accuracy: 0.8850\n",
      "Epoch 22/30\n",
      "1719/1719 [==============================] - 5s 3ms/step - loss: 0.2542 - accuracy: 0.9087 - val_loss: 0.3201 - val_accuracy: 0.8860\n",
      "Epoch 23/30\n",
      "1719/1719 [==============================] - 5s 3ms/step - loss: 0.2489 - accuracy: 0.9115 - val_loss: 0.3298 - val_accuracy: 0.8820\n",
      "Epoch 24/30\n",
      "1719/1719 [==============================] - 4s 2ms/step - loss: 0.2436 - accuracy: 0.9127 - val_loss: 0.3178 - val_accuracy: 0.8874\n",
      "Epoch 25/30\n",
      "1719/1719 [==============================] - 4s 2ms/step - loss: 0.2400 - accuracy: 0.9137 - val_loss: 0.3270 - val_accuracy: 0.8850\n",
      "Epoch 26/30\n",
      "1719/1719 [==============================] - 5s 3ms/step - loss: 0.2364 - accuracy: 0.9151 - val_loss: 0.3163 - val_accuracy: 0.8828\n",
      "Epoch 27/30\n",
      "1719/1719 [==============================] - 6s 3ms/step - loss: 0.2322 - accuracy: 0.9171 - val_loss: 0.3229 - val_accuracy: 0.8856\n",
      "Epoch 28/30\n",
      "1719/1719 [==============================] - 4s 2ms/step - loss: 0.2288 - accuracy: 0.9183 - val_loss: 0.3190 - val_accuracy: 0.8890\n",
      "Epoch 29/30\n",
      "1719/1719 [==============================] - 5s 3ms/step - loss: 0.2246 - accuracy: 0.9200 - val_loss: 0.3286 - val_accuracy: 0.8846\n",
      "Epoch 30/30\n",
      "1719/1719 [==============================] - 4s 3ms/step - loss: 0.2202 - accuracy: 0.9211 - val_loss: 0.3269 - val_accuracy: 0.8856\n"
     ]
    }
   ],
   "source": [
    "history = model.fit(X_train, y_train, epochs=30, validation_data=(X_valid, y_valid))"
   ]
  },
  {
   "cell_type": "markdown",
   "metadata": {},
   "source": [
    "## SGD\n",
    "\n",
    "As we can see it pass not one instance at a time in the Bar it default is 32 as well as it wait to end of epoch to give you the loss and accuracy on validation set while it changes in the training\n",
    "\n",
    "## Important NOTE from the book\n",
    "\n",
    "\"\"If the training set was very skewed, with some classes being overrepresented and others  underrepresented,  it  would  be  useful  to  set  the  class_weight  argument  when calling  the  fit()  method,  giving  a  larger  weight  to  underrepresented  classes,  and  alower weight to overrepresented classes. These weights would be used by Keras when computing  the  loss.  If  you  need  per-instance  weights  instead,  you  can  set  the  sample_weight  argument  (it  supersedes  class_weight).  This  could  be  useful  for  example  if  some  instances  were  labeled  by  experts  while  others  were  labeled  using  acrowd sourcing platform: you might want to give more weight to the former. You canalso  provide  sample  weights  (but  not  class  weights)  for  the  validation  set  by  addingthem as a third item in the validation_data tuple\"\"\n",
    "\n"
   ]
  },
  {
   "cell_type": "code",
   "execution_count": 16,
   "metadata": {},
   "outputs": [
    {
     "name": "stdout",
     "output_type": "stream",
     "text": [
      "{'verbose': 1, 'epochs': 30, 'steps': 1719}\n",
      "[0, 1, 2, 3, 4, 5, 6, 7, 8, 9, 10, 11, 12, 13, 14, 15, 16, 17, 18, 19, 20, 21, 22, 23, 24, 25, 26, 27, 28, 29]\n"
     ]
    }
   ],
   "source": [
    "print(history.params)\n",
    "print(history.epoch)"
   ]
  },
  {
   "cell_type": "code",
   "execution_count": 17,
   "metadata": {},
   "outputs": [
    {
     "data": {
      "text/plain": [
       "(0.0, 1.0)"
      ]
     },
     "execution_count": 17,
     "metadata": {},
     "output_type": "execute_result"
    },
    {
     "data": {
      "image/png": "[encoded data removed]",
      "text/plain": [
       "<Figure size 576x360 with 1 Axes>"
      ]
     },
     "metadata": {
      "needs_background": "light"
     },
     "output_type": "display_data"
    }
   ],
   "source": [
    "pd.DataFrame(history.history).plot(figsize=(8,5))\n",
    "plt.grid(True)\n",
    "plt.gca().set_ylim(0, 1) # set the vertical range to [0-1]"
   ]
  },
  {
   "cell_type": "code",
   "execution_count": 18,
   "metadata": {},
   "outputs": [
    {
     "name": "stdout",
     "output_type": "stream",
     "text": [
      "1719/1719 [==============================] - 3s 2ms/step - loss: 0.2170 - accuracy: 0.9221\n"
     ]
    },
    {
     "data": {
      "text/plain": [
       "[0.21704427897930145, 0.922109067440033]"
      ]
     },
     "execution_count": 18,
     "metadata": {},
     "output_type": "execute_result"
    }
   ],
   "source": [
    "model.evaluate(X_train, y_train)"
   ]
  },
  {
   "cell_type": "code",
   "execution_count": 19,
   "metadata": {},
   "outputs": [
    {
     "name": "stdout",
     "output_type": "stream",
     "text": [
      "157/157 [==============================] - 0s 1ms/step - loss: 0.3269 - accuracy: 0.8856\n"
     ]
    },
    {
     "data": {
      "text/plain": [
       "[0.32692253589630127, 0.8855999708175659]"
      ]
     },
     "execution_count": 19,
     "metadata": {},
     "output_type": "execute_result"
    }
   ],
   "source": [
    "model.evaluate(X_valid, y_valid)"
   ]
  },
  {
   "cell_type": "code",
   "execution_count": 20,
   "metadata": {},
   "outputs": [
    {
     "data": {
      "text/plain": [
       "array([[0.0000000e+00, 0.0000000e+00, 0.0000000e+00, 0.0000000e+00,\n",
       "        0.0000000e+00, 0.0000000e+00, 0.0000000e+00, 0.0000000e+00,\n",
       "        0.0000000e+00, 1.0000000e+00],\n",
       "       [0.0000000e+00, 0.0000000e+00, 1.0000000e+00, 0.0000000e+00,\n",
       "        0.0000000e+00, 0.0000000e+00, 0.0000000e+00, 0.0000000e+00,\n",
       "        0.0000000e+00, 0.0000000e+00],\n",
       "       [0.0000000e+00, 1.0000000e+00, 0.0000000e+00, 0.0000000e+00,\n",
       "        0.0000000e+00, 0.0000000e+00, 0.0000000e+00, 0.0000000e+00,\n",
       "        0.0000000e+00, 0.0000000e+00],\n",
       "       [0.0000000e+00, 1.0000000e+00, 0.0000000e+00, 0.0000000e+00,\n",
       "        0.0000000e+00, 0.0000000e+00, 0.0000000e+00, 0.0000000e+00,\n",
       "        0.0000000e+00, 0.0000000e+00],\n",
       "       [3.4587595e-29, 0.0000000e+00, 0.0000000e+00, 0.0000000e+00,\n",
       "        0.0000000e+00, 0.0000000e+00, 1.0000000e+00, 0.0000000e+00,\n",
       "        0.0000000e+00, 0.0000000e+00],\n",
       "       [0.0000000e+00, 1.0000000e+00, 0.0000000e+00, 0.0000000e+00,\n",
       "        0.0000000e+00, 0.0000000e+00, 0.0000000e+00, 0.0000000e+00,\n",
       "        0.0000000e+00, 0.0000000e+00],\n",
       "       [0.0000000e+00, 0.0000000e+00, 0.0000000e+00, 0.0000000e+00,\n",
       "        1.0000000e+00, 0.0000000e+00, 0.0000000e+00, 0.0000000e+00,\n",
       "        0.0000000e+00, 0.0000000e+00],\n",
       "       [0.0000000e+00, 0.0000000e+00, 0.0000000e+00, 0.0000000e+00,\n",
       "        0.0000000e+00, 0.0000000e+00, 1.0000000e+00, 0.0000000e+00,\n",
       "        0.0000000e+00, 0.0000000e+00],\n",
       "       [0.0000000e+00, 0.0000000e+00, 0.0000000e+00, 0.0000000e+00,\n",
       "        0.0000000e+00, 1.0000000e+00, 0.0000000e+00, 0.0000000e+00,\n",
       "        0.0000000e+00, 0.0000000e+00],\n",
       "       [0.0000000e+00, 0.0000000e+00, 0.0000000e+00, 0.0000000e+00,\n",
       "        0.0000000e+00, 0.0000000e+00, 0.0000000e+00, 1.0000000e+00,\n",
       "        0.0000000e+00, 0.0000000e+00]], dtype=float32)"
      ]
     },
     "execution_count": 20,
     "metadata": {},
     "output_type": "execute_result"
    }
   ],
   "source": [
    "# one probabilty per class\n",
    "x_new = X_test[:10]\n",
    "model.predict(x_new)"
   ]
  },
  {
   "cell_type": "code",
   "execution_count": 21,
   "metadata": {},
   "outputs": [
    {
     "name": "stdout",
     "output_type": "stream",
     "text": [
      "[9 2 1 1 6 1 4 6 5 7]\n",
      "['Ankle boot' 'Pullover' 'Trouser' 'Trouser' 'Shirt' 'Trouser' 'Coat'\n",
      " 'Shirt' 'Sandal' 'Sneaker']\n"
     ]
    }
   ],
   "source": [
    "# predict class dierctly\n",
    "y_pred = model.predict(x_new)\n",
    "y_pred=np.argmax(y_pred,axis=1)\n",
    "\n",
    "print(y_pred)\n",
    "print(np.array(class_names)[y_pred])"
   ]
  },
  {
   "cell_type": "code",
   "execution_count": 22,
   "metadata": {},
   "outputs": [
    {
     "data": {
      "image/png": "[encoded data removed]",
      "text/plain": [
       "<Figure size 518.4x172.8 with 10 Axes>"
      ]
     },
     "metadata": {
      "needs_background": "light"
     },
     "output_type": "display_data"
    }
   ],
   "source": [
    "plt.figure(figsize=(7.2, 2.4))\n",
    "for index, image in enumerate(x_new):\n",
    "    plt.subplot(2, 5, index + 1)\n",
    "    plt.imshow(image, cmap=\"binary\", interpolation=\"nearest\")\n",
    "    plt.axis('off')\n",
    "    plt.title(class_names[y_test[index]], fontsize=12)\n",
    "plt.subplots_adjust(wspace=0.2, hspace=0.5)\n",
    "plt.show()"
   ]
  },
  {
   "cell_type": "markdown",
   "metadata": {},
   "source": [
    "# Regression MLP\n",
    "\n",
    "Now let going on another problem but regression problem to see how Keras APIs work also with regression problems."
   ]
  },
  {
   "cell_type": "code",
   "execution_count": 23,
   "metadata": {},
   "outputs": [],
   "source": [
    "housing = fetch_california_housing()\n",
    "X_train_full, X_test, y_train_full, y_test = train_test_split(housing.data, housing.target)\n",
    "X_train, X_valid, y_train, y_valid = train_test_split(X_train_full, y_train_full)"
   ]
  },
  {
   "cell_type": "code",
   "execution_count": 24,
   "metadata": {},
   "outputs": [],
   "source": [
    "scaler = StandardScaler()\n",
    "X_train = scaler.fit_transform(X_train)\n",
    "X_valid = scaler.transform(X_valid)\n",
    "X_test = scaler.transform(X_test)"
   ]
  },
  {
   "cell_type": "code",
   "execution_count": 25,
   "metadata": {},
   "outputs": [
    {
     "data": {
      "text/plain": [
       "(11610, 8)"
      ]
     },
     "execution_count": 25,
     "metadata": {},
     "output_type": "execute_result"
    }
   ],
   "source": [
    "X_train.shape"
   ]
  },
  {
   "cell_type": "code",
   "execution_count": 26,
   "metadata": {},
   "outputs": [
    {
     "name": "stdout",
     "output_type": "stream",
     "text": [
      "Epoch 1/20\n",
      "363/363 [==============================] - 1s 1ms/step - loss: 0.7698 - val_loss: 0.5478\n",
      "Epoch 2/20\n",
      "363/363 [==============================] - 0s 1ms/step - loss: 0.5802 - val_loss: 0.4702\n",
      "Epoch 3/20\n",
      "363/363 [==============================] - 0s 1ms/step - loss: 0.4680 - val_loss: 0.4393\n",
      "Epoch 4/20\n",
      "363/363 [==============================] - 0s 1ms/step - loss: 0.4499 - val_loss: 0.4437\n",
      "Epoch 5/20\n",
      "363/363 [==============================] - 0s 1ms/step - loss: 0.4320 - val_loss: 0.4111\n",
      "Epoch 6/20\n",
      "363/363 [==============================] - 0s 1ms/step - loss: 0.4142 - val_loss: 0.4044\n",
      "Epoch 7/20\n",
      "363/363 [==============================] - 0s 1ms/step - loss: 0.4080 - val_loss: 0.3916\n",
      "Epoch 8/20\n",
      "363/363 [==============================] - 0s 1ms/step - loss: 0.4057 - val_loss: 0.3887\n",
      "Epoch 9/20\n",
      "363/363 [==============================] - 0s 1ms/step - loss: 0.3922 - val_loss: 0.3837\n",
      "Epoch 10/20\n",
      "363/363 [==============================] - 0s 1ms/step - loss: 0.3846 - val_loss: 0.3767\n",
      "Epoch 11/20\n",
      "363/363 [==============================] - 0s 1ms/step - loss: 0.3833 - val_loss: 0.3716\n",
      "Epoch 12/20\n",
      "363/363 [==============================] - 0s 1ms/step - loss: 0.3771 - val_loss: 0.3689\n",
      "Epoch 13/20\n",
      "363/363 [==============================] - 0s 1ms/step - loss: 0.3785 - val_loss: 0.3798\n",
      "Epoch 14/20\n",
      "363/363 [==============================] - 0s 1ms/step - loss: 0.3722 - val_loss: 0.3661\n",
      "Epoch 15/20\n",
      "363/363 [==============================] - 0s 1ms/step - loss: 0.3696 - val_loss: 0.3658\n",
      "Epoch 16/20\n",
      "363/363 [==============================] - 0s 1ms/step - loss: 0.3655 - val_loss: 0.3608\n",
      "Epoch 17/20\n",
      "363/363 [==============================] - 0s 1ms/step - loss: 0.3634 - val_loss: 0.3599\n",
      "Epoch 18/20\n",
      "363/363 [==============================] - 0s 1ms/step - loss: 0.3615 - val_loss: 0.3607\n",
      "Epoch 19/20\n",
      "363/363 [==============================] - 0s 1ms/step - loss: 0.3566 - val_loss: 0.3651\n",
      "Epoch 20/20\n",
      "363/363 [==============================] - 0s 1ms/step - loss: 0.3555 - val_loss: 0.3580\n",
      "162/162 [==============================] - 0s 698us/step - loss: 0.3534\n"
     ]
    },
    {
     "data": {
      "text/plain": [
       "array([[3.8795772],\n",
       "       [1.3428168],\n",
       "       [1.9444906]], dtype=float32)"
      ]
     },
     "execution_count": 26,
     "metadata": {},
     "output_type": "execute_result"
    }
   ],
   "source": [
    "model = keras.models.Sequential([\n",
    "    keras.layers.Dense(30, activation='relu', input_shape=X_train.shape[1:]),\n",
    "    keras.layers.Dense(1)\n",
    "])\n",
    "\n",
    "model.compile(loss='mean_squared_error', optimizer='sgd')\n",
    "history = model.fit(X_train, y_train, epochs=20, validation_data=(X_valid, y_valid))\n",
    "mse_test = model.evaluate(X_test, y_test)\n",
    "X_new = X_test[:3]\n",
    "model.predict(X_new)"
   ]
  },
  {
   "cell_type": "code",
   "execution_count": 27,
   "metadata": {},
   "outputs": [
    {
     "data": {
      "text/plain": [
       "0.3533698618412018"
      ]
     },
     "execution_count": 27,
     "metadata": {},
     "output_type": "execute_result"
    }
   ],
   "source": [
    "mse_test"
   ]
  },
  {
   "cell_type": "code",
   "execution_count": 28,
   "metadata": {},
   "outputs": [
    {
     "data": {
      "image/png": "[encoded data removed]",
      "text/plain": [
       "<Figure size 432x288 with 1 Axes>"
      ]
     },
     "metadata": {
      "needs_background": "light"
     },
     "output_type": "display_data"
    }
   ],
   "source": [
    "plt.plot(pd.DataFrame(history.history))\n",
    "plt.grid(True)\n",
    "plt.gca().set_ylim(0, 1)\n",
    "plt.show()"
   ]
  },
  {
   "cell_type": "markdown",
   "metadata": {},
   "source": [
    "# Building Complex Models Using the Functioal APIs\n",
    "\n",
    "As you can see, the Sequential API is quite easy to use. However, although sequential models are extremely common, it is sometimes useful to build neural networks with more complex topologies, or with multiple inputs or outputs. For this purpose, Kerasoffers the Functional API.\n",
    "\n",
    "This architecture using all or part from the features as a **wide** which path directly to the output layer, and at the same time part or all the features during the **deep** path, it helps the model to learn from deep patterns as well as from directly the input features because it sometimes these features distorted by this sequence if transformation during the deep path.\n",
    "\n",
    "<img src=\"images/ch10_1.png\" width=\"300\" height=\"300\">"
   ]
  },
  {
   "cell_type": "markdown",
   "metadata": {},
   "source": [
    "First,  we  need  to  create  an  Input  object.  This  is  needed  because  we  may  have multiple inputs, as we will see later.\n",
    "\n",
    "Notice that we call it like a function, passing it the input. This is why this is called the Functional API. Note that we are just telling Keras how it should connect the layers together, no actual data is being pro‐cessed yet.\n",
    "\n",
    "Next, path the hidden1 to hidden2 as well.\n",
    "\n",
    "Next, we create a Concatenate() to  concatenate  the  input  and  the  output  of  the  second  hidden  layer.\n",
    "\n",
    "Next, the path the result from the concatenation of input(simple rules), and deeply hidden path (deep pattern) to the output layer.\n",
    "\n",
    "Next, build the keras model from these wide and deep representation, which specifying inputs and outputs to use."
   ]
  },
  {
   "cell_type": "code",
   "execution_count": 29,
   "metadata": {},
   "outputs": [
    {
     "data": {
      "text/plain": [
       "(11610, 8)"
      ]
     },
     "execution_count": 29,
     "metadata": {},
     "output_type": "execute_result"
    }
   ],
   "source": [
    "X_train.shape"
   ]
  },
  {
   "cell_type": "code",
   "execution_count": 30,
   "metadata": {},
   "outputs": [
    {
     "name": "stdout",
     "output_type": "stream",
     "text": [
      "Model: \"model\"\n",
      "__________________________________________________________________________________________________\n",
      "Layer (type)                    Output Shape         Param #     Connected to                     \n",
      "==================================================================================================\n",
      "input_1 (InputLayer)            [(None, 8)]          0                                            \n",
      "__________________________________________________________________________________________________\n",
      "dense_5 (Dense)                 (None, 30)           270         input_1[0][0]                    \n",
      "__________________________________________________________________________________________________\n",
      "dense_6 (Dense)                 (None, 30)           930         dense_5[0][0]                    \n",
      "__________________________________________________________________________________________________\n",
      "concatenate (Concatenate)       (None, 38)           0           input_1[0][0]                    \n",
      "                                                                 dense_6[0][0]                    \n",
      "__________________________________________________________________________________________________\n",
      "dense_7 (Dense)                 (None, 1)            39          concatenate[0][0]                \n",
      "==================================================================================================\n",
      "Total params: 1,239\n",
      "Trainable params: 1,239\n",
      "Non-trainable params: 0\n",
      "__________________________________________________________________________________________________\n"
     ]
    }
   ],
   "source": [
    "input_  = keras.layers.Input(shape=X_train.shape[1])\n",
    "hidden1 = keras.layers.Dense(30, activation='relu')(input_)\n",
    "hidden2 = keras.layers.Dense(30, activation='relu')(hidden1)\n",
    "concat  = keras.layers.concatenate([input_, hidden2])\n",
    "output  = keras.layers.Dense(1)(concat)\n",
    "model   = keras.Model(inputs=[input_], outputs=[output]) \n",
    "model.summary()"
   ]
  },
  {
   "cell_type": "code",
   "execution_count": 31,
   "metadata": {},
   "outputs": [
    {
     "name": "stdout",
     "output_type": "stream",
     "text": [
      "Epoch 1/20\n",
      "363/363 [==============================] - 1s 1ms/step - loss: 0.8273 - val_loss: 0.5033\n",
      "Epoch 2/20\n",
      "363/363 [==============================] - 0s 1ms/step - loss: 0.9531 - val_loss: 0.4654\n",
      "Epoch 3/20\n",
      "363/363 [==============================] - 0s 1ms/step - loss: 0.5478 - val_loss: 0.4346\n",
      "Epoch 4/20\n",
      "363/363 [==============================] - 0s 1ms/step - loss: 1.2692 - val_loss: 0.4399\n",
      "Epoch 5/20\n",
      "363/363 [==============================] - 0s 1ms/step - loss: 0.5009 - val_loss: 0.4147\n",
      "Epoch 6/20\n",
      "363/363 [==============================] - 0s 1ms/step - loss: 3.7943 - val_loss: 0.4794\n",
      "Epoch 7/20\n",
      "363/363 [==============================] - 0s 1ms/step - loss: 0.4942 - val_loss: 0.4406\n",
      "Epoch 8/20\n",
      "363/363 [==============================] - 0s 1ms/step - loss: 0.5655 - val_loss: 0.4042\n",
      "Epoch 9/20\n",
      "363/363 [==============================] - 0s 1ms/step - loss: 0.5551 - val_loss: 0.3935\n",
      "Epoch 10/20\n",
      "363/363 [==============================] - 0s 1ms/step - loss: 2.4728 - val_loss: 0.4008\n",
      "Epoch 11/20\n",
      "363/363 [==============================] - 0s 1ms/step - loss: 1.4095 - val_loss: 0.3788\n",
      "Epoch 12/20\n",
      "363/363 [==============================] - 0s 1ms/step - loss: 0.3877 - val_loss: 0.3633\n",
      "Epoch 13/20\n",
      "363/363 [==============================] - 0s 1ms/step - loss: 0.3730 - val_loss: 0.3718\n",
      "Epoch 14/20\n",
      "363/363 [==============================] - 0s 1ms/step - loss: 0.3722 - val_loss: 0.3512\n",
      "Epoch 15/20\n",
      "363/363 [==============================] - 0s 1ms/step - loss: 0.3530 - val_loss: 0.3469\n",
      "Epoch 16/20\n",
      "363/363 [==============================] - 0s 1ms/step - loss: 0.3493 - val_loss: 0.3414\n",
      "Epoch 17/20\n",
      "363/363 [==============================] - 0s 1ms/step - loss: 0.3446 - val_loss: 0.3374\n",
      "Epoch 18/20\n",
      "363/363 [==============================] - 0s 1ms/step - loss: 0.3480 - val_loss: 0.3332\n",
      "Epoch 19/20\n",
      "363/363 [==============================] - 0s 1ms/step - loss: 0.3573 - val_loss: 0.3322\n",
      "Epoch 20/20\n",
      "363/363 [==============================] - 0s 1ms/step - loss: 0.3373 - val_loss: 0.3312\n",
      "162/162 [==============================] - 0s 689us/step - loss: 0.3454\n"
     ]
    },
    {
     "data": {
      "text/plain": [
       "array([[3.9158752],\n",
       "       [1.3244326],\n",
       "       [1.9782894]], dtype=float32)"
      ]
     },
     "execution_count": 31,
     "metadata": {},
     "output_type": "execute_result"
    }
   ],
   "source": [
    "model.compile(loss='mean_squared_error', optimizer='sgd')\n",
    "history = model.fit(X_train, y_train, epochs=20, validation_data=(X_valid, y_valid))\n",
    "mse_test = model.evaluate(X_test, y_test)\n",
    "X_new = X_test[:3]\n",
    "model.predict(X_new)"
   ]
  },
  {
   "cell_type": "code",
   "execution_count": 32,
   "metadata": {},
   "outputs": [
    {
     "data": {
      "image/png": "[encoded data removed]",
      "text/plain": [
       "<Figure size 432x288 with 1 Axes>"
      ]
     },
     "metadata": {
      "needs_background": "light"
     },
     "output_type": "display_data"
    }
   ],
   "source": [
    "plt.plot(pd.DataFrame(history.history))\n",
    "plt.grid(True)\n",
    "plt.gca().set_ylim(0, 1)\n",
    "plt.show()"
   ]
  },
  {
   "cell_type": "markdown",
   "metadata": {},
   "source": [
    "# multiple  inputs\n",
    "But  what  if  you  want  to  send  a  subset  of  the  features  through  the  wide  path,  and  a different  subset  (possibly  overlapping)  through  the  deep  path In this  case,  one  solution  is  to  use  **multiple  inputs.**  For  example,  suppose  we  want  tosend  5  features  through  the  deep  path  (features  0  to  4),  and  6  features  through  the wide path (features 2 to 7).\n",
    "\n",
    "<img src=\"images/ch10_2.png\" width=\"300\" height=\"300\">"
   ]
  },
  {
   "cell_type": "code",
   "execution_count": 33,
   "metadata": {},
   "outputs": [],
   "source": [
    "input_A = keras.layers.Input(shape=[5], name=\"wide_input\")\n",
    "input_B = keras.layers.Input(shape=[6], name=\"deep_input\") \n",
    "hidden1 = keras.layers.Dense(30, activation=\"relu\")(input_B)\n",
    "hidden2 = keras.layers.Dense(30, activation=\"relu\")(hidden1)\n",
    "concat = keras.layers.concatenate([input_A, hidden2])\n",
    "output = keras.layers.Dense(1, name='output')(concat)\n",
    "model = keras.Model(inputs=[input_A, input_B], outputs=[output])"
   ]
  },
  {
   "cell_type": "code",
   "execution_count": 34,
   "metadata": {},
   "outputs": [
    {
     "data": {
      "image/png": "[encoded data removed]",
      "text/plain": [
       "<IPython.core.display.Image object>"
      ]
     },
     "execution_count": 34,
     "metadata": {},
     "output_type": "execute_result"
    }
   ],
   "source": [
    "keras.utils.plot_model(model, \"my_fashion_mnist_model2.png\", show_shapes=True)"
   ]
  },
  {
   "cell_type": "markdown",
   "metadata": {},
   "source": [
    "Note  that  we  specified  inputs=[input_A,  input_B], when creating the model. Now we can compile the model as usual, but when we call the  fit()  method,  instead  of  passing  a  single  input  matrix  X_train,  we  must  pass  a pair  of  matrices  (X_train_A,  X_train_B):  one  per  input.  The  same  is  true  for X_valid, and also for X_test and X_new when you call evaluate() or predict():"
   ]
  },
  {
   "cell_type": "code",
   "execution_count": 35,
   "metadata": {},
   "outputs": [
    {
     "name": "stdout",
     "output_type": "stream",
     "text": [
      "Epoch 1/10\n",
      "363/363 [==============================] - 1s 2ms/step - loss: 0.7919 - val_loss: 0.5109\n",
      "Epoch 2/10\n",
      "363/363 [==============================] - 0s 1ms/step - loss: 0.5256 - val_loss: 0.4379\n",
      "Epoch 3/10\n",
      "363/363 [==============================] - 0s 1ms/step - loss: 0.4500 - val_loss: 0.4148\n",
      "Epoch 4/10\n",
      "363/363 [==============================] - 0s 1ms/step - loss: 0.4552 - val_loss: 0.4073\n",
      "Epoch 5/10\n",
      "363/363 [==============================] - 0s 1ms/step - loss: 0.4127 - val_loss: 0.3976\n",
      "Epoch 6/10\n",
      "363/363 [==============================] - 0s 1ms/step - loss: 0.4068 - val_loss: 0.5263\n",
      "Epoch 7/10\n",
      "363/363 [==============================] - 1s 1ms/step - loss: 0.4222 - val_loss: 0.3829\n",
      "Epoch 8/10\n",
      "363/363 [==============================] - 0s 1ms/step - loss: 0.4084 - val_loss: 0.3909\n",
      "Epoch 9/10\n",
      "363/363 [==============================] - 0s 1ms/step - loss: 0.4079 - val_loss: 0.3917\n",
      "Epoch 10/10\n",
      "363/363 [==============================] - 0s 1ms/step - loss: 0.3764 - val_loss: 0.3640\n",
      "162/162 [==============================] - 0s 754us/step - loss: 0.3671\n",
      "0.36710506677627563\n",
      "[[3.8772104]\n",
      " [1.7133007]\n",
      " [2.3535686]]\n"
     ]
    }
   ],
   "source": [
    "X_train_A, X_train_B  = X_train[:, :5], X_train[:, 2:]\n",
    "X_valid_A, X_valid_B  = X_valid[:, :5], X_valid[:, 2:]\n",
    "X_test_A,  X_test_B   = X_test[:, :5],  X_test[:, 2:]\n",
    "X_new_A,   X_new_B    = X_test_A[:3], X_test_B[:3]\n",
    "\n",
    "model.compile(loss=\"mean_squared_error\", optimizer='sgd')\n",
    "\n",
    "history = model.fit((X_train_A, X_train_B), y_train, epochs=10,\n",
    "                    validation_data=((X_valid_A, X_valid_B ), y_valid))\n",
    "\n",
    "mse_test = model.evaluate((X_test_A,  X_test_B), y_test)\n",
    "y_pred = model.predict((X_new_A,   X_new_B ))\n",
    "print(mse_test)\n",
    "print(y_pred)"
   ]
  },
  {
   "cell_type": "code",
   "execution_count": 36,
   "metadata": {},
   "outputs": [
    {
     "name": "stdout",
     "output_type": "stream",
     "text": [
      "Model: \"model_1\"\n",
      "__________________________________________________________________________________________________\n",
      "Layer (type)                    Output Shape         Param #     Connected to                     \n",
      "==================================================================================================\n",
      "deep_input (InputLayer)         [(None, 6)]          0                                            \n",
      "__________________________________________________________________________________________________\n",
      "dense_8 (Dense)                 (None, 30)           210         deep_input[0][0]                 \n",
      "__________________________________________________________________________________________________\n",
      "wide_input (InputLayer)         [(None, 5)]          0                                            \n",
      "__________________________________________________________________________________________________\n",
      "dense_9 (Dense)                 (None, 30)           930         dense_8[0][0]                    \n",
      "__________________________________________________________________________________________________\n",
      "concatenate_1 (Concatenate)     (None, 35)           0           wide_input[0][0]                 \n",
      "                                                                 dense_9[0][0]                    \n",
      "__________________________________________________________________________________________________\n",
      "output (Dense)                  (None, 1)            36          concatenate_1[0][0]              \n",
      "==================================================================================================\n",
      "Total params: 1,176\n",
      "Trainable params: 1,176\n",
      "Non-trainable params: 0\n",
      "__________________________________________________________________________________________________\n"
     ]
    }
   ],
   "source": [
    "model.summary()"
   ]
  },
  {
   "cell_type": "markdown",
   "metadata": {
    "collapsed": true
   },
   "source": [
    "# multiple  output\n",
    "\n",
    "One of the favorite thing in the functional API, its provide us if we need to handle multi-task classification, or even if we work on the dataset and we have to classify something is discrete and another output is regression, or even if we need multi-output for the same thing as we will see.\n",
    "\n",
    "<img src=\"images/ch10_3.png\" width=\"300\" height=\"300\">"
   ]
  },
  {
   "cell_type": "code",
   "execution_count": 37,
   "metadata": {},
   "outputs": [],
   "source": [
    "input_A = keras.layers.Input(shape=[5], name='wide_input')\n",
    "input_B = keras.layers.Input(shape=[6], name='deep_input')\n",
    "hidden1 = keras.layers.Dense(30, activation='relu')(input_B)\n",
    "hidden2 = keras.layers.Dense(30, activation='relu')(hidden1)\n",
    "concat  = keras.layers.concatenate([input_A, hidden2])\n",
    "\n",
    "# All of the above lines as before with multi input idea\n",
    "output     = keras.layers.Dense(1, name='main_output')(concat)\n",
    "\n",
    "# The new output aux output and its not complex as the other one and maybe it possible in regularization\n",
    "aux_output = keras.layers.Dense(1, name='aux_output')(hidden2)\n",
    "\n",
    "# Now the model has two output and when compile need output y for each of them\n",
    "model      = keras.Model(inputs=[input_A, input_B], outputs=[output, aux_output])\n"
   ]
  },
  {
   "cell_type": "code",
   "execution_count": 38,
   "metadata": {},
   "outputs": [
    {
     "data": {
      "image/png": "[encoded data removed]",
      "text/plain": [
       "<IPython.core.display.Image object>"
      ]
     },
     "execution_count": 38,
     "metadata": {},
     "output_type": "execute_result"
    }
   ],
   "source": [
    "keras.utils.plot_model(model, \"my_fashion_mnist_model2.png\", show_shapes=True)"
   ]
  },
  {
   "cell_type": "code",
   "execution_count": 39,
   "metadata": {},
   "outputs": [
    {
     "name": "stdout",
     "output_type": "stream",
     "text": [
      "Model: \"model_2\"\n",
      "__________________________________________________________________________________________________\n",
      "Layer (type)                    Output Shape         Param #     Connected to                     \n",
      "==================================================================================================\n",
      "deep_input (InputLayer)         [(None, 6)]          0                                            \n",
      "__________________________________________________________________________________________________\n",
      "dense_10 (Dense)                (None, 30)           210         deep_input[0][0]                 \n",
      "__________________________________________________________________________________________________\n",
      "wide_input (InputLayer)         [(None, 5)]          0                                            \n",
      "__________________________________________________________________________________________________\n",
      "dense_11 (Dense)                (None, 30)           930         dense_10[0][0]                   \n",
      "__________________________________________________________________________________________________\n",
      "concatenate_2 (Concatenate)     (None, 35)           0           wide_input[0][0]                 \n",
      "                                                                 dense_11[0][0]                   \n",
      "__________________________________________________________________________________________________\n",
      "main_output (Dense)             (None, 1)            36          concatenate_2[0][0]              \n",
      "__________________________________________________________________________________________________\n",
      "aux_output (Dense)              (None, 1)            31          dense_11[0][0]                   \n",
      "==================================================================================================\n",
      "Total params: 1,207\n",
      "Trainable params: 1,207\n",
      "Non-trainable params: 0\n",
      "__________________________________________________________________________________________________\n"
     ]
    }
   ],
   "source": [
    "model.summary()"
   ]
  },
  {
   "cell_type": "markdown",
   "metadata": {},
   "source": [
    "# Notes !\n",
    "we  care  much more about the main output than about the auxiliary output (as it is just used for reg‐ularization), so we want to give the main output’s loss a much greater weight"
   ]
  },
  {
   "cell_type": "code",
   "execution_count": 40,
   "metadata": {},
   "outputs": [],
   "source": [
    "model.compile(loss=['mse', 'mse'], loss_weights=[0.9, 0.1], optimizer='sgd')"
   ]
  },
  {
   "cell_type": "markdown",
   "metadata": {},
   "source": [
    "The main output and the auxiliary output should try to predict the samething, so they should use the same labels. So instead of passing y_train, we just needto pass (y_train, y_train) "
   ]
  },
  {
   "cell_type": "code",
   "execution_count": 41,
   "metadata": {},
   "outputs": [
    {
     "name": "stdout",
     "output_type": "stream",
     "text": [
      "Epoch 1/20\n",
      "363/363 [==============================] - 1s 2ms/step - loss: 1.4577 - main_output_loss: 1.3491 - aux_output_loss: 2.4342 - val_loss: 0.6138 - val_main_output_loss: 0.5375 - val_aux_output_loss: 1.3005\n",
      "Epoch 2/20\n",
      "363/363 [==============================] - 1s 1ms/step - loss: 0.6320 - main_output_loss: 0.5634 - aux_output_loss: 1.2497 - val_loss: 0.5311 - val_main_output_loss: 0.4705 - val_aux_output_loss: 1.0766\n",
      "Epoch 3/20\n",
      "363/363 [==============================] - 1s 2ms/step - loss: 0.5151 - main_output_loss: 0.4537 - aux_output_loss: 1.0675 - val_loss: 0.4849 - val_main_output_loss: 0.4328 - val_aux_output_loss: 0.9537\n",
      "Epoch 4/20\n",
      "363/363 [==============================] - 1s 2ms/step - loss: 0.4824 - main_output_loss: 0.4303 - aux_output_loss: 0.9513 - val_loss: 0.4686 - val_main_output_loss: 0.4251 - val_aux_output_loss: 0.8605\n",
      "Epoch 5/20\n",
      "363/363 [==============================] - 1s 1ms/step - loss: 0.4649 - main_output_loss: 0.4210 - aux_output_loss: 0.8601 - val_loss: 0.4394 - val_main_output_loss: 0.4005 - val_aux_output_loss: 0.7894\n",
      "Epoch 6/20\n",
      "363/363 [==============================] - 1s 1ms/step - loss: 0.4524 - main_output_loss: 0.4148 - aux_output_loss: 0.7908 - val_loss: 0.4286 - val_main_output_loss: 0.3948 - val_aux_output_loss: 0.7326\n",
      "Epoch 7/20\n",
      "363/363 [==============================] - 1s 1ms/step - loss: 0.4874 - main_output_loss: 0.4596 - aux_output_loss: 0.7376 - val_loss: 0.4198 - val_main_output_loss: 0.3905 - val_aux_output_loss: 0.6837\n",
      "Epoch 8/20\n",
      "363/363 [==============================] - 1s 1ms/step - loss: 0.4315 - main_output_loss: 0.4027 - aux_output_loss: 0.6902 - val_loss: 0.4180 - val_main_output_loss: 0.3921 - val_aux_output_loss: 0.6510\n",
      "Epoch 9/20\n",
      "363/363 [==============================] - 1s 1ms/step - loss: 0.4187 - main_output_loss: 0.3933 - aux_output_loss: 0.6471 - val_loss: 0.4089 - val_main_output_loss: 0.3851 - val_aux_output_loss: 0.6228\n",
      "Epoch 10/20\n",
      "363/363 [==============================] - 1s 1ms/step - loss: 0.4111 - main_output_loss: 0.3880 - aux_output_loss: 0.6185 - val_loss: 0.3945 - val_main_output_loss: 0.3719 - val_aux_output_loss: 0.5978\n",
      "Epoch 11/20\n",
      "363/363 [==============================] - 1s 1ms/step - loss: 0.4053 - main_output_loss: 0.3840 - aux_output_loss: 0.5978 - val_loss: 0.3909 - val_main_output_loss: 0.3698 - val_aux_output_loss: 0.5808\n",
      "Epoch 12/20\n",
      "363/363 [==============================] - 1s 1ms/step - loss: 0.3980 - main_output_loss: 0.3780 - aux_output_loss: 0.5783 - val_loss: 0.3950 - val_main_output_loss: 0.3755 - val_aux_output_loss: 0.5708\n",
      "Epoch 13/20\n",
      "363/363 [==============================] - 1s 2ms/step - loss: 0.3958 - main_output_loss: 0.3771 - aux_output_loss: 0.5645 - val_loss: 0.3920 - val_main_output_loss: 0.3738 - val_aux_output_loss: 0.5566\n",
      "Epoch 14/20\n",
      "363/363 [==============================] - 1s 2ms/step - loss: 0.3969 - main_output_loss: 0.3797 - aux_output_loss: 0.5524 - val_loss: 0.3861 - val_main_output_loss: 0.3678 - val_aux_output_loss: 0.5507\n",
      "Epoch 15/20\n",
      "363/363 [==============================] - 1s 2ms/step - loss: 0.3852 - main_output_loss: 0.3682 - aux_output_loss: 0.5383 - val_loss: 0.3782 - val_main_output_loss: 0.3602 - val_aux_output_loss: 0.5405\n",
      "Epoch 16/20\n",
      "363/363 [==============================] - 1s 2ms/step - loss: 0.3822 - main_output_loss: 0.3656 - aux_output_loss: 0.5314 - val_loss: 0.3724 - val_main_output_loss: 0.3544 - val_aux_output_loss: 0.5344\n",
      "Epoch 17/20\n",
      "363/363 [==============================] - 1s 2ms/step - loss: 0.3787 - main_output_loss: 0.3624 - aux_output_loss: 0.5255 - val_loss: 0.3630 - val_main_output_loss: 0.3455 - val_aux_output_loss: 0.5211\n",
      "Epoch 18/20\n",
      "363/363 [==============================] - 1s 2ms/step - loss: 0.3769 - main_output_loss: 0.3612 - aux_output_loss: 0.5185 - val_loss: 0.3641 - val_main_output_loss: 0.3472 - val_aux_output_loss: 0.5159\n",
      "Epoch 19/20\n",
      "363/363 [==============================] - 1s 2ms/step - loss: 0.3756 - main_output_loss: 0.3603 - aux_output_loss: 0.5137 - val_loss: 0.3644 - val_main_output_loss: 0.3477 - val_aux_output_loss: 0.5149\n",
      "Epoch 20/20\n",
      "363/363 [==============================] - 1s 2ms/step - loss: 0.3793 - main_output_loss: 0.3649 - aux_output_loss: 0.5091 - val_loss: 0.3845 - val_main_output_loss: 0.3684 - val_aux_output_loss: 0.5286\n"
     ]
    }
   ],
   "source": [
    "history = model.fit([X_train_A, X_train_B], [y_train, y_train], epochs=20, \n",
    "          validation_data=([X_valid_A, X_valid_B], [y_valid, y_valid]))"
   ]
  },
  {
   "cell_type": "code",
   "execution_count": 42,
   "metadata": {},
   "outputs": [
    {
     "data": {
      "text/plain": [
       "(0.0, 1.0)"
      ]
     },
     "execution_count": 42,
     "metadata": {},
     "output_type": "execute_result"
    },
    {
     "data": {
      "image/png": "[encoded data removed]",
      "text/plain": [
       "<Figure size 576x360 with 1 Axes>"
      ]
     },
     "metadata": {
      "needs_background": "light"
     },
     "output_type": "display_data"
    }
   ],
   "source": [
    "pd.DataFrame(history.history).plot(figsize=(8,5))\n",
    "plt.grid(True)\n",
    "plt.gca().set_ylim(0, 1)\n"
   ]
  },
  {
   "cell_type": "code",
   "execution_count": 43,
   "metadata": {},
   "outputs": [
    {
     "name": "stdout",
     "output_type": "stream",
     "text": [
      "162/162 [==============================] - 0s 2ms/step - loss: 0.3850 - main_output_loss: 0.3703 - aux_output_loss: 0.5173\n",
      "======================\n",
      "0.38498130440711975\n",
      "0.37028005719184875\n",
      "0.5172938704490662\n"
     ]
    }
   ],
   "source": [
    "total_loss, main_loss, aux_loss = model.evaluate([X_test_A, X_test_B], [y_test, y_test])\n",
    "print('======================')\n",
    "print(total_loss)\n",
    "print(main_loss)\n",
    "print(aux_loss)"
   ]
  },
  {
   "cell_type": "code",
   "execution_count": 44,
   "metadata": {},
   "outputs": [
    {
     "name": "stdout",
     "output_type": "stream",
     "text": [
      "WARNING:tensorflow:5 out of the last 6 calls to <function Model.make_predict_function.<locals>.predict_function at 0x7fc0c9782a60> triggered tf.function retracing. Tracing is expensive and the excessive number of tracings could be due to (1) creating @tf.function repeatedly in a loop, (2) passing tensors with different shapes, (3) passing Python objects instead of tensors. For (1), please define your @tf.function outside of the loop. For (2), @tf.function has experimental_relax_shapes=True option that relaxes argument shapes that can avoid unnecessary retracing. For (3), please refer to https://www.tensorflow.org/guide/function#controlling_retracing and https://www.tensorflow.org/api_docs/python/tf/function for  more details.\n"
     ]
    }
   ],
   "source": [
    "# Similarly, the predict() method will return predictions for each output\n",
    "y_pred_main, y_pred_aux = model.predict([X_new_A, X_new_B])"
   ]
  },
  {
   "cell_type": "code",
   "execution_count": 45,
   "metadata": {},
   "outputs": [
    {
     "data": {
      "text/plain": [
       "array([[4.2990403],\n",
       "       [1.5405111],\n",
       "       [2.2105393]], dtype=float32)"
      ]
     },
     "execution_count": 45,
     "metadata": {},
     "output_type": "execute_result"
    }
   ],
   "source": [
    "y_pred_main[:5]"
   ]
  },
  {
   "cell_type": "code",
   "execution_count": 46,
   "metadata": {},
   "outputs": [
    {
     "data": {
      "text/plain": [
       "array([[3.736827 ],\n",
       "       [1.8812749],\n",
       "       [2.6045306]], dtype=float32)"
      ]
     },
     "execution_count": 46,
     "metadata": {},
     "output_type": "execute_result"
    }
   ],
   "source": [
    "y_pred_aux[:5]"
   ]
  },
  {
   "cell_type": "markdown",
   "metadata": {},
   "source": [
    "# Using the Subclassing API to Build Dynamic Models \n",
    "\n",
    "**I think this point should be from the book dierct so I mentioned it as it in the book\n",
    "**\n",
    "\n",
    "Both the Sequential API and the Functional API are declarative: you start by declaring  which  layers  you  want  to  use  and  how  they  should  be  connected,  and  only  then can  you  start  feeding  the  model  some  data  for  training  or  inference.  This  has  many advantages:  the  model  can  easily  be  saved,  cloned,  shared,  its  structure  can  be  displayed  and  analyzed,  the  framework  can  infer  shapes  and  check  types,  so  errors  canbe caught early (i.e., before any data ever goes through the model). It’s also fairly easyto debug, since the whole model is just a static graph of layers. But the flip side is just that:  it’s  static.  Some  models  involve  loops,  varying  shapes,  conditional  branching,and other dynamic behaviors. For such cases, or simply if you prefer a more impera‐tive programming style, the Subclassing API is for you.\n",
    "\n",
    "Simply subclass the Model class, create the layers you need in the constructor, and use them to perform the computations you want in the call() method. For example, creating  an  instance  of  the  following  WideAndDeepModel  class  gives  us  an  equivalent model to the one we just built with the Functional API. You can then compile it, eval‐uate it and use it to make predictions, exactly like we just did.\n",
    "\n",
    "But, this  extra  flexibility  comes  at  a  cost:  your  model’s  architecture  is  hidden within the call() method, so Keras cannot easily inspect it, it cannot save or clone it,and  when  you  call  the  summary()  method,  you  only  get  a  list  of  layers,  without  any information on how they are connected to each other. Moreover, Keras cannot checktypes and shapes ahead of time, and it is easier to make mistakes. So unless you really need  that  extra  flexibility,  you  should  probably  stick  to  the  Sequential  API  or  theFunctional API.\n",
    "\n",
    "# Note !\n",
    "\n",
    "The inheritance design in the subclass usage of the **Model** class provide you with the public methods in the super class."
   ]
  },
  {
   "cell_type": "code",
   "execution_count": 47,
   "metadata": {},
   "outputs": [],
   "source": [
    "# class WideAndDeepModel(keras.Model):\n",
    "#     def __init__(self, units=30, activation='relu', **kwargs):\n",
    "#         super().__init__(**kwargs) ## handles standards args like: name\n",
    "#         self.hidden1 = keras.layers.Dense(units, activation=activation)\n",
    "#         self.hidden2 = keras.layers.Dense(units, activation=activation)\n",
    "#         self.main_output = keras.layers.Dense(1)\n",
    "#         self.aux_output = keras.layers.Dense(1)\n",
    "        \n",
    "#     def call(self, inputs):\n",
    "#         input_A, input_B = inputs\n",
    "#         hidden1 = self.hidden1(input_B)\n",
    "#         hidden2 = self.hidden2(hidden1)\n",
    "#         concat = keras.layers.concatenate([input_A, hidden2])\n",
    "#         main_output = self.main_output(concat)\n",
    "#         aux_loss = self.aux_output(hidden2)\n",
    "#         return main_output, aux_output\n",
    "    \n",
    "# model = WideAndDeepModel()\n"
   ]
  },
  {
   "cell_type": "code",
   "execution_count": 48,
   "metadata": {},
   "outputs": [],
   "source": [
    "model.save('models/first_keras_model.h5')"
   ]
  },
  {
   "cell_type": "code",
   "execution_count": 49,
   "metadata": {},
   "outputs": [
    {
     "name": "stdout",
     "output_type": "stream",
     "text": [
      "162/162 [==============================] - 0s 1ms/step - loss: 0.3850 - main_output_loss: 0.3703 - aux_output_loss: 0.5173\n",
      "======================\n",
      "0.38498130440711975\n",
      "0.37028005719184875\n",
      "0.5172938704490662\n"
     ]
    }
   ],
   "source": [
    "model = keras.models.load_model('models/first_keras_model.h5')\n",
    "\n",
    "# Again after load the model \n",
    "total_loss, main_loss, aux_loss = model.evaluate([X_test_A, X_test_B], [y_test, y_test])\n",
    "print('======================')\n",
    "print(total_loss)\n",
    "print(main_loss)\n",
    "print(aux_loss)"
   ]
  },
  {
   "cell_type": "markdown",
   "metadata": {},
   "source": [
    "# Using Callbacks\n",
    "\n",
    "Its regular when the dataset becomes large and large that your model may take days or hours of run and in this case you do not need to wait to save the model at the end of training because of case that computer crashes or networks problems and others and for this we have to save checkpoints during the training on regular intervals.\n",
    "\n",
    "Callbacks have different functionality from checkpoints saved to early stopping and others as well it help you to design your callbacks function, checkpoints used when your computer crash or others problem to save your models and the paramters **save_best_only** to retrive and save the weights based on the best score on the validation, and for early stoping when the val_loss across diferent eopchs in our case **10 epochs** and no progress have made it stop the learning."
   ]
  },
  {
   "cell_type": "code",
   "execution_count": 50,
   "metadata": {},
   "outputs": [],
   "source": [
    "housing = fetch_california_housing()\n",
    "X_train_full, X_test, y_train_full, y_test = train_test_split(housing.data, housing.target)\n",
    "X_train, X_valid, y_train, y_valid = train_test_split(X_train_full, y_train_full)\n",
    "scaler = StandardScaler()\n",
    "X_train = scaler.fit_transform(X_train)\n",
    "X_valid = scaler.transform(X_valid)\n",
    "X_test = scaler.transform(X_test)"
   ]
  },
  {
   "cell_type": "code",
   "execution_count": 51,
   "metadata": {},
   "outputs": [
    {
     "data": {
      "text/plain": [
       "(11610, 8)"
      ]
     },
     "execution_count": 51,
     "metadata": {},
     "output_type": "execute_result"
    }
   ],
   "source": [
    "X_train.shape"
   ]
  },
  {
   "cell_type": "code",
   "execution_count": 52,
   "metadata": {},
   "outputs": [
    {
     "name": "stdout",
     "output_type": "stream",
     "text": [
      "Epoch 1/20\n",
      "291/291 [==============================] - 1s 2ms/step - loss: 0.9019 - accuracy: 0.0027 - val_loss: 0.6902 - val_accuracy: 0.0026\n",
      "\n",
      "Epoch 00001: val_loss improved from -inf to 0.69016, saving model to models/saved-model-01-0.69.h5\n",
      "Epoch 2/20\n",
      "291/291 [==============================] - 0s 2ms/step - loss: 0.5432 - accuracy: 0.0028 - val_loss: 0.6430 - val_accuracy: 0.0026\n",
      "\n",
      "Epoch 00002: val_loss did not improve from 0.69016\n",
      "Epoch 3/20\n",
      "291/291 [==============================] - 0s 2ms/step - loss: 0.5104 - accuracy: 0.0028 - val_loss: 0.6958 - val_accuracy: 0.0026\n",
      "\n",
      "Epoch 00003: val_loss improved from 0.69016 to 0.69575, saving model to models/saved-model-03-0.70.h5\n",
      "Epoch 4/20\n",
      "291/291 [==============================] - 0s 1ms/step - loss: 0.5238 - accuracy: 0.0028 - val_loss: 1.3293 - val_accuracy: 0.0026\n",
      "\n",
      "Epoch 00004: val_loss improved from 0.69575 to 1.32929, saving model to models/saved-model-04-1.33.h5\n",
      "Epoch 5/20\n",
      "291/291 [==============================] - 0s 1ms/step - loss: 0.5691 - accuracy: 0.0028 - val_loss: 1.3116 - val_accuracy: 0.0026\n",
      "\n",
      "Epoch 00005: val_loss did not improve from 1.32929\n",
      "Epoch 6/20\n",
      "291/291 [==============================] - 0s 1ms/step - loss: 0.6802 - accuracy: 0.0028 - val_loss: 0.5049 - val_accuracy: 0.0026\n",
      "\n",
      "Epoch 00006: val_loss did not improve from 1.32929\n",
      "Epoch 7/20\n",
      "291/291 [==============================] - 0s 2ms/step - loss: 0.4635 - accuracy: 0.0028 - val_loss: 0.4904 - val_accuracy: 0.0026\n",
      "\n",
      "Epoch 00007: val_loss did not improve from 1.32929\n",
      "Epoch 8/20\n",
      "291/291 [==============================] - 0s 1ms/step - loss: 0.4426 - accuracy: 0.0028 - val_loss: 0.4781 - val_accuracy: 0.0026\n",
      "\n",
      "Epoch 00008: val_loss did not improve from 1.32929\n",
      "Epoch 9/20\n",
      "291/291 [==============================] - 0s 2ms/step - loss: 0.4469 - accuracy: 0.0028 - val_loss: 0.4947 - val_accuracy: 0.0026\n",
      "\n",
      "Epoch 00009: val_loss did not improve from 1.32929\n",
      "Epoch 10/20\n",
      "291/291 [==============================] - 0s 2ms/step - loss: 0.4378 - accuracy: 0.0028 - val_loss: 0.4717 - val_accuracy: 0.0026\n",
      "\n",
      "Epoch 00010: val_loss did not improve from 1.32929\n",
      "Epoch 11/20\n",
      "291/291 [==============================] - 0s 2ms/step - loss: 0.4267 - accuracy: 0.0028 - val_loss: 0.4791 - val_accuracy: 0.0026\n",
      "\n",
      "Epoch 00011: val_loss did not improve from 1.32929\n",
      "Epoch 12/20\n",
      "291/291 [==============================] - 0s 1ms/step - loss: 0.4288 - accuracy: 0.0028 - val_loss: 0.4651 - val_accuracy: 0.0026\n",
      "\n",
      "Epoch 00012: val_loss did not improve from 1.32929\n",
      "Epoch 13/20\n",
      "291/291 [==============================] - 0s 1ms/step - loss: 0.4139 - accuracy: 0.0028 - val_loss: 0.4718 - val_accuracy: 0.0026\n",
      "\n",
      "Epoch 00013: val_loss did not improve from 1.32929\n",
      "Epoch 14/20\n",
      "291/291 [==============================] - 0s 2ms/step - loss: 0.4194 - accuracy: 0.0028 - val_loss: 0.4543 - val_accuracy: 0.0026\n",
      "\n",
      "Epoch 00014: val_loss did not improve from 1.32929\n",
      "Epoch 15/20\n",
      "291/291 [==============================] - 0s 2ms/step - loss: 0.4065 - accuracy: 0.0028 - val_loss: 0.4498 - val_accuracy: 0.0026\n",
      "\n",
      "Epoch 00015: val_loss did not improve from 1.32929\n",
      "Epoch 16/20\n",
      "291/291 [==============================] - 0s 1ms/step - loss: 0.4052 - accuracy: 0.0028 - val_loss: 0.4722 - val_accuracy: 0.0026\n",
      "\n",
      "Epoch 00016: val_loss did not improve from 1.32929\n",
      "Epoch 17/20\n",
      "291/291 [==============================] - 1s 2ms/step - loss: 0.4071 - accuracy: 0.0028 - val_loss: 0.4761 - val_accuracy: 0.0026\n",
      "\n",
      "Epoch 00017: val_loss did not improve from 1.32929\n",
      "Epoch 18/20\n",
      "291/291 [==============================] - 0s 2ms/step - loss: 0.4049 - accuracy: 0.0028 - val_loss: 0.4553 - val_accuracy: 0.0026\n",
      "\n",
      "Epoch 00018: val_loss did not improve from 1.32929\n",
      "Epoch 19/20\n",
      "291/291 [==============================] - 0s 1ms/step - loss: 0.3949 - accuracy: 0.0028 - val_loss: 0.4330 - val_accuracy: 0.0026\n",
      "\n",
      "Epoch 00019: val_loss did not improve from 1.32929\n",
      "Epoch 20/20\n",
      "291/291 [==============================] - 0s 2ms/step - loss: 0.3968 - accuracy: 0.0028 - val_loss: 0.4333 - val_accuracy: 0.0026\n",
      "\n",
      "Epoch 00020: val_loss did not improve from 1.32929\n"
     ]
    }
   ],
   "source": [
    "model = keras.models.Sequential([\n",
    "    keras.layers.Dense(10, activation='relu', input_shape=X_train.shape[1:]),\n",
    "    keras.layers.Dense(1)\n",
    "])\n",
    "\n",
    "model.compile(loss='mean_squared_error', optimizer='sgd', metrics=[\"accuracy\"])\n",
    "\n",
    "filepath = \"models/saved-model-{epoch:02d}-{val_loss:.2f}.h5\"\n",
    "\n",
    "checkpoints_cb = keras.callbacks.ModelCheckpoint(filepath, monitor='val_loss', verbose=1, save_best_only=True, mode='max')\n",
    "\n",
    "history = model.fit(X_train, y_train, epochs=20, validation_split=0.2,\n",
    "                   callbacks=[checkpoints_cb])"
   ]
  },
  {
   "cell_type": "code",
   "execution_count": 53,
   "metadata": {},
   "outputs": [
    {
     "name": "stdout",
     "output_type": "stream",
     "text": [
      "Epoch 1/100\n",
      "363/363 [==============================] - 1s 1ms/step - loss: 1.0351 - val_loss: 14.3948\n",
      "\n",
      "Epoch 00001: val_loss improved from inf to 14.39479, saving model to models/saved-model-EarlyStopping-01-14.39.h5\n",
      "Epoch 2/100\n",
      "363/363 [==============================] - 0s 1ms/step - loss: 1.7468 - val_loss: 166.7468\n",
      "\n",
      "Epoch 00002: val_loss did not improve from 14.39479\n",
      "Epoch 3/100\n",
      "363/363 [==============================] - 0s 1ms/step - loss: 9.4153 - val_loss: 0.4304\n",
      "\n",
      "Epoch 00003: val_loss improved from 14.39479 to 0.43044, saving model to models/saved-model-EarlyStopping-03-0.43.h5\n",
      "Epoch 4/100\n",
      "363/363 [==============================] - 1s 2ms/step - loss: 0.4236 - val_loss: 0.4171\n",
      "\n",
      "Epoch 00004: val_loss improved from 0.43044 to 0.41710, saving model to models/saved-model-EarlyStopping-04-0.42.h5\n",
      "Epoch 5/100\n",
      "363/363 [==============================] - 1s 1ms/step - loss: 0.4069 - val_loss: 0.4514\n",
      "\n",
      "Epoch 00005: val_loss did not improve from 0.41710\n",
      "Epoch 6/100\n",
      "363/363 [==============================] - 0s 1ms/step - loss: 0.4043 - val_loss: 0.3922\n",
      "\n",
      "Epoch 00006: val_loss improved from 0.41710 to 0.39220, saving model to models/saved-model-EarlyStopping-06-0.39.h5\n",
      "Epoch 7/100\n",
      "363/363 [==============================] - 0s 1ms/step - loss: 0.4041 - val_loss: 0.6535\n",
      "\n",
      "Epoch 00007: val_loss did not improve from 0.39220\n",
      "Epoch 8/100\n",
      "363/363 [==============================] - 1s 1ms/step - loss: 0.4021 - val_loss: 0.3893\n",
      "\n",
      "Epoch 00008: val_loss improved from 0.39220 to 0.38925, saving model to models/saved-model-EarlyStopping-08-0.39.h5\n",
      "Epoch 9/100\n",
      "363/363 [==============================] - 1s 2ms/step - loss: 0.3933 - val_loss: 0.3997\n",
      "\n",
      "Epoch 00009: val_loss did not improve from 0.38925\n",
      "Epoch 10/100\n",
      "363/363 [==============================] - 0s 1ms/step - loss: 0.3922 - val_loss: 0.3986\n",
      "\n",
      "Epoch 00010: val_loss did not improve from 0.38925\n",
      "Epoch 11/100\n",
      "363/363 [==============================] - 0s 1ms/step - loss: 0.3867 - val_loss: 0.4385\n",
      "\n",
      "Epoch 00011: val_loss did not improve from 0.38925\n",
      "Epoch 12/100\n",
      "363/363 [==============================] - 0s 1ms/step - loss: 0.3860 - val_loss: 0.3936\n",
      "\n",
      "Epoch 00012: val_loss did not improve from 0.38925\n",
      "Epoch 13/100\n",
      "363/363 [==============================] - 0s 1ms/step - loss: 0.3859 - val_loss: 0.3765\n",
      "\n",
      "Epoch 00013: val_loss improved from 0.38925 to 0.37651, saving model to models/saved-model-EarlyStopping-13-0.38.h5\n",
      "Epoch 14/100\n",
      "363/363 [==============================] - 0s 1ms/step - loss: 0.3830 - val_loss: 0.3796\n",
      "\n",
      "Epoch 00014: val_loss did not improve from 0.37651\n",
      "Epoch 15/100\n",
      "363/363 [==============================] - 0s 1ms/step - loss: 0.3820 - val_loss: 0.3943\n",
      "\n",
      "Epoch 00015: val_loss did not improve from 0.37651\n",
      "Epoch 16/100\n",
      "363/363 [==============================] - 0s 1ms/step - loss: 0.3775 - val_loss: 0.3971\n",
      "\n",
      "Epoch 00016: val_loss did not improve from 0.37651\n",
      "Epoch 17/100\n",
      "363/363 [==============================] - 0s 1ms/step - loss: 0.3773 - val_loss: 0.4427\n",
      "\n",
      "Epoch 00017: val_loss did not improve from 0.37651\n",
      "Epoch 18/100\n",
      "363/363 [==============================] - 0s 1ms/step - loss: 0.3726 - val_loss: 0.3762\n",
      "\n",
      "Epoch 00018: val_loss improved from 0.37651 to 0.37622, saving model to models/saved-model-EarlyStopping-18-0.38.h5\n",
      "Epoch 19/100\n",
      "363/363 [==============================] - 0s 1ms/step - loss: 0.3799 - val_loss: 0.3788\n",
      "\n",
      "Epoch 00019: val_loss did not improve from 0.37622\n",
      "Epoch 20/100\n",
      "363/363 [==============================] - 1s 2ms/step - loss: 0.3732 - val_loss: 0.3639\n",
      "\n",
      "Epoch 00020: val_loss improved from 0.37622 to 0.36387, saving model to models/saved-model-EarlyStopping-20-0.36.h5\n",
      "Epoch 21/100\n",
      "363/363 [==============================] - 1s 1ms/step - loss: 0.3729 - val_loss: 0.5164\n",
      "\n",
      "Epoch 00021: val_loss did not improve from 0.36387\n",
      "Epoch 22/100\n",
      "363/363 [==============================] - 1s 2ms/step - loss: 0.3739 - val_loss: 0.3660\n",
      "\n",
      "Epoch 00022: val_loss did not improve from 0.36387\n",
      "Epoch 23/100\n",
      "363/363 [==============================] - 1s 1ms/step - loss: 0.3695 - val_loss: 0.3689\n",
      "\n",
      "Epoch 00023: val_loss did not improve from 0.36387\n",
      "Epoch 24/100\n",
      "363/363 [==============================] - 0s 1ms/step - loss: 0.3710 - val_loss: 0.3965\n",
      "\n",
      "Epoch 00024: val_loss did not improve from 0.36387\n",
      "Epoch 25/100\n",
      "363/363 [==============================] - 0s 1ms/step - loss: 0.3720 - val_loss: 0.3806\n",
      "\n",
      "Epoch 00025: val_loss did not improve from 0.36387\n"
     ]
    }
   ],
   "source": [
    "model = keras.models.Sequential([\n",
    "    keras.layers.Dense(20, activation='relu', input_shape=X_train.shape[1:]),\n",
    "    keras.layers.Dense(1)\n",
    "])\n",
    "\n",
    "model.compile(loss='mean_squared_error', optimizer='sgd')\n",
    "\n",
    "filepath = \"models/saved-model-EarlyStopping-{epoch:02d}-{val_loss:.2f}.h5\"\n",
    "\n",
    "checkpoints_cb = keras.callbacks.ModelCheckpoint(filepath, monitor='val_loss', verbose=1, save_best_only=True)\n",
    "earlyStopping_cb = keras.callbacks.EarlyStopping(patience=5, restore_best_weights=True)\n",
    "\n",
    "history = model.fit(X_train, y_train, epochs=100, validation_data=(X_valid, y_valid),\n",
    "                   callbacks=[checkpoints_cb, earlyStopping_cb])"
   ]
  },
  {
   "cell_type": "markdown",
   "metadata": {},
   "source": [
    "# Using Tensorboard for visulization\n",
    "\n",
    "\n",
    "\"\"\n",
    "TensorBoard  is  a  great  interactive  visualization  tool  that  you  can  use  to  view  thelearning curves during training, compare learning curves between multiple runs, vis‐ualize  the  computation  graph,  analyze  training  statistics,  view  images  generated  byyour  model.\n",
    "\"\"\n",
    "\"\"\n",
    "To use it, you must modify your program so that it outputs the data you want to visu‐alize  to  special  binary  log  files  called  event  files.  Each  binary  data  record  is  called  asummary. The TensorBoard server will monitor the log directory, and it will automat‐ically  pick  up  the  changes  and  update  the  visualizations:  this  allows  you  to  visualizelive data (with a short delay), such as the learning curves during training. In general,you want to point the TensorBoard server to a root log directory, and configure yourprogram so that it writes to a different subdirectory every time it runs. This way, thesame TensorBoard server instance will allow you to visualize and compare data frommultiple runs of your program, without getting everything mixed up\"\""
   ]
  },
  {
   "cell_type": "code",
   "execution_count": 54,
   "metadata": {},
   "outputs": [],
   "source": [
    "root_logdir = os.path.join(os.curdir, \"my_logs\")\n",
    "def get_run_logdir():\n",
    "    run_id = time.strftime(\"run_%Y_%m_%d_%H_%M_%S\")\n",
    "    return os.path.join(root_logdir, run_id)\n",
    "\n",
    "run_logdir = get_run_logdir()\n",
    "\n",
    "tensorboard_cb = keras.callbacks.TensorBoard(run_logdir)\n"
   ]
  },
  {
   "cell_type": "code",
   "execution_count": 55,
   "metadata": {},
   "outputs": [
    {
     "name": "stdout",
     "output_type": "stream",
     "text": [
      "Epoch 1/30\n",
      "363/363 [==============================] - 1s 1ms/step - loss: 0.7019 - val_loss: 1.0572\n",
      "Epoch 2/30\n",
      "363/363 [==============================] - 1s 1ms/step - loss: 0.4310 - val_loss: 0.6387\n",
      "Epoch 3/30\n",
      "363/363 [==============================] - 0s 1ms/step - loss: 0.3901 - val_loss: 1.1001\n",
      "Epoch 4/30\n",
      "363/363 [==============================] - 0s 1ms/step - loss: 0.3839 - val_loss: 0.5042\n",
      "Epoch 5/30\n",
      "363/363 [==============================] - 0s 1ms/step - loss: 0.3691 - val_loss: 0.8263\n",
      "Epoch 6/30\n",
      "363/363 [==============================] - 0s 1ms/step - loss: 0.3716 - val_loss: 0.4708\n",
      "Epoch 7/30\n",
      "363/363 [==============================] - 0s 1ms/step - loss: 0.3591 - val_loss: 0.5594\n",
      "Epoch 8/30\n",
      "363/363 [==============================] - 1s 1ms/step - loss: 0.3580 - val_loss: 0.6129\n",
      "Epoch 9/30\n",
      "363/363 [==============================] - 1s 1ms/step - loss: 0.3559 - val_loss: 0.5492\n",
      "Epoch 10/30\n",
      "363/363 [==============================] - 0s 1ms/step - loss: 0.3541 - val_loss: 0.4221\n",
      "Epoch 11/30\n",
      "363/363 [==============================] - 0s 1ms/step - loss: 0.3525 - val_loss: 0.9075\n",
      "Epoch 12/30\n",
      "363/363 [==============================] - 1s 2ms/step - loss: 0.3516 - val_loss: 1.6425\n",
      "Epoch 13/30\n",
      "363/363 [==============================] - 1s 1ms/step - loss: 0.3522 - val_loss: 0.9723\n",
      "Epoch 14/30\n",
      "363/363 [==============================] - 1s 2ms/step - loss: 0.3487 - val_loss: 0.3763\n",
      "Epoch 15/30\n",
      "363/363 [==============================] - 0s 1ms/step - loss: 0.3576 - val_loss: 0.6022\n",
      "Epoch 16/30\n",
      "363/363 [==============================] - 1s 1ms/step - loss: 0.3472 - val_loss: 0.4050\n",
      "Epoch 17/30\n",
      "363/363 [==============================] - 0s 1ms/step - loss: 0.3438 - val_loss: 0.5300\n",
      "Epoch 18/30\n",
      "363/363 [==============================] - 0s 1ms/step - loss: 0.3432 - val_loss: 0.3768\n",
      "Epoch 19/30\n",
      "363/363 [==============================] - 1s 2ms/step - loss: 0.3440 - val_loss: 0.4653\n",
      "Epoch 20/30\n",
      "363/363 [==============================] - 0s 1ms/step - loss: 0.3490 - val_loss: 0.3798\n",
      "Epoch 21/30\n",
      "363/363 [==============================] - 0s 1ms/step - loss: 0.3388 - val_loss: 0.4388\n",
      "Epoch 22/30\n",
      "363/363 [==============================] - 0s 1ms/step - loss: 0.3383 - val_loss: 0.5791\n",
      "Epoch 23/30\n",
      "363/363 [==============================] - 0s 1ms/step - loss: 0.3376 - val_loss: 0.3774\n",
      "Epoch 24/30\n",
      "363/363 [==============================] - 0s 1ms/step - loss: 0.3354 - val_loss: 0.6946\n",
      "Epoch 25/30\n",
      "363/363 [==============================] - 0s 1ms/step - loss: 0.3370 - val_loss: 0.3938\n",
      "Epoch 26/30\n",
      "363/363 [==============================] - 0s 1ms/step - loss: 0.3363 - val_loss: 0.3882\n",
      "Epoch 27/30\n",
      "363/363 [==============================] - 0s 1ms/step - loss: 0.3345 - val_loss: 0.3634\n",
      "Epoch 28/30\n",
      "363/363 [==============================] - 0s 1ms/step - loss: 0.3331 - val_loss: 0.3593\n",
      "Epoch 29/30\n",
      "363/363 [==============================] - 0s 1ms/step - loss: 0.3323 - val_loss: 0.3523\n",
      "Epoch 30/30\n",
      "363/363 [==============================] - 0s 1ms/step - loss: 0.3344 - val_loss: 0.4317\n"
     ]
    }
   ],
   "source": [
    "housing = fetch_california_housing()\n",
    "X_train_full, X_test, y_train_full, y_test = train_test_split(housing.data, housing.target)\n",
    "X_train, X_valid, y_train, y_valid = train_test_split(X_train_full, y_train_full)\n",
    "scaler = StandardScaler()\n",
    "X_train = scaler.fit_transform(X_train)\n",
    "X_valid = scaler.transform(X_valid)\n",
    "X_test = scaler.transform(X_test)\n",
    "\n",
    "model = keras.models.Sequential([\n",
    "    keras.layers.Dense(30, activation='relu', input_shape=X_train.shape[1:]),\n",
    "    keras.layers.Dense(1)\n",
    "])\n",
    "\n",
    "model.compile(loss='mean_squared_error', optimizer='sgd')\n",
    "history = model.fit(X_train, y_train, epochs=30, validation_data=(X_valid, y_valid),\n",
    "                   callbacks=[tensorboard_cb])"
   ]
  },
  {
   "cell_type": "markdown",
   "metadata": {},
   "source": [
    "# Fine-Tuning Neural Network Hyperparameters\n",
    "\n",
    "FeedForward and BackdAll of these hyperparameters introduce a question of How  do  you  know  what  combination  of  hyperparameters is the best for your task, using **sklearn** GridSearch for brute force combination or RandomSearch is not the best way, but Keras wrapper provides a way to go beyond this.\n",
    "\n",
    "The first step is to create a func‐tion that will build and compile a Keras model, given a set of hyperparameters."
   ]
  },
  {
   "cell_type": "code",
   "execution_count": 56,
   "metadata": {},
   "outputs": [],
   "source": [
    "def build_model(n_hidden=1, n_neurons=30, learning_rate=3e-3, input_shape=[8]):\n",
    "    model = keras.models.Sequential()\n",
    "    model.add(keras.layers.InputLayer(input_shape=input_shape))\n",
    "    for layer in range(n_hidden):\n",
    "        model.add(keras.layers.Dense(n_neurons, activation='relu'))\n",
    "    model.add(keras.layers.Dense(1))\n",
    "    model.compile(loss='mse', optimizer=keras.optimizers.SGD(lr=learning_rate))\n",
    "    return model\n",
    "\n",
    "# Now, let’s create a KerasRegressor based on this build_model()"
   ]
  },
  {
   "cell_type": "code",
   "execution_count": 57,
   "metadata": {},
   "outputs": [],
   "source": [
    "keras_reg = keras.wrappers.scikit_learn.KerasRegressor(build_model)"
   ]
  },
  {
   "cell_type": "markdown",
   "metadata": {},
   "source": [
    "**The  KerasRegressor  object  is  a  thin  wrapper  around  the  Keras  model  built  usingbuild_model(). Since we did not specify any hyperparameter when creating it, it willjust  use  the  default  hyperparameters  we  defined  in  build_model(). **\n",
    "\n",
    " Now  we  can  use this  object  like  a  regular  Scikit-Learn  regressor:  we  can  train  it  using  its  fit()method,  then  evaluate  it  using  its  score()  method,  and  use  it  to  make  predictions using  its  predict()  method.  Note  that  any  extra  parameter  you  pass  to  the  fit()method  will  simply  get  passed  to  the  underlying  Keras  model.  "
   ]
  },
  {
   "cell_type": "code",
   "execution_count": 59,
   "metadata": {},
   "outputs": [
    {
     "name": "stdout",
     "output_type": "stream",
     "text": [
      "Epoch 1/20\n",
      "363/363 [==============================] - 1s 1ms/step - loss: 1.1318 - val_loss: 1.0751\n",
      "Epoch 2/20\n",
      "363/363 [==============================] - 1s 1ms/step - loss: 0.6257 - val_loss: 0.7586\n",
      "Epoch 3/20\n",
      "363/363 [==============================] - 0s 1ms/step - loss: 0.5406 - val_loss: 0.7029\n",
      "Epoch 4/20\n",
      "363/363 [==============================] - 0s 1ms/step - loss: 0.4853 - val_loss: 0.6967\n",
      "Epoch 5/20\n",
      "363/363 [==============================] - 0s 1ms/step - loss: 0.4495 - val_loss: 0.6601\n",
      "Epoch 6/20\n",
      "363/363 [==============================] - 0s 1ms/step - loss: 0.4265 - val_loss: 0.5985\n",
      "Epoch 7/20\n",
      "363/363 [==============================] - 0s 1ms/step - loss: 0.4108 - val_loss: 0.5870\n",
      "Epoch 8/20\n",
      "363/363 [==============================] - 0s 1ms/step - loss: 0.4003 - val_loss: 0.6289\n",
      "Epoch 9/20\n",
      "363/363 [==============================] - 0s 1ms/step - loss: 0.3935 - val_loss: 0.6402\n",
      "Epoch 10/20\n",
      "363/363 [==============================] - 1s 2ms/step - loss: 0.3880 - val_loss: 0.5292\n",
      "Epoch 11/20\n",
      "363/363 [==============================] - 1s 1ms/step - loss: 0.3832 - val_loss: 0.5113\n",
      "Epoch 12/20\n",
      "363/363 [==============================] - 0s 1ms/step - loss: 0.3794 - val_loss: 0.5983\n",
      "Epoch 13/20\n",
      "363/363 [==============================] - 1s 2ms/step - loss: 0.3761 - val_loss: 0.5264\n",
      "Epoch 14/20\n",
      "363/363 [==============================] - 1s 2ms/step - loss: 0.3736 - val_loss: 0.5353\n",
      "Epoch 15/20\n",
      "363/363 [==============================] - 0s 1ms/step - loss: 0.3711 - val_loss: 0.5135\n",
      "Epoch 16/20\n",
      "363/363 [==============================] - 1s 2ms/step - loss: 0.3684 - val_loss: 0.4886\n",
      "Epoch 17/20\n",
      "363/363 [==============================] - 0s 1ms/step - loss: 0.3668 - val_loss: 0.5211\n",
      "Epoch 18/20\n",
      "363/363 [==============================] - 0s 1ms/step - loss: 0.3651 - val_loss: 0.5200\n",
      "Epoch 19/20\n",
      "363/363 [==============================] - 0s 1ms/step - loss: 0.3632 - val_loss: 0.5426\n",
      "Epoch 20/20\n",
      "363/363 [==============================] - 0s 1ms/step - loss: 0.3618 - val_loss: 0.4925\n",
      "162/162 [==============================] - 0s 862us/step - loss: 0.7781\n"
     ]
    },
    {
     "data": {
      "text/plain": [
       "-0.7781350016593933"
      ]
     },
     "execution_count": 59,
     "metadata": {},
     "output_type": "execute_result"
    }
   ],
   "source": [
    "keras_reg.fit(X_train, y_train, epochs=20, validation_data=(X_valid, y_valid),\n",
    "             callbacks=[keras.callbacks.EarlyStopping(patience=10)])\n",
    "mse_test = keras_reg.score(X_test, y_test)\n",
    "mse_test"
   ]
  },
  {
   "cell_type": "markdown",
   "metadata": {},
   "source": [
    "However,  we  do  not  actually  want  to  train  and  evaluate  a  single  model  like  this,  we want to train hundreds of variants and see which one performs best on the validation set. Since there are many hyperparameters, it is preferable to use a randomized search."
   ]
  },
  {
   "cell_type": "code",
   "execution_count": 60,
   "metadata": {},
   "outputs": [
    {
     "name": "stdout",
     "output_type": "stream",
     "text": [
      "Epoch 1/10\n",
      "242/242 [==============================] - 1s 2ms/step - loss: 2.5302 - val_loss: 1.2550\n",
      "Epoch 2/10\n",
      "242/242 [==============================] - 0s 2ms/step - loss: 0.8623 - val_loss: 0.6766\n",
      "Epoch 3/10\n",
      "242/242 [==============================] - 0s 1ms/step - loss: 0.5862 - val_loss: 0.5650\n",
      "Epoch 4/10\n",
      "242/242 [==============================] - 0s 1ms/step - loss: 0.5160 - val_loss: 0.5285\n",
      "Epoch 5/10\n",
      "242/242 [==============================] - 0s 1ms/step - loss: 0.4881 - val_loss: 0.5149\n",
      "Epoch 6/10\n",
      "242/242 [==============================] - 0s 1ms/step - loss: 0.4700 - val_loss: 0.5203\n",
      "Epoch 7/10\n",
      "242/242 [==============================] - 0s 1ms/step - loss: 0.4564 - val_loss: 0.5212\n",
      "Epoch 8/10\n",
      "242/242 [==============================] - 0s 1ms/step - loss: 0.4456 - val_loss: 0.5304\n",
      "121/121 [==============================] - 0s 780us/step - loss: 0.4656\n",
      "Epoch 1/10\n",
      "242/242 [==============================] - 1s 2ms/step - loss: 2.3026 - val_loss: 6.2506\n",
      "Epoch 2/10\n",
      "242/242 [==============================] - 0s 1ms/step - loss: 0.8219 - val_loss: 1.8015\n",
      "Epoch 3/10\n",
      "242/242 [==============================] - 0s 1ms/step - loss: 0.6152 - val_loss: 0.8455\n",
      "Epoch 4/10\n",
      "242/242 [==============================] - 0s 1ms/step - loss: 0.5574 - val_loss: 0.6142\n",
      "Epoch 5/10\n",
      "242/242 [==============================] - 0s 1ms/step - loss: 0.5242 - val_loss: 0.5460\n",
      "Epoch 6/10\n",
      "242/242 [==============================] - 0s 1ms/step - loss: 0.4994 - val_loss: 0.5093\n",
      "Epoch 7/10\n",
      "242/242 [==============================] - 0s 2ms/step - loss: 0.4803 - val_loss: 0.4925\n",
      "Epoch 8/10\n",
      "242/242 [==============================] - 0s 1ms/step - loss: 0.4644 - val_loss: 0.4794\n",
      "Epoch 9/10\n",
      "242/242 [==============================] - 0s 2ms/step - loss: 0.4516 - val_loss: 0.4696\n",
      "Epoch 10/10\n",
      "242/242 [==============================] - 0s 2ms/step - loss: 0.4409 - val_loss: 0.4613\n",
      "121/121 [==============================] - 0s 1ms/step - loss: 0.4288\n",
      "Epoch 1/10\n",
      "242/242 [==============================] - 1s 2ms/step - loss: 2.4915 - val_loss: 2.5289\n",
      "Epoch 2/10\n",
      "242/242 [==============================] - 0s 1ms/step - loss: 0.9780 - val_loss: 1.2900\n",
      "Epoch 3/10\n",
      "242/242 [==============================] - 0s 2ms/step - loss: 0.7518 - val_loss: 0.9498\n",
      "Epoch 4/10\n",
      "242/242 [==============================] - 0s 1ms/step - loss: 0.6716 - val_loss: 0.8522\n",
      "Epoch 5/10\n",
      "242/242 [==============================] - 0s 1ms/step - loss: 0.6280 - val_loss: 0.8787\n",
      "Epoch 6/10\n",
      "242/242 [==============================] - 0s 1ms/step - loss: 0.5968 - val_loss: 0.8830\n",
      "Epoch 7/10\n",
      "242/242 [==============================] - 1s 2ms/step - loss: 0.5714 - val_loss: 0.9218\n",
      "121/121 [==============================] - 0s 1ms/step - loss: 0.5587\n",
      "Epoch 1/10\n",
      "242/242 [==============================] - 1s 2ms/step - loss: 1.1275 - val_loss: 0.6158\n",
      "Epoch 2/10\n",
      "242/242 [==============================] - 0s 1ms/step - loss: 0.5270 - val_loss: 0.5333\n",
      "Epoch 3/10\n",
      "242/242 [==============================] - 0s 2ms/step - loss: 0.4591 - val_loss: 0.4740\n",
      "Epoch 4/10\n",
      "242/242 [==============================] - 0s 2ms/step - loss: 0.4230 - val_loss: 0.6196\n",
      "Epoch 5/10\n",
      "242/242 [==============================] - 0s 2ms/step - loss: 0.4036 - val_loss: 0.5551\n",
      "Epoch 6/10\n",
      "242/242 [==============================] - 0s 1ms/step - loss: 0.3932 - val_loss: 0.4487\n",
      "Epoch 7/10\n",
      "242/242 [==============================] - 0s 1ms/step - loss: 0.3856 - val_loss: 0.5538\n",
      "Epoch 8/10\n",
      "242/242 [==============================] - 0s 1ms/step - loss: 0.3764 - val_loss: 0.4290\n",
      "Epoch 9/10\n",
      "242/242 [==============================] - 0s 1ms/step - loss: 0.3715 - val_loss: 0.4060\n",
      "Epoch 10/10\n",
      "242/242 [==============================] - 0s 1ms/step - loss: 0.3649 - val_loss: 0.5817\n",
      "121/121 [==============================] - 0s 785us/step - loss: 0.3855\n",
      "Epoch 1/10\n",
      "242/242 [==============================] - 1s 2ms/step - loss: 1.1742 - val_loss: 0.6870\n",
      "Epoch 2/10\n",
      "242/242 [==============================] - 0s 2ms/step - loss: 0.5810 - val_loss: 0.5687\n",
      "Epoch 3/10\n",
      "242/242 [==============================] - 0s 2ms/step - loss: 0.4904 - val_loss: 0.5097\n",
      "Epoch 4/10\n",
      "242/242 [==============================] - 0s 2ms/step - loss: 0.4381 - val_loss: 0.4490\n",
      "Epoch 5/10\n",
      "242/242 [==============================] - 0s 2ms/step - loss: 0.4126 - val_loss: 0.4346\n",
      "Epoch 6/10\n",
      "242/242 [==============================] - 0s 1ms/step - loss: 0.3959 - val_loss: 0.4759\n",
      "Epoch 7/10\n",
      "242/242 [==============================] - 0s 1ms/step - loss: 0.3857 - val_loss: 0.4878\n",
      "Epoch 8/10\n",
      "242/242 [==============================] - 0s 2ms/step - loss: 0.3781 - val_loss: 0.5083\n",
      "121/121 [==============================] - 0s 1ms/step - loss: 0.3667\n",
      "Epoch 1/10\n",
      "242/242 [==============================] - 1s 2ms/step - loss: 1.0778 - val_loss: 0.7158\n",
      "Epoch 2/10\n",
      "242/242 [==============================] - 0s 2ms/step - loss: 0.5249 - val_loss: 0.6195\n",
      "Epoch 3/10\n",
      "242/242 [==============================] - 0s 2ms/step - loss: 0.4653 - val_loss: 0.7255\n",
      "Epoch 4/10\n",
      "242/242 [==============================] - 0s 1ms/step - loss: 0.4321 - val_loss: 0.7009\n",
      "Epoch 5/10\n",
      "242/242 [==============================] - 0s 1ms/step - loss: 0.4138 - val_loss: 0.7947\n",
      "121/121 [==============================] - 0s 847us/step - loss: 0.4199\n",
      "Epoch 1/10\n",
      "242/242 [==============================] - 1s 2ms/step - loss: 0.6738 - val_loss: 0.5564\n",
      "Epoch 2/10\n",
      "242/242 [==============================] - 0s 2ms/step - loss: 0.3868 - val_loss: 0.4639\n",
      "Epoch 3/10\n",
      "242/242 [==============================] - 0s 2ms/step - loss: 0.3539 - val_loss: 0.3802\n",
      "Epoch 4/10\n",
      "242/242 [==============================] - 0s 1ms/step - loss: 0.3465 - val_loss: 0.3731\n",
      "Epoch 5/10\n",
      "242/242 [==============================] - 0s 2ms/step - loss: 0.3349 - val_loss: 0.4375\n",
      "Epoch 6/10\n",
      "242/242 [==============================] - 0s 1ms/step - loss: 0.3260 - val_loss: 0.4438\n",
      "Epoch 7/10\n",
      "242/242 [==============================] - 0s 1ms/step - loss: 0.3229 - val_loss: 0.4200\n",
      "121/121 [==============================] - 0s 900us/step - loss: 0.3574\n",
      "Epoch 1/10\n",
      "242/242 [==============================] - 1s 2ms/step - loss: 0.6088 - val_loss: 0.4966\n",
      "Epoch 2/10\n",
      "242/242 [==============================] - 0s 1ms/step - loss: 0.3820 - val_loss: 0.4292\n",
      "Epoch 3/10\n",
      "242/242 [==============================] - 0s 1ms/step - loss: 0.3551 - val_loss: 0.3775\n",
      "Epoch 4/10\n",
      "242/242 [==============================] - 0s 2ms/step - loss: 0.3423 - val_loss: 0.3826\n",
      "Epoch 5/10\n",
      "242/242 [==============================] - 0s 1ms/step - loss: 0.3337 - val_loss: 0.4010\n",
      "Epoch 6/10\n",
      "242/242 [==============================] - 0s 1ms/step - loss: 0.3288 - val_loss: 0.3636\n",
      "Epoch 7/10\n",
      "242/242 [==============================] - 0s 2ms/step - loss: 0.3227 - val_loss: 0.3942\n",
      "Epoch 8/10\n",
      "242/242 [==============================] - 0s 2ms/step - loss: 0.3227 - val_loss: 0.3603\n",
      "Epoch 9/10\n",
      "242/242 [==============================] - 0s 2ms/step - loss: 0.3170 - val_loss: 0.3461\n",
      "Epoch 10/10\n",
      "242/242 [==============================] - 0s 2ms/step - loss: 0.3154 - val_loss: 0.3972\n",
      "121/121 [==============================] - 0s 1ms/step - loss: 0.3126\n",
      "Epoch 1/10\n",
      "242/242 [==============================] - 1s 2ms/step - loss: 0.5382 - val_loss: 0.6680\n",
      "Epoch 2/10\n",
      "242/242 [==============================] - 0s 1ms/step - loss: 0.3882 - val_loss: 2.6659\n",
      "Epoch 3/10\n",
      "242/242 [==============================] - 0s 1ms/step - loss: 0.3651 - val_loss: 0.4979\n",
      "Epoch 4/10\n",
      "242/242 [==============================] - 0s 1ms/step - loss: 0.3557 - val_loss: 0.5573\n",
      "Epoch 5/10\n",
      "242/242 [==============================] - 0s 1ms/step - loss: 0.3459 - val_loss: 0.3721\n",
      "Epoch 6/10\n",
      "242/242 [==============================] - 0s 1ms/step - loss: 0.3383 - val_loss: 0.6417\n",
      "Epoch 7/10\n",
      "242/242 [==============================] - 0s 2ms/step - loss: 0.3313 - val_loss: 0.5468\n",
      "Epoch 8/10\n",
      "242/242 [==============================] - 0s 2ms/step - loss: 0.3233 - val_loss: 1.1521\n",
      "121/121 [==============================] - 0s 910us/step - loss: 0.3227\n",
      "Epoch 1/10\n",
      "242/242 [==============================] - 1s 3ms/step - loss: 2.7571 - val_loss: 1.2423\n",
      "Epoch 2/10\n",
      "242/242 [==============================] - 0s 1ms/step - loss: 0.8386 - val_loss: 0.9732\n",
      "Epoch 3/10\n"
     ]
    },
    {
     "name": "stdout",
     "output_type": "stream",
     "text": [
      "242/242 [==============================] - 0s 1ms/step - loss: 0.6849 - val_loss: 0.8511\n",
      "Epoch 4/10\n",
      "242/242 [==============================] - 0s 1ms/step - loss: 0.6145 - val_loss: 0.7875\n",
      "Epoch 5/10\n",
      "242/242 [==============================] - 0s 1ms/step - loss: 0.5706 - val_loss: 0.7399\n",
      "Epoch 6/10\n",
      "242/242 [==============================] - 0s 2ms/step - loss: 0.5401 - val_loss: 0.7027\n",
      "Epoch 7/10\n",
      "242/242 [==============================] - 0s 1ms/step - loss: 0.5175 - val_loss: 0.6851\n",
      "Epoch 8/10\n",
      "242/242 [==============================] - 0s 2ms/step - loss: 0.5000 - val_loss: 0.6527\n",
      "Epoch 9/10\n",
      "242/242 [==============================] - 0s 2ms/step - loss: 0.4854 - val_loss: 0.6371\n",
      "Epoch 10/10\n",
      "242/242 [==============================] - 0s 1ms/step - loss: 0.4728 - val_loss: 0.6244\n",
      "121/121 [==============================] - 0s 872us/step - loss: 0.4869\n",
      "Epoch 1/10\n",
      "242/242 [==============================] - 1s 2ms/step - loss: 2.1155 - val_loss: 3.2510\n",
      "Epoch 2/10\n",
      "242/242 [==============================] - 0s 1ms/step - loss: 0.8692 - val_loss: 0.8379\n",
      "Epoch 3/10\n",
      "242/242 [==============================] - 0s 1ms/step - loss: 0.6636 - val_loss: 0.6435\n",
      "Epoch 4/10\n",
      "242/242 [==============================] - 0s 2ms/step - loss: 0.6132 - val_loss: 0.6560\n",
      "Epoch 5/10\n",
      "242/242 [==============================] - 0s 2ms/step - loss: 0.5839 - val_loss: 0.6314\n",
      "Epoch 6/10\n",
      "242/242 [==============================] - 0s 1ms/step - loss: 0.5576 - val_loss: 0.6546\n",
      "Epoch 7/10\n",
      "242/242 [==============================] - 0s 1ms/step - loss: 0.5362 - val_loss: 0.6284\n",
      "Epoch 8/10\n",
      "242/242 [==============================] - 0s 1ms/step - loss: 0.5181 - val_loss: 0.6235\n",
      "Epoch 9/10\n",
      "242/242 [==============================] - 0s 2ms/step - loss: 0.5026 - val_loss: 0.6043\n",
      "Epoch 10/10\n",
      "242/242 [==============================] - 0s 2ms/step - loss: 0.4897 - val_loss: 0.5717\n",
      "121/121 [==============================] - 0s 823us/step - loss: 0.4767\n",
      "Epoch 1/10\n",
      "242/242 [==============================] - 1s 2ms/step - loss: 2.7085 - val_loss: 2.4114\n",
      "Epoch 2/10\n",
      "242/242 [==============================] - 0s 1ms/step - loss: 0.9096 - val_loss: 1.9378\n",
      "Epoch 3/10\n",
      "242/242 [==============================] - 0s 1ms/step - loss: 0.7381 - val_loss: 1.5268\n",
      "Epoch 4/10\n",
      "242/242 [==============================] - 0s 1ms/step - loss: 0.6649 - val_loss: 1.2745\n",
      "Epoch 5/10\n",
      "242/242 [==============================] - 0s 1ms/step - loss: 0.6235 - val_loss: 1.1192\n",
      "Epoch 6/10\n",
      "242/242 [==============================] - 0s 1ms/step - loss: 0.5959 - val_loss: 1.0037\n",
      "Epoch 7/10\n",
      "242/242 [==============================] - 0s 1ms/step - loss: 0.5744 - val_loss: 0.9350\n",
      "Epoch 8/10\n",
      "242/242 [==============================] - 0s 2ms/step - loss: 0.5574 - val_loss: 0.8677\n",
      "Epoch 9/10\n",
      "242/242 [==============================] - 0s 1ms/step - loss: 0.5418 - val_loss: 0.8381\n",
      "Epoch 10/10\n",
      "242/242 [==============================] - 0s 1ms/step - loss: 0.5296 - val_loss: 0.7941\n",
      "121/121 [==============================] - 0s 946us/step - loss: 0.5232\n",
      "Epoch 1/10\n",
      "242/242 [==============================] - 1s 2ms/step - loss: 1.5485 - val_loss: 2.5937\n",
      "Epoch 2/10\n",
      "242/242 [==============================] - 0s 1ms/step - loss: 0.5657 - val_loss: 3.0184\n",
      "Epoch 3/10\n",
      "242/242 [==============================] - 0s 1ms/step - loss: 0.5496 - val_loss: 0.7810\n",
      "Epoch 4/10\n",
      "242/242 [==============================] - 0s 1ms/step - loss: 0.5192 - val_loss: 0.5516\n",
      "Epoch 5/10\n",
      "242/242 [==============================] - 0s 2ms/step - loss: 0.5060 - val_loss: 2.7773\n",
      "Epoch 6/10\n",
      "242/242 [==============================] - 0s 1ms/step - loss: 0.5154 - val_loss: 1.3370\n",
      "Epoch 7/10\n",
      "242/242 [==============================] - 0s 1ms/step - loss: 0.5037 - val_loss: 1.1311\n",
      "121/121 [==============================] - 0s 741us/step - loss: 0.5106\n",
      "Epoch 1/10\n",
      "242/242 [==============================] - 1s 2ms/step - loss: 1.7378 - val_loss: 1.7395\n",
      "Epoch 2/10\n",
      "242/242 [==============================] - 0s 1ms/step - loss: 0.7594 - val_loss: 1.4449\n",
      "Epoch 3/10\n",
      "242/242 [==============================] - 0s 1ms/step - loss: 0.6640 - val_loss: 1.0797\n",
      "Epoch 4/10\n",
      "242/242 [==============================] - 0s 1ms/step - loss: 0.6034 - val_loss: 2.1586\n",
      "Epoch 5/10\n",
      "242/242 [==============================] - 0s 1ms/step - loss: 0.5690 - val_loss: 0.6731\n",
      "Epoch 6/10\n",
      "242/242 [==============================] - 0s 1ms/step - loss: 0.5583 - val_loss: 0.5669\n",
      "Epoch 7/10\n",
      "242/242 [==============================] - 0s 1ms/step - loss: 0.5366 - val_loss: 2.1276\n",
      "Epoch 8/10\n",
      "242/242 [==============================] - 0s 1ms/step - loss: 0.5206 - val_loss: 4.5297\n",
      "Epoch 9/10\n",
      "242/242 [==============================] - 0s 1ms/step - loss: 0.5314 - val_loss: 0.5850\n",
      "121/121 [==============================] - 0s 737us/step - loss: 0.5126\n",
      "Epoch 1/10\n",
      "242/242 [==============================] - 1s 1ms/step - loss: 1.6825 - val_loss: 3.6482\n",
      "Epoch 2/10\n",
      "242/242 [==============================] - 0s 1ms/step - loss: 0.5891 - val_loss: 2.8093\n",
      "Epoch 3/10\n",
      "242/242 [==============================] - 0s 1ms/step - loss: 0.5507 - val_loss: 3.3272\n",
      "Epoch 4/10\n",
      "242/242 [==============================] - 0s 1ms/step - loss: 0.5261 - val_loss: 2.2228\n",
      "Epoch 5/10\n",
      "242/242 [==============================] - 0s 1ms/step - loss: 0.5084 - val_loss: 1.9104\n",
      "Epoch 6/10\n",
      "242/242 [==============================] - 0s 1ms/step - loss: 0.5010 - val_loss: 2.3935\n",
      "Epoch 7/10\n",
      "242/242 [==============================] - 0s 1ms/step - loss: 0.4919 - val_loss: 3.7363\n",
      "Epoch 8/10\n",
      "242/242 [==============================] - 0s 1ms/step - loss: 0.4891 - val_loss: 3.7033\n",
      "121/121 [==============================] - 0s 808us/step - loss: 0.5287\n",
      "Epoch 1/10\n",
      "363/363 [==============================] - 1s 2ms/step - loss: 0.5543 - val_loss: 0.4296\n",
      "Epoch 2/10\n",
      "363/363 [==============================] - 0s 1ms/step - loss: 0.3708 - val_loss: 0.4514\n",
      "Epoch 3/10\n",
      "363/363 [==============================] - 0s 1ms/step - loss: 0.3593 - val_loss: 0.3979\n",
      "Epoch 4/10\n",
      "363/363 [==============================] - 0s 1ms/step - loss: 0.3448 - val_loss: 0.3562\n",
      "Epoch 5/10\n",
      "363/363 [==============================] - 0s 1ms/step - loss: 0.3325 - val_loss: 0.3880\n",
      "Epoch 6/10\n",
      "363/363 [==============================] - 0s 1ms/step - loss: 0.3276 - val_loss: 0.4832\n",
      "Epoch 7/10\n",
      "363/363 [==============================] - 0s 1ms/step - loss: 0.3173 - val_loss: 0.9306\n"
     ]
    },
    {
     "data": {
      "text/plain": [
       "RandomizedSearchCV(cv=3,\n",
       "                   estimator=<keras.wrappers.scikit_learn.KerasRegressor object at 0x7fc0c8cc1e10>,\n",
       "                   n_iter=5,\n",
       "                   param_distributions={'learning_rate': <scipy.stats._distn_infrastructure.rv_frozen object at 0x7fc0c8cc1dd8>,\n",
       "                                        'n_hidden': [0, 1, 2, 3],\n",
       "                                        'n_neurons': array([ 1,  2,  3,  4,  5,  6,  7,  8,  9, 10, 11, 12, 13, 14, 15, 16, 17,\n",
       "       18, 19, 20, 21, 22, 23, 24, 25, 26, 27, 28, 29, 30, 31, 32, 33, 34,\n",
       "       35, 36, 37, 38, 39, 40, 41, 42, 43, 44, 45, 46, 47, 48, 49, 50, 51,\n",
       "       52, 53, 54, 55, 56, 57, 58, 59, 60, 61, 62, 63, 64, 65, 66, 67, 68,\n",
       "       69, 70, 71, 72, 73, 74, 75, 76, 77, 78, 79, 80, 81, 82, 83, 84, 85,\n",
       "       86, 87, 88, 89, 90, 91, 92, 93, 94, 95, 96, 97, 98, 99])})"
      ]
     },
     "execution_count": 60,
     "metadata": {},
     "output_type": "execute_result"
    }
   ],
   "source": [
    "# Now we can use any combination of hyperparams using this regressor \n",
    "#instead of the default defined in the build method\n",
    "keras_reg = keras.wrappers.scikit_learn.KerasRegressor(build_model)\n",
    "param_distribs = {\"n_hidden\": [0, 1, 2, 3],   \n",
    "                  \"n_neurons\": np.arange(1, 100),\n",
    "                  \"learning_rate\": reciprocal(3e-4, 3e-2),}\n",
    "\n",
    "rnd_search_cv = RandomizedSearchCV(keras_reg, param_distribs, n_iter=5, cv=3)\n",
    "rnd_search_cv.fit(X_train, y_train, epochs=10, validation_data=(X_valid, y_valid),\n",
    "             callbacks=[keras.callbacks.EarlyStopping(patience=3)])"
   ]
  },
  {
   "cell_type": "markdown",
   "metadata": {},
   "source": [
    "**we pass extra parameters to the fit() method: they simply get relayed to the under‐lying Keras models**"
   ]
  },
  {
   "cell_type": "code",
   "execution_count": null,
   "metadata": {
    "scrolled": false
   },
   "outputs": [],
   "source": [
    "def build_model(n_hidden=0, n_neurons=0, learning_rate=3e-3, input_shape=[X_train[1]]):\n",
    "    model = keras.models.Sequential()\n",
    "    model.add(keras.layers.InputLayer(input_shape=input_shape))\n",
    "    for layer in range(n_hidden):\n",
    "        model.add(keras.layers.Dense(n_neurons, activation='relu'))\n",
    "    model.add(keras.layers.Dense(1))\n",
    "    model.compile(loss='mse', optimizer=keras.optimizers.SGD(lr=learning_rate))\n",
    "    return model\n",
    "\n",
    "\n",
    "keras_reg = keras.wrappers.scikit_learn.KerasRegressor(build_model)\n",
    "param_distribs = {\"n_hidden\": [0, 1, 2, 3],   \n",
    "                  \"n_neurons\": np.arange(1, 100),\n",
    "                  \"learning_rate\": reciprocal(3e-4, 3e-2),}\n",
    "\n",
    "rnd_search_cv = RandomizedSearchCV(keras_reg, param_distribs, n_iter=5, cv=3)\n",
    "rnd_search_cv.fit(X_train, y_train, epochs=10, validation_data=(X_valid, y_valid),\n",
    "             callbacks=[keras.callbacks.EarlyStopping(patience=3)])"
   ]
  },
  {
   "cell_type": "markdown",
   "metadata": {},
   "source": [
    "# NOTEs from the book !!\n",
    "\n",
    "However,  when  training  is  slow(e.g.,  for  more  complex  problems  with  larger  datasets),  this  approach  will  onlyexplore  a  tiny  portion  of  the  hyperparameter  space, but we  can  partially  alleviate  this problem  by  assisting  the  search  process  manually:  first  run  a  quick  random  search using  wide  ranges  of  hyperparameter  values,  then  run  another  search  using  smaller ranges of values centered on the best ones found during the first run, and so on.\n",
    " \n",
    "This will  hopefully  zoom  in  to  a  good  set  of  hyperparameters.  However,  this  is  very  time consuming, and probably not the best use of your time.\n",
    "\n",
    "Fortunately,  there  are  many  techniques  to  explore  a  search  space  much  more  effi‐ciently than randomly.\n",
    "\n",
    "Their core idea is simple: when a region of the space turns out to be good, it should be explored more. This takes care of the “zooming” process foryou  and  leads  to  much  better  solutions  in  much  less  time.  Here  are  a  few  Python libraries you can use to optimize hyperparameters:\n",
    "\n",
    "- Hyperopt\n",
    "- Hyperas,  kopt  or  Talos\n",
    "- Scikit-Optimize and others"
   ]
  },
  {
   "cell_type": "markdown",
   "metadata": {
    "collapsed": true
   },
   "source": [
    "# Number of Hidden layers\n",
    "\n",
    "What the number of hidden layers should we use ? it's like a magic box even of that one-hidden layer make a good prediction at some problems, but with the complexity of the dataset like the recognized pictures the deep network can do magic things, because low-level layers capture the edges (lines like horizontal and verticals), second-level which the medium layers trying tom combine these edges to make shapes which will be used in the last layer to identify the faces with the output layers.\n",
    "\n",
    "We can use the weights of low-level layers as pre-trained parameters for some problem and map to the similar problem we have (transfer learning), as low-level in similar problem will capture the similar things, and by training, it will change according to the new problem we transfer to.\n",
    "\n",
    "# Number of neurons per hidden layers\n",
    "\n",
    "The neurons per input and output layers are defined by the problem itself like in an image the input layer neurons will be the width * height of that image, and the output depends on the case if you classify or detect objects and so on.\n",
    "\n",
    "But this is different when we dealing with hidden layers, the number of neurons plays the role that can get the features representation and in the high-level layer, the neurons be responsible for combine some of the features together in one neuron-like part of the face and other neurons for another part and in the neurons of next layers, these parts combined together and so on, also if we have just 2 neurons in first hidden layers with 3-d problems it will be lost some of the information so it important, but for most cases we use a big number of layers and neurons for each layer become small as we go deeper, and in the problem of overfitting we can doing dropout, regularization or even change the architecture."
   ]
  },
  {
   "cell_type": "markdown",
   "metadata": {
    "collapsed": true
   },
   "source": [
    "# Try to solve chapter Exercise"
   ]
  },
  {
   "cell_type": "code",
   "execution_count": null,
   "metadata": {},
   "outputs": [],
   "source": []
  }
 ],
 "metadata": {
  "kernelspec": {
   "display_name": "Python 3",
   "language": "python",
   "name": "python3"
  },
  "language_info": {
   "codemirror_mode": {
    "name": "ipython",
    "version": 3
   },
   "file_extension": ".py",
   "mimetype": "text/x-python",
   "name": "python",
   "nbconvert_exporter": "python",
   "pygments_lexer": "ipython3",
   "version": "3.6.9"
  }
 },
 "nbformat": 4,
 "nbformat_minor": 2
}
